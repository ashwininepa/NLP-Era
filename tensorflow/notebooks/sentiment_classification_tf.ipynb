{
 "cells": [
  {
   "attachments": {},
   "cell_type": "markdown",
   "metadata": {},
   "source": [
    "# NLP Club: Deep learning with TensorFlow and Keras\n",
    "\n",
    "In this notebook we'll go through the basics of neural networks and their main components and mechanisms. We'll not focus on the theoretical foundations. A great resource for the foundations is [this course.](https://www.nlpdemystified.org/course/neural-networks-1)\n",
    "\n",
    "We'll use the tensorflow (tf) framework and utilize Keras, which builds upon tf and offers a pretty easy-to-use API for tf.\n",
    "\n",
    "This notebook closely follows [this one here.](https://github.com/nitinpunjabi/nlp-demystified/blob/main/notebooks/nlpdemystified_neural_networks_foundations.ipynb)"
   ]
  },
  {
   "cell_type": "code",
   "execution_count": 146,
   "metadata": {},
   "outputs": [],
   "source": [
    "## Update Spacey and download the small english statistical language model\n",
    "\n",
    "# !pip install -U spacy==3.*\n",
    "# !python -m spacy download en_core_web_sm"
   ]
  },
  {
   "cell_type": "code",
   "execution_count": 147,
   "metadata": {},
   "outputs": [],
   "source": [
    "## import libraries\n",
    "import matplotlib.pyplot as plt\n",
    "import numpy as np\n",
    "import pandas as pd\n",
    "import spacy\n",
    "import tensorflow as tf\n",
    "\n",
    "from tensorflow import keras\n",
    "from tensorflow.keras import layers\n",
    "from sklearn.metrics import confusion_matrix, ConfusionMatrixDisplay, classification_report\n",
    "from sklearn.model_selection import train_test_split"
   ]
  },
  {
   "attachments": {},
   "cell_type": "markdown",
   "metadata": {},
   "source": [
    "# Getting Data"
   ]
  },
  {
   "cell_type": "code",
   "execution_count": 148,
   "metadata": {},
   "outputs": [],
   "source": [
    "## Get data\n",
    "reviews = pd.read_csv(\"../../spotify_review_project/data/final/reviews_clean.csv\")"
   ]
  },
  {
   "cell_type": "code",
   "execution_count": 149,
   "metadata": {},
   "outputs": [
    {
     "data": {
      "text/html": [
       "<div>\n",
       "<style scoped>\n",
       "    .dataframe tbody tr th:only-of-type {\n",
       "        vertical-align: middle;\n",
       "    }\n",
       "\n",
       "    .dataframe tbody tr th {\n",
       "        vertical-align: top;\n",
       "    }\n",
       "\n",
       "    .dataframe thead th {\n",
       "        text-align: right;\n",
       "    }\n",
       "</style>\n",
       "<table border=\"1\" class=\"dataframe\">\n",
       "  <thead>\n",
       "    <tr style=\"text-align: right;\">\n",
       "      <th></th>\n",
       "      <th>Unnamed: 0</th>\n",
       "      <th>Review</th>\n",
       "      <th>Rating</th>\n",
       "      <th>Sentiment</th>\n",
       "    </tr>\n",
       "  </thead>\n",
       "  <tbody>\n",
       "    <tr>\n",
       "      <th>0</th>\n",
       "      <td>0</td>\n",
       "      <td>Great music service the audio is high quality ...</td>\n",
       "      <td>5</td>\n",
       "      <td>positive</td>\n",
       "    </tr>\n",
       "    <tr>\n",
       "      <th>1</th>\n",
       "      <td>1</td>\n",
       "      <td>Please ignore previous negative rating This ap...</td>\n",
       "      <td>5</td>\n",
       "      <td>positive</td>\n",
       "    </tr>\n",
       "    <tr>\n",
       "      <th>2</th>\n",
       "      <td>2</td>\n",
       "      <td>This popup Get the best Spotify experience on ...</td>\n",
       "      <td>4</td>\n",
       "      <td>positive</td>\n",
       "    </tr>\n",
       "    <tr>\n",
       "      <th>3</th>\n",
       "      <td>3</td>\n",
       "      <td>Really buggy and terrible to use as of recently</td>\n",
       "      <td>1</td>\n",
       "      <td>negative</td>\n",
       "    </tr>\n",
       "    <tr>\n",
       "      <th>4</th>\n",
       "      <td>4</td>\n",
       "      <td>Dear Spotify why do I get songs that I did not...</td>\n",
       "      <td>1</td>\n",
       "      <td>negative</td>\n",
       "    </tr>\n",
       "  </tbody>\n",
       "</table>\n",
       "</div>"
      ],
      "text/plain": [
       "   Unnamed: 0                                             Review  Rating  \\\n",
       "0           0  Great music service the audio is high quality ...       5   \n",
       "1           1  Please ignore previous negative rating This ap...       5   \n",
       "2           2  This popup Get the best Spotify experience on ...       4   \n",
       "3           3    Really buggy and terrible to use as of recently       1   \n",
       "4           4  Dear Spotify why do I get songs that I did not...       1   \n",
       "\n",
       "  Sentiment  \n",
       "0  positive  \n",
       "1  positive  \n",
       "2  positive  \n",
       "3  negative  \n",
       "4  negative  "
      ]
     },
     "execution_count": 149,
     "metadata": {},
     "output_type": "execute_result"
    }
   ],
   "source": [
    "reviews.head()"
   ]
  },
  {
   "attachments": {},
   "cell_type": "markdown",
   "metadata": {},
   "source": [
    "# Tokenization"
   ]
  },
  {
   "cell_type": "code",
   "execution_count": 150,
   "metadata": {},
   "outputs": [],
   "source": [
    "## We disable NER and parsing to speed up processing\n",
    "nlp = spacy.load('en_core_web_sm', disable=['ner', 'parser'])"
   ]
  },
  {
   "cell_type": "code",
   "execution_count": 151,
   "metadata": {},
   "outputs": [],
   "source": [
    "def spacy_tokenizer(doc):\n",
    "  return [t.lemma_.lower() for t in nlp(doc) if \\\n",
    "          len(t) > 2 and \\\n",
    "          not t.is_punct and \\\n",
    "          not t.is_space and \\\n",
    "          not t.is_stop and \\\n",
    "          t.is_alpha]"
   ]
  },
  {
   "cell_type": "code",
   "execution_count": 152,
   "metadata": {},
   "outputs": [],
   "source": [
    "def preprocess_text(text):\n",
    "  tokens = spacy_tokenizer(text)\n",
    "  return \"|\".join(tokens)"
   ]
  },
  {
   "cell_type": "code",
   "execution_count": 153,
   "metadata": {},
   "outputs": [],
   "source": [
    "## This takes a few minutes\n",
    "## There's a non-string entry so we need to convert it with astype to avoid errors\n",
    "preprocessed_corpus = [preprocess_text(post) for post in reviews.Review.astype(str)]"
   ]
  },
  {
   "cell_type": "code",
   "execution_count": 154,
   "metadata": {},
   "outputs": [
    {
     "name": "stdout",
     "output_type": "stream",
     "text": [
      "great|music|service|audio|high|quality|app|easy|use|quick|friendly|support\n",
      "spotify|literally|account|come|good|music|experience|easy|use|feature|honestly|realize|need|get|recommend|apple|music|aesthetically|pleasing|way|well|feature|spotify|premium|ad|good\n"
     ]
    }
   ],
   "source": [
    "print(preprocessed_corpus[0])\n",
    "print(preprocessed_corpus[111])"
   ]
  },
  {
   "cell_type": "code",
   "execution_count": 155,
   "metadata": {},
   "outputs": [],
   "source": [
    "train_data, val_data, train_labels, val_labels = train_test_split(preprocessed_corpus, reviews.Sentiment, train_size=0.80, random_state=42)\n",
    "val_data, test_data, val_labels, test_labels = train_test_split(val_data, val_labels, train_size=0.50, random_state=42)\n"
   ]
  },
  {
   "cell_type": "code",
   "execution_count": 156,
   "metadata": {},
   "outputs": [
    {
     "name": "stdout",
     "output_type": "stream",
     "text": [
      "Training Data: 49076\n",
      "Validation Data: 6135\n",
      "Test Data: 6135\n"
     ]
    }
   ],
   "source": [
    "print(\"Training Data:\", len(train_data))\n",
    "print(\"Validation Data:\", len(val_data))\n",
    "print(\"Test Data:\", len(test_data))"
   ]
  },
  {
   "cell_type": "code",
   "execution_count": 157,
   "metadata": {},
   "outputs": [],
   "source": [
    "tokenizer = keras.preprocessing.text.Tokenizer(filters=\"\", lower=False, split='|', oov_token='OOV')"
   ]
  },
  {
   "cell_type": "code",
   "execution_count": 158,
   "metadata": {},
   "outputs": [],
   "source": [
    "tokenizer.fit_on_texts(train_data)"
   ]
  },
  {
   "cell_type": "code",
   "execution_count": 159,
   "metadata": {},
   "outputs": [],
   "source": [
    "#tokenizer.get_config()"
   ]
  },
  {
   "cell_type": "code",
   "execution_count": 160,
   "metadata": {},
   "outputs": [
    {
     "name": "stdout",
     "output_type": "stream",
     "text": [
      "Vocabulary size: 23430\n"
     ]
    }
   ],
   "source": [
    "print(f\"Vocabulary size: {len(tokenizer.word_index)}\")"
   ]
  },
  {
   "attachments": {},
   "cell_type": "markdown",
   "metadata": {},
   "source": [
    "# Vectorization"
   ]
  },
  {
   "cell_type": "code",
   "execution_count": 161,
   "metadata": {},
   "outputs": [
    {
     "name": "stdout",
     "output_type": "stream",
     "text": [
      "['great|podcast']\n",
      "Vector shape: (1, 23431)\n",
      "[[0. 0. 0. ... 0. 0. 0.]]\n"
     ]
    }
   ],
   "source": [
    "# Vectorize the first post using binary. We're using [:1] here because the \n",
    "# tokenizer expects an *array* of sequences.\n",
    "print(train_data[:1])\n",
    "\n",
    "# The resulting binary BoW has a 1 set for every word present in the sequence.\n",
    "binary_bow = tokenizer.texts_to_matrix(train_data[:1])\n",
    "print(f\"Vector shape: {binary_bow.shape}\")\n",
    "print(binary_bow)"
   ]
  },
  {
   "cell_type": "code",
   "execution_count": 162,
   "metadata": {},
   "outputs": [
    {
     "name": "stdout",
     "output_type": "stream",
     "text": [
      "Token indices: [16 24]\n",
      "great podcast\n"
     ]
    }
   ],
   "source": [
    "present_tokens = np.where(binary_bow[0] == 1)[0]\n",
    "print(f\"Token indices: {present_tokens}\")\n",
    "print(\" \".join(tokenizer.index_word[n] for n in present_tokens))"
   ]
  },
  {
   "cell_type": "code",
   "execution_count": 163,
   "metadata": {},
   "outputs": [
    {
     "name": "stdout",
     "output_type": "stream",
     "text": [
      "[[0. 0. 0. ... 0. 0. 0.]] \n",
      "\n",
      "TF-IDF scores of the first post's tokens:\n",
      " [2.30488067 2.7415456 ]\n"
     ]
    }
   ],
   "source": [
    "tfidf_bow = tokenizer.texts_to_matrix(train_data[:1], mode='tfidf')\n",
    "print(tfidf_bow, '\\n')\n",
    "\n",
    "# https://numpy.org/doc/stable/user/basics.indexing.html\n",
    "print(f\"TF-IDF scores of the first post's tokens:\\n {tfidf_bow[0][present_tokens]}\")"
   ]
  },
  {
   "cell_type": "code",
   "execution_count": 164,
   "metadata": {},
   "outputs": [],
   "source": [
    "## Force to run on CPU to avoid errors\n",
    "with tf.device('/CPU:0'):\n",
    "    X_train_bow = tf.sparse.from_dense(tokenizer.texts_to_matrix(train_data))\n",
    "    X_train_tfidf = tf.sparse.from_dense(tokenizer.texts_to_matrix(train_data, mode='tfidf'))\n"
   ]
  },
  {
   "cell_type": "code",
   "execution_count": 165,
   "metadata": {},
   "outputs": [
    {
     "name": "stdout",
     "output_type": "stream",
     "text": [
      "Shape of one-hot BoW: tf.Tensor([49076 23431], shape=(2,), dtype=int32)\n",
      "Shape of TF-IDF BoW: tf.Tensor([49076 23431], shape=(2,), dtype=int32)\n"
     ]
    }
   ],
   "source": [
    "print(\"Shape of one-hot BoW:\", tf.shape(X_train_bow))\n",
    "print(\"Shape of TF-IDF BoW:\", tf.shape(X_train_tfidf))"
   ]
  },
  {
   "cell_type": "code",
   "execution_count": 166,
   "metadata": {},
   "outputs": [
    {
     "name": "stdout",
     "output_type": "stream",
     "text": [
      "27988    positive\n",
      "32871    negative\n",
      "44795    negative\n",
      "38406    negative\n",
      "30912    negative\n",
      "           ...   \n",
      "54343    negative\n",
      "38158    negative\n",
      "860      negative\n",
      "15795    positive\n",
      "56422    positive\n",
      "Name: Sentiment, Length: 49076, dtype: object\n"
     ]
    }
   ],
   "source": [
    "print(train_labels)"
   ]
  },
  {
   "cell_type": "code",
   "execution_count": 167,
   "metadata": {},
   "outputs": [
    {
     "name": "stdout",
     "output_type": "stream",
     "text": [
      "tf.Tensor([1 0 0 ... 0 1 1], shape=(49076,), dtype=int32)\n",
      "Shape of training labels: (49076,)\n"
     ]
    }
   ],
   "source": [
    "label_map = {\"negative\": 0, \"positive\": 1}\n",
    "y_train = [label_map[label] for label in train_labels]\n",
    "y_train = tf.convert_to_tensor(y_train)\n",
    "print(y_train)\n",
    "print(\"Shape of training labels:\", y_train.shape)"
   ]
  },
  {
   "cell_type": "code",
   "execution_count": 168,
   "metadata": {},
   "outputs": [],
   "source": [
    "with tf.device('/CPU:0'):\n",
    "    X_val_bow = tf.sparse.from_dense(tokenizer.texts_to_matrix(val_data))\n",
    "    X_val_tfidf = tf.sparse.from_dense(tokenizer.texts_to_matrix(val_data, mode=\"tfidf\"))\n",
    "    X_test_bow = tf.sparse.from_dense(tokenizer.texts_to_matrix(test_data))\n",
    "    X_test_tfidf = tf.sparse.from_dense(tokenizer.texts_to_matrix(test_data, mode=\"tfidf\"))\n",
    "    \n",
    "y_val = [label_map[label] for label in val_labels]\n",
    "y_test = [label_map[label] for label in test_labels]\n",
    "y_val = tf.convert_to_tensor(y_val)\n",
    "y_test = tf.convert_to_tensor(y_test)"
   ]
  },
  {
   "attachments": {},
   "cell_type": "markdown",
   "metadata": {},
   "source": [
    "## Model 1: BoW\n",
    "* 2 fully connected layers with 128 units"
   ]
  },
  {
   "cell_type": "code",
   "execution_count": 169,
   "metadata": {},
   "outputs": [],
   "source": [
    "NUM_CLASSES = 1 # one binary class\n",
    "NUM_UNITS = 128\n",
    "\n",
    "# \"set_seed\" is called to ensure we get the same weights every time. Comment out this\n",
    "# line to get different weight initializations.\n",
    "tf.random.set_seed(42)\n",
    "\n",
    "# \"kernel_initializer\" is passed to ensure we get the same weights every time. Remove\n",
    "# the parameter to get different weight initializations.\n",
    "model1_bow = keras.Sequential([\n",
    "  layers.Dense(NUM_UNITS, activation='relu', kernel_initializer=tf.keras.initializers.random_normal(seed=42)),\n",
    "  layers.Dense(NUM_UNITS, activation='relu', kernel_initializer=tf.keras.initializers.random_normal(seed=42)),\n",
    "  layers.Dense(NUM_CLASSES, activation='sigmoid', kernel_initializer=tf.keras.initializers.random_normal(seed=42))\n",
    "  ])"
   ]
  },
  {
   "cell_type": "code",
   "execution_count": 170,
   "metadata": {},
   "outputs": [],
   "source": [
    "model1_bow.compile(optimizer='rmsprop',\n",
    "              loss='binary_crossentropy',\n",
    "              metrics=['accuracy'])"
   ]
  },
  {
   "cell_type": "code",
   "execution_count": 171,
   "metadata": {},
   "outputs": [
    {
     "name": "stdout",
     "output_type": "stream",
     "text": [
      "Epoch 1/15\n"
     ]
    },
    {
     "name": "stderr",
     "output_type": "stream",
     "text": [
      "C:\\Users\\dominik.freunberger\\AppData\\Roaming\\Python\\Python310\\site-packages\\tensorflow\\python\\framework\\indexed_slices.py:444: UserWarning: Converting sparse IndexedSlices(IndexedSlices(indices=Tensor(\"gradient_tape/sequential_18/dense_20/embedding_lookup_sparse/Reshape_1:0\", shape=(None,), dtype=int32), values=Tensor(\"gradient_tape/sequential_18/dense_20/embedding_lookup_sparse/Reshape:0\", shape=(None, 128), dtype=float32), dense_shape=Tensor(\"gradient_tape/sequential_18/dense_20/embedding_lookup_sparse/Cast:0\", shape=(2,), dtype=int32))) to a dense Tensor of unknown shape. This may consume a large amount of memory.\n",
      "  warnings.warn(\n"
     ]
    },
    {
     "name": "stdout",
     "output_type": "stream",
     "text": [
      "384/384 [==============================] - 4s 8ms/step - loss: 0.3761 - accuracy: 0.8462 - val_loss: 0.3648 - val_accuracy: 0.8507\n",
      "Epoch 2/15\n",
      "384/384 [==============================] - 3s 7ms/step - loss: 0.3158 - accuracy: 0.8762 - val_loss: 0.3661 - val_accuracy: 0.8478\n",
      "Epoch 3/15\n",
      "384/384 [==============================] - 3s 7ms/step - loss: 0.2949 - accuracy: 0.8858 - val_loss: 0.3756 - val_accuracy: 0.8509\n",
      "Epoch 4/15\n",
      "384/384 [==============================] - 3s 7ms/step - loss: 0.2769 - accuracy: 0.8938 - val_loss: 0.3685 - val_accuracy: 0.8510\n",
      "Epoch 5/15\n",
      "384/384 [==============================] - 3s 7ms/step - loss: 0.2587 - accuracy: 0.9023 - val_loss: 0.3768 - val_accuracy: 0.8512\n",
      "Epoch 6/15\n",
      "384/384 [==============================] - 3s 7ms/step - loss: 0.2395 - accuracy: 0.9114 - val_loss: 0.3883 - val_accuracy: 0.8515\n",
      "Epoch 7/15\n",
      "384/384 [==============================] - 3s 7ms/step - loss: 0.2207 - accuracy: 0.9201 - val_loss: 0.3988 - val_accuracy: 0.8487\n",
      "Epoch 8/15\n",
      "384/384 [==============================] - 3s 7ms/step - loss: 0.2010 - accuracy: 0.9281 - val_loss: 0.4178 - val_accuracy: 0.8463\n",
      "Epoch 9/15\n",
      "384/384 [==============================] - 3s 7ms/step - loss: 0.1831 - accuracy: 0.9360 - val_loss: 0.4478 - val_accuracy: 0.8422\n",
      "Epoch 10/15\n",
      "384/384 [==============================] - 3s 7ms/step - loss: 0.1657 - accuracy: 0.9436 - val_loss: 0.4476 - val_accuracy: 0.8386\n",
      "Epoch 11/15\n",
      "384/384 [==============================] - 3s 7ms/step - loss: 0.1509 - accuracy: 0.9493 - val_loss: 0.4960 - val_accuracy: 0.8368\n",
      "Epoch 12/15\n",
      "384/384 [==============================] - 3s 8ms/step - loss: 0.1374 - accuracy: 0.9546 - val_loss: 0.5290 - val_accuracy: 0.8262\n",
      "Epoch 13/15\n",
      "384/384 [==============================] - 3s 8ms/step - loss: 0.1251 - accuracy: 0.9592 - val_loss: 0.5296 - val_accuracy: 0.8334\n",
      "Epoch 14/15\n",
      "384/384 [==============================] - 3s 9ms/step - loss: 0.1148 - accuracy: 0.9624 - val_loss: 0.6188 - val_accuracy: 0.8297\n",
      "Epoch 15/15\n",
      "384/384 [==============================] - 3s 8ms/step - loss: 0.1059 - accuracy: 0.9654 - val_loss: 0.6006 - val_accuracy: 0.8306\n"
     ]
    }
   ],
   "source": [
    "NUM_EPOCHS = 15\n",
    "BATCH_SIZE = 128\n",
    "\n",
    "with tf.device('/GPU:0'):\n",
    "    history = model1_bow.fit(X_train_bow, y_train, epochs=NUM_EPOCHS, batch_size=BATCH_SIZE, validation_data=(X_val_bow, y_val))"
   ]
  },
  {
   "cell_type": "code",
   "execution_count": 172,
   "metadata": {},
   "outputs": [
    {
     "data": {
      "image/png": "[encoded data removed]",
      "text/plain": [
       "<Figure size 1500x1500 with 2 Axes>"
      ]
     },
     "metadata": {},
     "output_type": "display_data"
    }
   ],
   "source": [
    "training_losses = history.history['loss']\n",
    "validation_losses = history.history['val_loss']\n",
    "\n",
    "training_accuracy = history.history['accuracy']\n",
    "validation_accuracy = history.history['val_accuracy']\n",
    "\n",
    "epochs = range(1, len(training_losses) + 1)\n",
    "\n",
    "fig, (ax1, ax2) = plt.subplots(2)\n",
    "fig.set_figheight(15)\n",
    "fig.set_figwidth(15)\n",
    "fig.tight_layout(pad=5.0)\n",
    "\n",
    "# Plot training vs. validation loss.\n",
    "ax1.plot(epochs, training_losses, 'bo', label='Training Loss')\n",
    "ax1.plot(epochs, validation_losses, 'b', label='Validation Loss')\n",
    "ax1.title.set_text('Training vs. Validation Loss')\n",
    "ax1.set_xlabel('Epoch')\n",
    "ax1.set_ylabel('Loss')\n",
    "ax1.legend()\n",
    "\n",
    "# PLot training vs. validation accuracy.\n",
    "ax2.plot(epochs, training_accuracy, 'bo', label='Training Accuracy')\n",
    "ax2.plot(epochs, validation_accuracy, 'b', label='Validation Accuracy')\n",
    "ax2.title.set_text('Training vs. Validation Accuracy')\n",
    "ax2.set_xlabel('Epoch')\n",
    "ax2.set_ylabel('Accuracy')\n",
    "ax2.legend()\n",
    "\n",
    "plt.show()"
   ]
  },
  {
   "cell_type": "code",
   "execution_count": 173,
   "metadata": {},
   "outputs": [
    {
     "name": "stdout",
     "output_type": "stream",
     "text": [
      "Model: \"sequential_18\"\n",
      "_________________________________________________________________\n",
      " Layer (type)                Output Shape              Param #   \n",
      "=================================================================\n",
      " dense_20 (Dense)            (None, 128)               2999296   \n",
      "                                                                 \n",
      " dense_21 (Dense)            (None, 128)               16512     \n",
      "                                                                 \n",
      " dense_22 (Dense)            (None, 1)                 129       \n",
      "                                                                 \n",
      "=================================================================\n",
      "Total params: 3,015,937\n",
      "Trainable params: 3,015,937\n",
      "Non-trainable params: 0\n",
      "_________________________________________________________________\n"
     ]
    }
   ],
   "source": [
    "model1_bow.summary()"
   ]
  },
  {
   "cell_type": "code",
   "execution_count": 174,
   "metadata": {},
   "outputs": [
    {
     "name": "stdout",
     "output_type": "stream",
     "text": [
      "Size of vocabulary/number of columns in BoW array (v): 23431\n",
      "Number of units in the first layer(n): 128\n",
      "\n",
      "Number of params in the first layer(p) = v * n + n = 2999296\n"
     ]
    }
   ],
   "source": [
    "# Size of vocabulary. The '+ 1' is because the zero index is reserved for padding.\n",
    "v = (len(tokenizer.word_index) + 1)\n",
    "print(f\"Size of vocabulary/number of columns in BoW array (v): {v}\")\n",
    "\n",
    "n = NUM_UNITS\n",
    "print(f\"Number of units in the first layer(n): {n}\\n\")\n",
    "\n",
    "# The '+ n' accounts for the number of biases. Each unit has one.\n",
    "p = v * n + n\n",
    "print(f\"Number of params in the first layer(p) = v * n + n = {p}\")"
   ]
  },
  {
   "cell_type": "code",
   "execution_count": 175,
   "metadata": {},
   "outputs": [
    {
     "name": "stdout",
     "output_type": "stream",
     "text": [
      "192/192 [==============================] - 1s 3ms/step - loss: 0.6006 - accuracy: 0.8306\n",
      "Validation loss: 0.600609302520752\n",
      "Validation accuracy: 0.8306438326835632\n"
     ]
    }
   ],
   "source": [
    "results = model1_bow.evaluate(X_val_bow, y_val)\n",
    "print(f\"Validation loss: {results[0]}\")\n",
    "print(f\"Validation accuracy: {results[1]}\")"
   ]
  },
  {
   "cell_type": "code",
   "execution_count": 176,
   "metadata": {},
   "outputs": [
    {
     "name": "stdout",
     "output_type": "stream",
     "text": [
      "192/192 [==============================] - 1s 2ms/step\n"
     ]
    },
    {
     "data": {
      "text/plain": [
       "array([[0.79696226],\n",
       "       [0.9999782 ],\n",
       "       [0.13920897],\n",
       "       ...,\n",
       "       [0.9084056 ],\n",
       "       [0.9995751 ],\n",
       "       [0.98608685]], dtype=float32)"
      ]
     },
     "execution_count": 176,
     "metadata": {},
     "output_type": "execute_result"
    }
   ],
   "source": [
    "y_pred_probs = model1_bow.predict(X_val_bow, verbose=1)\n",
    "y_pred_probs"
   ]
  },
  {
   "cell_type": "code",
   "execution_count": 177,
   "metadata": {},
   "outputs": [
    {
     "name": "stdout",
     "output_type": "stream",
     "text": [
      "[[1]\n",
      " [1]\n",
      " [0]\n",
      " ...\n",
      " [1]\n",
      " [1]\n",
      " [1]]\n"
     ]
    }
   ],
   "source": [
    "y_preds = (y_pred_probs >= .5).astype(int)\n",
    "print(y_preds)"
   ]
  },
  {
   "cell_type": "code",
   "execution_count": 178,
   "metadata": {},
   "outputs": [
    {
     "data": {
      "text/plain": [
       "<sklearn.metrics._plot.confusion_matrix.ConfusionMatrixDisplay at 0x1db365a2830>"
      ]
     },
     "execution_count": 178,
     "metadata": {},
     "output_type": "execute_result"
    },
    {
     "data": {
      "image/png": "[encoded data removed]",
      "text/plain": [
       "<Figure size 640x480 with 2 Axes>"
      ]
     },
     "metadata": {},
     "output_type": "display_data"
    }
   ],
   "source": [
    "cm = confusion_matrix(y_val, y_preds)\n",
    "cmd = ConfusionMatrixDisplay(confusion_matrix=cm)\n",
    "fig, ax = plt.subplots()\n",
    "cmd.plot(ax=ax, xticks_rotation='vertical')"
   ]
  },
  {
   "attachments": {},
   "cell_type": "markdown",
   "metadata": {},
   "source": [
    "# Model 1: TF-IDF\n",
    "* 2 fully connected layers with 128 units\n"
   ]
  },
  {
   "cell_type": "code",
   "execution_count": 179,
   "metadata": {},
   "outputs": [],
   "source": [
    "NUM_CLASSES = 1 # one binary class\n",
    "NUM_UNITS = 128\n",
    "\n",
    "# \"set_seed\" is called to ensure we get the same weights every time. Comment out this\n",
    "# line to get different weight initializations.\n",
    "tf.random.set_seed(42)\n",
    "\n",
    "# \"kernel_initializer\" is passed to ensure we get the same weights every time. Remove\n",
    "# the parameter to get different weight initializations.\n",
    "model1_tfidf = keras.Sequential([\n",
    "  layers.Dense(NUM_UNITS, activation='relu', kernel_initializer=tf.keras.initializers.random_normal(seed=42)),\n",
    "  layers.Dense(NUM_UNITS, activation='relu', kernel_initializer=tf.keras.initializers.random_normal(seed=42)),\n",
    "  layers.Dense(NUM_CLASSES, activation='sigmoid', kernel_initializer=tf.keras.initializers.random_normal(seed=42))\n",
    "  ])"
   ]
  },
  {
   "cell_type": "code",
   "execution_count": 180,
   "metadata": {},
   "outputs": [],
   "source": [
    "model1_tfidf.compile(optimizer='rmsprop',\n",
    "              loss='binary_crossentropy',\n",
    "              metrics=['accuracy'])"
   ]
  },
  {
   "cell_type": "code",
   "execution_count": 181,
   "metadata": {},
   "outputs": [
    {
     "name": "stdout",
     "output_type": "stream",
     "text": [
      "Epoch 1/15\n"
     ]
    },
    {
     "name": "stderr",
     "output_type": "stream",
     "text": [
      "C:\\Users\\dominik.freunberger\\AppData\\Roaming\\Python\\Python310\\site-packages\\tensorflow\\python\\framework\\indexed_slices.py:444: UserWarning: Converting sparse IndexedSlices(IndexedSlices(indices=Tensor(\"gradient_tape/sequential_19/dense_23/embedding_lookup_sparse/Reshape_1:0\", shape=(None,), dtype=int32), values=Tensor(\"gradient_tape/sequential_19/dense_23/embedding_lookup_sparse/Reshape:0\", shape=(None, 128), dtype=float32), dense_shape=Tensor(\"gradient_tape/sequential_19/dense_23/embedding_lookup_sparse/Cast:0\", shape=(2,), dtype=int32))) to a dense Tensor of unknown shape. This may consume a large amount of memory.\n",
      "  warnings.warn(\n"
     ]
    },
    {
     "name": "stdout",
     "output_type": "stream",
     "text": [
      "384/384 [==============================] - 3s 7ms/step - loss: 0.3825 - accuracy: 0.8443 - val_loss: 0.3663 - val_accuracy: 0.8520\n",
      "Epoch 2/15\n",
      "384/384 [==============================] - 3s 7ms/step - loss: 0.3068 - accuracy: 0.8834 - val_loss: 0.3760 - val_accuracy: 0.8502\n",
      "Epoch 3/15\n",
      "384/384 [==============================] - 3s 7ms/step - loss: 0.2772 - accuracy: 0.8957 - val_loss: 0.3874 - val_accuracy: 0.8544\n",
      "Epoch 4/15\n",
      "384/384 [==============================] - 3s 7ms/step - loss: 0.2488 - accuracy: 0.9071 - val_loss: 0.3744 - val_accuracy: 0.8465\n",
      "Epoch 5/15\n",
      "384/384 [==============================] - 3s 7ms/step - loss: 0.2206 - accuracy: 0.9183 - val_loss: 0.4008 - val_accuracy: 0.8478\n",
      "Epoch 6/15\n",
      "384/384 [==============================] - 3s 7ms/step - loss: 0.1893 - accuracy: 0.9305 - val_loss: 0.4481 - val_accuracy: 0.8424\n",
      "Epoch 7/15\n",
      "384/384 [==============================] - 3s 7ms/step - loss: 0.1596 - accuracy: 0.9428 - val_loss: 0.4782 - val_accuracy: 0.8341\n",
      "Epoch 8/15\n",
      "384/384 [==============================] - 3s 7ms/step - loss: 0.1325 - accuracy: 0.9530 - val_loss: 0.5513 - val_accuracy: 0.8267\n",
      "Epoch 9/15\n",
      "384/384 [==============================] - 3s 7ms/step - loss: 0.1112 - accuracy: 0.9610 - val_loss: 0.5887 - val_accuracy: 0.8170\n",
      "Epoch 10/15\n",
      "384/384 [==============================] - 3s 7ms/step - loss: 0.0929 - accuracy: 0.9682 - val_loss: 0.6677 - val_accuracy: 0.7990\n",
      "Epoch 11/15\n",
      "384/384 [==============================] - 3s 7ms/step - loss: 0.0793 - accuracy: 0.9729 - val_loss: 0.7356 - val_accuracy: 0.7917\n",
      "Epoch 12/15\n",
      "384/384 [==============================] - 3s 7ms/step - loss: 0.0676 - accuracy: 0.9770 - val_loss: 0.8154 - val_accuracy: 0.7883\n",
      "Epoch 13/15\n",
      "384/384 [==============================] - 3s 7ms/step - loss: 0.0583 - accuracy: 0.9806 - val_loss: 0.8895 - val_accuracy: 0.7773\n",
      "Epoch 14/15\n",
      "384/384 [==============================] - 3s 7ms/step - loss: 0.0505 - accuracy: 0.9832 - val_loss: 0.9502 - val_accuracy: 0.7817\n",
      "Epoch 15/15\n",
      "384/384 [==============================] - 3s 7ms/step - loss: 0.0437 - accuracy: 0.9858 - val_loss: 1.0203 - val_accuracy: 0.7734\n"
     ]
    }
   ],
   "source": [
    "NUM_EPOCHS = 15\n",
    "BATCH_SIZE = 128\n",
    "\n",
    "history = model1_tfidf.fit(X_train_tfidf, y_train, epochs=NUM_EPOCHS, batch_size=BATCH_SIZE, validation_data=(X_val_tfidf, y_val))"
   ]
  },
  {
   "cell_type": "code",
   "execution_count": 182,
   "metadata": {},
   "outputs": [
    {
     "data": {
      "image/png": "[encoded data removed]",
      "text/plain": [
       "<Figure size 1500x1500 with 2 Axes>"
      ]
     },
     "metadata": {},
     "output_type": "display_data"
    }
   ],
   "source": [
    "\n",
    "training_losses = history.history['loss']\n",
    "validation_losses = history.history['val_loss']\n",
    "\n",
    "training_accuracy = history.history['accuracy']\n",
    "validation_accuracy = history.history['val_accuracy']\n",
    "\n",
    "epochs = range(1, len(training_losses) + 1)\n",
    "\n",
    "fig, (ax1, ax2) = plt.subplots(2)\n",
    "fig.set_figheight(15)\n",
    "fig.set_figwidth(15)\n",
    "fig.tight_layout(pad=5.0)\n",
    "\n",
    "# Plot training vs. validation loss.\n",
    "ax1.plot(epochs, training_losses, 'bo', label='Training Loss')\n",
    "ax1.plot(epochs, validation_losses, 'b', label='Validation Loss')\n",
    "ax1.title.set_text('Training vs. Validation Loss')\n",
    "ax1.set_xlabel('Epoch')\n",
    "ax1.set_ylabel('Loss')\n",
    "ax1.legend()\n",
    "\n",
    "# PLot training vs. validation accuracy.\n",
    "ax2.plot(epochs, training_accuracy, 'bo', label='Training Accuracy')\n",
    "ax2.plot(epochs, validation_accuracy, 'b', label='Validation Accuracy')\n",
    "ax2.title.set_text('Training vs. Validation Accuracy')\n",
    "ax2.set_xlabel('Epoch')\n",
    "ax2.set_ylabel('Accuracy')\n",
    "ax2.legend()\n",
    "\n",
    "plt.show()"
   ]
  },
  {
   "cell_type": "code",
   "execution_count": 183,
   "metadata": {},
   "outputs": [
    {
     "name": "stdout",
     "output_type": "stream",
     "text": [
      "Model: \"sequential_19\"\n",
      "_________________________________________________________________\n",
      " Layer (type)                Output Shape              Param #   \n",
      "=================================================================\n",
      " dense_23 (Dense)            (None, 128)               2999296   \n",
      "                                                                 \n",
      " dense_24 (Dense)            (None, 128)               16512     \n",
      "                                                                 \n",
      " dense_25 (Dense)            (None, 1)                 129       \n",
      "                                                                 \n",
      "=================================================================\n",
      "Total params: 3,015,937\n",
      "Trainable params: 3,015,937\n",
      "Non-trainable params: 0\n",
      "_________________________________________________________________\n"
     ]
    }
   ],
   "source": [
    "model1_tfidf.summary()"
   ]
  },
  {
   "cell_type": "code",
   "execution_count": 184,
   "metadata": {},
   "outputs": [
    {
     "name": "stdout",
     "output_type": "stream",
     "text": [
      "192/192 [==============================] - 1s 3ms/step - loss: 0.5262 - accuracy: 0.7690\n",
      "Validation loss: 0.5261641144752502\n",
      "Validation accuracy: 0.7690301537513733\n"
     ]
    }
   ],
   "source": [
    "results = model1_tfidf.evaluate(X_val_bow, y_val)\n",
    "print(f\"Validation loss: {results[0]}\")\n",
    "print(f\"Validation accuracy: {results[1]}\")"
   ]
  },
  {
   "cell_type": "code",
   "execution_count": 185,
   "metadata": {},
   "outputs": [
    {
     "name": "stdout",
     "output_type": "stream",
     "text": [
      "192/192 [==============================] - 0s 2ms/step\n",
      "[[1]\n",
      " [1]\n",
      " [0]\n",
      " ...\n",
      " [1]\n",
      " [1]\n",
      " [1]]\n"
     ]
    }
   ],
   "source": [
    "y_pred_probs = model1_bow.predict(X_val_bow, verbose=1)\n",
    "y_preds = (y_pred_probs >= .5).astype(int)\n",
    "print(y_preds)"
   ]
  },
  {
   "cell_type": "code",
   "execution_count": 186,
   "metadata": {},
   "outputs": [
    {
     "data": {
      "text/plain": [
       "<sklearn.metrics._plot.confusion_matrix.ConfusionMatrixDisplay at 0x1db36011510>"
      ]
     },
     "execution_count": 186,
     "metadata": {},
     "output_type": "execute_result"
    },
    {
     "data": {
      "image/png": "[encoded data removed]",
      "text/plain": [
       "<Figure size 640x480 with 2 Axes>"
      ]
     },
     "metadata": {},
     "output_type": "display_data"
    }
   ],
   "source": [
    "cm = confusion_matrix(y_val, y_preds)\n",
    "cmd = ConfusionMatrixDisplay(confusion_matrix=cm, display_labels=label_map)\n",
    "fig, ax = plt.subplots()\n",
    "cmd.plot(ax=ax, xticks_rotation='vertical')"
   ]
  },
  {
   "attachments": {},
   "cell_type": "markdown",
   "metadata": {},
   "source": [
    "# Model 2: BoW\n",
    "* 3 fully connected layers with 128 units\n",
    "* Dropout layer\n",
    "* Early Stopping/Callback"
   ]
  },
  {
   "cell_type": "code",
   "execution_count": 187,
   "metadata": {},
   "outputs": [
    {
     "name": "stdout",
     "output_type": "stream",
     "text": [
      "Epoch 1/15\n"
     ]
    },
    {
     "name": "stderr",
     "output_type": "stream",
     "text": [
      "C:\\Users\\dominik.freunberger\\AppData\\Roaming\\Python\\Python310\\site-packages\\tensorflow\\python\\framework\\indexed_slices.py:444: UserWarning: Converting sparse IndexedSlices(IndexedSlices(indices=Tensor(\"gradient_tape/sequential_20/dense_26/embedding_lookup_sparse/Reshape_1:0\", shape=(None,), dtype=int32), values=Tensor(\"gradient_tape/sequential_20/dense_26/embedding_lookup_sparse/Reshape:0\", shape=(None, 128), dtype=float32), dense_shape=Tensor(\"gradient_tape/sequential_20/dense_26/embedding_lookup_sparse/Cast:0\", shape=(2,), dtype=int32))) to a dense Tensor of unknown shape. This may consume a large amount of memory.\n",
      "  warnings.warn(\n"
     ]
    },
    {
     "name": "stdout",
     "output_type": "stream",
     "text": [
      "384/384 [==============================] - 4s 9ms/step - loss: 0.3657 - accuracy: 0.8532 - val_loss: 0.3678 - val_accuracy: 0.8500\n",
      "Epoch 2/15\n",
      "384/384 [==============================] - 3s 8ms/step - loss: 0.3110 - accuracy: 0.8786 - val_loss: 0.3587 - val_accuracy: 0.8525\n",
      "Epoch 3/15\n",
      "384/384 [==============================] - 3s 8ms/step - loss: 0.2832 - accuracy: 0.8910 - val_loss: 0.3753 - val_accuracy: 0.8561\n"
     ]
    }
   ],
   "source": [
    "es_callback = tf.keras.callbacks.EarlyStopping(monitor='val_loss', patience=1)\n",
    "\n",
    "tf.random.set_seed(0)\n",
    "initializer = tf.keras.initializers.HeNormal(seed=42)\n",
    "\n",
    "model2_bow = keras.Sequential([\n",
    "  layers.Dense(NUM_UNITS, activation='relu', kernel_initializer=initializer),\n",
    "  layers.Dense(NUM_UNITS, activation='relu', kernel_initializer=initializer),\n",
    "  layers.Dense(NUM_UNITS, activation='relu', kernel_initializer=initializer),\n",
    "  layers.Dropout(0.3),\n",
    "  layers.Dense(NUM_CLASSES, activation='sigmoid')\n",
    "])\n",
    "\n",
    "model2_bow.compile(optimizer='rmsprop',\n",
    "              loss='binary_crossentropy',\n",
    "              metrics=['accuracy'])\n",
    "\n",
    "with tf.device('/GPU:0'):\n",
    "  history = model2_bow.fit(X_train_bow, y_train, epochs=NUM_EPOCHS, batch_size=BATCH_SIZE, validation_data=(X_val_bow, y_val), callbacks=[es_callback])"
   ]
  },
  {
   "cell_type": "code",
   "execution_count": 188,
   "metadata": {},
   "outputs": [
    {
     "name": "stdout",
     "output_type": "stream",
     "text": [
      "192/192 [==============================] - 1s 4ms/step - loss: 0.3753 - accuracy: 0.8561\n",
      "Test loss: 0.3752728998661041\n",
      "Test accuracy: 0.8560717105865479\n"
     ]
    }
   ],
   "source": [
    "results = model2_bow.evaluate(X_val_bow, y_val)\n",
    "print(f\"Test loss: {results[0]}\")\n",
    "print(f\"Test accuracy: {results[1]}\")"
   ]
  },
  {
   "cell_type": "code",
   "execution_count": 189,
   "metadata": {},
   "outputs": [
    {
     "name": "stdout",
     "output_type": "stream",
     "text": [
      "192/192 [==============================] - 1s 3ms/step\n"
     ]
    }
   ],
   "source": [
    "y_pred_probs = model2_bow.predict(X_val_bow, verbose=1)\n",
    "y_preds = (y_pred_probs >= .5).astype(int)"
   ]
  },
  {
   "cell_type": "code",
   "execution_count": 190,
   "metadata": {},
   "outputs": [
    {
     "data": {
      "text/plain": [
       "<sklearn.metrics._plot.confusion_matrix.ConfusionMatrixDisplay at 0x1db358859f0>"
      ]
     },
     "execution_count": 190,
     "metadata": {},
     "output_type": "execute_result"
    },
    {
     "data": {
      "image/png": "[encoded data removed]",
      "text/plain": [
       "<Figure size 640x480 with 2 Axes>"
      ]
     },
     "metadata": {},
     "output_type": "display_data"
    }
   ],
   "source": [
    "cm = confusion_matrix(y_val, y_preds)\n",
    "cmd = ConfusionMatrixDisplay(confusion_matrix=cm, display_labels=label_map)\n",
    "fig, ax = plt.subplots()\n",
    "cmd.plot(ax=ax, xticks_rotation='vertical')"
   ]
  },
  {
   "cell_type": "code",
   "execution_count": 191,
   "metadata": {},
   "outputs": [
    {
     "name": "stdout",
     "output_type": "stream",
     "text": [
      "              precision    recall  f1-score   support\n",
      "\n",
      "    negative       0.84      0.88      0.86      3172\n",
      "    positive       0.87      0.83      0.85      2963\n",
      "\n",
      "    accuracy                           0.86      6135\n",
      "   macro avg       0.86      0.86      0.86      6135\n",
      "weighted avg       0.86      0.86      0.86      6135\n",
      "\n"
     ]
    }
   ],
   "source": [
    "print(classification_report(y_val, y_preds, target_names=label_map))"
   ]
  },
  {
   "attachments": {},
   "cell_type": "markdown",
   "metadata": {},
   "source": [
    "# Model 3: Bidirectional LSTM with embedding layer"
   ]
  },
  {
   "cell_type": "code",
   "execution_count": 192,
   "metadata": {},
   "outputs": [],
   "source": [
    "# Code target\n",
    "from tensorflow.keras.utils import to_categorical\n",
    "\n",
    "def binary_to_categorical(x):\n",
    "    if x == 'positive':\n",
    "        return 1\n",
    "    else:\n",
    "        return 0\n",
    "\n",
    "y_binary = reviews.Sentiment.map(binary_to_categorical).to_numpy()\n",
    "y = to_categorical(y_binary)\n"
   ]
  },
  {
   "cell_type": "code",
   "execution_count": 193,
   "metadata": {},
   "outputs": [],
   "source": [
    "# Get reviews\n",
    "X = reviews.Review.astype(str)"
   ]
  },
  {
   "cell_type": "code",
   "execution_count": 194,
   "metadata": {},
   "outputs": [],
   "source": [
    "# Train Test Validation Split\n",
    "train_ratio = 0.80\n",
    "validation_ratio = 0.10\n",
    "test_ratio = 0.10\n",
    "\n",
    "X_train, X_test, y_train, y_test = train_test_split(X, y, \n",
    "                                                    test_size=1 - train_ratio, \n",
    "                                                    random_state=42)\n",
    "\n",
    "X_val, X_test, y_val, y_test = train_test_split(X_test, y_test, \n",
    "                                                test_size=test_ratio/(test_ratio + validation_ratio), \n",
    "                                                random_state=42)"
   ]
  },
  {
   "cell_type": "code",
   "execution_count": 195,
   "metadata": {},
   "outputs": [],
   "source": [
    "sentence_tokenizer = keras.preprocessing.text.Tokenizer(filters=\"\", lower=True, oov_token='OOV')"
   ]
  },
  {
   "cell_type": "code",
   "execution_count": 196,
   "metadata": {},
   "outputs": [],
   "source": [
    "sentence_tokenizer.fit_on_texts(X_train)"
   ]
  },
  {
   "cell_type": "code",
   "execution_count": 197,
   "metadata": {},
   "outputs": [
    {
     "name": "stdout",
     "output_type": "stream",
     "text": [
      "Vocabulary size: 27050\n"
     ]
    }
   ],
   "source": [
    "print(f\"Vocabulary size: {len(sentence_tokenizer.word_index)}\")"
   ]
  },
  {
   "cell_type": "code",
   "execution_count": 198,
   "metadata": {},
   "outputs": [],
   "source": [
    "X_train_seqs = sentence_tokenizer.texts_to_sequences(x_train)"
   ]
  },
  {
   "cell_type": "code",
   "execution_count": 199,
   "metadata": {},
   "outputs": [
    {
     "name": "stdout",
     "output_type": "stream",
     "text": [
      "[5, 7, 47, 14, 99]\n"
     ]
    }
   ],
   "source": [
    "print(X_train_seqs[0])"
   ]
  },
  {
   "cell_type": "code",
   "execution_count": 200,
   "metadata": {},
   "outputs": [
    {
     "name": "stdout",
     "output_type": "stream",
     "text": [
      "Original: Great music service the audio is high quality and the app is easy to use Also very quick and friendly support\n",
      "Reconstructed: ['it is great for podcasts']\n"
     ]
    }
   ],
   "source": [
    "print(f\"Original: {X_train[0]}\")\n",
    "print(f\"Reconstructed: {sentence_tokenizer.sequences_to_texts([X_train_seqs[0]])}\")"
   ]
  },
  {
   "cell_type": "code",
   "execution_count": 201,
   "metadata": {},
   "outputs": [],
   "source": [
    "X_val_seqs = sentence_tokenizer.texts_to_sequences(X_val)"
   ]
  },
  {
   "cell_type": "code",
   "execution_count": 202,
   "metadata": {},
   "outputs": [
    {
     "name": "stdout",
     "output_type": "stream",
     "text": [
      "Length of longest input sequence: 395\n"
     ]
    }
   ],
   "source": [
    "MAX_LENGTH = len(max(X_train_seqs, key=len))\n",
    "print(f\"Length of longest input sequence: {MAX_LENGTH}\")\n"
   ]
  },
  {
   "cell_type": "code",
   "execution_count": 203,
   "metadata": {},
   "outputs": [],
   "source": [
    "X_train_padded = keras.preprocessing.sequence.pad_sequences(X_train_seqs, padding='post', maxlen=MAX_LENGTH)"
   ]
  },
  {
   "cell_type": "code",
   "execution_count": 204,
   "metadata": {},
   "outputs": [
    {
     "name": "stdout",
     "output_type": "stream",
     "text": [
      "[ 5  7 47 14 99  0  0  0  0  0  0  0  0  0  0  0  0  0  0  0  0  0  0  0\n",
      "  0  0  0  0  0  0  0  0  0  0  0  0  0  0  0  0  0  0  0  0  0  0  0  0\n",
      "  0  0  0  0  0  0  0  0  0  0  0  0  0  0  0  0  0  0  0  0  0  0  0  0\n",
      "  0  0  0  0  0  0  0  0  0  0  0  0  0  0  0  0  0  0  0  0  0  0  0  0\n",
      "  0  0  0  0  0  0  0  0  0  0  0  0  0  0  0  0  0  0  0  0  0  0  0  0\n",
      "  0  0  0  0  0  0  0  0  0  0  0  0  0  0  0  0  0  0  0  0  0  0  0  0\n",
      "  0  0  0  0  0  0  0  0  0  0  0  0  0  0  0  0  0  0  0  0  0  0  0  0\n",
      "  0  0  0  0  0  0  0  0  0  0  0  0  0  0  0  0  0  0  0  0  0  0  0  0\n",
      "  0  0  0  0  0  0  0  0  0  0  0  0  0  0  0  0  0  0  0  0  0  0  0  0\n",
      "  0  0  0  0  0  0  0  0  0  0  0  0  0  0  0  0  0  0  0  0  0  0  0  0\n",
      "  0  0  0  0  0  0  0  0  0  0  0  0  0  0  0  0  0  0  0  0  0  0  0  0\n",
      "  0  0  0  0  0  0  0  0  0  0  0  0  0  0  0  0  0  0  0  0  0  0  0  0\n",
      "  0  0  0  0  0  0  0  0  0  0  0  0  0  0  0  0  0  0  0  0  0  0  0  0\n",
      "  0  0  0  0  0  0  0  0  0  0  0  0  0  0  0  0  0  0  0  0  0  0  0  0\n",
      "  0  0  0  0  0  0  0  0  0  0  0  0  0  0  0  0  0  0  0  0  0  0  0  0\n",
      "  0  0  0  0  0  0  0  0  0  0  0  0  0  0  0  0  0  0  0  0  0  0  0  0\n",
      "  0  0  0  0  0  0  0  0  0  0  0]\n"
     ]
    }
   ],
   "source": [
    "print(X_train_padded[0])"
   ]
  },
  {
   "cell_type": "code",
   "execution_count": 205,
   "metadata": {},
   "outputs": [],
   "source": [
    "X_val_padded = keras.preprocessing.sequence.pad_sequences(X_val_seqs, padding='post', maxlen=MAX_LENGTH)"
   ]
  },
  {
   "cell_type": "code",
   "execution_count": 206,
   "metadata": {},
   "outputs": [
    {
     "name": "stdout",
     "output_type": "stream",
     "text": [
      "[0. 1.]\n"
     ]
    }
   ],
   "source": [
    "# The one hot encodings for the first label.\n",
    "print(y_train[0])"
   ]
  },
  {
   "cell_type": "code",
   "execution_count": 207,
   "metadata": {},
   "outputs": [],
   "source": [
    "# For the embedding layer. \"+ 1\" to account for the padding token.\n",
    "num_tokens = len(sentence_tokenizer.word_index) + 1\n",
    "embedding_dim = 128\n",
    "\n",
    "# For the output layer. The number of classes corresponds to the \n",
    "# number of possible tags.\n",
    "num_classes = 1 + 1"
   ]
  },
  {
   "cell_type": "code",
   "execution_count": 208,
   "metadata": {},
   "outputs": [],
   "source": [
    "# The set_seed call and kernel_initializer parameters are used here to\n",
    "# ensure you and I get the same results. To get random weight initializations,\n",
    "# remove them.\n",
    "tf.random.set_seed(0)\n",
    "\n",
    "model3 = keras.Sequential()\n",
    "\n",
    "model3.add(layers.Embedding(input_dim=num_tokens, \n",
    "                           output_dim=embedding_dim, \n",
    "                           input_length=MAX_LENGTH,\n",
    "                           mask_zero=True))\n",
    "\n",
    "model3.add(layers.Bidirectional(layers.LSTM(128, return_sequences=True, \n",
    "                                           kernel_initializer=tf.keras.initializers.random_normal(seed=1))))\n",
    "\n",
    "model3.add(layers.Bidirectional(layers.LSTM(128, return_sequences=False, \n",
    "                                           kernel_initializer=tf.keras.initializers.random_normal(seed=1))))\n",
    "\n",
    "model3.add(layers.Dense(num_classes, activation='softmax', \n",
    "                       kernel_initializer=tf.keras.initializers.random_normal(seed=1)))\n",
    "\n",
    "model3.compile(loss='categorical_crossentropy',\n",
    "              optimizer='adam',\n",
    "              metrics=['accuracy'])"
   ]
  },
  {
   "cell_type": "code",
   "execution_count": 209,
   "metadata": {},
   "outputs": [
    {
     "name": "stdout",
     "output_type": "stream",
     "text": [
      "Model: \"sequential_21\"\n",
      "_________________________________________________________________\n",
      " Layer (type)                Output Shape              Param #   \n",
      "=================================================================\n",
      " embedding_3 (Embedding)     (None, 395, 128)          3462528   \n",
      "                                                                 \n",
      " bidirectional_14 (Bidirecti  (None, 395, 256)         263168    \n",
      " onal)                                                           \n",
      "                                                                 \n",
      " bidirectional_15 (Bidirecti  (None, 256)              394240    \n",
      " onal)                                                           \n",
      "                                                                 \n",
      " dense_30 (Dense)            (None, 2)                 514       \n",
      "                                                                 \n",
      "=================================================================\n",
      "Total params: 4,120,450\n",
      "Trainable params: 4,120,450\n",
      "Non-trainable params: 0\n",
      "_________________________________________________________________\n"
     ]
    }
   ],
   "source": [
    "model3.summary()"
   ]
  },
  {
   "cell_type": "code",
   "execution_count": 210,
   "metadata": {},
   "outputs": [
    {
     "name": "stdout",
     "output_type": "stream",
     "text": [
      "Epoch 1/2\n",
      "384/384 [==============================] - 46s 94ms/step - loss: 0.3434 - accuracy: 0.8569 - val_loss: 0.3294 - val_accuracy: 0.8637\n",
      "Epoch 2/2\n",
      "384/384 [==============================] - 33s 87ms/step - loss: 0.2674 - accuracy: 0.8958 - val_loss: 0.3376 - val_accuracy: 0.8657\n"
     ]
    }
   ],
   "source": [
    "#es_callback = keras.callbacks.EarlyStopping(monitor='val_loss', patience=3)\n",
    "\n",
    "with tf.device('/GPU:0'):\n",
    "    history = model3.fit(X_train_padded, y_train, epochs=2, \n",
    "                    batch_size=128, validation_data=(X_val_padded, y_val))"
   ]
  },
  {
   "cell_type": "code",
   "execution_count": 211,
   "metadata": {},
   "outputs": [],
   "source": [
    "# # Preprocess the test data and test the model.\n",
    "X_test_seqs = sentence_tokenizer.texts_to_sequences(X_test)\n",
    "X_test_padded = keras.preprocessing.sequence.pad_sequences(X_test_seqs, padding='post', maxlen=MAX_LENGTH)"
   ]
  },
  {
   "cell_type": "code",
   "execution_count": 212,
   "metadata": {},
   "outputs": [
    {
     "name": "stdout",
     "output_type": "stream",
     "text": [
      "192/192 [==============================] - 3s 16ms/step - loss: 0.3376 - accuracy: 0.8657\n"
     ]
    },
    {
     "data": {
      "text/plain": [
       "[0.33758169412612915, 0.865688681602478]"
      ]
     },
     "execution_count": 212,
     "metadata": {},
     "output_type": "execute_result"
    }
   ],
   "source": [
    "model3.evaluate(X_val_padded, y_val)\n",
    "## Improvement, yay!"
   ]
  },
  {
   "cell_type": "code",
   "execution_count": 213,
   "metadata": {},
   "outputs": [
    {
     "name": "stdout",
     "output_type": "stream",
     "text": [
      "192/192 [==============================] - 7s 16ms/step\n"
     ]
    }
   ],
   "source": [
    "y_pred_probs = model3.predict(x_val_padded, verbose=1)\n",
    "y_preds = (y_pred_probs >= .5).astype(int)"
   ]
  },
  {
   "cell_type": "code",
   "execution_count": 214,
   "metadata": {},
   "outputs": [
    {
     "data": {
      "text/plain": [
       "<sklearn.metrics._plot.confusion_matrix.ConfusionMatrixDisplay at 0x1db308877f0>"
      ]
     },
     "execution_count": 214,
     "metadata": {},
     "output_type": "execute_result"
    },
    {
     "data": {
      "image/png": "[encoded data removed]",
      "text/plain": [
       "<Figure size 640x480 with 2 Axes>"
      ]
     },
     "metadata": {},
     "output_type": "display_data"
    }
   ],
   "source": [
    "cm = confusion_matrix(y_val[:, 0].reshape(-1, 1), y_preds[:, 0].reshape(-1, 1))\n",
    "cmd = ConfusionMatrixDisplay(confusion_matrix=cm)\n",
    "fig, ax = plt.subplots()\n",
    "cmd.plot(ax=ax, xticks_rotation='vertical')"
   ]
  },
  {
   "attachments": {},
   "cell_type": "markdown",
   "metadata": {},
   "source": [
    "# Model 3 with pretrained embeddings\n",
    "\n",
    "* Google word vectors (large file!)"
   ]
  },
  {
   "cell_type": "code",
   "execution_count": 215,
   "metadata": {},
   "outputs": [],
   "source": [
    "# Download \"https://drive.google.com/uc?id=1BpfbHu4denceXiv8yfdY3EHgjKIcULku\""
   ]
  },
  {
   "cell_type": "code",
   "execution_count": 216,
   "metadata": {},
   "outputs": [],
   "source": [
    "embedding_file = '../../embeddings/GoogleNews-vectors-negative300.bin.gz'"
   ]
  },
  {
   "cell_type": "code",
   "execution_count": 217,
   "metadata": {},
   "outputs": [],
   "source": [
    "# Get 1M vectors through gensim\n",
    "from gensim.models.keyedvectors import KeyedVectors\n",
    "\n",
    "word_vectors = KeyedVectors.load_word2vec_format(embedding_file, binary=True, limit=1000000)"
   ]
  },
  {
   "cell_type": "code",
   "execution_count": 218,
   "metadata": {},
   "outputs": [
    {
     "name": "stdout",
     "output_type": "stream",
     "text": [
      "Vector dimension: (300,)\n",
      "[-1.25976562e-01  2.53906250e-02  1.66992188e-01  5.50781250e-01\n",
      " -7.66601562e-02  1.28906250e-01  1.02539062e-01 -3.94821167e-04\n",
      "  1.21582031e-01  4.32128906e-02  1.72851562e-01 -6.83593750e-02\n",
      "  3.41796875e-01  8.39843750e-02  6.68945312e-02  2.67578125e-01\n",
      " -3.71093750e-02 -5.56640625e-02  1.80664062e-01  1.90429688e-02\n",
      " -5.07812500e-02  9.03320312e-03  1.76757812e-01  6.49414062e-02\n",
      " -6.25000000e-02 -9.42382812e-02 -9.71679688e-02  4.00390625e-01\n",
      "  1.15234375e-01  1.02539062e-01 -1.86767578e-02 -2.69531250e-01\n",
      "  1.80664062e-01  1.25000000e-01 -3.17382812e-02 -5.49316406e-02\n",
      "  3.45703125e-01 -1.57470703e-02  1.82390213e-05  2.07031250e-01\n",
      " -1.25976562e-01 -2.83203125e-01  2.00195312e-01  8.34960938e-02\n",
      " -4.73632812e-02 -3.11279297e-02 -2.61718750e-01  1.69921875e-01\n",
      " -2.02636719e-02  1.53320312e-01 -1.20605469e-01  3.75000000e-01\n",
      " -5.68847656e-02 -4.76074219e-03 -1.95312500e-01 -2.03125000e-01\n",
      "  3.00781250e-01 -1.01074219e-01 -3.18359375e-01 -9.03320312e-02\n",
      " -1.19140625e-01  1.95312500e-01 -8.78906250e-02  1.58203125e-01\n",
      "  1.51977539e-02 -1.60156250e-01 -3.30078125e-01 -4.66796875e-01\n",
      "  1.68945312e-01  2.23388672e-02  1.55273438e-01  1.08398438e-01\n",
      " -3.56445312e-02  9.13085938e-02 -8.69140625e-02 -1.20117188e-01\n",
      " -3.08593750e-01 -2.61230469e-02 -7.22656250e-02 -4.80468750e-01\n",
      "  3.78417969e-02 -1.35742188e-01 -1.02539062e-01 -2.91015625e-01\n",
      " -1.93359375e-01 -4.21875000e-01 -1.06445312e-01  3.55468750e-01\n",
      "  1.66992188e-01 -3.63159180e-03 -7.42187500e-02 -3.22265625e-01\n",
      " -7.51953125e-02 -8.25195312e-02 -2.91015625e-01 -1.25976562e-01\n",
      "  1.68457031e-02  5.00488281e-02  1.27929688e-01 -7.42187500e-02\n",
      " -1.30859375e-01 -2.46093750e-01  6.49414062e-02  1.53320312e-01\n",
      "  2.59765625e-01 -1.05468750e-01  3.57421875e-01 -4.29687500e-02\n",
      " -1.58203125e-01  8.20312500e-02 -5.98144531e-02 -2.34375000e-01\n",
      " -3.22265625e-01 -1.25976562e-01  5.39550781e-02 -1.87500000e-01\n",
      "  1.35742188e-01 -6.59179688e-02  8.36181641e-03 -1.84570312e-01\n",
      " -2.96875000e-01 -1.84570312e-01 -4.73632812e-02 -1.06445312e-01\n",
      " -6.93359375e-02  3.83300781e-02 -3.19824219e-02  3.63769531e-02\n",
      " -1.20117188e-01  1.76757812e-01 -1.15722656e-01  1.98974609e-02\n",
      "  8.64257812e-02  6.07910156e-02 -1.40625000e-01  3.30078125e-01\n",
      "  1.94335938e-01 -1.56250000e-01  3.92578125e-01  1.80816650e-03\n",
      "  7.27539062e-02 -2.53906250e-01 -3.54003906e-02  2.86865234e-03\n",
      " -1.72851562e-01  9.76562500e-03 -1.55639648e-02  3.23486328e-03\n",
      " -1.69921875e-01  1.55273438e-01  7.17773438e-02  4.10156250e-01\n",
      " -2.10937500e-01  1.31835938e-01  7.62939453e-03  4.78515625e-02\n",
      " -4.54101562e-02  7.32421875e-02 -4.06250000e-01 -2.06298828e-02\n",
      " -4.04296875e-01 -1.00585938e-01 -2.03125000e-01  1.55273438e-01\n",
      " -1.89453125e-01  6.59179688e-02  6.54296875e-02 -2.05078125e-01\n",
      "  5.46875000e-02 -3.06396484e-02 -1.54296875e-01 -2.61718750e-01\n",
      "  3.81469727e-03 -8.20312500e-02 -3.20312500e-01  2.84423828e-02\n",
      "  2.69531250e-01  1.73828125e-01 -1.66992188e-01  2.22656250e-01\n",
      "  6.34765625e-02 -1.96289062e-01  1.45507812e-01 -1.56250000e-02\n",
      "  2.60009766e-02 -6.29882812e-02  2.94189453e-02  3.28125000e-01\n",
      " -4.68750000e-02 -1.52343750e-01  6.98242188e-02  3.18359375e-01\n",
      " -1.08398438e-01  3.66210938e-02 -1.99218750e-01  1.64031982e-03\n",
      "  6.40869141e-03 -1.47460938e-01 -6.25000000e-02 -4.36401367e-03\n",
      " -2.75390625e-01  8.54492188e-02 -5.00488281e-02 -3.12500000e-01\n",
      " -1.33789062e-01 -1.99218750e-01  5.17578125e-02 -9.27734375e-02\n",
      " -2.40234375e-01 -7.86132812e-02 -1.54296875e-01 -6.64062500e-02\n",
      " -1.97265625e-01  1.76757812e-01 -1.57226562e-01 -1.63085938e-01\n",
      "  6.00585938e-02 -5.85937500e-02 -2.22656250e-01 -6.59179688e-02\n",
      " -9.37500000e-02 -4.14062500e-01  2.55859375e-01 -1.76757812e-01\n",
      "  2.51953125e-01  1.48437500e-01 -1.04492188e-01 -8.60595703e-03\n",
      " -1.22558594e-01 -9.22851562e-02  4.41894531e-02 -1.70898438e-01\n",
      " -1.98242188e-01  1.92382812e-01  2.85156250e-01 -4.34570312e-02\n",
      "  1.08398438e-01 -5.37109375e-02 -2.09960938e-02  1.46484375e-01\n",
      "  3.82812500e-01  2.31933594e-02 -8.83789062e-02  7.32421875e-02\n",
      " -1.01074219e-01 -1.06445312e-01  4.12109375e-01  2.10937500e-01\n",
      "  2.79296875e-01 -2.08740234e-02  2.07031250e-01  9.81445312e-02\n",
      "  2.39257812e-01  7.66601562e-02  2.02148438e-01 -6.07910156e-02\n",
      " -2.63977051e-03 -1.83593750e-01 -1.57470703e-02 -3.20312500e-01\n",
      "  9.03320312e-02  1.02050781e-01 -4.96093750e-01 -9.71679688e-02\n",
      " -8.10546875e-02 -1.80664062e-01 -1.45507812e-01  8.64257812e-02\n",
      " -2.04101562e-01 -2.02148438e-01 -5.46875000e-02  2.53906250e-01\n",
      "  2.08740234e-02 -1.15722656e-01  2.02148438e-01 -8.05664062e-02\n",
      " -1.04980469e-01 -7.95898438e-02  1.96533203e-02 -2.49023438e-01\n",
      "  1.30859375e-01  2.89062500e-01 -2.25585938e-01  4.55078125e-01\n",
      " -2.73437500e-01 -2.57812500e-01 -3.14941406e-02  4.04296875e-01\n",
      " -2.67578125e-01  2.89062500e-01 -1.83593750e-01 -1.48437500e-01\n",
      " -1.06933594e-01  1.27929688e-01  5.46875000e-01 -8.69140625e-02\n",
      " -1.48315430e-02  6.98242188e-02 -8.49609375e-02 -1.55273438e-01]\n"
     ]
    }
   ],
   "source": [
    "pizza = word_vectors['pizza']\n",
    "print(f'Vector dimension: {pizza.shape}')\n",
    "\n",
    "# The embedding for the word 'pizza'.\n",
    "print(pizza)"
   ]
  },
  {
   "cell_type": "code",
   "execution_count": 219,
   "metadata": {},
   "outputs": [
    {
     "name": "stdout",
     "output_type": "stream",
     "text": [
      "0.46457896\n",
      "0.43148065\n",
      "0.062532805\n"
     ]
    }
   ],
   "source": [
    "# Check similarity\n",
    "print(word_vectors.similarity('smoke', 'fire'))\n",
    "print(word_vectors.similarity('fire', 'flame'))\n",
    "print(word_vectors.similarity('flame', 'cheese'))"
   ]
  },
  {
   "cell_type": "code",
   "execution_count": 220,
   "metadata": {},
   "outputs": [
    {
     "data": {
      "text/plain": [
       "0.64365196"
      ]
     },
     "execution_count": 220,
     "metadata": {},
     "output_type": "execute_result"
    }
   ],
   "source": [
    "# Sentence similarity\n",
    "word_vectors.n_similarity(\"the cat sleeps all day\".split(), \"the feline is dreaming most of the time\".split())"
   ]
  },
  {
   "cell_type": "code",
   "execution_count": 221,
   "metadata": {},
   "outputs": [],
   "source": [
    "from sklearn.decomposition import PCA\n",
    "\n",
    "def display_pca_scatterplot(model, words):        \n",
    "    word_vectors = np.array([model[w] for w in words])\n",
    "\n",
    "    twodim = PCA().fit_transform(word_vectors)[:,:2]\n",
    "    \n",
    "    plt.figure()\n",
    "    plt.scatter(twodim[:,0], twodim[:,1], edgecolors='k', c='r', s=128)\n",
    "    for word, (x,y) in zip(words, twodim):\n",
    "        plt.text(x+0.05, y+0.05, word)"
   ]
  },
  {
   "cell_type": "code",
   "execution_count": 222,
   "metadata": {},
   "outputs": [
    {
     "data": {
      "image/png": "[encoded data removed]",
      "text/plain": [
       "<Figure size 640x480 with 1 Axes>"
      ]
     },
     "metadata": {},
     "output_type": "display_data"
    }
   ],
   "source": [
    "display_pca_scatterplot(word_vectors, ['swim', 'swimming', 'cat', 'dog', 'feline', 'road', 'car', 'bus'])\n"
   ]
  },
  {
   "cell_type": "code",
   "execution_count": 223,
   "metadata": {},
   "outputs": [
    {
     "data": {
      "image/png": "[encoded data removed]",
      "text/plain": [
       "<Figure size 640x480 with 1 Axes>"
      ]
     },
     "metadata": {},
     "output_type": "display_data"
    }
   ],
   "source": [
    "display_pca_scatterplot(word_vectors, ['Rome', 'Italy', 'London', 'Britain', 'UK'])\n"
   ]
  },
  {
   "cell_type": "code",
   "execution_count": 224,
   "metadata": {},
   "outputs": [],
   "source": [
    "# Train Test Validation Split\n",
    "train_ratio = 0.80\n",
    "validation_ratio = 0.10\n",
    "test_ratio = 0.10\n",
    "\n",
    "X_train, X_test, y_train, y_test = train_test_split(X, y, \n",
    "                                                    test_size=1 - train_ratio, \n",
    "                                                    random_state=42)\n",
    "\n",
    "X_val, X_test, y_val, y_test = train_test_split(X_test, y_test, \n",
    "                                                test_size=test_ratio/(test_ratio + validation_ratio), \n",
    "                                                random_state=42)"
   ]
  },
  {
   "cell_type": "code",
   "execution_count": 225,
   "metadata": {},
   "outputs": [],
   "source": [
    "tokenizer = keras.preprocessing.text.Tokenizer(num_words=20000,\n",
    "                                               filters='0123456789!\"#$%&()*+,-./:;<=>?@[\\]^_`{|}~',\n",
    "                                               lower=True)"
   ]
  },
  {
   "cell_type": "code",
   "execution_count": 226,
   "metadata": {},
   "outputs": [
    {
     "name": "stdout",
     "output_type": "stream",
     "text": [
      "CPU times: total: 984 ms\n",
      "Wall time: 1.21 s\n"
     ]
    }
   ],
   "source": [
    "%%time\n",
    "tokenizer.fit_on_texts(X_train)"
   ]
  },
  {
   "cell_type": "code",
   "execution_count": 227,
   "metadata": {},
   "outputs": [
    {
     "name": "stdout",
     "output_type": "stream",
     "text": [
      "CPU times: total: 719 ms\n",
      "Wall time: 727 ms\n"
     ]
    }
   ],
   "source": [
    "%%time\n",
    "import copy\n",
    "X_train_reviews = copy.deepcopy(X_train)\n",
    "X_train = tokenizer.texts_to_sequences(X_train_reviews)"
   ]
  },
  {
   "cell_type": "code",
   "execution_count": 228,
   "metadata": {},
   "outputs": [
    {
     "name": "stdout",
     "output_type": "stream",
     "text": [
      "[4, 6, 46, 13, 98]\n"
     ]
    }
   ],
   "source": [
    "# The first review in the training set, vectorized.\n",
    "print(X_train[0])"
   ]
  },
  {
   "cell_type": "code",
   "execution_count": 229,
   "metadata": {},
   "outputs": [
    {
     "data": {
      "text/plain": [
       "['it', 'is', 'great', 'for', 'podcasts']"
      ]
     },
     "execution_count": 229,
     "metadata": {},
     "output_type": "execute_result"
    }
   ],
   "source": [
    "[tokenizer.index_word[x] for x in X_train[0][:10]]"
   ]
  },
  {
   "cell_type": "code",
   "execution_count": 230,
   "metadata": {},
   "outputs": [
    {
     "data": {
      "text/plain": [
       "'It is great for podcasts'"
      ]
     },
     "execution_count": 230,
     "metadata": {},
     "output_type": "execute_result"
    }
   ],
   "source": [
    "# Original review text.\n",
    "X_train_reviews.iloc[0][:300]"
   ]
  },
  {
   "cell_type": "code",
   "execution_count": 231,
   "metadata": {},
   "outputs": [],
   "source": [
    "MAX_REVIEW_LEN = 200\n",
    "X_train = keras.preprocessing.sequence.pad_sequences(X_train, maxlen=MAX_REVIEW_LEN)"
   ]
  },
  {
   "cell_type": "code",
   "execution_count": 232,
   "metadata": {},
   "outputs": [],
   "source": [
    "# Prepare validation set\n",
    "X_val_reviews = copy.deepcopy(X_val)\n",
    "X_val = tokenizer.texts_to_sequences(X_val_reviews)\n",
    "X_val = keras.preprocessing.sequence.pad_sequences(X_val, maxlen=MAX_REVIEW_LEN)"
   ]
  },
  {
   "cell_type": "code",
   "execution_count": 233,
   "metadata": {},
   "outputs": [
    {
     "name": "stdout",
     "output_type": "stream",
     "text": [
      "41\n"
     ]
    }
   ],
   "source": [
    "print(tokenizer.word_index['good'])"
   ]
  },
  {
   "cell_type": "code",
   "execution_count": 234,
   "metadata": {},
   "outputs": [],
   "source": [
    "# create this embedding matrix by first initializing a matrix of zeros, then looping over every word in the tokenizer vocabulary and:\n",
    "\n",
    "# Checking if the word has a corresponding vector in gensim.\n",
    "# If it does, then copy the vector into the matrix row corresponding to the word's index.\n",
    "\n",
    "# + 1 to account for padding token.\n",
    "num_tokens = len(tokenizer.word_index) + 1\n",
    "\n",
    "# Initialize a matrix of zeroes of size: vocabulary x embedding dimension.\n",
    "embedding_dim = 300\n",
    "embedding_matrix = np.zeros((num_tokens, embedding_dim))\n",
    "\n",
    "for word, i in tokenizer.word_index.items():\n",
    "  if word_vectors.has_index_for(word):\n",
    "    embedding_matrix[i] = word_vectors[word].copy()"
   ]
  },
  {
   "cell_type": "code",
   "execution_count": 235,
   "metadata": {},
   "outputs": [
    {
     "name": "stdout",
     "output_type": "stream",
     "text": [
      "[ 0.04052734  0.0625     -0.01745605  0.07861328  0.03271484 -0.01263428\n",
      "  0.00964355  0.12353516 -0.02148438  0.15234375 -0.05834961 -0.10644531\n",
      "  0.02124023  0.13574219 -0.13183594  0.17675781  0.27148438  0.13769531\n",
      " -0.17382812 -0.14160156 -0.03076172  0.19628906 -0.03295898  0.125\n",
      "  0.25390625  0.12695312 -0.15234375  0.03198242  0.01135254 -0.01361084\n",
      " -0.12890625  0.01019287  0.23925781 -0.08447266  0.140625    0.13085938\n",
      " -0.04516602  0.06494141  0.02539062  0.05615234  0.24609375 -0.20507812\n",
      "  0.23632812 -0.00860596 -0.02294922  0.05078125  0.10644531 -0.03564453\n",
      "  0.08740234 -0.05712891]\n"
     ]
    }
   ],
   "source": [
    "# Quick visual check.\n",
    "print(embedding_matrix[tokenizer.word_index['good']][:50])"
   ]
  },
  {
   "cell_type": "code",
   "execution_count": 236,
   "metadata": {},
   "outputs": [],
   "source": [
    "## Build model\n",
    "\n",
    "embedding_layer = layers.Embedding(\n",
    "    num_tokens,\n",
    "    embedding_dim,\n",
    "    embeddings_initializer=keras.initializers.Constant(embedding_matrix),\n",
    "    input_length=MAX_REVIEW_LEN,\n",
    "    trainable=True\n",
    ")"
   ]
  },
  {
   "cell_type": "code",
   "execution_count": 237,
   "metadata": {},
   "outputs": [],
   "source": [
    "# The set_seed call and kernel_initializer parameters are used here to\n",
    "# ensure you and I get the same results. To get random weight initializations,\n",
    "# remove them.\n",
    "tf.random.set_seed(0)\n",
    "\n",
    "model3_emb = keras.Sequential()\n",
    "\n",
    "# This layer will output a sequence of 300-dimension *vectors*, one for each element in the input sequence.\n",
    "model3_emb.add(embedding_layer)\n",
    "\n",
    "# This layer will calculate an average of those vectors.\n",
    "model3_emb.add(layers.GlobalAveragePooling1D())\n",
    "\n",
    "model3_emb.add(layers.Reshape((-1, 300), input_shape=(None, 300)))\n",
    "\n",
    "model3_emb.add(layers.Bidirectional(layers.LSTM(128, return_sequences=True, \n",
    "                                           kernel_initializer=tf.keras.initializers.random_normal(seed=1))))\n",
    "\n",
    "model3_emb.add(layers.Bidirectional(layers.LSTM(128, return_sequences=False, \n",
    "                                           kernel_initializer=tf.keras.initializers.random_normal(seed=1))))\n",
    "\n",
    "model3_emb.add(layers.Dense(num_classes, activation='softmax', \n",
    "                       kernel_initializer=tf.keras.initializers.random_normal(seed=1)))\n",
    "\n",
    "model3_emb.compile(loss='categorical_crossentropy',\n",
    "              optimizer='adam',\n",
    "              metrics=['accuracy'])"
   ]
  },
  {
   "cell_type": "code",
   "execution_count": 238,
   "metadata": {},
   "outputs": [
    {
     "name": "stdout",
     "output_type": "stream",
     "text": [
      "Model: \"sequential_22\"\n",
      "_________________________________________________________________\n",
      " Layer (type)                Output Shape              Param #   \n",
      "=================================================================\n",
      " embedding_4 (Embedding)     (None, 200, 300)          8115000   \n",
      "                                                                 \n",
      " global_average_pooling1d_11  (None, 300)              0         \n",
      "  (GlobalAveragePooling1D)                                       \n",
      "                                                                 \n",
      " reshape_3 (Reshape)         (None, 1, 300)            0         \n",
      "                                                                 \n",
      " bidirectional_16 (Bidirecti  (None, 1, 256)           439296    \n",
      " onal)                                                           \n",
      "                                                                 \n",
      " bidirectional_17 (Bidirecti  (None, 256)              394240    \n",
      " onal)                                                           \n",
      "                                                                 \n",
      " dense_31 (Dense)            (None, 2)                 514       \n",
      "                                                                 \n",
      "=================================================================\n",
      "Total params: 8,949,050\n",
      "Trainable params: 8,949,050\n",
      "Non-trainable params: 0\n",
      "_________________________________________________________________\n"
     ]
    }
   ],
   "source": [
    "model3_emb.summary()"
   ]
  },
  {
   "cell_type": "code",
   "execution_count": 239,
   "metadata": {},
   "outputs": [
    {
     "name": "stdout",
     "output_type": "stream",
     "text": [
      "Epoch 1/20\n",
      "384/384 [==============================] - 12s 21ms/step - loss: 0.4056 - accuracy: 0.8166 - val_loss: 0.3465 - val_accuracy: 0.8541\n",
      "Epoch 2/20\n",
      "384/384 [==============================] - 7s 18ms/step - loss: 0.3003 - accuracy: 0.8812 - val_loss: 0.3338 - val_accuracy: 0.8615\n",
      "Epoch 3/20\n",
      "384/384 [==============================] - 7s 18ms/step - loss: 0.2778 - accuracy: 0.8914 - val_loss: 0.3558 - val_accuracy: 0.8587\n",
      "Epoch 4/20\n",
      "384/384 [==============================] - 7s 18ms/step - loss: 0.2598 - accuracy: 0.8965 - val_loss: 0.3781 - val_accuracy: 0.8463\n",
      "Epoch 5/20\n",
      "384/384 [==============================] - 7s 19ms/step - loss: 0.2465 - accuracy: 0.9010 - val_loss: 0.3483 - val_accuracy: 0.8618\n"
     ]
    }
   ],
   "source": [
    "es_callback = keras.callbacks.EarlyStopping(monitor='val_loss', patience=3)\n",
    "\n",
    "with tf.device('/GPU:0'):\n",
    "    history = model3_emb.fit(X_train, y_train, epochs=20,\n",
    "                    batch_size=128, validation_data=(X_val, y_val),\n",
    "                     callbacks=[es_callback])"
   ]
  },
  {
   "cell_type": "code",
   "execution_count": 240,
   "metadata": {},
   "outputs": [
    {
     "name": "stdout",
     "output_type": "stream",
     "text": [
      "192/192 [==============================] - 1s 5ms/step - loss: 0.3483 - accuracy: 0.8618\n"
     ]
    },
    {
     "data": {
      "text/plain": [
       "[0.34825262427330017, 0.8617767095565796]"
      ]
     },
     "execution_count": 240,
     "metadata": {},
     "output_type": "execute_result"
    }
   ],
   "source": [
    "model3_emb.evaluate(X_val, y_val)"
   ]
  },
  {
   "cell_type": "code",
   "execution_count": 241,
   "metadata": {},
   "outputs": [
    {
     "name": "stdout",
     "output_type": "stream",
     "text": [
      "192/192 [==============================] - 2s 4ms/step\n"
     ]
    }
   ],
   "source": [
    "y_pred_probs = model3_emb.predict(X_val, verbose=1)\n",
    "y_preds = (y_pred_probs >= .5).astype(int)"
   ]
  },
  {
   "cell_type": "code",
   "execution_count": 242,
   "metadata": {},
   "outputs": [
    {
     "data": {
      "text/plain": [
       "<sklearn.metrics._plot.confusion_matrix.ConfusionMatrixDisplay at 0x1dd10a3ffa0>"
      ]
     },
     "execution_count": 242,
     "metadata": {},
     "output_type": "execute_result"
    },
    {
     "data": {
      "image/png": "[encoded data removed]",
      "text/plain": [
       "<Figure size 640x480 with 2 Axes>"
      ]
     },
     "metadata": {},
     "output_type": "display_data"
    }
   ],
   "source": [
    "cm = confusion_matrix(y_val[:, 0].reshape(-1, 1), y_preds[:, 0].reshape(-1, 1))\n",
    "cmd = ConfusionMatrixDisplay(confusion_matrix=cm)\n",
    "fig, ax = plt.subplots()\n",
    "cmd.plot(ax=ax, xticks_rotation='vertical')"
   ]
  },
  {
   "attachments": {},
   "cell_type": "markdown",
   "metadata": {},
   "source": [
    "### Test best model on unseen test set\n"
   ]
  },
  {
   "cell_type": "code",
   "execution_count": 243,
   "metadata": {},
   "outputs": [],
   "source": [
    "best_model = model3"
   ]
  },
  {
   "cell_type": "code",
   "execution_count": 244,
   "metadata": {},
   "outputs": [
    {
     "name": "stdout",
     "output_type": "stream",
     "text": [
      "192/192 [==============================] - 4s 17ms/step - loss: 0.3229 - accuracy: 0.8634\n"
     ]
    },
    {
     "data": {
      "text/plain": [
       "[0.3228710889816284, 0.8634066581726074]"
      ]
     },
     "execution_count": 244,
     "metadata": {},
     "output_type": "execute_result"
    }
   ],
   "source": [
    "best_model.evaluate(X_test_padded, y_test)"
   ]
  },
  {
   "attachments": {},
   "cell_type": "markdown",
   "metadata": {},
   "source": [
    "**86.3%** on the unseen test set, pretty good, but mind our [logistic regression score of **87.4%**.](https://www.kaggle.com/code/dominikfreunberger/simpler-is-better-sentiment-classification)"
   ]
  }
 ],
 "metadata": {
  "kernelspec": {
   "display_name": "tf",
   "language": "python",
   "name": "python3"
  },
  "language_info": {
   "codemirror_mode": {
    "name": "ipython",
    "version": 3
   },
   "file_extension": ".py",
   "mimetype": "text/x-python",
   "name": "python",
   "nbconvert_exporter": "python",
   "pygments_lexer": "ipython3",
   "version": "3.10.9"
  },
  "orig_nbformat": 4
 },
 "nbformat": 4,
 "nbformat_minor": 2
}

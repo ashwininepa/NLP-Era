{
 "cells": [
  {
   "cell_type": "markdown",
   "metadata": {},
   "source": [
    "## LDA Topic Modeling\n",
    "\n",
    "Topic modelling is a technique to extract hidden topics from large volume of text. LDA represents topics as word probabilities and allows for uncovering hidden topics as it clusters words based ontheir co-occurrence in a respective document.\n",
    "\n",
    "### Assumptions for LDA\n",
    "1. Documents with similar topics use similar groups of words\n",
    "2. Latent topics can be found by searching for groups of words that frequently occur together in documents across corpus\n",
    "3. Documents are probability distributions over latent topics that signifies certain document will contain more words of specific topic\n",
    "4. Topics themselves are probability distribution over words\n",
    "\n",
    "### Goal: To find out what users speak about\n",
    "\n",
    "One can use any vectorizer and not just count vectorizer e.g. tfidf - experiment!\n",
    "\n",
    "### Steps that we will follow are below:\n",
    "1. Get the data\n",
    "2. Data cleaning\n",
    "3. Get the tokens\n",
    "4. "
   ]
  },
  {
   "cell_type": "code",
   "execution_count": 72,
   "metadata": {},
   "outputs": [],
   "source": [
    "# Setting to ignore warnings\n",
    "import warnings\n",
    "warnings.filterwarnings(\"ignore\")\n",
    "pd.set_option('display.max_colwidth', 150)"
   ]
  },
  {
   "cell_type": "code",
   "execution_count": 73,
   "metadata": {},
   "outputs": [],
   "source": [
    "# Import libraries\n",
    "import pandas as pd\n",
    "import matplotlib.pyplot as plt\n",
    "import seaborn as sns\n",
    "sns.set()\n",
    "import nltk\n",
    "import numpy as np\n",
    "from nltk.tokenize import RegexpTokenizer\n",
    "from sklearn.model_selection import train_test_split\n",
    "from sklearn.feature_extraction.text import CountVectorizer, TfidfTransformer\n",
    "from sklearn.decomposition import LatentDirichletAllocation\n",
    "\n",
    "# Text processing libraries\n",
    "import re\n",
    "from nltk.corpus import stopwords\n",
    "import emoji\n",
    "import contractions  # from https://github.com/kootenpv/contractions\n",
    "import string\n"
   ]
  },
  {
   "cell_type": "code",
   "execution_count": 74,
   "metadata": {},
   "outputs": [
    {
     "data": {
      "text/html": [
       "<div>\n",
       "<style scoped>\n",
       "    .dataframe tbody tr th:only-of-type {\n",
       "        vertical-align: middle;\n",
       "    }\n",
       "\n",
       "    .dataframe tbody tr th {\n",
       "        vertical-align: top;\n",
       "    }\n",
       "\n",
       "    .dataframe thead th {\n",
       "        text-align: right;\n",
       "    }\n",
       "</style>\n",
       "<table border=\"1\" class=\"dataframe\">\n",
       "  <thead>\n",
       "    <tr style=\"text-align: right;\">\n",
       "      <th></th>\n",
       "      <th>Review</th>\n",
       "      <th>Rating</th>\n",
       "    </tr>\n",
       "  </thead>\n",
       "  <tbody>\n",
       "    <tr>\n",
       "      <th>0</th>\n",
       "      <td>Great music service, the audio is high quality and the app is easy to use. Also very quick and friendly support.</td>\n",
       "      <td>5</td>\n",
       "    </tr>\n",
       "    <tr>\n",
       "      <th>1</th>\n",
       "      <td>Please ignore previous negative rating. This app is super great. I give it five stars+</td>\n",
       "      <td>5</td>\n",
       "    </tr>\n",
       "    <tr>\n",
       "      <th>2</th>\n",
       "      <td>This pop-up \"Get the best Spotify experience on Android 12\" is too annoying. Please let's get rid of this.</td>\n",
       "      <td>4</td>\n",
       "    </tr>\n",
       "    <tr>\n",
       "      <th>3</th>\n",
       "      <td>Really buggy and terrible to use as of recently</td>\n",
       "      <td>1</td>\n",
       "    </tr>\n",
       "    <tr>\n",
       "      <th>4</th>\n",
       "      <td>Dear Spotify why do I get songs that I didn't put on my playlist??? And why do we have shuffle play?</td>\n",
       "      <td>1</td>\n",
       "    </tr>\n",
       "    <tr>\n",
       "      <th>5</th>\n",
       "      <td>The player controls sometimes disappear for no reason. App restart forgets what I was playing but fixes the issue.</td>\n",
       "      <td>3</td>\n",
       "    </tr>\n",
       "    <tr>\n",
       "      <th>6</th>\n",
       "      <td>I love the selection and the lyrics are provided with the song you're listening to!</td>\n",
       "      <td>5</td>\n",
       "    </tr>\n",
       "    <tr>\n",
       "      <th>7</th>\n",
       "      <td>Still extremely slow when changing storage to external sd card.. I'm convinced this is done on purpose, spotify knows of this issue and has done N...</td>\n",
       "      <td>3</td>\n",
       "    </tr>\n",
       "    <tr>\n",
       "      <th>8</th>\n",
       "      <td>It's a great app and the best mp3 music app I have ever used but there is one problem that, why can't we play some songs or find some songs? despi...</td>\n",
       "      <td>5</td>\n",
       "    </tr>\n",
       "    <tr>\n",
       "      <th>9</th>\n",
       "      <td>I'm deleting this app, for the following reasons: This app now has a failing business model. Whether streaming services like it, or not: the consu...</td>\n",
       "      <td>1</td>\n",
       "    </tr>\n",
       "  </tbody>\n",
       "</table>\n",
       "</div>"
      ],
      "text/plain": [
       "                                                                                                                                                  Review  \\\n",
       "0                                       Great music service, the audio is high quality and the app is easy to use. Also very quick and friendly support.   \n",
       "1                                                                 Please ignore previous negative rating. This app is super great. I give it five stars+   \n",
       "2                                             This pop-up \"Get the best Spotify experience on Android 12\" is too annoying. Please let's get rid of this.   \n",
       "3                                                                                                        Really buggy and terrible to use as of recently   \n",
       "4                                                   Dear Spotify why do I get songs that I didn't put on my playlist??? And why do we have shuffle play?   \n",
       "5                                     The player controls sometimes disappear for no reason. App restart forgets what I was playing but fixes the issue.   \n",
       "6                                                                    I love the selection and the lyrics are provided with the song you're listening to!   \n",
       "7  Still extremely slow when changing storage to external sd card.. I'm convinced this is done on purpose, spotify knows of this issue and has done N...   \n",
       "8  It's a great app and the best mp3 music app I have ever used but there is one problem that, why can't we play some songs or find some songs? despi...   \n",
       "9  I'm deleting this app, for the following reasons: This app now has a failing business model. Whether streaming services like it, or not: the consu...   \n",
       "\n",
       "   Rating  \n",
       "0       5  \n",
       "1       5  \n",
       "2       4  \n",
       "3       1  \n",
       "4       1  \n",
       "5       3  \n",
       "6       5  \n",
       "7       3  \n",
       "8       5  \n",
       "9       1  "
      ]
     },
     "execution_count": 74,
     "metadata": {},
     "output_type": "execute_result"
    }
   ],
   "source": [
    "# Read data and clean a bit\n",
    "spotify = pd.read_csv(\"../data/raw/spotify_review_kaggle.csv\")\n",
    "data_in = spotify.copy()\n",
    "data_in = data_in.drop_duplicates(subset=\"Review\")  # Drop dupes in Reviews\n",
    "data_in.drop([\"Time_submitted\", \"Total_thumbsup\",\n",
    "             \"Reply\"], axis=1, inplace=True)\n",
    "data_in[\"Length\"] = data_in[\"Review\"].str.split(\" \").str.len()\n",
    "data_in = data_in[data_in.Length < 150]\n",
    "data_in.drop([\"Length\"], axis=1, inplace=True)\n",
    "data = data_in\n",
    "data.head(10)"
   ]
  },
  {
   "cell_type": "markdown",
   "metadata": {},
   "source": [
    "### Clean data"
   ]
  },
  {
   "cell_type": "code",
   "execution_count": 75,
   "metadata": {},
   "outputs": [],
   "source": [
    "## Define a function to do some text cleaning\n",
    "def clean_text(text):\n",
    "    text = emoji.demojize(text)  # fix emojis\n",
    "    text = contractions.fix(text)  # fix contractions\n",
    "    text = re.sub(r'[^\\x00-\\x7f]', r'', text)  # remove strange fonts\n",
    "    text = re.sub(r\"\\d+\", \"number\", text)  # replace numbers with \"number\"\n",
    "    text = re.sub(r'[^\\w\\s]', '', text)  # remove non-alphanumeric chars\n",
    "    text = re.sub(r'\\b\\w{1}\\b', '', text) # remove words less than 1 character\n",
    "    text = text.replace('_', ' ')  # replace underscores with space\n",
    "    text = text.strip()  # strip extra spaces\n",
    "    return text.lower()"
   ]
  },
  {
   "cell_type": "code",
   "execution_count": 76,
   "metadata": {},
   "outputs": [
    {
     "data": {
      "text/plain": [
       "'red heart spotify even though it is critizised for exploiting artists'"
      ]
     },
     "execution_count": 76,
     "metadata": {},
     "output_type": "execute_result"
    }
   ],
   "source": [
    "## Test our text cleaner\n",
    "clean_text(\"I ❤️ Spotify, even though it is critizised for exploiting artists\")"
   ]
  },
  {
   "cell_type": "code",
   "execution_count": 77,
   "metadata": {},
   "outputs": [],
   "source": [
    "## Apply to all data\n",
    "data[\"Review\"] = data[\"Review\"].apply(clean_text)"
   ]
  },
  {
   "cell_type": "code",
   "execution_count": 78,
   "metadata": {},
   "outputs": [],
   "source": [
    "## Tokenize/remove punctuations\n",
    "tokenizer = RegexpTokenizer(r'\\w+')"
   ]
  },
  {
   "cell_type": "code",
   "execution_count": 79,
   "metadata": {},
   "outputs": [],
   "source": [
    "data[\"Tokens\"] = data[\"Review\"].apply(tokenizer.tokenize)"
   ]
  },
  {
   "cell_type": "code",
   "execution_count": 80,
   "metadata": {},
   "outputs": [
    {
     "data": {
      "text/html": [
       "<div>\n",
       "<style scoped>\n",
       "    .dataframe tbody tr th:only-of-type {\n",
       "        vertical-align: middle;\n",
       "    }\n",
       "\n",
       "    .dataframe tbody tr th {\n",
       "        vertical-align: top;\n",
       "    }\n",
       "\n",
       "    .dataframe thead th {\n",
       "        text-align: right;\n",
       "    }\n",
       "</style>\n",
       "<table border=\"1\" class=\"dataframe\">\n",
       "  <thead>\n",
       "    <tr style=\"text-align: right;\">\n",
       "      <th></th>\n",
       "      <th>Review</th>\n",
       "      <th>Rating</th>\n",
       "      <th>Tokens</th>\n",
       "    </tr>\n",
       "  </thead>\n",
       "  <tbody>\n",
       "    <tr>\n",
       "      <th>43185</th>\n",
       "      <td>want to download whole albums but on my samsung galaxy snumber lite  cannot also it keeps shuffling songs even though  do not have shuffle on also...</td>\n",
       "      <td>3</td>\n",
       "      <td>[want, to, download, whole, albums, but, on, my, samsung, galaxy, snumber, lite, cannot, also, it, keeps, shuffling, songs, even, though, do, not,...</td>\n",
       "    </tr>\n",
       "    <tr>\n",
       "      <th>58047</th>\n",
       "      <td>the very thing to help me disconnect from real world and focus on my work by listening to music  guess it really help me go through the day every ...</td>\n",
       "      <td>5</td>\n",
       "      <td>[the, very, thing, to, help, me, disconnect, from, real, world, and, focus, on, my, work, by, listening, to, music, guess, it, really, help, me, g...</td>\n",
       "    </tr>\n",
       "    <tr>\n",
       "      <th>23125</th>\n",
       "      <td>it is  good song app it has playlist you can make some playlists of your own if you are in to new songs they recommend songs every day and you get...</td>\n",
       "      <td>4</td>\n",
       "      <td>[it, is, good, song, app, it, has, playlist, you, can, make, some, playlists, of, your, own, if, you, are, in, to, new, songs, they, recommend, so...</td>\n",
       "    </tr>\n",
       "    <tr>\n",
       "      <th>7317</th>\n",
       "      <td>most of the music of the world you can find student deals on premium are  blessing</td>\n",
       "      <td>5</td>\n",
       "      <td>[most, of, the, music, of, the, world, you, can, find, student, deals, on, premium, are, blessing]</td>\n",
       "    </tr>\n",
       "    <tr>\n",
       "      <th>52781</th>\n",
       "      <td>they just need to do that make songs playable but some are not playable</td>\n",
       "      <td>4</td>\n",
       "      <td>[they, just, need, to, do, that, make, songs, playable, but, some, are, not, playable]</td>\n",
       "    </tr>\n",
       "    <tr>\n",
       "      <th>16821</th>\n",
       "      <td>amazing app in time pass  can hear music also and also it support ncs yay boi and this app is noice</td>\n",
       "      <td>1</td>\n",
       "      <td>[amazing, app, in, time, pass, can, hear, music, also, and, also, it, support, ncs, yay, boi, and, this, app, is, noice]</td>\n",
       "    </tr>\n",
       "    <tr>\n",
       "      <th>6049</th>\n",
       "      <td>good application for lovers of music</td>\n",
       "      <td>5</td>\n",
       "      <td>[good, application, for, lovers, of, music]</td>\n",
       "    </tr>\n",
       "    <tr>\n",
       "      <th>5605</th>\n",
       "      <td>smart music app excellent</td>\n",
       "      <td>5</td>\n",
       "      <td>[smart, music, app, excellent]</td>\n",
       "    </tr>\n",
       "    <tr>\n",
       "      <th>317</th>\n",
       "      <td>the main problem for me it is the absence of belarusian language it would be great to use the app in my lang</td>\n",
       "      <td>4</td>\n",
       "      <td>[the, main, problem, for, me, it, is, the, absence, of, belarusian, language, it, would, be, great, to, use, the, app, in, my, lang]</td>\n",
       "    </tr>\n",
       "    <tr>\n",
       "      <th>16862</th>\n",
       "      <td>so amazing and  love the way it functions it is so awesome thanks for this amazing apphufflpuff</td>\n",
       "      <td>5</td>\n",
       "      <td>[so, amazing, and, love, the, way, it, functions, it, is, so, awesome, thanks, for, this, amazing, apphufflpuff]</td>\n",
       "    </tr>\n",
       "  </tbody>\n",
       "</table>\n",
       "</div>"
      ],
      "text/plain": [
       "                                                                                                                                                      Review  \\\n",
       "43185  want to download whole albums but on my samsung galaxy snumber lite  cannot also it keeps shuffling songs even though  do not have shuffle on also...   \n",
       "58047  the very thing to help me disconnect from real world and focus on my work by listening to music  guess it really help me go through the day every ...   \n",
       "23125  it is  good song app it has playlist you can make some playlists of your own if you are in to new songs they recommend songs every day and you get...   \n",
       "7317                                                                      most of the music of the world you can find student deals on premium are  blessing   \n",
       "52781                                                                                they just need to do that make songs playable but some are not playable   \n",
       "16821                                                    amazing app in time pass  can hear music also and also it support ncs yay boi and this app is noice   \n",
       "6049                                                                                                                    good application for lovers of music   \n",
       "5605                                                                                                                               smart music app excellent   \n",
       "317                                             the main problem for me it is the absence of belarusian language it would be great to use the app in my lang   \n",
       "16862                                                        so amazing and  love the way it functions it is so awesome thanks for this amazing apphufflpuff   \n",
       "\n",
       "       Rating  \\\n",
       "43185       3   \n",
       "58047       5   \n",
       "23125       4   \n",
       "7317        5   \n",
       "52781       4   \n",
       "16821       1   \n",
       "6049        5   \n",
       "5605        5   \n",
       "317         4   \n",
       "16862       5   \n",
       "\n",
       "                                                                                                                                                      Tokens  \n",
       "43185  [want, to, download, whole, albums, but, on, my, samsung, galaxy, snumber, lite, cannot, also, it, keeps, shuffling, songs, even, though, do, not,...  \n",
       "58047  [the, very, thing, to, help, me, disconnect, from, real, world, and, focus, on, my, work, by, listening, to, music, guess, it, really, help, me, g...  \n",
       "23125  [it, is, good, song, app, it, has, playlist, you, can, make, some, playlists, of, your, own, if, you, are, in, to, new, songs, they, recommend, so...  \n",
       "7317                                                      [most, of, the, music, of, the, world, you, can, find, student, deals, on, premium, are, blessing]  \n",
       "52781                                                                 [they, just, need, to, do, that, make, songs, playable, but, some, are, not, playable]  \n",
       "16821                               [amazing, app, in, time, pass, can, hear, music, also, and, also, it, support, ncs, yay, boi, and, this, app, is, noice]  \n",
       "6049                                                                                                             [good, application, for, lovers, of, music]  \n",
       "5605                                                                                                                          [smart, music, app, excellent]  \n",
       "317                     [the, main, problem, for, me, it, is, the, absence, of, belarusian, language, it, would, be, great, to, use, the, app, in, my, lang]  \n",
       "16862                                       [so, amazing, and, love, the, way, it, functions, it, is, so, awesome, thanks, for, this, amazing, apphufflpuff]  "
      ]
     },
     "execution_count": 80,
     "metadata": {},
     "output_type": "execute_result"
    }
   ],
   "source": [
    "data.sample(10)"
   ]
  },
  {
   "cell_type": "code",
   "execution_count": 81,
   "metadata": {},
   "outputs": [
    {
     "data": {
      "text/html": [
       "<div>\n",
       "<style scoped>\n",
       "    .dataframe tbody tr th:only-of-type {\n",
       "        vertical-align: middle;\n",
       "    }\n",
       "\n",
       "    .dataframe tbody tr th {\n",
       "        vertical-align: top;\n",
       "    }\n",
       "\n",
       "    .dataframe thead th {\n",
       "        text-align: right;\n",
       "    }\n",
       "</style>\n",
       "<table border=\"1\" class=\"dataframe\">\n",
       "  <thead>\n",
       "    <tr style=\"text-align: right;\">\n",
       "      <th></th>\n",
       "      <th>Review</th>\n",
       "      <th>Rating</th>\n",
       "      <th>Tokens</th>\n",
       "    </tr>\n",
       "  </thead>\n",
       "  <tbody>\n",
       "    <tr>\n",
       "      <th>19626</th>\n",
       "      <td>it keeps pausing while to listening to music it angers me because it pauses in the middle of  song after every freaking second  do not recommend t...</td>\n",
       "      <td>1</td>\n",
       "      <td>[keeps, pausing, listening, music, angers, pauses, middle, song, every, freaking, second, recommend, stupid]</td>\n",
       "    </tr>\n",
       "    <tr>\n",
       "      <th>16947</th>\n",
       "      <td>am literally trying to play  song but it chooses it is own song chappy app sucks balls</td>\n",
       "      <td>1</td>\n",
       "      <td>[literally, trying, play, song, chooses, song, chappy, sucks, balls]</td>\n",
       "    </tr>\n",
       "    <tr>\n",
       "      <th>21815</th>\n",
       "      <td>love this app for the sake of  use it heavily since  can connect it to my console and use it on my phone as well it has  wide range of music and  ...</td>\n",
       "      <td>5</td>\n",
       "      <td>[sake, use, heavily, since, connect, console, use, phone, well, wide, range, music, bunch, songs, countless, problem, lies, within, able, see, son...</td>\n",
       "    </tr>\n",
       "    <tr>\n",
       "      <th>26268</th>\n",
       "      <td>the app works well for years until last monththe music plays for number mins and then stop and sometime only number seconds and then stopi have cl...</td>\n",
       "      <td>2</td>\n",
       "      <td>[works, well, years, last, monththe, music, plays, number, mins, stop, sometime, number, seconds, stopi, closed, open, change, tracks, continue, w...</td>\n",
       "    </tr>\n",
       "    <tr>\n",
       "      <th>27506</th>\n",
       "      <td>would be number stars except for the new update that makes it always want to connect to bluetooth which may have resulted in the fact it no longer...</td>\n",
       "      <td>4</td>\n",
       "      <td>[would, number, stars, except, new, update, makes, always, want, connect, bluetooth, may, resulted, fact, longer, works, perfectly, eg, randomly, ...</td>\n",
       "    </tr>\n",
       "  </tbody>\n",
       "</table>\n",
       "</div>"
      ],
      "text/plain": [
       "                                                                                                                                                      Review  \\\n",
       "19626  it keeps pausing while to listening to music it angers me because it pauses in the middle of  song after every freaking second  do not recommend t...   \n",
       "16947                                                                 am literally trying to play  song but it chooses it is own song chappy app sucks balls   \n",
       "21815  love this app for the sake of  use it heavily since  can connect it to my console and use it on my phone as well it has  wide range of music and  ...   \n",
       "26268  the app works well for years until last monththe music plays for number mins and then stop and sometime only number seconds and then stopi have cl...   \n",
       "27506  would be number stars except for the new update that makes it always want to connect to bluetooth which may have resulted in the fact it no longer...   \n",
       "\n",
       "       Rating  \\\n",
       "19626       1   \n",
       "16947       1   \n",
       "21815       5   \n",
       "26268       2   \n",
       "27506       4   \n",
       "\n",
       "                                                                                                                                                      Tokens  \n",
       "19626                                           [keeps, pausing, listening, music, angers, pauses, middle, song, every, freaking, second, recommend, stupid]  \n",
       "16947                                                                                   [literally, trying, play, song, chooses, song, chappy, sucks, balls]  \n",
       "21815  [sake, use, heavily, since, connect, console, use, phone, well, wide, range, music, bunch, songs, countless, problem, lies, within, able, see, son...  \n",
       "26268  [works, well, years, last, monththe, music, plays, number, mins, stop, sometime, number, seconds, stopi, closed, open, change, tracks, continue, w...  \n",
       "27506  [would, number, stars, except, new, update, makes, always, want, connect, bluetooth, may, resulted, fact, longer, works, perfectly, eg, randomly, ...  "
      ]
     },
     "execution_count": 81,
     "metadata": {},
     "output_type": "execute_result"
    }
   ],
   "source": [
    "# Get NLTK English stopwords\n",
    "our_stopwords = set(stopwords.words('english'))\n",
    "additional_stopwords = [\"spotify\", \"app\", \"apps\", \"cannot\", \"like\", \"love\", \"much\", \"many\"]\n",
    "for word in additional_stopwords:\n",
    "    our_stopwords.add(word)\n",
    "#our_stopwords.remove(\"not\")\n",
    "# Remove stopwords\n",
    "# We loop through each list of words and remove stopwords\n",
    "data['Tokens'] = data['Tokens'].apply(lambda x: [word for word in x if word not in (our_stopwords)])\n",
    "data.sample(5)"
   ]
  },
  {
   "cell_type": "code",
   "execution_count": 82,
   "metadata": {},
   "outputs": [
    {
     "name": "stdout",
     "output_type": "stream",
     "text": [
      "(46009,) (15337,)\n"
     ]
    }
   ],
   "source": [
    "## Split data in train and test\n",
    "X_train, X_test = train_test_split(data['Tokens'], test_size=0.25, random_state=42)\n",
    "print(X_train.shape, X_test.shape)"
   ]
  },
  {
   "cell_type": "code",
   "execution_count": 83,
   "metadata": {},
   "outputs": [],
   "source": [
    "## Count Vectorizer\n",
    "def dummy(doc):\n",
    "    return doc\n",
    "\n",
    "count_vectorizer = CountVectorizer(tokenizer=dummy, preprocessor=dummy, max_features = 10000, ngram_range = (1,3))\n",
    "\n",
    "X_train_counts = count_vectorizer.fit_transform(X_train)"
   ]
  },
  {
   "cell_type": "code",
   "execution_count": 84,
   "metadata": {},
   "outputs": [],
   "source": [
    "## make TFIDF matrix\n",
    "tfidf_vectorizer = TfidfTransformer()\n",
    "\n",
    "X_train_tfidf = tfidf_vectorizer.fit_transform(X_train_counts)"
   ]
  },
  {
   "cell_type": "code",
   "execution_count": 85,
   "metadata": {},
   "outputs": [
    {
     "data": {
      "text/plain": [
       "10000"
      ]
     },
     "execution_count": 85,
     "metadata": {},
     "output_type": "execute_result"
    }
   ],
   "source": [
    "## Get number of features from vectorizer and it shall match number of features that we provide to it\n",
    "len(count_vectorizer.get_feature_names())"
   ]
  },
  {
   "cell_type": "code",
   "execution_count": 86,
   "metadata": {},
   "outputs": [
    {
     "data": {
      "text/html": [
       "<style>#sk-container-id-4 {color: black;background-color: white;}#sk-container-id-4 pre{padding: 0;}#sk-container-id-4 div.sk-toggleable {background-color: white;}#sk-container-id-4 label.sk-toggleable__label {cursor: pointer;display: block;width: 100%;margin-bottom: 0;padding: 0.3em;box-sizing: border-box;text-align: center;}#sk-container-id-4 label.sk-toggleable__label-arrow:before {content: \"▸\";float: left;margin-right: 0.25em;color: #696969;}#sk-container-id-4 label.sk-toggleable__label-arrow:hover:before {color: black;}#sk-container-id-4 div.sk-estimator:hover label.sk-toggleable__label-arrow:before {color: black;}#sk-container-id-4 div.sk-toggleable__content {max-height: 0;max-width: 0;overflow: hidden;text-align: left;background-color: #f0f8ff;}#sk-container-id-4 div.sk-toggleable__content pre {margin: 0.2em;color: black;border-radius: 0.25em;background-color: #f0f8ff;}#sk-container-id-4 input.sk-toggleable__control:checked~div.sk-toggleable__content {max-height: 200px;max-width: 100%;overflow: auto;}#sk-container-id-4 input.sk-toggleable__control:checked~label.sk-toggleable__label-arrow:before {content: \"▾\";}#sk-container-id-4 div.sk-estimator input.sk-toggleable__control:checked~label.sk-toggleable__label {background-color: #d4ebff;}#sk-container-id-4 div.sk-label input.sk-toggleable__control:checked~label.sk-toggleable__label {background-color: #d4ebff;}#sk-container-id-4 input.sk-hidden--visually {border: 0;clip: rect(1px 1px 1px 1px);clip: rect(1px, 1px, 1px, 1px);height: 1px;margin: -1px;overflow: hidden;padding: 0;position: absolute;width: 1px;}#sk-container-id-4 div.sk-estimator {font-family: monospace;background-color: #f0f8ff;border: 1px dotted black;border-radius: 0.25em;box-sizing: border-box;margin-bottom: 0.5em;}#sk-container-id-4 div.sk-estimator:hover {background-color: #d4ebff;}#sk-container-id-4 div.sk-parallel-item::after {content: \"\";width: 100%;border-bottom: 1px solid gray;flex-grow: 1;}#sk-container-id-4 div.sk-label:hover label.sk-toggleable__label {background-color: #d4ebff;}#sk-container-id-4 div.sk-serial::before {content: \"\";position: absolute;border-left: 1px solid gray;box-sizing: border-box;top: 0;bottom: 0;left: 50%;z-index: 0;}#sk-container-id-4 div.sk-serial {display: flex;flex-direction: column;align-items: center;background-color: white;padding-right: 0.2em;padding-left: 0.2em;position: relative;}#sk-container-id-4 div.sk-item {position: relative;z-index: 1;}#sk-container-id-4 div.sk-parallel {display: flex;align-items: stretch;justify-content: center;background-color: white;position: relative;}#sk-container-id-4 div.sk-item::before, #sk-container-id-4 div.sk-parallel-item::before {content: \"\";position: absolute;border-left: 1px solid gray;box-sizing: border-box;top: 0;bottom: 0;left: 50%;z-index: -1;}#sk-container-id-4 div.sk-parallel-item {display: flex;flex-direction: column;z-index: 1;position: relative;background-color: white;}#sk-container-id-4 div.sk-parallel-item:first-child::after {align-self: flex-end;width: 50%;}#sk-container-id-4 div.sk-parallel-item:last-child::after {align-self: flex-start;width: 50%;}#sk-container-id-4 div.sk-parallel-item:only-child::after {width: 0;}#sk-container-id-4 div.sk-dashed-wrapped {border: 1px dashed gray;margin: 0 0.4em 0.5em 0.4em;box-sizing: border-box;padding-bottom: 0.4em;background-color: white;}#sk-container-id-4 div.sk-label label {font-family: monospace;font-weight: bold;display: inline-block;line-height: 1.2em;}#sk-container-id-4 div.sk-label-container {text-align: center;}#sk-container-id-4 div.sk-container {/* jupyter's `normalize.less` sets `[hidden] { display: none; }` but bootstrap.min.css set `[hidden] { display: none !important; }` so we also need the `!important` here to be able to override the default hidden behavior on the sphinx rendered scikit-learn.org. See: https://github.com/scikit-learn/scikit-learn/issues/21755 */display: inline-block !important;position: relative;}#sk-container-id-4 div.sk-text-repr-fallback {display: none;}</style><div id=\"sk-container-id-4\" class=\"sk-top-container\"><div class=\"sk-text-repr-fallback\"><pre>LatentDirichletAllocation(n_components=4, random_state=42)</pre><b>In a Jupyter environment, please rerun this cell to show the HTML representation or trust the notebook. <br />On GitHub, the HTML representation is unable to render, please try loading this page with nbviewer.org.</b></div><div class=\"sk-container\" hidden><div class=\"sk-item\"><div class=\"sk-estimator sk-toggleable\"><input class=\"sk-toggleable__control sk-hidden--visually\" id=\"sk-estimator-id-4\" type=\"checkbox\" checked><label for=\"sk-estimator-id-4\" class=\"sk-toggleable__label sk-toggleable__label-arrow\">LatentDirichletAllocation</label><div class=\"sk-toggleable__content\"><pre>LatentDirichletAllocation(n_components=4, random_state=42)</pre></div></div></div></div></div>"
      ],
      "text/plain": [
       "LatentDirichletAllocation(n_components=4, random_state=42)"
      ]
     },
     "execution_count": 86,
     "metadata": {},
     "output_type": "execute_result"
    }
   ],
   "source": [
    "## Fit model\n",
    "LDA = LatentDirichletAllocation(n_components=4,random_state=42)\n",
    "LDA.fit(X_train_tfidf)"
   ]
  },
  {
   "cell_type": "code",
   "execution_count": 87,
   "metadata": {},
   "outputs": [
    {
     "name": "stdout",
     "output_type": "stream",
     "text": [
      "Number of components:  4\n"
     ]
    }
   ],
   "source": [
    "## Number of components (=topics)\n",
    "n_components = len(LDA.components_)\n",
    "print(\"Number of components: \", n_components)"
   ]
  },
  {
   "cell_type": "code",
   "execution_count": 88,
   "metadata": {},
   "outputs": [
    {
     "name": "stdout",
     "output_type": "stream",
     "text": [
      "THE TOP 15 WORDS FOR TOPIC #0\n",
      "['songs', 'song', 'playlist', 'want', 'listen', 'play', 'shuffle', 'number', 'add', 'music', 'even', 'good', 'plays', 'one', 'playlists']\n",
      "\n",
      "\n",
      "THE TOP 15 WORDS FOR TOPIC #1\n",
      "['music', 'ads', 'best', 'good', 'great', 'number', 'best music', 'premium', 'quality', 'songs', 'ever', 'better', 'streaming', 'really', 'every']\n",
      "\n",
      "\n",
      "THE TOP 15 WORDS FOR TOPIC #2\n",
      "['playing', 'update', 'fix', 'number', 'play', 'phone', 'time', 'stop', 'keeps', 'music', 'please', 'even', 'working', 'work', 'song']\n",
      "\n",
      "\n",
      "THE TOP 15 WORDS FOR TOPIC #3\n",
      "['music', 'easy', 'face', 'use', 'great', 'listening', 'easy use', 'good', 'account', 'smiling', 'listen', 'favorite', 'find', 'podcasts', 'songs']\n",
      "\n",
      "\n"
     ]
    }
   ],
   "source": [
    "#\n",
    "for index,topic in enumerate(LDA.components_):\n",
    "    print(f'THE TOP 15 WORDS FOR TOPIC #{index}')\n",
    "    print([count_vectorizer.get_feature_names()[index] for index in (-topic).argsort()[:15]])\n",
    "    print('\\n')"
   ]
  },
  {
   "cell_type": "code",
   "execution_count": 89,
   "metadata": {},
   "outputs": [],
   "source": [
    "## Let's give a descriptive name to the topics\n",
    "lda_topics = ['fix_update_phone', 'spotify_is_awesome', 'please_fix_something', 'ads_and_premium']"
   ]
  },
  {
   "cell_type": "code",
   "execution_count": 90,
   "metadata": {},
   "outputs": [],
   "source": [
    "def get_model_topics(model, vectorizer, topics, n_top_words=10):    \n",
    "    word_dict = {}    \n",
    "    feature_names = vectorizer.get_feature_names()    \n",
    "    for topic_idx, topic in enumerate(model.components_):        \n",
    "        top_features_ind = topic.argsort()[:-n_top_words - 1:-1]        \n",
    "        top_features = [feature_names[i] for i in top_features_ind]        \n",
    "        word_dict[topics[topic_idx]] = top_features\n",
    "    return pd.DataFrame(word_dict)"
   ]
  },
  {
   "cell_type": "code",
   "execution_count": 91,
   "metadata": {},
   "outputs": [
    {
     "data": {
      "text/html": [
       "<div>\n",
       "<style scoped>\n",
       "    .dataframe tbody tr th:only-of-type {\n",
       "        vertical-align: middle;\n",
       "    }\n",
       "\n",
       "    .dataframe tbody tr th {\n",
       "        vertical-align: top;\n",
       "    }\n",
       "\n",
       "    .dataframe thead th {\n",
       "        text-align: right;\n",
       "    }\n",
       "</style>\n",
       "<table border=\"1\" class=\"dataframe\">\n",
       "  <thead>\n",
       "    <tr style=\"text-align: right;\">\n",
       "      <th></th>\n",
       "      <th>fix_update_phone</th>\n",
       "      <th>spotify_is_awesome</th>\n",
       "      <th>please_fix_something</th>\n",
       "      <th>ads_and_premium</th>\n",
       "    </tr>\n",
       "  </thead>\n",
       "  <tbody>\n",
       "    <tr>\n",
       "      <th>0</th>\n",
       "      <td>songs</td>\n",
       "      <td>music</td>\n",
       "      <td>playing</td>\n",
       "      <td>music</td>\n",
       "    </tr>\n",
       "    <tr>\n",
       "      <th>1</th>\n",
       "      <td>song</td>\n",
       "      <td>ads</td>\n",
       "      <td>update</td>\n",
       "      <td>easy</td>\n",
       "    </tr>\n",
       "    <tr>\n",
       "      <th>2</th>\n",
       "      <td>playlist</td>\n",
       "      <td>best</td>\n",
       "      <td>fix</td>\n",
       "      <td>face</td>\n",
       "    </tr>\n",
       "    <tr>\n",
       "      <th>3</th>\n",
       "      <td>want</td>\n",
       "      <td>good</td>\n",
       "      <td>number</td>\n",
       "      <td>use</td>\n",
       "    </tr>\n",
       "    <tr>\n",
       "      <th>4</th>\n",
       "      <td>listen</td>\n",
       "      <td>great</td>\n",
       "      <td>play</td>\n",
       "      <td>great</td>\n",
       "    </tr>\n",
       "    <tr>\n",
       "      <th>5</th>\n",
       "      <td>play</td>\n",
       "      <td>number</td>\n",
       "      <td>phone</td>\n",
       "      <td>listening</td>\n",
       "    </tr>\n",
       "    <tr>\n",
       "      <th>6</th>\n",
       "      <td>shuffle</td>\n",
       "      <td>best music</td>\n",
       "      <td>time</td>\n",
       "      <td>easy use</td>\n",
       "    </tr>\n",
       "    <tr>\n",
       "      <th>7</th>\n",
       "      <td>number</td>\n",
       "      <td>premium</td>\n",
       "      <td>stop</td>\n",
       "      <td>good</td>\n",
       "    </tr>\n",
       "    <tr>\n",
       "      <th>8</th>\n",
       "      <td>add</td>\n",
       "      <td>quality</td>\n",
       "      <td>keeps</td>\n",
       "      <td>account</td>\n",
       "    </tr>\n",
       "    <tr>\n",
       "      <th>9</th>\n",
       "      <td>music</td>\n",
       "      <td>songs</td>\n",
       "      <td>music</td>\n",
       "      <td>smiling</td>\n",
       "    </tr>\n",
       "  </tbody>\n",
       "</table>\n",
       "</div>"
      ],
      "text/plain": [
       "  fix_update_phone spotify_is_awesome please_fix_something ads_and_premium\n",
       "0            songs              music              playing           music\n",
       "1             song                ads               update            easy\n",
       "2         playlist               best                  fix            face\n",
       "3             want               good               number             use\n",
       "4           listen              great                 play           great\n",
       "5             play             number                phone       listening\n",
       "6          shuffle         best music                 time        easy use\n",
       "7           number            premium                 stop            good\n",
       "8              add            quality                keeps         account\n",
       "9            music              songs                music         smiling"
      ]
     },
     "execution_count": 91,
     "metadata": {},
     "output_type": "execute_result"
    }
   ],
   "source": [
    "get_model_topics(LDA, count_vectorizer, lda_topics)"
   ]
  },
  {
   "cell_type": "code",
   "execution_count": 92,
   "metadata": {},
   "outputs": [],
   "source": [
    "topic_results = LDA.transform(X_train_tfidf)"
   ]
  },
  {
   "cell_type": "code",
   "execution_count": 93,
   "metadata": {},
   "outputs": [],
   "source": [
    "# Split original data\n",
    "data_train, _ = train_test_split(data, test_size=0.25, random_state=42)"
   ]
  },
  {
   "cell_type": "code",
   "execution_count": 94,
   "metadata": {},
   "outputs": [
    {
     "data": {
      "text/html": [
       "<div>\n",
       "<style scoped>\n",
       "    .dataframe tbody tr th:only-of-type {\n",
       "        vertical-align: middle;\n",
       "    }\n",
       "\n",
       "    .dataframe tbody tr th {\n",
       "        vertical-align: top;\n",
       "    }\n",
       "\n",
       "    .dataframe thead th {\n",
       "        text-align: right;\n",
       "    }\n",
       "</style>\n",
       "<table border=\"1\" class=\"dataframe\">\n",
       "  <thead>\n",
       "    <tr style=\"text-align: right;\">\n",
       "      <th></th>\n",
       "      <th>Review</th>\n",
       "      <th>Topic_number</th>\n",
       "    </tr>\n",
       "  </thead>\n",
       "  <tbody>\n",
       "    <tr>\n",
       "      <th>4396</th>\n",
       "      <td>it works really good when  listen to it through my head band and through my tablet even when  am in an area with no wifi it still works great this...</td>\n",
       "      <td>0</td>\n",
       "    </tr>\n",
       "    <tr>\n",
       "      <th>40195</th>\n",
       "      <td>tysm  am able to make  playlist of my favorite artists and listen to it all day and night if possible uninterrupted songs with premium plansblue h...</td>\n",
       "      <td>3</td>\n",
       "    </tr>\n",
       "    <tr>\n",
       "      <th>30216</th>\n",
       "      <td>bad update it is been over  week and it crashes completely</td>\n",
       "      <td>2</td>\n",
       "    </tr>\n",
       "    <tr>\n",
       "      <th>9937</th>\n",
       "      <td>always recommended but you always need  strong internet to play songs</td>\n",
       "      <td>2</td>\n",
       "    </tr>\n",
       "    <tr>\n",
       "      <th>47423</th>\n",
       "      <td>increasingly pushy with ads even to  paid subscriber first party advertising is just as annoying as third party advertising</td>\n",
       "      <td>2</td>\n",
       "    </tr>\n",
       "    <tr>\n",
       "      <th>27460</th>\n",
       "      <td>my shuffle button does not work  have installed and deleted and installed several times and the problem persist  have tried everything  could find...</td>\n",
       "      <td>2</td>\n",
       "    </tr>\n",
       "    <tr>\n",
       "      <th>37029</th>\n",
       "      <td>spotify is my lifes recipeit makes it delicious colourful and wonderful with spotify  am not alone</td>\n",
       "      <td>3</td>\n",
       "    </tr>\n",
       "    <tr>\n",
       "      <th>36723</th>\n",
       "      <td>the newest update is horrendous multiple times  day  will go to play  song and it just does not show up at the bottom meaning  can see the nextpre...</td>\n",
       "      <td>2</td>\n",
       "    </tr>\n",
       "    <tr>\n",
       "      <th>46111</th>\n",
       "      <td>lately some podcasts episodes do not play or take too long to start this is kind of frustrating</td>\n",
       "      <td>2</td>\n",
       "    </tr>\n",
       "    <tr>\n",
       "      <th>53649</th>\n",
       "      <td>love it however  wish you did not have to pay to be allowed to download songs  wish it was  completely free app  do love how it is set up and it i...</td>\n",
       "      <td>0</td>\n",
       "    </tr>\n",
       "  </tbody>\n",
       "</table>\n",
       "</div>"
      ],
      "text/plain": [
       "                                                                                                                                                      Review  \\\n",
       "4396   it works really good when  listen to it through my head band and through my tablet even when  am in an area with no wifi it still works great this...   \n",
       "40195  tysm  am able to make  playlist of my favorite artists and listen to it all day and night if possible uninterrupted songs with premium plansblue h...   \n",
       "30216                                                                                             bad update it is been over  week and it crashes completely   \n",
       "9937                                                                                   always recommended but you always need  strong internet to play songs   \n",
       "47423                            increasingly pushy with ads even to  paid subscriber first party advertising is just as annoying as third party advertising   \n",
       "27460  my shuffle button does not work  have installed and deleted and installed several times and the problem persist  have tried everything  could find...   \n",
       "37029                                                     spotify is my lifes recipeit makes it delicious colourful and wonderful with spotify  am not alone   \n",
       "36723  the newest update is horrendous multiple times  day  will go to play  song and it just does not show up at the bottom meaning  can see the nextpre...   \n",
       "46111                                                        lately some podcasts episodes do not play or take too long to start this is kind of frustrating   \n",
       "53649  love it however  wish you did not have to pay to be allowed to download songs  wish it was  completely free app  do love how it is set up and it i...   \n",
       "\n",
       "       Topic_number  \n",
       "4396              0  \n",
       "40195             3  \n",
       "30216             2  \n",
       "9937              2  \n",
       "47423             2  \n",
       "27460             2  \n",
       "37029             3  \n",
       "36723             2  \n",
       "46111             2  \n",
       "53649             0  "
      ]
     },
     "execution_count": 94,
     "metadata": {},
     "output_type": "execute_result"
    }
   ],
   "source": [
    "pd.set_option('display.max_colwidth', 150)\n",
    "data_train['Topic_number'] = topic_results.argmax(axis=1)\n",
    "data_train[[\"Review\", \"Topic_number\"]].sample(10)"
   ]
  },
  {
   "cell_type": "code",
   "execution_count": 95,
   "metadata": {},
   "outputs": [
    {
     "data": {
      "text/plain": [
       "2056.1000486410803"
      ]
     },
     "execution_count": 95,
     "metadata": {},
     "output_type": "execute_result"
    }
   ],
   "source": [
    "LDA.perplexity(X_train_counts)"
   ]
  },
  {
   "cell_type": "code",
   "execution_count": 96,
   "metadata": {},
   "outputs": [
    {
     "data": {
      "text/plain": [
       "-6698415.199785476"
      ]
     },
     "execution_count": 96,
     "metadata": {},
     "output_type": "execute_result"
    }
   ],
   "source": [
    "LDA.score(X_train_counts)"
   ]
  },
  {
   "cell_type": "code",
   "execution_count": 97,
   "metadata": {},
   "outputs": [],
   "source": [
    "def assign_topic_name(topic_number):\n",
    "    if topic_number == 0:\n",
    "        return lda_topics[0]\n",
    "    if topic_number == 1:\n",
    "        return lda_topics[1]\n",
    "    if topic_number == 2:\n",
    "        return lda_topics[2]\n",
    "    if topic_number == 3:\n",
    "        return lda_topics[3]\n",
    "    if topic_number == 4:\n",
    "        return lda_topics[4]\n",
    "\n",
    "\n",
    "data_train[\"Topic_name\"] = data_train[\"Topic_number\"].apply(assign_topic_name)"
   ]
  },
  {
   "cell_type": "code",
   "execution_count": 98,
   "metadata": {},
   "outputs": [
    {
     "data": {
      "text/html": [
       "<div>\n",
       "<style scoped>\n",
       "    .dataframe tbody tr th:only-of-type {\n",
       "        vertical-align: middle;\n",
       "    }\n",
       "\n",
       "    .dataframe tbody tr th {\n",
       "        vertical-align: top;\n",
       "    }\n",
       "\n",
       "    .dataframe thead th {\n",
       "        text-align: right;\n",
       "    }\n",
       "</style>\n",
       "<table border=\"1\" class=\"dataframe\">\n",
       "  <thead>\n",
       "    <tr style=\"text-align: right;\">\n",
       "      <th></th>\n",
       "      <th>Review</th>\n",
       "      <th>Rating</th>\n",
       "      <th>Tokens</th>\n",
       "      <th>Topic_number</th>\n",
       "      <th>Topic_name</th>\n",
       "    </tr>\n",
       "  </thead>\n",
       "  <tbody>\n",
       "    <tr>\n",
       "      <th>38286</th>\n",
       "      <td>black screen appear everytime any link is clicked to redirect to app to play the song just have to type in search bar there tried everything from ...</td>\n",
       "      <td>1</td>\n",
       "      <td>[black, screen, appear, everytime, link, clicked, redirect, play, song, type, search, bar, tried, everything, reinstalling, switching, account, st...</td>\n",
       "      <td>2</td>\n",
       "      <td>please_fix_something</td>\n",
       "    </tr>\n",
       "    <tr>\n",
       "      <th>18505</th>\n",
       "      <td>third grade application it keeps on hanging and lagging everything is working fine but this damn application worst experience ever</td>\n",
       "      <td>1</td>\n",
       "      <td>[third, grade, application, keeps, hanging, lagging, everything, working, fine, damn, application, worst, experience, ever]</td>\n",
       "      <td>2</td>\n",
       "      <td>please_fix_something</td>\n",
       "    </tr>\n",
       "    <tr>\n",
       "      <th>46178</th>\n",
       "      <td>love how few ads  get as apposed too yt music wish  could playback though</td>\n",
       "      <td>5</td>\n",
       "      <td>[ads, get, apposed, yt, music, wish, could, playback, though]</td>\n",
       "      <td>0</td>\n",
       "      <td>fix_update_phone</td>\n",
       "    </tr>\n",
       "    <tr>\n",
       "      <th>30097</th>\n",
       "      <td>have two stars because when  quit the app with songs the songs stop and when  am replay the song again it stops so fix it before number week or el...</td>\n",
       "      <td>2</td>\n",
       "      <td>[two, stars, quit, songs, songs, stop, replay, song, stops, fix, number, week, else, number, number, star]</td>\n",
       "      <td>2</td>\n",
       "      <td>please_fix_something</td>\n",
       "    </tr>\n",
       "    <tr>\n",
       "      <th>11603</th>\n",
       "      <td>love this app red heartsmiling face with sunglasses  surely recommend it to all age groups  walks of life thumbs up</td>\n",
       "      <td>5</td>\n",
       "      <td>[red, heartsmiling, face, sunglasses, surely, recommend, age, groups, walks, life, thumbs]</td>\n",
       "      <td>3</td>\n",
       "      <td>ads_and_premium</td>\n",
       "    </tr>\n",
       "    <tr>\n",
       "      <th>3361</th>\n",
       "      <td>when it says free premium for  month it should mean free premium for  month not sign up for spotify premium that does not make sense and you shoul...</td>\n",
       "      <td>1</td>\n",
       "      <td>[says, free, premium, month, mean, free, premium, month, sign, premium, make, sense, wait, skips, need, remove, songs, added, hate, songs, added]</td>\n",
       "      <td>0</td>\n",
       "      <td>fix_update_phone</td>\n",
       "    </tr>\n",
       "    <tr>\n",
       "      <th>45168</th>\n",
       "      <td>update it is fixed now and the rude judgemental advertisements have stopped it logs me out on its own and then creates  lot of fuss like it does n...</td>\n",
       "      <td>3</td>\n",
       "      <td>[update, fixed, rude, judgemental, advertisements, stopped, logs, creates, lot, fuss, let, log, shows, error, sending, link, shows, attempt, shows...</td>\n",
       "      <td>3</td>\n",
       "      <td>ads_and_premium</td>\n",
       "    </tr>\n",
       "    <tr>\n",
       "      <th>34555</th>\n",
       "      <td>lately the app works really bad if it keeps getting worse  might cancel my premium account</td>\n",
       "      <td>2</td>\n",
       "      <td>[lately, works, really, bad, keeps, getting, worse, might, cancel, premium, account]</td>\n",
       "      <td>2</td>\n",
       "      <td>please_fix_something</td>\n",
       "    </tr>\n",
       "    <tr>\n",
       "      <th>39019</th>\n",
       "      <td>turns off randomly the playbar is gone so no way to stopstart or rewindff</td>\n",
       "      <td>1</td>\n",
       "      <td>[turns, randomly, playbar, gone, way, stopstart, rewindff]</td>\n",
       "      <td>2</td>\n",
       "      <td>please_fix_something</td>\n",
       "    </tr>\n",
       "    <tr>\n",
       "      <th>54783</th>\n",
       "      <td>it is good and  love it but  hate the fact that we have to pay for premium to play the songs in  playlist in order nownot to mention we cannot tur...</td>\n",
       "      <td>2</td>\n",
       "      <td>[good, hate, fact, pay, premium, play, songs, playlist, order, nownot, mention, turn, shuffle]</td>\n",
       "      <td>0</td>\n",
       "      <td>fix_update_phone</td>\n",
       "    </tr>\n",
       "  </tbody>\n",
       "</table>\n",
       "</div>"
      ],
      "text/plain": [
       "                                                                                                                                                      Review  \\\n",
       "38286  black screen appear everytime any link is clicked to redirect to app to play the song just have to type in search bar there tried everything from ...   \n",
       "18505                     third grade application it keeps on hanging and lagging everything is working fine but this damn application worst experience ever   \n",
       "46178                                                                              love how few ads  get as apposed too yt music wish  could playback though   \n",
       "30097  have two stars because when  quit the app with songs the songs stop and when  am replay the song again it stops so fix it before number week or el...   \n",
       "11603                                    love this app red heartsmiling face with sunglasses  surely recommend it to all age groups  walks of life thumbs up   \n",
       "3361   when it says free premium for  month it should mean free premium for  month not sign up for spotify premium that does not make sense and you shoul...   \n",
       "45168  update it is fixed now and the rude judgemental advertisements have stopped it logs me out on its own and then creates  lot of fuss like it does n...   \n",
       "34555                                                             lately the app works really bad if it keeps getting worse  might cancel my premium account   \n",
       "39019                                                                              turns off randomly the playbar is gone so no way to stopstart or rewindff   \n",
       "54783  it is good and  love it but  hate the fact that we have to pay for premium to play the songs in  playlist in order nownot to mention we cannot tur...   \n",
       "\n",
       "       Rating  \\\n",
       "38286       1   \n",
       "18505       1   \n",
       "46178       5   \n",
       "30097       2   \n",
       "11603       5   \n",
       "3361        1   \n",
       "45168       3   \n",
       "34555       2   \n",
       "39019       1   \n",
       "54783       2   \n",
       "\n",
       "                                                                                                                                                      Tokens  \\\n",
       "38286  [black, screen, appear, everytime, link, clicked, redirect, play, song, type, search, bar, tried, everything, reinstalling, switching, account, st...   \n",
       "18505                            [third, grade, application, keeps, hanging, lagging, everything, working, fine, damn, application, worst, experience, ever]   \n",
       "46178                                                                                          [ads, get, apposed, yt, music, wish, could, playback, though]   \n",
       "30097                                             [two, stars, quit, songs, songs, stop, replay, song, stops, fix, number, week, else, number, number, star]   \n",
       "11603                                                             [red, heartsmiling, face, sunglasses, surely, recommend, age, groups, walks, life, thumbs]   \n",
       "3361       [says, free, premium, month, mean, free, premium, month, sign, premium, make, sense, wait, skips, need, remove, songs, added, hate, songs, added]   \n",
       "45168  [update, fixed, rude, judgemental, advertisements, stopped, logs, creates, lot, fuss, let, log, shows, error, sending, link, shows, attempt, shows...   \n",
       "34555                                                                   [lately, works, really, bad, keeps, getting, worse, might, cancel, premium, account]   \n",
       "39019                                                                                             [turns, randomly, playbar, gone, way, stopstart, rewindff]   \n",
       "54783                                                         [good, hate, fact, pay, premium, play, songs, playlist, order, nownot, mention, turn, shuffle]   \n",
       "\n",
       "       Topic_number            Topic_name  \n",
       "38286             2  please_fix_something  \n",
       "18505             2  please_fix_something  \n",
       "46178             0      fix_update_phone  \n",
       "30097             2  please_fix_something  \n",
       "11603             3       ads_and_premium  \n",
       "3361              0      fix_update_phone  \n",
       "45168             3       ads_and_premium  \n",
       "34555             2  please_fix_something  \n",
       "39019             2  please_fix_something  \n",
       "54783             0      fix_update_phone  "
      ]
     },
     "execution_count": 98,
     "metadata": {},
     "output_type": "execute_result"
    }
   ],
   "source": [
    "data_train.sample(10)"
   ]
  },
  {
   "cell_type": "code",
   "execution_count": 99,
   "metadata": {},
   "outputs": [
    {
     "data": {
      "text/html": [
       "<div>\n",
       "<style scoped>\n",
       "    .dataframe tbody tr th:only-of-type {\n",
       "        vertical-align: middle;\n",
       "    }\n",
       "\n",
       "    .dataframe tbody tr th {\n",
       "        vertical-align: top;\n",
       "    }\n",
       "\n",
       "    .dataframe thead th {\n",
       "        text-align: right;\n",
       "    }\n",
       "</style>\n",
       "<table border=\"1\" class=\"dataframe\">\n",
       "  <thead>\n",
       "    <tr style=\"text-align: right;\">\n",
       "      <th></th>\n",
       "      <th>Topic_name</th>\n",
       "      <th>Count</th>\n",
       "    </tr>\n",
       "  </thead>\n",
       "  <tbody>\n",
       "    <tr>\n",
       "      <th>0</th>\n",
       "      <td>please_fix_something</td>\n",
       "      <td>14909</td>\n",
       "    </tr>\n",
       "    <tr>\n",
       "      <th>1</th>\n",
       "      <td>spotify_is_awesome</td>\n",
       "      <td>11571</td>\n",
       "    </tr>\n",
       "    <tr>\n",
       "      <th>2</th>\n",
       "      <td>fix_update_phone</td>\n",
       "      <td>10516</td>\n",
       "    </tr>\n",
       "    <tr>\n",
       "      <th>3</th>\n",
       "      <td>ads_and_premium</td>\n",
       "      <td>9013</td>\n",
       "    </tr>\n",
       "  </tbody>\n",
       "</table>\n",
       "</div>"
      ],
      "text/plain": [
       "             Topic_name  Count\n",
       "0  please_fix_something  14909\n",
       "1    spotify_is_awesome  11571\n",
       "2      fix_update_phone  10516\n",
       "3       ads_and_premium   9013"
      ]
     },
     "execution_count": 99,
     "metadata": {},
     "output_type": "execute_result"
    }
   ],
   "source": [
    "topic_f = pd.DataFrame(data_train[\"Topic_name\"].value_counts()).reset_index()\n",
    "topic_f.columns = [\"Topic_name\", \"Count\"]\n",
    "topic_f"
   ]
  },
  {
   "cell_type": "code",
   "execution_count": 100,
   "metadata": {},
   "outputs": [
    {
     "data": {
      "image/png": "[encoded data removed]",
      "text/plain": [
       "<Figure size 800x400 with 1 Axes>"
      ]
     },
     "metadata": {},
     "output_type": "display_data"
    }
   ],
   "source": [
    "## Plot per country\n",
    "sns.set_theme(style=\"whitegrid\")\n",
    "\n",
    "f, ax = plt.subplots(figsize=(4,2),dpi=200)\n",
    "\n",
    "sns.set_color_codes(\"pastel\")\n",
    "sns.barplot(x=\"Count\", \n",
    "            y=\"Topic_name\", \n",
    "            data=topic_f,\n",
    "            color = \"#EDC2A7\")\n",
    "\n",
    "ax.set(xlim=(0, 20000), ylabel=\"\",\n",
    "       xlabel=\"N\")\n",
    "ax.bar_label(ax.containers[0], size=5, label_type=\"edge\", padding=0, color=\"#999DA0\")\n",
    "plt.suptitle(\"Topic Frequency in Training Data\")\n",
    "\n",
    "ax.tick_params(labelsize=8)\n",
    "\n",
    "sns.despine(left=True, bottom=True)"
   ]
  },
  {
   "cell_type": "code",
   "execution_count": 115,
   "metadata": {},
   "outputs": [],
   "source": [
    "# Fit model\n",
    "perplexities = []\n",
    "scores = []\n",
    "n_topics = range(4,10,2)\n",
    "for n_topic in n_topics:\n",
    "    LDA = LatentDirichletAllocation(n_components=n_topic,random_state=42)\n",
    "    LDA.fit(X_train_counts)\n",
    "\n",
    "    perplexities.append(LDA.perplexity(X_train_counts))\n",
    "    scores.append(LDA.score(X_train_counts))"
   ]
  },
  {
   "cell_type": "code",
   "execution_count": 116,
   "metadata": {},
   "outputs": [
    {
     "data": {
      "text/plain": [
       "[1847.4418684814796,\n",
       " 1699.8691180880644,\n",
       " 1685.8197927106337,\n",
       " 1678.3319170079221,\n",
       " 1696.3191762504246,\n",
       " 1703.5521668738118,\n",
       " 1724.9449675870972,\n",
       " 1747.9937356545277,\n",
       " 1762.720677701045,\n",
       " 1795.1888214565283,\n",
       " 1795.6188686925955,\n",
       " 1834.7548593065906,\n",
       " 1857.605316869742,\n",
       " 1867.5699962552817,\n",
       " 1938.417566156843,\n",
       " 1925.3066575934574,\n",
       " 1947.0001284593236,\n",
       " 1959.9675494835478,\n",
       " 2004.5733910985498,\n",
       " 2034.1414306284294,\n",
       " 2059.4630814395423,\n",
       " 2091.3206507002733,\n",
       " 2086.207934211732,\n",
       " 2151.220769327041]"
      ]
     },
     "execution_count": 116,
     "metadata": {},
     "output_type": "execute_result"
    }
   ],
   "source": [
    "perplexities"
   ]
  },
  {
   "cell_type": "code",
   "execution_count": 117,
   "metadata": {},
   "outputs": [
    {
     "data": {
      "text/plain": [
       "[-6604453.719509288,\n",
       " -6531353.821576251,\n",
       " -6524066.464546372,\n",
       " -6520157.669436516,\n",
       " -6529518.176261876,\n",
       " -6533254.248023013,\n",
       " -6544212.180653085,\n",
       " -6555867.283522005,\n",
       " -6563234.081461606,\n",
       " -6579260.399401123,\n",
       " -6579470.72064969,\n",
       " -6598402.915028641,\n",
       " -6609271.062481855,\n",
       " -6613968.670600569,\n",
       " -6646662.583299526,\n",
       " -6640703.390043062,\n",
       " -6650541.755800539,\n",
       " -6656370.493649668,\n",
       " -6676130.009201081,\n",
       " -6688987.204369984,\n",
       " -6699850.230070896,\n",
       " -6713328.997906091,\n",
       " -6711179.724661266,\n",
       " -6738125.452344715]"
      ]
     },
     "execution_count": 117,
     "metadata": {},
     "output_type": "execute_result"
    }
   ],
   "source": [
    "scores"
   ]
  },
  {
   "cell_type": "code",
   "execution_count": null,
   "metadata": {},
   "outputs": [],
   "source": [
    "## To-Do\n",
    "# Topic and its visualization against word > Dominik did\n",
    "# Check against test data \n",
    "# Coherence measure\n",
    "\n",
    "# Think of considering app as stopword as its present in almost all topics > check if there are more stopwrods to be included\n",
    "\n",
    "# Make use of time column from data and see how topic changes over time"
   ]
  }
 ],
 "metadata": {
  "kernelspec": {
   "display_name": "Python 3.10.4 64-bit",
   "language": "python",
   "name": "python3"
  },
  "language_info": {
   "codemirror_mode": {
    "name": "ipython",
    "version": 3
   },
   "file_extension": ".py",
   "mimetype": "text/x-python",
   "name": "python",
   "nbconvert_exporter": "python",
   "pygments_lexer": "ipython3",
   "version": "3.10.4"
  },
  "orig_nbformat": 4,
  "vscode": {
   "interpreter": {
    "hash": "ba89649856ee0ebb4f5d432fb84526bc860cc927389973834ceef247cbb7120d"
   }
  }
 },
 "nbformat": 4,
 "nbformat_minor": 2
}

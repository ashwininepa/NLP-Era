{
 "cells": [
  {
   "cell_type": "code",
   "execution_count": 126,
   "metadata": {},
   "outputs": [],
   "source": [
    "## Topic modelling is a technique to extract hidden topics from large volume of text\n",
    "# Latent Dirichlet Allocation (LDA) is unsupervised algorithm that we are going to use \n",
    "# LDA represents topics as word probabilities and allows for uncovering hidden topics as it clusters\n",
    "# the words based ontheir co-occurrence in a respective document\n",
    "\n",
    "# LDA discovers topics into a collection of documents\n",
    "# LDA tags each document with topics\n",
    "\n",
    "# LDA gives us 2 things - 1. Cluster of words by topic 2. Cluster of documents by topic\n",
    "\n",
    "## Assumptions for LDA - \n",
    "# 1. Documents with similar topics use similar groups of words\n",
    "# 2. Latent topics can be found by searching for groups of words that frequently occur together in documents across corpus\n",
    "# 3. Documents are probability distributions over latent topics that signifies certain document will contain more words of specific topic\n",
    "# 4. Topics themselves are probability distribution over words\n",
    "\n",
    "## Goal - \n",
    "# To find out the topics around what users speak about, their concerns if we can interpret form topics\n",
    "\n",
    "## One can use any vectorizer and not just count vectorizer e.g. tfidf! So, can experiment around it!\n",
    "\n",
    "## Steps that we will follow are below:\n",
    "# 1. Get the data\n",
    "# 2. Data cleaning\n",
    "# 3. Get the tokens\n",
    "# 4. "
   ]
  },
  {
   "cell_type": "code",
   "execution_count": 127,
   "metadata": {},
   "outputs": [],
   "source": [
    "# Setting to ignore warnings\n",
    "import warnings\n",
    "warnings.filterwarnings(\"ignore\")"
   ]
  },
  {
   "cell_type": "code",
   "execution_count": 128,
   "metadata": {},
   "outputs": [],
   "source": [
    "# Import libraries\n",
    "import pandas as pd\n",
    "import matplotlib.pyplot as plt\n",
    "import seaborn as sns\n",
    "sns.set()\n",
    "import nltk\n",
    "import numpy as np\n",
    "from nltk.tokenize import RegexpTokenizer\n",
    "from sklearn.model_selection import train_test_split\n",
    "from sklearn.feature_extraction.text import CountVectorizer\n",
    "from sklearn.decomposition import LatentDirichletAllocation\n",
    "\n",
    "# Text processing libraries\n",
    "import re\n",
    "from nltk.corpus import stopwords\n",
    "import emoji\n",
    "import contractions  # from https://github.com/kootenpv/contractions\n",
    "import string\n"
   ]
  },
  {
   "cell_type": "code",
   "execution_count": 129,
   "metadata": {},
   "outputs": [
    {
     "data": {
      "text/html": [
       "<div>\n",
       "<style scoped>\n",
       "    .dataframe tbody tr th:only-of-type {\n",
       "        vertical-align: middle;\n",
       "    }\n",
       "\n",
       "    .dataframe tbody tr th {\n",
       "        vertical-align: top;\n",
       "    }\n",
       "\n",
       "    .dataframe thead th {\n",
       "        text-align: right;\n",
       "    }\n",
       "</style>\n",
       "<table border=\"1\" class=\"dataframe\">\n",
       "  <thead>\n",
       "    <tr style=\"text-align: right;\">\n",
       "      <th></th>\n",
       "      <th>Review</th>\n",
       "      <th>Rating</th>\n",
       "    </tr>\n",
       "  </thead>\n",
       "  <tbody>\n",
       "    <tr>\n",
       "      <th>0</th>\n",
       "      <td>Great music service, the audio is high quality and the app is easy to use. Also very quick and friendly support.</td>\n",
       "      <td>5</td>\n",
       "    </tr>\n",
       "    <tr>\n",
       "      <th>1</th>\n",
       "      <td>Please ignore previous negative rating. This app is super great. I give it five stars+</td>\n",
       "      <td>5</td>\n",
       "    </tr>\n",
       "    <tr>\n",
       "      <th>2</th>\n",
       "      <td>This pop-up \"Get the best Spotify experience on Android 12\" is too annoying. Please let's get rid of this.</td>\n",
       "      <td>4</td>\n",
       "    </tr>\n",
       "    <tr>\n",
       "      <th>3</th>\n",
       "      <td>Really buggy and terrible to use as of recently</td>\n",
       "      <td>1</td>\n",
       "    </tr>\n",
       "    <tr>\n",
       "      <th>4</th>\n",
       "      <td>Dear Spotify why do I get songs that I didn't put on my playlist??? And why do we have shuffle play?</td>\n",
       "      <td>1</td>\n",
       "    </tr>\n",
       "    <tr>\n",
       "      <th>5</th>\n",
       "      <td>The player controls sometimes disappear for no reason. App restart forgets what I was playing but fixes the issue.</td>\n",
       "      <td>3</td>\n",
       "    </tr>\n",
       "    <tr>\n",
       "      <th>6</th>\n",
       "      <td>I love the selection and the lyrics are provided with the song you're listening to!</td>\n",
       "      <td>5</td>\n",
       "    </tr>\n",
       "    <tr>\n",
       "      <th>7</th>\n",
       "      <td>Still extremely slow when changing storage to external sd card.. I'm convinced this is done on purpose, spotify knows of this issue and has done N...</td>\n",
       "      <td>3</td>\n",
       "    </tr>\n",
       "    <tr>\n",
       "      <th>8</th>\n",
       "      <td>It's a great app and the best mp3 music app I have ever used but there is one problem that, why can't we play some songs or find some songs? despi...</td>\n",
       "      <td>5</td>\n",
       "    </tr>\n",
       "    <tr>\n",
       "      <th>9</th>\n",
       "      <td>I'm deleting this app, for the following reasons: This app now has a failing business model. Whether streaming services like it, or not: the consu...</td>\n",
       "      <td>1</td>\n",
       "    </tr>\n",
       "  </tbody>\n",
       "</table>\n",
       "</div>"
      ],
      "text/plain": [
       "                                                                                                                                                  Review  \\\n",
       "0                                       Great music service, the audio is high quality and the app is easy to use. Also very quick and friendly support.   \n",
       "1                                                                 Please ignore previous negative rating. This app is super great. I give it five stars+   \n",
       "2                                             This pop-up \"Get the best Spotify experience on Android 12\" is too annoying. Please let's get rid of this.   \n",
       "3                                                                                                        Really buggy and terrible to use as of recently   \n",
       "4                                                   Dear Spotify why do I get songs that I didn't put on my playlist??? And why do we have shuffle play?   \n",
       "5                                     The player controls sometimes disappear for no reason. App restart forgets what I was playing but fixes the issue.   \n",
       "6                                                                    I love the selection and the lyrics are provided with the song you're listening to!   \n",
       "7  Still extremely slow when changing storage to external sd card.. I'm convinced this is done on purpose, spotify knows of this issue and has done N...   \n",
       "8  It's a great app and the best mp3 music app I have ever used but there is one problem that, why can't we play some songs or find some songs? despi...   \n",
       "9  I'm deleting this app, for the following reasons: This app now has a failing business model. Whether streaming services like it, or not: the consu...   \n",
       "\n",
       "   Rating  \n",
       "0       5  \n",
       "1       5  \n",
       "2       4  \n",
       "3       1  \n",
       "4       1  \n",
       "5       3  \n",
       "6       5  \n",
       "7       3  \n",
       "8       5  \n",
       "9       1  "
      ]
     },
     "execution_count": 129,
     "metadata": {},
     "output_type": "execute_result"
    }
   ],
   "source": [
    "# Read data and clean a bit\n",
    "spotify = pd.read_csv(\"../data/raw/spotify_review_kaggle.csv\")\n",
    "data_in = spotify.copy()\n",
    "data_in = data_in.drop_duplicates(subset=\"Review\")  # Drop dupes in Reviews\n",
    "data_in.drop([\"Time_submitted\", \"Total_thumbsup\",\n",
    "             \"Reply\"], axis=1, inplace=True)\n",
    "data_in[\"Length\"] = data_in[\"Review\"].str.split(\" \").str.len()\n",
    "data_in = data_in[data_in.Length < 150]\n",
    "data_in.drop([\"Length\"], axis=1, inplace=True)\n",
    "data = data_in\n",
    "data.head(10)\n"
   ]
  },
  {
   "cell_type": "markdown",
   "metadata": {},
   "source": [
    "### Clean data"
   ]
  },
  {
   "cell_type": "code",
   "execution_count": 130,
   "metadata": {},
   "outputs": [],
   "source": [
    "# Get NLTK English stopwords\n",
    "our_stopwords = set(stopwords.words('english'))\n",
    "our_stopwords.remove(\"not\")"
   ]
  },
  {
   "cell_type": "code",
   "execution_count": 131,
   "metadata": {},
   "outputs": [],
   "source": [
    "# Define a function to do some text cleaning\n",
    "def clean_text(text):\n",
    "    text = emoji.demojize(text)  # fix emojis\n",
    "    text = contractions.fix(text)  # fix contractions\n",
    "    text = re.sub(r'[^\\x00-\\x7f]', r'', text)  # remove strange fonts\n",
    "    text = re.sub(r\"\\d+\", \"number\", text)  # replace numbers with \"number\"\n",
    "    text = re.sub(r'[^\\w\\s]', '', text)  # remove non-alphanumeric chars\n",
    "    text = text.replace('_', ' ')  # replace underscores with space\n",
    "    text = text.strip()  # strip extra spaces\n",
    "    return text.lower()"
   ]
  },
  {
   "cell_type": "code",
   "execution_count": 132,
   "metadata": {},
   "outputs": [
    {
     "data": {
      "text/plain": [
       "'i red heart spotify even though it is critizised for exploiting artists'"
      ]
     },
     "execution_count": 132,
     "metadata": {},
     "output_type": "execute_result"
    }
   ],
   "source": [
    "# Test our text cleaner\n",
    "clean_text(\"I ❤️ Spotify, even though it is critizised for exploiting artists\")\n"
   ]
  },
  {
   "cell_type": "code",
   "execution_count": 133,
   "metadata": {},
   "outputs": [],
   "source": [
    "# Apply to all data\n",
    "data[\"Review\"] = data[\"Review\"].apply(clean_text)"
   ]
  },
  {
   "cell_type": "code",
   "execution_count": 134,
   "metadata": {},
   "outputs": [],
   "source": [
    "## Tokenize/remove punctuations\n",
    "tokenizer = RegexpTokenizer(r'\\w+')"
   ]
  },
  {
   "cell_type": "code",
   "execution_count": 135,
   "metadata": {},
   "outputs": [],
   "source": [
    "data[\"Tokens\"] = data[\"Review\"].apply(tokenizer.tokenize)"
   ]
  },
  {
   "cell_type": "code",
   "execution_count": 136,
   "metadata": {},
   "outputs": [
    {
     "data": {
      "text/html": [
       "<div>\n",
       "<style scoped>\n",
       "    .dataframe tbody tr th:only-of-type {\n",
       "        vertical-align: middle;\n",
       "    }\n",
       "\n",
       "    .dataframe tbody tr th {\n",
       "        vertical-align: top;\n",
       "    }\n",
       "\n",
       "    .dataframe thead th {\n",
       "        text-align: right;\n",
       "    }\n",
       "</style>\n",
       "<table border=\"1\" class=\"dataframe\">\n",
       "  <thead>\n",
       "    <tr style=\"text-align: right;\">\n",
       "      <th></th>\n",
       "      <th>Review</th>\n",
       "      <th>Rating</th>\n",
       "      <th>Tokens</th>\n",
       "    </tr>\n",
       "  </thead>\n",
       "  <tbody>\n",
       "    <tr>\n",
       "      <th>0</th>\n",
       "      <td>great music service the audio is high quality and the app is easy to use also very quick and friendly support</td>\n",
       "      <td>5</td>\n",
       "      <td>[great, music, service, the, audio, is, high, quality, and, the, app, is, easy, to, use, also, very, quick, and, friendly, support]</td>\n",
       "    </tr>\n",
       "    <tr>\n",
       "      <th>1</th>\n",
       "      <td>please ignore previous negative rating this app is super great i give it five stars</td>\n",
       "      <td>5</td>\n",
       "      <td>[please, ignore, previous, negative, rating, this, app, is, super, great, i, give, it, five, stars]</td>\n",
       "    </tr>\n",
       "    <tr>\n",
       "      <th>2</th>\n",
       "      <td>this popup get the best spotify experience on android number is too annoying please let us get rid of this</td>\n",
       "      <td>4</td>\n",
       "      <td>[this, popup, get, the, best, spotify, experience, on, android, number, is, too, annoying, please, let, us, get, rid, of, this]</td>\n",
       "    </tr>\n",
       "    <tr>\n",
       "      <th>3</th>\n",
       "      <td>really buggy and terrible to use as of recently</td>\n",
       "      <td>1</td>\n",
       "      <td>[really, buggy, and, terrible, to, use, as, of, recently]</td>\n",
       "    </tr>\n",
       "    <tr>\n",
       "      <th>4</th>\n",
       "      <td>dear spotify why do i get songs that i did not put on my playlist and why do we have shuffle play</td>\n",
       "      <td>1</td>\n",
       "      <td>[dear, spotify, why, do, i, get, songs, that, i, did, not, put, on, my, playlist, and, why, do, we, have, shuffle, play]</td>\n",
       "    </tr>\n",
       "    <tr>\n",
       "      <th>5</th>\n",
       "      <td>the player controls sometimes disappear for no reason app restart forgets what i was playing but fixes the issue</td>\n",
       "      <td>3</td>\n",
       "      <td>[the, player, controls, sometimes, disappear, for, no, reason, app, restart, forgets, what, i, was, playing, but, fixes, the, issue]</td>\n",
       "    </tr>\n",
       "    <tr>\n",
       "      <th>6</th>\n",
       "      <td>i love the selection and the lyrics are provided with the song you are listening to</td>\n",
       "      <td>5</td>\n",
       "      <td>[i, love, the, selection, and, the, lyrics, are, provided, with, the, song, you, are, listening, to]</td>\n",
       "    </tr>\n",
       "    <tr>\n",
       "      <th>7</th>\n",
       "      <td>still extremely slow when changing storage to external sd card i am convinced this is done on purpose spotify knows of this issue and has done not...</td>\n",
       "      <td>3</td>\n",
       "      <td>[still, extremely, slow, when, changing, storage, to, external, sd, card, i, am, convinced, this, is, done, on, purpose, spotify, knows, of, this,...</td>\n",
       "    </tr>\n",
       "    <tr>\n",
       "      <th>8</th>\n",
       "      <td>it is a great app and the best mpnumber music app i have ever used but there is one problem that why cannot we play some songs or find some songs ...</td>\n",
       "      <td>5</td>\n",
       "      <td>[it, is, a, great, app, and, the, best, mpnumber, music, app, i, have, ever, used, but, there, is, one, problem, that, why, cannot, we, play, some...</td>\n",
       "    </tr>\n",
       "    <tr>\n",
       "      <th>9</th>\n",
       "      <td>i am deleting this app for the following reasons this app now has a failing business model whether streaming services like it or not the consumer ...</td>\n",
       "      <td>1</td>\n",
       "      <td>[i, am, deleting, this, app, for, the, following, reasons, this, app, now, has, a, failing, business, model, whether, streaming, services, like, i...</td>\n",
       "    </tr>\n",
       "  </tbody>\n",
       "</table>\n",
       "</div>"
      ],
      "text/plain": [
       "                                                                                                                                                  Review  \\\n",
       "0                                          great music service the audio is high quality and the app is easy to use also very quick and friendly support   \n",
       "1                                                                    please ignore previous negative rating this app is super great i give it five stars   \n",
       "2                                             this popup get the best spotify experience on android number is too annoying please let us get rid of this   \n",
       "3                                                                                                        really buggy and terrible to use as of recently   \n",
       "4                                                      dear spotify why do i get songs that i did not put on my playlist and why do we have shuffle play   \n",
       "5                                       the player controls sometimes disappear for no reason app restart forgets what i was playing but fixes the issue   \n",
       "6                                                                    i love the selection and the lyrics are provided with the song you are listening to   \n",
       "7  still extremely slow when changing storage to external sd card i am convinced this is done on purpose spotify knows of this issue and has done not...   \n",
       "8  it is a great app and the best mpnumber music app i have ever used but there is one problem that why cannot we play some songs or find some songs ...   \n",
       "9  i am deleting this app for the following reasons this app now has a failing business model whether streaming services like it or not the consumer ...   \n",
       "\n",
       "   Rating  \\\n",
       "0       5   \n",
       "1       5   \n",
       "2       4   \n",
       "3       1   \n",
       "4       1   \n",
       "5       3   \n",
       "6       5   \n",
       "7       3   \n",
       "8       5   \n",
       "9       1   \n",
       "\n",
       "                                                                                                                                                  Tokens  \n",
       "0                    [great, music, service, the, audio, is, high, quality, and, the, app, is, easy, to, use, also, very, quick, and, friendly, support]  \n",
       "1                                                    [please, ignore, previous, negative, rating, this, app, is, super, great, i, give, it, five, stars]  \n",
       "2                        [this, popup, get, the, best, spotify, experience, on, android, number, is, too, annoying, please, let, us, get, rid, of, this]  \n",
       "3                                                                                              [really, buggy, and, terrible, to, use, as, of, recently]  \n",
       "4                               [dear, spotify, why, do, i, get, songs, that, i, did, not, put, on, my, playlist, and, why, do, we, have, shuffle, play]  \n",
       "5                   [the, player, controls, sometimes, disappear, for, no, reason, app, restart, forgets, what, i, was, playing, but, fixes, the, issue]  \n",
       "6                                                   [i, love, the, selection, and, the, lyrics, are, provided, with, the, song, you, are, listening, to]  \n",
       "7  [still, extremely, slow, when, changing, storage, to, external, sd, card, i, am, convinced, this, is, done, on, purpose, spotify, knows, of, this,...  \n",
       "8  [it, is, a, great, app, and, the, best, mpnumber, music, app, i, have, ever, used, but, there, is, one, problem, that, why, cannot, we, play, some...  \n",
       "9  [i, am, deleting, this, app, for, the, following, reasons, this, app, now, has, a, failing, business, model, whether, streaming, services, like, i...  "
      ]
     },
     "execution_count": 136,
     "metadata": {},
     "output_type": "execute_result"
    }
   ],
   "source": [
    "data.head(10)"
   ]
  },
  {
   "cell_type": "code",
   "execution_count": 137,
   "metadata": {},
   "outputs": [
    {
     "data": {
      "text/html": [
       "<div>\n",
       "<style scoped>\n",
       "    .dataframe tbody tr th:only-of-type {\n",
       "        vertical-align: middle;\n",
       "    }\n",
       "\n",
       "    .dataframe tbody tr th {\n",
       "        vertical-align: top;\n",
       "    }\n",
       "\n",
       "    .dataframe thead th {\n",
       "        text-align: right;\n",
       "    }\n",
       "</style>\n",
       "<table border=\"1\" class=\"dataframe\">\n",
       "  <thead>\n",
       "    <tr style=\"text-align: right;\">\n",
       "      <th></th>\n",
       "      <th>Review</th>\n",
       "      <th>Rating</th>\n",
       "      <th>Tokens</th>\n",
       "    </tr>\n",
       "  </thead>\n",
       "  <tbody>\n",
       "    <tr>\n",
       "      <th>0</th>\n",
       "      <td>great music service the audio is high quality and the app is easy to use also very quick and friendly support</td>\n",
       "      <td>5</td>\n",
       "      <td>[great, music, service, audio, high, quality, app, easy, use, also, quick, friendly, support]</td>\n",
       "    </tr>\n",
       "    <tr>\n",
       "      <th>1</th>\n",
       "      <td>please ignore previous negative rating this app is super great i give it five stars</td>\n",
       "      <td>5</td>\n",
       "      <td>[please, ignore, previous, negative, rating, app, super, great, give, five, stars]</td>\n",
       "    </tr>\n",
       "    <tr>\n",
       "      <th>2</th>\n",
       "      <td>this popup get the best spotify experience on android number is too annoying please let us get rid of this</td>\n",
       "      <td>4</td>\n",
       "      <td>[popup, get, best, spotify, experience, android, number, annoying, please, let, us, get, rid]</td>\n",
       "    </tr>\n",
       "    <tr>\n",
       "      <th>3</th>\n",
       "      <td>really buggy and terrible to use as of recently</td>\n",
       "      <td>1</td>\n",
       "      <td>[really, buggy, terrible, use, recently]</td>\n",
       "    </tr>\n",
       "    <tr>\n",
       "      <th>4</th>\n",
       "      <td>dear spotify why do i get songs that i did not put on my playlist and why do we have shuffle play</td>\n",
       "      <td>1</td>\n",
       "      <td>[dear, spotify, get, songs, not, put, playlist, shuffle, play]</td>\n",
       "    </tr>\n",
       "  </tbody>\n",
       "</table>\n",
       "</div>"
      ],
      "text/plain": [
       "                                                                                                          Review  \\\n",
       "0  great music service the audio is high quality and the app is easy to use also very quick and friendly support   \n",
       "1                            please ignore previous negative rating this app is super great i give it five stars   \n",
       "2     this popup get the best spotify experience on android number is too annoying please let us get rid of this   \n",
       "3                                                                really buggy and terrible to use as of recently   \n",
       "4              dear spotify why do i get songs that i did not put on my playlist and why do we have shuffle play   \n",
       "\n",
       "   Rating  \\\n",
       "0       5   \n",
       "1       5   \n",
       "2       4   \n",
       "3       1   \n",
       "4       1   \n",
       "\n",
       "                                                                                          Tokens  \n",
       "0  [great, music, service, audio, high, quality, app, easy, use, also, quick, friendly, support]  \n",
       "1             [please, ignore, previous, negative, rating, app, super, great, give, five, stars]  \n",
       "2  [popup, get, best, spotify, experience, android, number, annoying, please, let, us, get, rid]  \n",
       "3                                                       [really, buggy, terrible, use, recently]  \n",
       "4                                 [dear, spotify, get, songs, not, put, playlist, shuffle, play]  "
      ]
     },
     "execution_count": 137,
     "metadata": {},
     "output_type": "execute_result"
    }
   ],
   "source": [
    "# Remove stopwords\n",
    "# We loop through each list of words and remove stopwords\n",
    "data['Tokens'] = data['Tokens'].apply(lambda x: [word for word in x if word not in (our_stopwords)])\n",
    "data.head(5)"
   ]
  },
  {
   "cell_type": "code",
   "execution_count": 143,
   "metadata": {},
   "outputs": [],
   "source": [
    "# Transformations\n",
    "X = data['Tokens']"
   ]
  },
  {
   "cell_type": "code",
   "execution_count": 144,
   "metadata": {},
   "outputs": [
    {
     "name": "stdout",
     "output_type": "stream",
     "text": [
      "(46009,) (15337,)\n"
     ]
    }
   ],
   "source": [
    "# Split data in train and test\n",
    "X_train, X_test = train_test_split(X, test_size=0.25, random_state=42)\n",
    "print(X_train.shape, X_test.shape)"
   ]
  },
  {
   "cell_type": "code",
   "execution_count": 145,
   "metadata": {},
   "outputs": [],
   "source": [
    "# Count Vectorizer\n",
    "def dummy(doc):\n",
    "    return doc\n",
    "\n",
    "count_vectorizer = CountVectorizer(tokenizer=dummy, preprocessor=dummy, max_features = 10000, ngram_range = (1,3))\n",
    "\n",
    "X_train_counts = count_vectorizer.fit_transform(X_train)"
   ]
  },
  {
   "cell_type": "code",
   "execution_count": null,
   "metadata": {},
   "outputs": [],
   "source": [
    "#Get number of features from vectorizer and it shall match number of features that we provide to it\n",
    "len(count_vectorizer.get_feature_names())"
   ]
  },
  {
   "cell_type": "code",
   "execution_count": null,
   "metadata": {},
   "outputs": [],
   "source": [
    "# Showing words randomly\n",
    "\n",
    "for i in range(10):\n",
    "    random_word_id = np.random.randint(0,10000)\n",
    "    print(count_vectorizer.get_feature_names()[random_word_id])"
   ]
  },
  {
   "cell_type": "code",
   "execution_count": 146,
   "metadata": {},
   "outputs": [
    {
     "data": {
      "text/html": [
       "<style>#sk-container-id-7 {color: black;background-color: white;}#sk-container-id-7 pre{padding: 0;}#sk-container-id-7 div.sk-toggleable {background-color: white;}#sk-container-id-7 label.sk-toggleable__label {cursor: pointer;display: block;width: 100%;margin-bottom: 0;padding: 0.3em;box-sizing: border-box;text-align: center;}#sk-container-id-7 label.sk-toggleable__label-arrow:before {content: \"▸\";float: left;margin-right: 0.25em;color: #696969;}#sk-container-id-7 label.sk-toggleable__label-arrow:hover:before {color: black;}#sk-container-id-7 div.sk-estimator:hover label.sk-toggleable__label-arrow:before {color: black;}#sk-container-id-7 div.sk-toggleable__content {max-height: 0;max-width: 0;overflow: hidden;text-align: left;background-color: #f0f8ff;}#sk-container-id-7 div.sk-toggleable__content pre {margin: 0.2em;color: black;border-radius: 0.25em;background-color: #f0f8ff;}#sk-container-id-7 input.sk-toggleable__control:checked~div.sk-toggleable__content {max-height: 200px;max-width: 100%;overflow: auto;}#sk-container-id-7 input.sk-toggleable__control:checked~label.sk-toggleable__label-arrow:before {content: \"▾\";}#sk-container-id-7 div.sk-estimator input.sk-toggleable__control:checked~label.sk-toggleable__label {background-color: #d4ebff;}#sk-container-id-7 div.sk-label input.sk-toggleable__control:checked~label.sk-toggleable__label {background-color: #d4ebff;}#sk-container-id-7 input.sk-hidden--visually {border: 0;clip: rect(1px 1px 1px 1px);clip: rect(1px, 1px, 1px, 1px);height: 1px;margin: -1px;overflow: hidden;padding: 0;position: absolute;width: 1px;}#sk-container-id-7 div.sk-estimator {font-family: monospace;background-color: #f0f8ff;border: 1px dotted black;border-radius: 0.25em;box-sizing: border-box;margin-bottom: 0.5em;}#sk-container-id-7 div.sk-estimator:hover {background-color: #d4ebff;}#sk-container-id-7 div.sk-parallel-item::after {content: \"\";width: 100%;border-bottom: 1px solid gray;flex-grow: 1;}#sk-container-id-7 div.sk-label:hover label.sk-toggleable__label {background-color: #d4ebff;}#sk-container-id-7 div.sk-serial::before {content: \"\";position: absolute;border-left: 1px solid gray;box-sizing: border-box;top: 0;bottom: 0;left: 50%;z-index: 0;}#sk-container-id-7 div.sk-serial {display: flex;flex-direction: column;align-items: center;background-color: white;padding-right: 0.2em;padding-left: 0.2em;position: relative;}#sk-container-id-7 div.sk-item {position: relative;z-index: 1;}#sk-container-id-7 div.sk-parallel {display: flex;align-items: stretch;justify-content: center;background-color: white;position: relative;}#sk-container-id-7 div.sk-item::before, #sk-container-id-7 div.sk-parallel-item::before {content: \"\";position: absolute;border-left: 1px solid gray;box-sizing: border-box;top: 0;bottom: 0;left: 50%;z-index: -1;}#sk-container-id-7 div.sk-parallel-item {display: flex;flex-direction: column;z-index: 1;position: relative;background-color: white;}#sk-container-id-7 div.sk-parallel-item:first-child::after {align-self: flex-end;width: 50%;}#sk-container-id-7 div.sk-parallel-item:last-child::after {align-self: flex-start;width: 50%;}#sk-container-id-7 div.sk-parallel-item:only-child::after {width: 0;}#sk-container-id-7 div.sk-dashed-wrapped {border: 1px dashed gray;margin: 0 0.4em 0.5em 0.4em;box-sizing: border-box;padding-bottom: 0.4em;background-color: white;}#sk-container-id-7 div.sk-label label {font-family: monospace;font-weight: bold;display: inline-block;line-height: 1.2em;}#sk-container-id-7 div.sk-label-container {text-align: center;}#sk-container-id-7 div.sk-container {/* jupyter's `normalize.less` sets `[hidden] { display: none; }` but bootstrap.min.css set `[hidden] { display: none !important; }` so we also need the `!important` here to be able to override the default hidden behavior on the sphinx rendered scikit-learn.org. See: https://github.com/scikit-learn/scikit-learn/issues/21755 */display: inline-block !important;position: relative;}#sk-container-id-7 div.sk-text-repr-fallback {display: none;}</style><div id=\"sk-container-id-7\" class=\"sk-top-container\"><div class=\"sk-text-repr-fallback\"><pre>LatentDirichletAllocation(n_components=4, random_state=42)</pre><b>In a Jupyter environment, please rerun this cell to show the HTML representation or trust the notebook. <br />On GitHub, the HTML representation is unable to render, please try loading this page with nbviewer.org.</b></div><div class=\"sk-container\" hidden><div class=\"sk-item\"><div class=\"sk-estimator sk-toggleable\"><input class=\"sk-toggleable__control sk-hidden--visually\" id=\"sk-estimator-id-7\" type=\"checkbox\" checked><label for=\"sk-estimator-id-7\" class=\"sk-toggleable__label sk-toggleable__label-arrow\">LatentDirichletAllocation</label><div class=\"sk-toggleable__content\"><pre>LatentDirichletAllocation(n_components=4, random_state=42)</pre></div></div></div></div></div>"
      ],
      "text/plain": [
       "LatentDirichletAllocation(n_components=4, random_state=42)"
      ]
     },
     "execution_count": 146,
     "metadata": {},
     "output_type": "execute_result"
    }
   ],
   "source": [
    "# Fit model\n",
    "LDA = LatentDirichletAllocation(n_components=4,random_state=42)\n",
    "LDA.fit(X_train_counts)"
   ]
  },
  {
   "cell_type": "code",
   "execution_count": 149,
   "metadata": {},
   "outputs": [
    {
     "data": {
      "text/plain": [
       "4"
      ]
     },
     "execution_count": 149,
     "metadata": {},
     "output_type": "execute_result"
    }
   ],
   "source": [
    "# number of topics (its euqal to number of components we provide to model)\n",
    "n_components = len(LDA.components_)\n",
    "n_components"
   ]
  },
  {
   "cell_type": "code",
   "execution_count": 150,
   "metadata": {},
   "outputs": [
    {
     "name": "stdout",
     "output_type": "stream",
     "text": [
      "get\n",
      "spotify\n",
      "song\n",
      "like\n",
      "app\n",
      "premium\n",
      "songs\n",
      "not\n",
      "ads\n",
      "number\n"
     ]
    }
   ],
   "source": [
    "# \n",
    "single_topic = LDA.components_[0]\n",
    "top_10_word_indices = single_topic.argsort()[-10:]\n",
    "\n",
    "for i in top_10_word_indices:\n",
    "    print(count_vectorizer.get_feature_names()[i])"
   ]
  },
  {
   "cell_type": "code",
   "execution_count": 151,
   "metadata": {},
   "outputs": [
    {
     "name": "stdout",
     "output_type": "stream",
     "text": [
      "THE TOP 10 WORDS FOR TOPIC #0\n",
      "['get', 'spotify', 'song', 'like', 'app', 'premium', 'songs', 'not', 'ads', 'number']\n",
      "\n",
      "\n",
      "THE TOP 10 WORDS FOR TOPIC #1\n",
      "['bar', 'smiling', 'please', 'stop', 'songs', 'music', 'playing', 'update', 'face', 'app']\n",
      "\n",
      "\n",
      "THE TOP 10 WORDS FOR TOPIC #2\n",
      "['fix', 'playing', 'even', 'spotify', 'songs', 'cannot', 'song', 'play', 'app', 'not']\n",
      "\n",
      "\n",
      "THE TOP 10 WORDS FOR TOPIC #3\n",
      "['like', 'songs', 'listen', 'best', 'good', 'great', 'love', 'spotify', 'app', 'music']\n",
      "\n",
      "\n"
     ]
    }
   ],
   "source": [
    "#\n",
    "for index,topic in enumerate(LDA.components_):\n",
    "    print(f'THE TOP 10 WORDS FOR TOPIC #{index}')\n",
    "    print([count_vectorizer.get_feature_names()[index] for index in topic.argsort()[-10:]])\n",
    "    print('\\n')"
   ]
  },
  {
   "cell_type": "code",
   "execution_count": 152,
   "metadata": {},
   "outputs": [],
   "source": [
    "topic_results = LDA.transform(X_train_counts)\n"
   ]
  },
  {
   "cell_type": "code",
   "execution_count": 153,
   "metadata": {},
   "outputs": [],
   "source": [
    "# Split original data\n",
    "data_train, _ = train_test_split(data, test_size=0.25, random_state=42)"
   ]
  },
  {
   "cell_type": "code",
   "execution_count": 154,
   "metadata": {},
   "outputs": [
    {
     "data": {
      "text/html": [
       "<div>\n",
       "<style scoped>\n",
       "    .dataframe tbody tr th:only-of-type {\n",
       "        vertical-align: middle;\n",
       "    }\n",
       "\n",
       "    .dataframe tbody tr th {\n",
       "        vertical-align: top;\n",
       "    }\n",
       "\n",
       "    .dataframe thead th {\n",
       "        text-align: right;\n",
       "    }\n",
       "</style>\n",
       "<table border=\"1\" class=\"dataframe\">\n",
       "  <thead>\n",
       "    <tr style=\"text-align: right;\">\n",
       "      <th></th>\n",
       "      <th>Review</th>\n",
       "      <th>Topic</th>\n",
       "    </tr>\n",
       "  </thead>\n",
       "  <tbody>\n",
       "    <tr>\n",
       "      <th>29893</th>\n",
       "      <td>great app best music platform but the group session feature needs work still they should add a controll feature that let us someone be host of the...</td>\n",
       "      <td>3</td>\n",
       "    </tr>\n",
       "    <tr>\n",
       "      <th>29959</th>\n",
       "      <td>spotifys best feature is the notifications for new releases by artists you follow but that feature has not been working for months after several u...</td>\n",
       "      <td>2</td>\n",
       "    </tr>\n",
       "    <tr>\n",
       "      <th>54863</th>\n",
       "      <td>would have gave number stars if spotify completely supported joe rogans freedom of expression and did not delete those number episodes i am not a ...</td>\n",
       "      <td>0</td>\n",
       "    </tr>\n",
       "    <tr>\n",
       "      <th>54056</th>\n",
       "      <td>have to uninstall and reinstall multiple times to receive any new music podcast etc very buggy and i have android lol</td>\n",
       "      <td>1</td>\n",
       "    </tr>\n",
       "    <tr>\n",
       "      <th>24842</th>\n",
       "      <td>good quantity of music and quality</td>\n",
       "      <td>3</td>\n",
       "    </tr>\n",
       "    <tr>\n",
       "      <th>2890</th>\n",
       "      <td>my experience with spotify is great i love this platform thanks spotify team</td>\n",
       "      <td>3</td>\n",
       "    </tr>\n",
       "    <tr>\n",
       "      <th>9323</th>\n",
       "      <td>great to be able to create own playlist from number of choices</td>\n",
       "      <td>3</td>\n",
       "    </tr>\n",
       "    <tr>\n",
       "      <th>34086</th>\n",
       "      <td>there is one request for spotify please add recently added songs</td>\n",
       "      <td>1</td>\n",
       "    </tr>\n",
       "    <tr>\n",
       "      <th>38814</th>\n",
       "      <td>i highly suggest not getting this i have tried number months now to cancel my subscription it says its canceled yet they keep taking funds from me...</td>\n",
       "      <td>2</td>\n",
       "    </tr>\n",
       "    <tr>\n",
       "      <th>60771</th>\n",
       "      <td>i really liked spotify at first but then it got updated or something and now it has gotten very annoying i cannot enter my playlists to pick songs...</td>\n",
       "      <td>0</td>\n",
       "    </tr>\n",
       "  </tbody>\n",
       "</table>\n",
       "</div>"
      ],
      "text/plain": [
       "                                                                                                                                                      Review  \\\n",
       "29893  great app best music platform but the group session feature needs work still they should add a controll feature that let us someone be host of the...   \n",
       "29959  spotifys best feature is the notifications for new releases by artists you follow but that feature has not been working for months after several u...   \n",
       "54863  would have gave number stars if spotify completely supported joe rogans freedom of expression and did not delete those number episodes i am not a ...   \n",
       "54056                                  have to uninstall and reinstall multiple times to receive any new music podcast etc very buggy and i have android lol   \n",
       "24842                                                                                                                     good quantity of music and quality   \n",
       "2890                                                                            my experience with spotify is great i love this platform thanks spotify team   \n",
       "9323                                                                                          great to be able to create own playlist from number of choices   \n",
       "34086                                                                                       there is one request for spotify please add recently added songs   \n",
       "38814  i highly suggest not getting this i have tried number months now to cancel my subscription it says its canceled yet they keep taking funds from me...   \n",
       "60771  i really liked spotify at first but then it got updated or something and now it has gotten very annoying i cannot enter my playlists to pick songs...   \n",
       "\n",
       "       Topic  \n",
       "29893      3  \n",
       "29959      2  \n",
       "54863      0  \n",
       "54056      1  \n",
       "24842      3  \n",
       "2890       3  \n",
       "9323       3  \n",
       "34086      1  \n",
       "38814      2  \n",
       "60771      0  "
      ]
     },
     "execution_count": 154,
     "metadata": {},
     "output_type": "execute_result"
    }
   ],
   "source": [
    "pd.set_option('display.max_colwidth', 150)\n",
    "data_train['Topic'] = topic_results.argmax(axis=1)\n",
    "\n",
    "data_train[[\"Review\", \"Topic\"]].head(10)"
   ]
  },
  {
   "cell_type": "code",
   "execution_count": 166,
   "metadata": {},
   "outputs": [
    {
     "data": {
      "text/plain": [
       "array([[0.01802183, 0.01813698, 0.01808897, 0.94575222]])"
      ]
     },
     "execution_count": 166,
     "metadata": {},
     "output_type": "execute_result"
    }
   ],
   "source": [
    "topic_results[[5]]"
   ]
  },
  {
   "cell_type": "code",
   "execution_count": 158,
   "metadata": {},
   "outputs": [
    {
     "data": {
      "text/plain": [
       "1724.032346537392"
      ]
     },
     "execution_count": 158,
     "metadata": {},
     "output_type": "execute_result"
    }
   ],
   "source": [
    "LDA.perplexity(X_train_counts)"
   ]
  },
  {
   "cell_type": "code",
   "execution_count": 159,
   "metadata": {},
   "outputs": [
    {
     "data": {
      "text/plain": [
       "-7863772.507264096"
      ]
     },
     "execution_count": 159,
     "metadata": {},
     "output_type": "execute_result"
    }
   ],
   "source": [
    "LDA.score(X_train_counts)"
   ]
  },
  {
   "cell_type": "code",
   "execution_count": 161,
   "metadata": {},
   "outputs": [],
   "source": [
    "# Fit model\n",
    "perplexities = []\n",
    "scores = []\n",
    "for n_topic in range(2,20,5):\n",
    "    LDA = LatentDirichletAllocation(n_components=n_topic,random_state=42)\n",
    "    LDA.fit(X_train_counts)\n",
    "\n",
    "    perplexities.append(LDA.perplexity(X_train_counts))\n",
    "    scores.append(LDA.score(X_train_counts))"
   ]
  },
  {
   "cell_type": "code",
   "execution_count": 163,
   "metadata": {},
   "outputs": [
    {
     "data": {
      "text/plain": [
       "[1873.4875890604776, 1604.864441814075, 1586.136041368198, 1561.2975854831523]"
      ]
     },
     "execution_count": 163,
     "metadata": {},
     "output_type": "execute_result"
    }
   ],
   "source": [
    "perplexities"
   ]
  },
  {
   "cell_type": "code",
   "execution_count": 164,
   "metadata": {},
   "outputs": [
    {
     "data": {
      "text/plain": [
       "[-7951497.133128195,\n",
       " -7788192.290062701,\n",
       " -7775805.968601594,\n",
       " -7759151.124461923]"
      ]
     },
     "execution_count": 164,
     "metadata": {},
     "output_type": "execute_result"
    }
   ],
   "source": [
    "scores"
   ]
  },
  {
   "cell_type": "code",
   "execution_count": null,
   "metadata": {},
   "outputs": [],
   "source": [
    "## To-Do\n",
    "# Topic and its visualization against word\n",
    "# Check against test data\n",
    "# Coherence measure\n",
    "# Think of considering app as stopword as its present in almost all topics\n",
    "# Make use of time column from data and see how topic changes over time"
   ]
  }
 ],
 "metadata": {
  "kernelspec": {
   "display_name": "Python 3.10.7 64-bit",
   "language": "python",
   "name": "python3"
  },
  "language_info": {
   "codemirror_mode": {
    "name": "ipython",
    "version": 3
   },
   "file_extension": ".py",
   "mimetype": "text/x-python",
   "name": "python",
   "nbconvert_exporter": "python",
   "pygments_lexer": "ipython3",
   "version": "3.10.7"
  },
  "orig_nbformat": 4,
  "vscode": {
   "interpreter": {
    "hash": "fc52262d006841146020f95b6b97d077a05cc0e195c43164dddd57ad40dc7ab8"
   }
  }
 },
 "nbformat": 4,
 "nbformat_minor": 2
}

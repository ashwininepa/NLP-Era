{
 "cells": [
  {
   "cell_type": "markdown",
   "metadata": {},
   "source": [
    "## LDA Topic Modeling\n",
    "\n",
    "Topic modelling is a technique to extract hidden topics from large volume of text. LDA represents topics as word probabilities and allows for uncovering hidden topics as it clusters words based ontheir co-occurrence in a respective document.\n",
    "\n",
    "### Assumptions for LDA\n",
    "1. Documents with similar topics use similar groups of words\n",
    "2. Latent topics can be found by searching for groups of words that frequently occur together in documents across corpus\n",
    "3. Documents are probability distributions over latent topics that signifies certain document will contain more words of specific topic\n",
    "4. Topics themselves are probability distribution over words\n",
    "\n",
    "### Goal: To find out what users speak about\n",
    "\n",
    "One can use any vectorizer and not just count vectorizer e.g. tfidf - experiment!\n",
    "\n",
    "### Steps that we will follow are below:\n",
    "1. Get the data\n",
    "2. Data cleaning\n",
    "3. Get the tokens\n",
    "4. "
   ]
  },
  {
   "cell_type": "code",
   "execution_count": 218,
   "metadata": {},
   "outputs": [],
   "source": [
    "# Setting to ignore warnings\n",
    "import warnings\n",
    "warnings.filterwarnings(\"ignore\")\n",
    "pd.set_option('display.max_colwidth', 150)"
   ]
  },
  {
   "cell_type": "code",
   "execution_count": 219,
   "metadata": {},
   "outputs": [],
   "source": [
    "# Import libraries\n",
    "import pandas as pd\n",
    "import matplotlib.pyplot as plt\n",
    "import seaborn as sns\n",
    "sns.set()\n",
    "import nltk\n",
    "import numpy as np\n",
    "from nltk.tokenize import RegexpTokenizer\n",
    "from sklearn.model_selection import train_test_split\n",
    "from sklearn.feature_extraction.text import CountVectorizer, TfidfTransformer\n",
    "from sklearn.decomposition import LatentDirichletAllocation\n",
    "\n",
    "# Text processing libraries\n",
    "import re\n",
    "from nltk.corpus import stopwords\n",
    "import emoji\n",
    "import contractions  # from https://github.com/kootenpv/contractions\n",
    "import string\n"
   ]
  },
  {
   "cell_type": "code",
   "execution_count": 220,
   "metadata": {},
   "outputs": [
    {
     "data": {
      "text/html": [
       "<div>\n",
       "<style scoped>\n",
       "    .dataframe tbody tr th:only-of-type {\n",
       "        vertical-align: middle;\n",
       "    }\n",
       "\n",
       "    .dataframe tbody tr th {\n",
       "        vertical-align: top;\n",
       "    }\n",
       "\n",
       "    .dataframe thead th {\n",
       "        text-align: right;\n",
       "    }\n",
       "</style>\n",
       "<table border=\"1\" class=\"dataframe\">\n",
       "  <thead>\n",
       "    <tr style=\"text-align: right;\">\n",
       "      <th></th>\n",
       "      <th>Review</th>\n",
       "      <th>Rating</th>\n",
       "    </tr>\n",
       "  </thead>\n",
       "  <tbody>\n",
       "    <tr>\n",
       "      <th>0</th>\n",
       "      <td>Great music service, the audio is high quality and the app is easy to use. Also very quick and friendly support.</td>\n",
       "      <td>5</td>\n",
       "    </tr>\n",
       "    <tr>\n",
       "      <th>1</th>\n",
       "      <td>Please ignore previous negative rating. This app is super great. I give it five stars+</td>\n",
       "      <td>5</td>\n",
       "    </tr>\n",
       "    <tr>\n",
       "      <th>2</th>\n",
       "      <td>This pop-up \"Get the best Spotify experience on Android 12\" is too annoying. Please let's get rid of this.</td>\n",
       "      <td>4</td>\n",
       "    </tr>\n",
       "    <tr>\n",
       "      <th>3</th>\n",
       "      <td>Really buggy and terrible to use as of recently</td>\n",
       "      <td>1</td>\n",
       "    </tr>\n",
       "    <tr>\n",
       "      <th>4</th>\n",
       "      <td>Dear Spotify why do I get songs that I didn't put on my playlist??? And why do we have shuffle play?</td>\n",
       "      <td>1</td>\n",
       "    </tr>\n",
       "    <tr>\n",
       "      <th>5</th>\n",
       "      <td>The player controls sometimes disappear for no reason. App restart forgets what I was playing but fixes the issue.</td>\n",
       "      <td>3</td>\n",
       "    </tr>\n",
       "    <tr>\n",
       "      <th>6</th>\n",
       "      <td>I love the selection and the lyrics are provided with the song you're listening to!</td>\n",
       "      <td>5</td>\n",
       "    </tr>\n",
       "    <tr>\n",
       "      <th>7</th>\n",
       "      <td>Still extremely slow when changing storage to external sd card.. I'm convinced this is done on purpose, spotify knows of this issue and has done N...</td>\n",
       "      <td>3</td>\n",
       "    </tr>\n",
       "    <tr>\n",
       "      <th>8</th>\n",
       "      <td>It's a great app and the best mp3 music app I have ever used but there is one problem that, why can't we play some songs or find some songs? despi...</td>\n",
       "      <td>5</td>\n",
       "    </tr>\n",
       "    <tr>\n",
       "      <th>9</th>\n",
       "      <td>I'm deleting this app, for the following reasons: This app now has a failing business model. Whether streaming services like it, or not: the consu...</td>\n",
       "      <td>1</td>\n",
       "    </tr>\n",
       "  </tbody>\n",
       "</table>\n",
       "</div>"
      ],
      "text/plain": [
       "                                                                                                                                                  Review  \\\n",
       "0                                       Great music service, the audio is high quality and the app is easy to use. Also very quick and friendly support.   \n",
       "1                                                                 Please ignore previous negative rating. This app is super great. I give it five stars+   \n",
       "2                                             This pop-up \"Get the best Spotify experience on Android 12\" is too annoying. Please let's get rid of this.   \n",
       "3                                                                                                        Really buggy and terrible to use as of recently   \n",
       "4                                                   Dear Spotify why do I get songs that I didn't put on my playlist??? And why do we have shuffle play?   \n",
       "5                                     The player controls sometimes disappear for no reason. App restart forgets what I was playing but fixes the issue.   \n",
       "6                                                                    I love the selection and the lyrics are provided with the song you're listening to!   \n",
       "7  Still extremely slow when changing storage to external sd card.. I'm convinced this is done on purpose, spotify knows of this issue and has done N...   \n",
       "8  It's a great app and the best mp3 music app I have ever used but there is one problem that, why can't we play some songs or find some songs? despi...   \n",
       "9  I'm deleting this app, for the following reasons: This app now has a failing business model. Whether streaming services like it, or not: the consu...   \n",
       "\n",
       "   Rating  \n",
       "0       5  \n",
       "1       5  \n",
       "2       4  \n",
       "3       1  \n",
       "4       1  \n",
       "5       3  \n",
       "6       5  \n",
       "7       3  \n",
       "8       5  \n",
       "9       1  "
      ]
     },
     "execution_count": 220,
     "metadata": {},
     "output_type": "execute_result"
    }
   ],
   "source": [
    "# Read data and clean a bit\n",
    "spotify = pd.read_csv(\"../data/raw/spotify_review_kaggle.csv\")\n",
    "data_in = spotify.copy()\n",
    "data_in = data_in.drop_duplicates(subset=\"Review\")  # Drop dupes in Reviews\n",
    "data_in.drop([\"Time_submitted\", \"Total_thumbsup\",\n",
    "             \"Reply\"], axis=1, inplace=True)\n",
    "data_in[\"Length\"] = data_in[\"Review\"].str.split(\" \").str.len()\n",
    "data_in = data_in[data_in.Length < 150]\n",
    "data_in.drop([\"Length\"], axis=1, inplace=True)\n",
    "data = data_in\n",
    "data.head(10)"
   ]
  },
  {
   "cell_type": "markdown",
   "metadata": {},
   "source": [
    "### Clean data"
   ]
  },
  {
   "cell_type": "code",
   "execution_count": 221,
   "metadata": {},
   "outputs": [],
   "source": [
    "## Define a function to do some text cleaning\n",
    "def clean_text(text):\n",
    "    text = emoji.demojize(text)  # fix emojis\n",
    "    text = contractions.fix(text)  # fix contractions\n",
    "    text = re.sub(r'[^\\x00-\\x7f]', r'', text)  # remove strange fonts\n",
    "    text = re.sub(r\"\\d+\", \"number\", text)  # replace numbers with \"number\"\n",
    "    text = re.sub(r'[^\\w\\s]', '', text)  # remove non-alphanumeric chars\n",
    "    text = re.sub(r'\\b\\w{1}\\b', '', text) # remove words less than 3 characters\n",
    "    text = text.replace('_', ' ')  # replace underscores with space\n",
    "    text = text.strip()  # strip extra spaces\n",
    "    return text.lower()"
   ]
  },
  {
   "cell_type": "code",
   "execution_count": 222,
   "metadata": {},
   "outputs": [
    {
     "data": {
      "text/plain": [
       "'red heart spotify even though it is critizised for exploiting artists'"
      ]
     },
     "execution_count": 222,
     "metadata": {},
     "output_type": "execute_result"
    }
   ],
   "source": [
    "## Test our text cleaner\n",
    "clean_text(\"I ❤️ Spotify, even though it is critizised for exploiting artists\")"
   ]
  },
  {
   "cell_type": "code",
   "execution_count": 223,
   "metadata": {},
   "outputs": [],
   "source": [
    "## Apply to all data\n",
    "data[\"Review\"] = data[\"Review\"].apply(clean_text)"
   ]
  },
  {
   "cell_type": "code",
   "execution_count": 224,
   "metadata": {},
   "outputs": [],
   "source": [
    "## Tokenize/remove punctuations\n",
    "tokenizer = RegexpTokenizer(r'\\w+')"
   ]
  },
  {
   "cell_type": "code",
   "execution_count": 225,
   "metadata": {},
   "outputs": [],
   "source": [
    "data[\"Tokens\"] = data[\"Review\"].apply(tokenizer.tokenize)"
   ]
  },
  {
   "cell_type": "code",
   "execution_count": 226,
   "metadata": {},
   "outputs": [
    {
     "data": {
      "text/html": [
       "<div>\n",
       "<style scoped>\n",
       "    .dataframe tbody tr th:only-of-type {\n",
       "        vertical-align: middle;\n",
       "    }\n",
       "\n",
       "    .dataframe tbody tr th {\n",
       "        vertical-align: top;\n",
       "    }\n",
       "\n",
       "    .dataframe thead th {\n",
       "        text-align: right;\n",
       "    }\n",
       "</style>\n",
       "<table border=\"1\" class=\"dataframe\">\n",
       "  <thead>\n",
       "    <tr style=\"text-align: right;\">\n",
       "      <th></th>\n",
       "      <th>Review</th>\n",
       "      <th>Rating</th>\n",
       "      <th>Tokens</th>\n",
       "    </tr>\n",
       "  </thead>\n",
       "  <tbody>\n",
       "    <tr>\n",
       "      <th>32202</th>\n",
       "      <td>quite  good application  enjoy the wide variety of music</td>\n",
       "      <td>5</td>\n",
       "      <td>[quite, good, application, enjoy, the, wide, variety, of, music]</td>\n",
       "    </tr>\n",
       "    <tr>\n",
       "      <th>19109</th>\n",
       "      <td>paid for premium number times and still had the ads</td>\n",
       "      <td>2</td>\n",
       "      <td>[paid, for, premium, number, times, and, still, had, the, ads]</td>\n",
       "    </tr>\n",
       "    <tr>\n",
       "      <th>55830</th>\n",
       "      <td>there are  lot of ads  am at the position of deleting this app otherwise it is ok</td>\n",
       "      <td>1</td>\n",
       "      <td>[there, are, lot, of, ads, am, at, the, position, of, deleting, this, app, otherwise, it, is, ok]</td>\n",
       "    </tr>\n",
       "    <tr>\n",
       "      <th>50304</th>\n",
       "      <td>best app everrrrr cannot believe how much music  have been introduced to through their recommendations based on music  already like ilove that you...</td>\n",
       "      <td>5</td>\n",
       "      <td>[best, app, everrrrr, cannot, believe, how, much, music, have, been, introduced, to, through, their, recommendations, based, on, music, already, l...</td>\n",
       "    </tr>\n",
       "    <tr>\n",
       "      <th>38821</th>\n",
       "      <td>spotify is  great app for listening music the best but podcasts oh man it terrible yeah it got ton of exclusive podcasts but podcast section of ap...</td>\n",
       "      <td>3</td>\n",
       "      <td>[spotify, is, great, app, for, listening, music, the, best, but, podcasts, oh, man, it, terrible, yeah, it, got, ton, of, exclusive, podcasts, but...</td>\n",
       "    </tr>\n",
       "    <tr>\n",
       "      <th>48158</th>\n",
       "      <td>new for some months  had problem accessing what  have downloaded after two weeks it is automatically deleted without my permission forced to redow...</td>\n",
       "      <td>4</td>\n",
       "      <td>[new, for, some, months, had, problem, accessing, what, have, downloaded, after, two, weeks, it, is, automatically, deleted, without, my, permissi...</td>\n",
       "    </tr>\n",
       "    <tr>\n",
       "      <th>26874</th>\n",
       "      <td>great device brilliant acsess to the music  like</td>\n",
       "      <td>5</td>\n",
       "      <td>[great, device, brilliant, acsess, to, the, music, like]</td>\n",
       "    </tr>\n",
       "    <tr>\n",
       "      <th>60056</th>\n",
       "      <td>this streaming service is very laggy and it is so hard to listen to even  single number minute song without it taking number minutes to play til t...</td>\n",
       "      <td>5</td>\n",
       "      <td>[this, streaming, service, is, very, laggy, and, it, is, so, hard, to, listen, to, even, single, number, minute, song, without, it, taking, number...</td>\n",
       "    </tr>\n",
       "    <tr>\n",
       "      <th>55922</th>\n",
       "      <td>clear crisp audio with uninterrupted number minute play</td>\n",
       "      <td>5</td>\n",
       "      <td>[clear, crisp, audio, with, uninterrupted, number, minute, play]</td>\n",
       "    </tr>\n",
       "    <tr>\n",
       "      <th>4765</th>\n",
       "      <td>had to switch accounts due to  mistake now after  logged out the app will not even load  have done everything possible number times over  nothing ...</td>\n",
       "      <td>1</td>\n",
       "      <td>[had, to, switch, accounts, due, to, mistake, now, after, logged, out, the, app, will, not, even, load, have, done, everything, possible, number, ...</td>\n",
       "    </tr>\n",
       "  </tbody>\n",
       "</table>\n",
       "</div>"
      ],
      "text/plain": [
       "                                                                                                                                                      Review  \\\n",
       "32202                                                                                               quite  good application  enjoy the wide variety of music   \n",
       "19109                                                                                                    paid for premium number times and still had the ads   \n",
       "55830                                                                      there are  lot of ads  am at the position of deleting this app otherwise it is ok   \n",
       "50304  best app everrrrr cannot believe how much music  have been introduced to through their recommendations based on music  already like ilove that you...   \n",
       "38821  spotify is  great app for listening music the best but podcasts oh man it terrible yeah it got ton of exclusive podcasts but podcast section of ap...   \n",
       "48158  new for some months  had problem accessing what  have downloaded after two weeks it is automatically deleted without my permission forced to redow...   \n",
       "26874                                                                                                       great device brilliant acsess to the music  like   \n",
       "60056  this streaming service is very laggy and it is so hard to listen to even  single number minute song without it taking number minutes to play til t...   \n",
       "55922                                                                                                clear crisp audio with uninterrupted number minute play   \n",
       "4765   had to switch accounts due to  mistake now after  logged out the app will not even load  have done everything possible number times over  nothing ...   \n",
       "\n",
       "       Rating  \\\n",
       "32202       5   \n",
       "19109       2   \n",
       "55830       1   \n",
       "50304       5   \n",
       "38821       3   \n",
       "48158       4   \n",
       "26874       5   \n",
       "60056       5   \n",
       "55922       5   \n",
       "4765        1   \n",
       "\n",
       "                                                                                                                                                      Tokens  \n",
       "32202                                                                                       [quite, good, application, enjoy, the, wide, variety, of, music]  \n",
       "19109                                                                                         [paid, for, premium, number, times, and, still, had, the, ads]  \n",
       "55830                                                      [there, are, lot, of, ads, am, at, the, position, of, deleting, this, app, otherwise, it, is, ok]  \n",
       "50304  [best, app, everrrrr, cannot, believe, how, much, music, have, been, introduced, to, through, their, recommendations, based, on, music, already, l...  \n",
       "38821  [spotify, is, great, app, for, listening, music, the, best, but, podcasts, oh, man, it, terrible, yeah, it, got, ton, of, exclusive, podcasts, but...  \n",
       "48158  [new, for, some, months, had, problem, accessing, what, have, downloaded, after, two, weeks, it, is, automatically, deleted, without, my, permissi...  \n",
       "26874                                                                                               [great, device, brilliant, acsess, to, the, music, like]  \n",
       "60056  [this, streaming, service, is, very, laggy, and, it, is, so, hard, to, listen, to, even, single, number, minute, song, without, it, taking, number...  \n",
       "55922                                                                                       [clear, crisp, audio, with, uninterrupted, number, minute, play]  \n",
       "4765   [had, to, switch, accounts, due, to, mistake, now, after, logged, out, the, app, will, not, even, load, have, done, everything, possible, number, ...  "
      ]
     },
     "execution_count": 226,
     "metadata": {},
     "output_type": "execute_result"
    }
   ],
   "source": [
    "data.sample(10)"
   ]
  },
  {
   "cell_type": "code",
   "execution_count": 227,
   "metadata": {},
   "outputs": [
    {
     "data": {
      "text/html": [
       "<div>\n",
       "<style scoped>\n",
       "    .dataframe tbody tr th:only-of-type {\n",
       "        vertical-align: middle;\n",
       "    }\n",
       "\n",
       "    .dataframe tbody tr th {\n",
       "        vertical-align: top;\n",
       "    }\n",
       "\n",
       "    .dataframe thead th {\n",
       "        text-align: right;\n",
       "    }\n",
       "</style>\n",
       "<table border=\"1\" class=\"dataframe\">\n",
       "  <thead>\n",
       "    <tr style=\"text-align: right;\">\n",
       "      <th></th>\n",
       "      <th>Review</th>\n",
       "      <th>Rating</th>\n",
       "      <th>Tokens</th>\n",
       "    </tr>\n",
       "  </thead>\n",
       "  <tbody>\n",
       "    <tr>\n",
       "      <th>41127</th>\n",
       "      <td>it is so easy to use and  find it more convenient when  want to listen to  particular artist like there is always  playlist on spotify for each ar...</td>\n",
       "      <td>5</td>\n",
       "      <td>[easy, use, find, convenient, want, listen, particular, artist, always, playlist, artist]</td>\n",
       "    </tr>\n",
       "    <tr>\n",
       "      <th>57087</th>\n",
       "      <td>your new updates are terrible  cannot do this garbage if it does not change  will no longer be  paying costumer like how do you rewind or fast for...</td>\n",
       "      <td>1</td>\n",
       "      <td>[new, updates, terrible, garbage, change, longer, paying, costumer, rewind, fast, forward, even, skip, songs, stop, god, sakes, stop]</td>\n",
       "    </tr>\n",
       "    <tr>\n",
       "      <th>22193</th>\n",
       "      <td>genremood filter not working plays all my songs regardless of the genre  choose</td>\n",
       "      <td>2</td>\n",
       "      <td>[genremood, filter, working, plays, songs, regardless, genre, choose]</td>\n",
       "    </tr>\n",
       "    <tr>\n",
       "      <th>49023</th>\n",
       "      <td>love the app but recently  cannot go to premium everytime  want to activate premium its always failed to connect somehow you always plays ad to go...</td>\n",
       "      <td>2</td>\n",
       "      <td>[recently, go, premium, everytime, want, activate, premium, always, failed, connect, somehow, always, plays, ad, go, premium, always, allowed]</td>\n",
       "    </tr>\n",
       "    <tr>\n",
       "      <th>12154</th>\n",
       "      <td>this is more bag because  play music is others music play plss respond</td>\n",
       "      <td>2</td>\n",
       "      <td>[bag, play, music, others, music, play, plss, respond]</td>\n",
       "    </tr>\n",
       "  </tbody>\n",
       "</table>\n",
       "</div>"
      ],
      "text/plain": [
       "                                                                                                                                                      Review  \\\n",
       "41127  it is so easy to use and  find it more convenient when  want to listen to  particular artist like there is always  playlist on spotify for each ar...   \n",
       "57087  your new updates are terrible  cannot do this garbage if it does not change  will no longer be  paying costumer like how do you rewind or fast for...   \n",
       "22193                                                                        genremood filter not working plays all my songs regardless of the genre  choose   \n",
       "49023  love the app but recently  cannot go to premium everytime  want to activate premium its always failed to connect somehow you always plays ad to go...   \n",
       "12154                                                                                 this is more bag because  play music is others music play plss respond   \n",
       "\n",
       "       Rating  \\\n",
       "41127       5   \n",
       "57087       1   \n",
       "22193       2   \n",
       "49023       2   \n",
       "12154       2   \n",
       "\n",
       "                                                                                                                                               Tokens  \n",
       "41127                                                       [easy, use, find, convenient, want, listen, particular, artist, always, playlist, artist]  \n",
       "57087           [new, updates, terrible, garbage, change, longer, paying, costumer, rewind, fast, forward, even, skip, songs, stop, god, sakes, stop]  \n",
       "22193                                                                           [genremood, filter, working, plays, songs, regardless, genre, choose]  \n",
       "49023  [recently, go, premium, everytime, want, activate, premium, always, failed, connect, somehow, always, plays, ad, go, premium, always, allowed]  \n",
       "12154                                                                                          [bag, play, music, others, music, play, plss, respond]  "
      ]
     },
     "execution_count": 227,
     "metadata": {},
     "output_type": "execute_result"
    }
   ],
   "source": [
    "# Get NLTK English stopwords\n",
    "our_stopwords = set(stopwords.words('english'))\n",
    "additional_stopwords = [\"spotify\", \"app\", \"apps\", \"cannot\", \"like\", \"love\", \"much\", \"many\"]\n",
    "for word in additional_stopwords:\n",
    "    our_stopwords.add(word)\n",
    "#our_stopwords.remove(\"not\")\n",
    "# Remove stopwords\n",
    "# We loop through each list of words and remove stopwords\n",
    "data['Tokens'] = data['Tokens'].apply(lambda x: [word for word in x if word not in (our_stopwords)])\n",
    "data.sample(5)"
   ]
  },
  {
   "cell_type": "code",
   "execution_count": 228,
   "metadata": {},
   "outputs": [
    {
     "name": "stdout",
     "output_type": "stream",
     "text": [
      "(46009,) (15337,)\n"
     ]
    }
   ],
   "source": [
    "## Split data in train and test\n",
    "X_train, X_test = train_test_split(data['Tokens'], test_size=0.25, random_state=42)\n",
    "print(X_train.shape, X_test.shape)"
   ]
  },
  {
   "cell_type": "code",
   "execution_count": 229,
   "metadata": {},
   "outputs": [],
   "source": [
    "## Count Vectorizer\n",
    "def dummy(doc):\n",
    "    return doc\n",
    "\n",
    "count_vectorizer = CountVectorizer(tokenizer=dummy, preprocessor=dummy, max_features = 10000, ngram_range = (1,3))\n",
    "\n",
    "X_train_counts = count_vectorizer.fit_transform(X_train)"
   ]
  },
  {
   "cell_type": "code",
   "execution_count": 230,
   "metadata": {},
   "outputs": [],
   "source": [
    "## make TFIDF matrix\n",
    "tfidf_vectorizer = TfidfTransformer()\n",
    "\n",
    "X_train_tfidf = tfidf_vectorizer.fit_transform(X_train_counts)"
   ]
  },
  {
   "cell_type": "code",
   "execution_count": 231,
   "metadata": {},
   "outputs": [
    {
     "data": {
      "text/plain": [
       "10000"
      ]
     },
     "execution_count": 231,
     "metadata": {},
     "output_type": "execute_result"
    }
   ],
   "source": [
    "## Get number of features from vectorizer and it shall match number of features that we provide to it\n",
    "len(count_vectorizer.get_feature_names())"
   ]
  },
  {
   "cell_type": "code",
   "execution_count": 232,
   "metadata": {},
   "outputs": [
    {
     "data": {
      "text/plain": [
       "LatentDirichletAllocation(n_components=4, random_state=42)"
      ]
     },
     "execution_count": 232,
     "metadata": {},
     "output_type": "execute_result"
    }
   ],
   "source": [
    "## Fit model\n",
    "LDA = LatentDirichletAllocation(n_components=4,random_state=42)\n",
    "LDA.fit(X_train_tfidf)"
   ]
  },
  {
   "cell_type": "code",
   "execution_count": 233,
   "metadata": {},
   "outputs": [
    {
     "name": "stdout",
     "output_type": "stream",
     "text": [
      "Number of components:  4\n"
     ]
    }
   ],
   "source": [
    "## Number of components (=topics)\n",
    "n_components = len(LDA.components_)\n",
    "print(\"Number of components: \", n_components)"
   ]
  },
  {
   "cell_type": "code",
   "execution_count": 239,
   "metadata": {},
   "outputs": [
    {
     "name": "stdout",
     "output_type": "stream",
     "text": [
      "THE TOP 15 WORDS FOR TOPIC #0\n",
      "['playing', 'update', 'phone', 'music', 'play', 'stop', 'fix', 'work', 'number', 'time', 'keeps', 'last', 'even', 'working', 'bar']\n",
      "\n",
      "\n",
      "THE TOP 15 WORDS FOR TOPIC #1\n",
      "['music', 'songs', 'listen', 'best', 'great', 'good', 'use', 'playlist', 'premium', 'easy', 'want', 'number', 'would', 'best music', 'free']\n",
      "\n",
      "\n",
      "THE TOP 15 WORDS FOR TOPIC #2\n",
      "['song', 'play', 'songs', 'fix', 'please', 'every', 'face', 'number', 'want', 'problem', 'lyrics', 'play song', 'internet', 'even', 'please fix']\n",
      "\n",
      "\n",
      "THE TOP 15 WORDS FOR TOPIC #3\n",
      "['ads', 'music', 'good', 'number', 'songs', 'listening', 'face', 'great', 'smiling', 'nice', 'ad', 'favorite', 'listen', 'podcasts', 'adds']\n",
      "\n",
      "\n"
     ]
    }
   ],
   "source": [
    "#\n",
    "for index,topic in enumerate(LDA.components_):\n",
    "    print(f'THE TOP 15 WORDS FOR TOPIC #{index}')\n",
    "    print([count_vectorizer.get_feature_names()[index] for index in (-topic).argsort()[:15]])\n",
    "    print('\\n')"
   ]
  },
  {
   "cell_type": "code",
   "execution_count": 240,
   "metadata": {},
   "outputs": [],
   "source": [
    "## Let's give a descriptive name to the topics\n",
    "lda_topics = ['fix_update_phone', 'spotify_is_awesome', 'please_fix_something', 'ads_and_premium']"
   ]
  },
  {
   "cell_type": "code",
   "execution_count": 243,
   "metadata": {},
   "outputs": [],
   "source": [
    "def get_model_topics(model, vectorizer, topics, n_top_words=10):    \n",
    "    word_dict = {}    \n",
    "    feature_names = vectorizer.get_feature_names()    \n",
    "    for topic_idx, topic in enumerate(model.components_):        \n",
    "        top_features_ind = topic.argsort()[:-n_top_words - 1:-1]        \n",
    "        top_features = [feature_names[i] for i in top_features_ind]        \n",
    "        word_dict[topics[topic_idx]] = top_features\n",
    "    return pd.DataFrame(word_dict)"
   ]
  },
  {
   "cell_type": "code",
   "execution_count": 244,
   "metadata": {},
   "outputs": [
    {
     "data": {
      "text/html": [
       "<div>\n",
       "<style scoped>\n",
       "    .dataframe tbody tr th:only-of-type {\n",
       "        vertical-align: middle;\n",
       "    }\n",
       "\n",
       "    .dataframe tbody tr th {\n",
       "        vertical-align: top;\n",
       "    }\n",
       "\n",
       "    .dataframe thead th {\n",
       "        text-align: right;\n",
       "    }\n",
       "</style>\n",
       "<table border=\"1\" class=\"dataframe\">\n",
       "  <thead>\n",
       "    <tr style=\"text-align: right;\">\n",
       "      <th></th>\n",
       "      <th>fix_update_phone</th>\n",
       "      <th>spotify_is_awesome</th>\n",
       "      <th>please_fix_something</th>\n",
       "      <th>ads_and_premium</th>\n",
       "    </tr>\n",
       "  </thead>\n",
       "  <tbody>\n",
       "    <tr>\n",
       "      <th>0</th>\n",
       "      <td>playing</td>\n",
       "      <td>music</td>\n",
       "      <td>song</td>\n",
       "      <td>ads</td>\n",
       "    </tr>\n",
       "    <tr>\n",
       "      <th>1</th>\n",
       "      <td>update</td>\n",
       "      <td>songs</td>\n",
       "      <td>play</td>\n",
       "      <td>music</td>\n",
       "    </tr>\n",
       "    <tr>\n",
       "      <th>2</th>\n",
       "      <td>phone</td>\n",
       "      <td>listen</td>\n",
       "      <td>songs</td>\n",
       "      <td>good</td>\n",
       "    </tr>\n",
       "    <tr>\n",
       "      <th>3</th>\n",
       "      <td>music</td>\n",
       "      <td>best</td>\n",
       "      <td>fix</td>\n",
       "      <td>number</td>\n",
       "    </tr>\n",
       "    <tr>\n",
       "      <th>4</th>\n",
       "      <td>play</td>\n",
       "      <td>great</td>\n",
       "      <td>please</td>\n",
       "      <td>songs</td>\n",
       "    </tr>\n",
       "    <tr>\n",
       "      <th>5</th>\n",
       "      <td>stop</td>\n",
       "      <td>good</td>\n",
       "      <td>every</td>\n",
       "      <td>listening</td>\n",
       "    </tr>\n",
       "    <tr>\n",
       "      <th>6</th>\n",
       "      <td>fix</td>\n",
       "      <td>use</td>\n",
       "      <td>face</td>\n",
       "      <td>face</td>\n",
       "    </tr>\n",
       "    <tr>\n",
       "      <th>7</th>\n",
       "      <td>work</td>\n",
       "      <td>playlist</td>\n",
       "      <td>number</td>\n",
       "      <td>great</td>\n",
       "    </tr>\n",
       "    <tr>\n",
       "      <th>8</th>\n",
       "      <td>number</td>\n",
       "      <td>premium</td>\n",
       "      <td>want</td>\n",
       "      <td>smiling</td>\n",
       "    </tr>\n",
       "    <tr>\n",
       "      <th>9</th>\n",
       "      <td>time</td>\n",
       "      <td>easy</td>\n",
       "      <td>problem</td>\n",
       "      <td>nice</td>\n",
       "    </tr>\n",
       "  </tbody>\n",
       "</table>\n",
       "</div>"
      ],
      "text/plain": [
       "  fix_update_phone spotify_is_awesome please_fix_something ads_and_premium\n",
       "0          playing              music                 song             ads\n",
       "1           update              songs                 play           music\n",
       "2            phone             listen                songs            good\n",
       "3            music               best                  fix          number\n",
       "4             play              great               please           songs\n",
       "5             stop               good                every       listening\n",
       "6              fix                use                 face            face\n",
       "7             work           playlist               number           great\n",
       "8           number            premium                 want         smiling\n",
       "9             time               easy              problem            nice"
      ]
     },
     "execution_count": 244,
     "metadata": {},
     "output_type": "execute_result"
    }
   ],
   "source": [
    "get_model_topics(LDA, count_vectorizer, lda_topics)"
   ]
  },
  {
   "cell_type": "code",
   "execution_count": 245,
   "metadata": {},
   "outputs": [],
   "source": [
    "topic_results = LDA.transform(X_train_tfidf)"
   ]
  },
  {
   "cell_type": "code",
   "execution_count": 246,
   "metadata": {},
   "outputs": [],
   "source": [
    "# Split original data\n",
    "data_train, _ = train_test_split(data, test_size=0.25, random_state=42)"
   ]
  },
  {
   "cell_type": "code",
   "execution_count": 260,
   "metadata": {},
   "outputs": [
    {
     "data": {
      "text/html": [
       "<div>\n",
       "<style scoped>\n",
       "    .dataframe tbody tr th:only-of-type {\n",
       "        vertical-align: middle;\n",
       "    }\n",
       "\n",
       "    .dataframe tbody tr th {\n",
       "        vertical-align: top;\n",
       "    }\n",
       "\n",
       "    .dataframe thead th {\n",
       "        text-align: right;\n",
       "    }\n",
       "</style>\n",
       "<table border=\"1\" class=\"dataframe\">\n",
       "  <thead>\n",
       "    <tr style=\"text-align: right;\">\n",
       "      <th></th>\n",
       "      <th>Review</th>\n",
       "      <th>Topic_number</th>\n",
       "    </tr>\n",
       "  </thead>\n",
       "  <tbody>\n",
       "    <tr>\n",
       "      <th>24184</th>\n",
       "      <td>love the app been useing it for maybe  few months maybe like number do not know but  love it found  song  love sad  cannot repeat it anymore but s...</td>\n",
       "      <td>1</td>\n",
       "    </tr>\n",
       "    <tr>\n",
       "      <th>15907</th>\n",
       "      <td>all the music you want just the playlists you need content increases daily</td>\n",
       "      <td>1</td>\n",
       "    </tr>\n",
       "    <tr>\n",
       "      <th>42352</th>\n",
       "      <td>been enjoyingloving premium for about  year  have used other streaming services namely ytm and  have no idea what took me so long to try spotify w...</td>\n",
       "      <td>1</td>\n",
       "    </tr>\n",
       "    <tr>\n",
       "      <th>19795</th>\n",
       "      <td>it is nice but the only problem that  have is that when  play song from my favorite selection it will play my favorite songs but wonce there done ...</td>\n",
       "      <td>2</td>\n",
       "    </tr>\n",
       "    <tr>\n",
       "      <th>46762</th>\n",
       "      <td>it kicked me out of my account and now it does not let me log in never changed anything nor did  forget my info all it says is error when putting ...</td>\n",
       "      <td>3</td>\n",
       "    </tr>\n",
       "    <tr>\n",
       "      <th>18586</th>\n",
       "      <td>with the new update my search box is broken music does not play anymore all my likeddownloaded music was deleted and the app is pretty much comple...</td>\n",
       "      <td>0</td>\n",
       "    </tr>\n",
       "    <tr>\n",
       "      <th>30565</th>\n",
       "      <td>being able to download podcasts and listen when  am in the middle of nowhere is  life saver spotty wifis got nothing on spotify face with tears of...</td>\n",
       "      <td>2</td>\n",
       "    </tr>\n",
       "    <tr>\n",
       "      <th>57033</th>\n",
       "      <td>probably the best app to listen to music on songs hardly ever take time lodaing and almost any music you can think of can be found there the ads g...</td>\n",
       "      <td>1</td>\n",
       "    </tr>\n",
       "    <tr>\n",
       "      <th>48851</th>\n",
       "      <td>love this app  like listening to music while  fall asleep and this helps me  lot</td>\n",
       "      <td>1</td>\n",
       "    </tr>\n",
       "    <tr>\n",
       "      <th>34674</th>\n",
       "      <td>something going on with the app used to work great but now the player display has gone so cannot pause and have to restart my phone to stop palyin...</td>\n",
       "      <td>0</td>\n",
       "    </tr>\n",
       "  </tbody>\n",
       "</table>\n",
       "</div>"
      ],
      "text/plain": [
       "                                                                                                                                                      Review  \\\n",
       "24184  love the app been useing it for maybe  few months maybe like number do not know but  love it found  song  love sad  cannot repeat it anymore but s...   \n",
       "15907                                                                             all the music you want just the playlists you need content increases daily   \n",
       "42352  been enjoyingloving premium for about  year  have used other streaming services namely ytm and  have no idea what took me so long to try spotify w...   \n",
       "19795  it is nice but the only problem that  have is that when  play song from my favorite selection it will play my favorite songs but wonce there done ...   \n",
       "46762  it kicked me out of my account and now it does not let me log in never changed anything nor did  forget my info all it says is error when putting ...   \n",
       "18586  with the new update my search box is broken music does not play anymore all my likeddownloaded music was deleted and the app is pretty much comple...   \n",
       "30565  being able to download podcasts and listen when  am in the middle of nowhere is  life saver spotty wifis got nothing on spotify face with tears of...   \n",
       "57033  probably the best app to listen to music on songs hardly ever take time lodaing and almost any music you can think of can be found there the ads g...   \n",
       "48851                                                                       love this app  like listening to music while  fall asleep and this helps me  lot   \n",
       "34674  something going on with the app used to work great but now the player display has gone so cannot pause and have to restart my phone to stop palyin...   \n",
       "\n",
       "       Topic_number  \n",
       "24184             1  \n",
       "15907             1  \n",
       "42352             1  \n",
       "19795             2  \n",
       "46762             3  \n",
       "18586             0  \n",
       "30565             2  \n",
       "57033             1  \n",
       "48851             1  \n",
       "34674             0  "
      ]
     },
     "execution_count": 260,
     "metadata": {},
     "output_type": "execute_result"
    }
   ],
   "source": [
    "pd.set_option('display.max_colwidth', 150)\n",
    "data_train['Topic_number'] = topic_results.argmax(axis=1)\n",
    "data_train[[\"Review\", \"Topic_number\"]].sample(10)"
   ]
  },
  {
   "cell_type": "code",
   "execution_count": 67,
   "metadata": {},
   "outputs": [
    {
     "data": {
      "text/plain": [
       "1724.032346537392"
      ]
     },
     "execution_count": 67,
     "metadata": {},
     "output_type": "execute_result"
    }
   ],
   "source": [
    "LDA.perplexity(X_train_counts)"
   ]
  },
  {
   "cell_type": "code",
   "execution_count": 68,
   "metadata": {},
   "outputs": [
    {
     "data": {
      "text/plain": [
       "-7863772.507264096"
      ]
     },
     "execution_count": 68,
     "metadata": {},
     "output_type": "execute_result"
    }
   ],
   "source": [
    "LDA.score(X_train_counts)"
   ]
  },
  {
   "cell_type": "code",
   "execution_count": 267,
   "metadata": {},
   "outputs": [],
   "source": [
    "def assign_topic_name(topic_number):\n",
    "    if topic_number == 0:\n",
    "        return lda_topics[0]\n",
    "    if topic_number == 1:\n",
    "        return lda_topics[1]\n",
    "    if topic_number == 2:\n",
    "        return lda_topics[2]\n",
    "    if topic_number == 3:\n",
    "        return lda_topics[3]\n",
    "    if topic_number == 4:\n",
    "        return lda_topics[4]\n",
    "\n",
    "\n",
    "data_train[\"Topic_name\"] = data_train[\"Topic_number\"].apply(assign_topic_name)"
   ]
  },
  {
   "cell_type": "code",
   "execution_count": 268,
   "metadata": {},
   "outputs": [
    {
     "data": {
      "text/html": [
       "<div>\n",
       "<style scoped>\n",
       "    .dataframe tbody tr th:only-of-type {\n",
       "        vertical-align: middle;\n",
       "    }\n",
       "\n",
       "    .dataframe tbody tr th {\n",
       "        vertical-align: top;\n",
       "    }\n",
       "\n",
       "    .dataframe thead th {\n",
       "        text-align: right;\n",
       "    }\n",
       "</style>\n",
       "<table border=\"1\" class=\"dataframe\">\n",
       "  <thead>\n",
       "    <tr style=\"text-align: right;\">\n",
       "      <th></th>\n",
       "      <th>Review</th>\n",
       "      <th>Rating</th>\n",
       "      <th>Tokens</th>\n",
       "      <th>Topic</th>\n",
       "      <th>Topic_number</th>\n",
       "      <th>Topic_name</th>\n",
       "    </tr>\n",
       "  </thead>\n",
       "  <tbody>\n",
       "    <tr>\n",
       "      <th>55388</th>\n",
       "      <td>am having issues ensuring my songs stay downloaded to the sd card android user this seems to happen with each update so you are telling me that  n...</td>\n",
       "      <td>2</td>\n",
       "      <td>[issues, ensuring, songs, stay, downloaded, sd, card, android, user, seems, happen, update, telling, uninstall, install, time, make, sure, downloa...</td>\n",
       "      <td>0</td>\n",
       "      <td>0</td>\n",
       "      <td>fix_update_phone</td>\n",
       "    </tr>\n",
       "    <tr>\n",
       "      <th>11881</th>\n",
       "      <td>do not want to write but  get number ads and then that number mins free one  it is ok but today this study app shows me number ads and that number...</td>\n",
       "      <td>1</td>\n",
       "      <td>[want, write, get, number, ads, number, mins, free, one, ok, today, study, shows, number, ads, number, min, free, one, glitch, something, understa...</td>\n",
       "      <td>3</td>\n",
       "      <td>3</td>\n",
       "      <td>ads_and_premium</td>\n",
       "    </tr>\n",
       "    <tr>\n",
       "      <th>11131</th>\n",
       "      <td>your app is constantly stopping  love spotify but it is enough to make me stop using it</td>\n",
       "      <td>1</td>\n",
       "      <td>[constantly, stopping, enough, make, stop, using]</td>\n",
       "      <td>0</td>\n",
       "      <td>0</td>\n",
       "      <td>fix_update_phone</td>\n",
       "    </tr>\n",
       "    <tr>\n",
       "      <th>31476</th>\n",
       "      <td>pay for premium also be so kind and fix the glitches</td>\n",
       "      <td>4</td>\n",
       "      <td>[pay, premium, also, kind, fix, glitches]</td>\n",
       "      <td>1</td>\n",
       "      <td>1</td>\n",
       "      <td>spotify_is_awesome</td>\n",
       "    </tr>\n",
       "    <tr>\n",
       "      <th>35924</th>\n",
       "      <td>the spotify session feature is trash there are  lot of glitches and  cannot listen to my local files also now they are unliking my songs somehow</td>\n",
       "      <td>1</td>\n",
       "      <td>[session, feature, trash, lot, glitches, listen, local, files, also, unliking, songs, somehow]</td>\n",
       "      <td>0</td>\n",
       "      <td>0</td>\n",
       "      <td>fix_update_phone</td>\n",
       "    </tr>\n",
       "    <tr>\n",
       "      <th>3336</th>\n",
       "      <td>brilliant ap  have the paid for version the free one is difficult to use as the songs do not play in order but the paid for ap is fantastic</td>\n",
       "      <td>5</td>\n",
       "      <td>[brilliant, ap, paid, version, free, one, difficult, use, songs, play, order, paid, ap, fantastic]</td>\n",
       "      <td>1</td>\n",
       "      <td>1</td>\n",
       "      <td>spotify_is_awesome</td>\n",
       "    </tr>\n",
       "    <tr>\n",
       "      <th>14285</th>\n",
       "      <td>would like  dislike button so  can tell the app not to place that song in my randomized lists again besides that this is the best music app</td>\n",
       "      <td>4</td>\n",
       "      <td>[would, dislike, button, tell, place, song, randomized, lists, besides, best, music]</td>\n",
       "      <td>1</td>\n",
       "      <td>1</td>\n",
       "      <td>spotify_is_awesome</td>\n",
       "    </tr>\n",
       "    <tr>\n",
       "      <th>11903</th>\n",
       "      <td>is fast but the playlist update is the problem</td>\n",
       "      <td>3</td>\n",
       "      <td>[fast, playlist, update, problem]</td>\n",
       "      <td>0</td>\n",
       "      <td>0</td>\n",
       "      <td>fix_update_phone</td>\n",
       "    </tr>\n",
       "    <tr>\n",
       "      <th>13555</th>\n",
       "      <td>best music apps out their that they should pay us for listening to music on it it is that good</td>\n",
       "      <td>5</td>\n",
       "      <td>[best, music, pay, us, listening, music, good]</td>\n",
       "      <td>1</td>\n",
       "      <td>1</td>\n",
       "      <td>spotify_is_awesome</td>\n",
       "    </tr>\n",
       "    <tr>\n",
       "      <th>22885</th>\n",
       "      <td>it was  great app until they decided to squeeze the play and skip buttons as far left as possible there was nothing wrong with the old balanced de...</td>\n",
       "      <td>2</td>\n",
       "      <td>[great, decided, squeeze, play, skip, buttons, far, left, possible, nothing, wrong, old, balanced, design, right, handed, large, phone, impractica...</td>\n",
       "      <td>0</td>\n",
       "      <td>0</td>\n",
       "      <td>fix_update_phone</td>\n",
       "    </tr>\n",
       "  </tbody>\n",
       "</table>\n",
       "</div>"
      ],
      "text/plain": [
       "                                                                                                                                                      Review  \\\n",
       "55388  am having issues ensuring my songs stay downloaded to the sd card android user this seems to happen with each update so you are telling me that  n...   \n",
       "11881  do not want to write but  get number ads and then that number mins free one  it is ok but today this study app shows me number ads and that number...   \n",
       "11131                                                                your app is constantly stopping  love spotify but it is enough to make me stop using it   \n",
       "31476                                                                                                   pay for premium also be so kind and fix the glitches   \n",
       "35924       the spotify session feature is trash there are  lot of glitches and  cannot listen to my local files also now they are unliking my songs somehow   \n",
       "3336             brilliant ap  have the paid for version the free one is difficult to use as the songs do not play in order but the paid for ap is fantastic   \n",
       "14285            would like  dislike button so  can tell the app not to place that song in my randomized lists again besides that this is the best music app   \n",
       "11903                                                                                                         is fast but the playlist update is the problem   \n",
       "13555                                                         best music apps out their that they should pay us for listening to music on it it is that good   \n",
       "22885  it was  great app until they decided to squeeze the play and skip buttons as far left as possible there was nothing wrong with the old balanced de...   \n",
       "\n",
       "       Rating  \\\n",
       "55388       2   \n",
       "11881       1   \n",
       "11131       1   \n",
       "31476       4   \n",
       "35924       1   \n",
       "3336        5   \n",
       "14285       4   \n",
       "11903       3   \n",
       "13555       5   \n",
       "22885       2   \n",
       "\n",
       "                                                                                                                                                      Tokens  \\\n",
       "55388  [issues, ensuring, songs, stay, downloaded, sd, card, android, user, seems, happen, update, telling, uninstall, install, time, make, sure, downloa...   \n",
       "11881  [want, write, get, number, ads, number, mins, free, one, ok, today, study, shows, number, ads, number, min, free, one, glitch, something, understa...   \n",
       "11131                                                                                                      [constantly, stopping, enough, make, stop, using]   \n",
       "31476                                                                                                              [pay, premium, also, kind, fix, glitches]   \n",
       "35924                                                         [session, feature, trash, lot, glitches, listen, local, files, also, unliking, songs, somehow]   \n",
       "3336                                                      [brilliant, ap, paid, version, free, one, difficult, use, songs, play, order, paid, ap, fantastic]   \n",
       "14285                                                                   [would, dislike, button, tell, place, song, randomized, lists, besides, best, music]   \n",
       "11903                                                                                                                      [fast, playlist, update, problem]   \n",
       "13555                                                                                                         [best, music, pay, us, listening, music, good]   \n",
       "22885  [great, decided, squeeze, play, skip, buttons, far, left, possible, nothing, wrong, old, balanced, design, right, handed, large, phone, impractica...   \n",
       "\n",
       "       Topic  Topic_number          Topic_name  \n",
       "55388      0             0    fix_update_phone  \n",
       "11881      3             3     ads_and_premium  \n",
       "11131      0             0    fix_update_phone  \n",
       "31476      1             1  spotify_is_awesome  \n",
       "35924      0             0    fix_update_phone  \n",
       "3336       1             1  spotify_is_awesome  \n",
       "14285      1             1  spotify_is_awesome  \n",
       "11903      0             0    fix_update_phone  \n",
       "13555      1             1  spotify_is_awesome  \n",
       "22885      0             0    fix_update_phone  "
      ]
     },
     "execution_count": 268,
     "metadata": {},
     "output_type": "execute_result"
    }
   ],
   "source": [
    "data_train.sample(10)"
   ]
  },
  {
   "cell_type": "code",
   "execution_count": 280,
   "metadata": {},
   "outputs": [
    {
     "data": {
      "text/html": [
       "<div>\n",
       "<style scoped>\n",
       "    .dataframe tbody tr th:only-of-type {\n",
       "        vertical-align: middle;\n",
       "    }\n",
       "\n",
       "    .dataframe tbody tr th {\n",
       "        vertical-align: top;\n",
       "    }\n",
       "\n",
       "    .dataframe thead th {\n",
       "        text-align: right;\n",
       "    }\n",
       "</style>\n",
       "<table border=\"1\" class=\"dataframe\">\n",
       "  <thead>\n",
       "    <tr style=\"text-align: right;\">\n",
       "      <th></th>\n",
       "      <th>Topic_name</th>\n",
       "      <th>Count</th>\n",
       "    </tr>\n",
       "  </thead>\n",
       "  <tbody>\n",
       "    <tr>\n",
       "      <th>0</th>\n",
       "      <td>spotify_is_awesome</td>\n",
       "      <td>19686</td>\n",
       "    </tr>\n",
       "    <tr>\n",
       "      <th>1</th>\n",
       "      <td>fix_update_phone</td>\n",
       "      <td>13709</td>\n",
       "    </tr>\n",
       "    <tr>\n",
       "      <th>2</th>\n",
       "      <td>ads_and_premium</td>\n",
       "      <td>6390</td>\n",
       "    </tr>\n",
       "    <tr>\n",
       "      <th>3</th>\n",
       "      <td>please_fix_something</td>\n",
       "      <td>6224</td>\n",
       "    </tr>\n",
       "  </tbody>\n",
       "</table>\n",
       "</div>"
      ],
      "text/plain": [
       "             Topic_name  Count\n",
       "0    spotify_is_awesome  19686\n",
       "1      fix_update_phone  13709\n",
       "2       ads_and_premium   6390\n",
       "3  please_fix_something   6224"
      ]
     },
     "execution_count": 280,
     "metadata": {},
     "output_type": "execute_result"
    }
   ],
   "source": [
    "topic_f = pd.DataFrame(data_train[\"Topic_name\"].value_counts()).reset_index()\n",
    "topic_f.columns = [\"Topic_name\", \"Count\"]\n",
    "topic_f"
   ]
  },
  {
   "cell_type": "code",
   "execution_count": 287,
   "metadata": {},
   "outputs": [
    {
     "data": {
      "image/png": "[encoded data removed]",
      "text/plain": [
       "<Figure size 800x400 with 1 Axes>"
      ]
     },
     "metadata": {},
     "output_type": "display_data"
    }
   ],
   "source": [
    "## Plot per country\n",
    "sns.set_theme(style=\"whitegrid\")\n",
    "\n",
    "f, ax = plt.subplots(figsize=(4,2),dpi=200)\n",
    "\n",
    "sns.set_color_codes(\"pastel\")\n",
    "sns.barplot(x=\"Count\", \n",
    "            y=\"Topic_name\", \n",
    "            data=topic_f,\n",
    "            color = \"#EDC2A7\")\n",
    "\n",
    "ax.set(xlim=(0, 20000), ylabel=\"\",\n",
    "       xlabel=\"N\")\n",
    "ax.bar_label(ax.containers[0], size=5, label_type=\"edge\", padding=0, color=\"#999DA0\")\n",
    "plt.suptitle(\"Topic Frequency in Training Data\")\n",
    "\n",
    "ax.tick_params(labelsize=8)\n",
    "\n",
    "sns.despine(left=True, bottom=True)"
   ]
  },
  {
   "cell_type": "code",
   "execution_count": 19,
   "metadata": {},
   "outputs": [],
   "source": [
    "# # Fit model\n",
    "# perplexities = []\n",
    "# scores = []\n",
    "# for n_topic in range(2,40,5):\n",
    "#     LDA = LatentDirichletAllocation(n_components=n_topic,random_state=42)\n",
    "#     LDA.fit(X_train_counts)\n",
    "\n",
    "#     perplexities.append(LDA.perplexity(X_train_counts))\n",
    "#     scores.append(LDA.score(X_train_counts))"
   ]
  },
  {
   "cell_type": "code",
   "execution_count": 20,
   "metadata": {},
   "outputs": [
    {
     "data": {
      "text/plain": [
       "[1873.4875890604776,\n",
       " 1604.864441814075,\n",
       " 1586.136041368198,\n",
       " 1561.2975854831523,\n",
       " 1582.0079032887143,\n",
       " 1585.4526173839465,\n",
       " 1617.617934997826,\n",
       " 1620.5224290464132]"
      ]
     },
     "execution_count": 20,
     "metadata": {},
     "output_type": "execute_result"
    }
   ],
   "source": [
    "# perplexities"
   ]
  },
  {
   "cell_type": "code",
   "execution_count": 21,
   "metadata": {},
   "outputs": [
    {
     "data": {
      "text/plain": [
       "[-7951497.133128195,\n",
       " -7788192.290062701,\n",
       " -7775805.968601594,\n",
       " -7759151.124461923,\n",
       " -7773056.09267523,\n",
       " -7775351.214201408,\n",
       " -7796544.557933093,\n",
       " -7798437.505047149]"
      ]
     },
     "execution_count": 21,
     "metadata": {},
     "output_type": "execute_result"
    }
   ],
   "source": [
    "# scores"
   ]
  },
  {
   "cell_type": "code",
   "execution_count": null,
   "metadata": {},
   "outputs": [],
   "source": [
    "## To-Do\n",
    "# Topic and its visualization against word\n",
    "# Check against test data\n",
    "# Coherence measure\n",
    "# Think of considering app as stopword as its present in almost all topics\n",
    "# Make use of time column from data and see how topic changes over time"
   ]
  }
 ],
 "metadata": {
  "kernelspec": {
   "display_name": "Python 3.10.4 64-bit",
   "language": "python",
   "name": "python3"
  },
  "language_info": {
   "codemirror_mode": {
    "name": "ipython",
    "version": 3
   },
   "file_extension": ".py",
   "mimetype": "text/x-python",
   "name": "python",
   "nbconvert_exporter": "python",
   "pygments_lexer": "ipython3",
   "version": "3.10.4"
  },
  "orig_nbformat": 4,
  "vscode": {
   "interpreter": {
    "hash": "ba89649856ee0ebb4f5d432fb84526bc860cc927389973834ceef247cbb7120d"
   }
  }
 },
 "nbformat": 4,
 "nbformat_minor": 2
}

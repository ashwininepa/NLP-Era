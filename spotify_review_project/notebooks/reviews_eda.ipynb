{
 "cells": [
  {
   "cell_type": "markdown",
   "metadata": {},
   "source": [
    "## NLP stuff with Spotify User Reviews\n",
    "\n",
    "Here we load, preprocess and explore Spotify user reviews to learn NLP preprocessing methods and gain first insights into the dataset."
   ]
  },
  {
   "cell_type": "code",
   "execution_count": 339,
   "metadata": {},
   "outputs": [],
   "source": [
    "## Setting to ignore warnings\n",
    "import warnings\n",
    "warnings.filterwarnings(\"ignore\")"
   ]
  },
  {
   "cell_type": "code",
   "execution_count": 340,
   "metadata": {},
   "outputs": [],
   "source": [
    "## Import general libraries\n",
    "import pandas as pd\n",
    "import numpy as np\n",
    "import seaborn as sns\n",
    "import matplotlib.pyplot as plt\n",
    "import matplotlib.ticker as ticker"
   ]
  },
  {
   "cell_type": "code",
   "execution_count": 341,
   "metadata": {},
   "outputs": [],
   "source": [
    "## Read data and copy\n",
    "spotify = pd.read_csv(\"../data/raw/spotify_review_kaggle.csv\")\n",
    "data_in = spotify.copy()"
   ]
  },
  {
   "cell_type": "code",
   "execution_count": 342,
   "metadata": {},
   "outputs": [
    {
     "data": {
      "text/html": [
       "<div>\n",
       "<style scoped>\n",
       "    .dataframe tbody tr th:only-of-type {\n",
       "        vertical-align: middle;\n",
       "    }\n",
       "\n",
       "    .dataframe tbody tr th {\n",
       "        vertical-align: top;\n",
       "    }\n",
       "\n",
       "    .dataframe thead th {\n",
       "        text-align: right;\n",
       "    }\n",
       "</style>\n",
       "<table border=\"1\" class=\"dataframe\">\n",
       "  <thead>\n",
       "    <tr style=\"text-align: right;\">\n",
       "      <th></th>\n",
       "      <th>Time_submitted</th>\n",
       "      <th>Review</th>\n",
       "      <th>Rating</th>\n",
       "      <th>Total_thumbsup</th>\n",
       "      <th>Reply</th>\n",
       "    </tr>\n",
       "  </thead>\n",
       "  <tbody>\n",
       "    <tr>\n",
       "      <th>0</th>\n",
       "      <td>2022-07-09 15:00:00</td>\n",
       "      <td>Great music service, the audio is high quality...</td>\n",
       "      <td>5</td>\n",
       "      <td>2</td>\n",
       "      <td>NaN</td>\n",
       "    </tr>\n",
       "    <tr>\n",
       "      <th>1</th>\n",
       "      <td>2022-07-09 14:21:22</td>\n",
       "      <td>Please ignore previous negative rating. This a...</td>\n",
       "      <td>5</td>\n",
       "      <td>1</td>\n",
       "      <td>NaN</td>\n",
       "    </tr>\n",
       "    <tr>\n",
       "      <th>2</th>\n",
       "      <td>2022-07-09 13:27:32</td>\n",
       "      <td>This pop-up \"Get the best Spotify experience o...</td>\n",
       "      <td>4</td>\n",
       "      <td>0</td>\n",
       "      <td>NaN</td>\n",
       "    </tr>\n",
       "    <tr>\n",
       "      <th>3</th>\n",
       "      <td>2022-07-09 13:26:45</td>\n",
       "      <td>Really buggy and terrible to use as of recently</td>\n",
       "      <td>1</td>\n",
       "      <td>1</td>\n",
       "      <td>NaN</td>\n",
       "    </tr>\n",
       "    <tr>\n",
       "      <th>4</th>\n",
       "      <td>2022-07-09 13:20:49</td>\n",
       "      <td>Dear Spotify why do I get songs that I didn't ...</td>\n",
       "      <td>1</td>\n",
       "      <td>1</td>\n",
       "      <td>NaN</td>\n",
       "    </tr>\n",
       "    <tr>\n",
       "      <th>5</th>\n",
       "      <td>2022-07-09 13:20:20</td>\n",
       "      <td>The player controls sometimes disappear for no...</td>\n",
       "      <td>3</td>\n",
       "      <td>7</td>\n",
       "      <td>NaN</td>\n",
       "    </tr>\n",
       "    <tr>\n",
       "      <th>6</th>\n",
       "      <td>2022-07-09 13:19:21</td>\n",
       "      <td>I love the selection and the lyrics are provid...</td>\n",
       "      <td>5</td>\n",
       "      <td>0</td>\n",
       "      <td>NaN</td>\n",
       "    </tr>\n",
       "    <tr>\n",
       "      <th>7</th>\n",
       "      <td>2022-07-09 13:17:22</td>\n",
       "      <td>Still extremely slow when changing storage to ...</td>\n",
       "      <td>3</td>\n",
       "      <td>16</td>\n",
       "      <td>NaN</td>\n",
       "    </tr>\n",
       "    <tr>\n",
       "      <th>8</th>\n",
       "      <td>2022-07-09 13:16:49</td>\n",
       "      <td>It's a great app and the best mp3 music app I ...</td>\n",
       "      <td>5</td>\n",
       "      <td>0</td>\n",
       "      <td>NaN</td>\n",
       "    </tr>\n",
       "    <tr>\n",
       "      <th>9</th>\n",
       "      <td>2022-07-09 13:11:32</td>\n",
       "      <td>I'm deleting this app, for the following reaso...</td>\n",
       "      <td>1</td>\n",
       "      <td>318</td>\n",
       "      <td>NaN</td>\n",
       "    </tr>\n",
       "  </tbody>\n",
       "</table>\n",
       "</div>"
      ],
      "text/plain": [
       "        Time_submitted                                             Review  \\\n",
       "0  2022-07-09 15:00:00  Great music service, the audio is high quality...   \n",
       "1  2022-07-09 14:21:22  Please ignore previous negative rating. This a...   \n",
       "2  2022-07-09 13:27:32  This pop-up \"Get the best Spotify experience o...   \n",
       "3  2022-07-09 13:26:45    Really buggy and terrible to use as of recently   \n",
       "4  2022-07-09 13:20:49  Dear Spotify why do I get songs that I didn't ...   \n",
       "5  2022-07-09 13:20:20  The player controls sometimes disappear for no...   \n",
       "6  2022-07-09 13:19:21  I love the selection and the lyrics are provid...   \n",
       "7  2022-07-09 13:17:22  Still extremely slow when changing storage to ...   \n",
       "8  2022-07-09 13:16:49  It's a great app and the best mp3 music app I ...   \n",
       "9  2022-07-09 13:11:32  I'm deleting this app, for the following reaso...   \n",
       "\n",
       "   Rating  Total_thumbsup Reply  \n",
       "0       5               2   NaN  \n",
       "1       5               1   NaN  \n",
       "2       4               0   NaN  \n",
       "3       1               1   NaN  \n",
       "4       1               1   NaN  \n",
       "5       3               7   NaN  \n",
       "6       5               0   NaN  \n",
       "7       3              16   NaN  \n",
       "8       5               0   NaN  \n",
       "9       1             318   NaN  "
      ]
     },
     "execution_count": 342,
     "metadata": {},
     "output_type": "execute_result"
    }
   ],
   "source": [
    "## Check Data\n",
    "data_in.head(10)"
   ]
  },
  {
   "cell_type": "code",
   "execution_count": 343,
   "metadata": {},
   "outputs": [
    {
     "data": {
      "text/plain": [
       "19216    Great app 👌 but if they could put some more op...\n",
       "56745    Prefer a platform that doesn't traffic in misi...\n",
       "39601    Excellent. The only thing missing is program n...\n",
       "42066    I like the app because I can play background m...\n",
       "32210    I use it almost every day on my other computer...\n",
       "20663    This is a first class app for music new old re...\n",
       "42664    I mean it's not the best but I give it 5 stars...\n",
       "58820    Newest update isn't showing or giving access t...\n",
       "27741    Says I am offline but I am not. It doesn't wor...\n",
       "35839    Having issues with the app and no one to talk ...\n",
       "Name: Review, dtype: object"
      ]
     },
     "execution_count": 343,
     "metadata": {},
     "output_type": "execute_result"
    }
   ],
   "source": [
    "## Sample some reviews\n",
    "data_in[\"Review\"].sample(10)"
   ]
  },
  {
   "cell_type": "code",
   "execution_count": 344,
   "metadata": {},
   "outputs": [
    {
     "name": "stdout",
     "output_type": "stream",
     "text": [
      "<class 'pandas.core.frame.DataFrame'>\n",
      "RangeIndex: 61594 entries, 0 to 61593\n",
      "Data columns (total 5 columns):\n",
      " #   Column          Non-Null Count  Dtype \n",
      "---  ------          --------------  ----- \n",
      " 0   Time_submitted  61594 non-null  object\n",
      " 1   Review          61594 non-null  object\n",
      " 2   Rating          61594 non-null  int64 \n",
      " 3   Total_thumbsup  61594 non-null  int64 \n",
      " 4   Reply           216 non-null    object\n",
      "dtypes: int64(2), object(3)\n",
      "memory usage: 2.3+ MB\n"
     ]
    }
   ],
   "source": [
    "## Data info\n",
    "data_in.info()"
   ]
  },
  {
   "cell_type": "code",
   "execution_count": 345,
   "metadata": {},
   "outputs": [
    {
     "name": "stdout",
     "output_type": "stream",
     "text": [
      "Before dropping duplicates:  61594\n",
      "After dropping duplicates:  61356\n"
     ]
    }
   ],
   "source": [
    "## Remove duplicates\n",
    "## Since we are changing the raw input data, let's change the name to data\n",
    "print(\"Before dropping duplicates: \", len(data_in))\n",
    "data = data_in.drop_duplicates(subset=\"Review\")\n",
    "print(\"After dropping duplicates: \", len(data))\n"
   ]
  },
  {
   "cell_type": "code",
   "execution_count": 346,
   "metadata": {},
   "outputs": [
    {
     "data": {
      "text/html": [
       "<div>\n",
       "<style scoped>\n",
       "    .dataframe tbody tr th:only-of-type {\n",
       "        vertical-align: middle;\n",
       "    }\n",
       "\n",
       "    .dataframe tbody tr th {\n",
       "        vertical-align: top;\n",
       "    }\n",
       "\n",
       "    .dataframe thead th {\n",
       "        text-align: right;\n",
       "    }\n",
       "</style>\n",
       "<table border=\"1\" class=\"dataframe\">\n",
       "  <thead>\n",
       "    <tr style=\"text-align: right;\">\n",
       "      <th></th>\n",
       "      <th>Review</th>\n",
       "      <th>Rating</th>\n",
       "    </tr>\n",
       "  </thead>\n",
       "  <tbody>\n",
       "    <tr>\n",
       "      <th>0</th>\n",
       "      <td>Great music service, the audio is high quality...</td>\n",
       "      <td>5</td>\n",
       "    </tr>\n",
       "    <tr>\n",
       "      <th>1</th>\n",
       "      <td>Please ignore previous negative rating. This a...</td>\n",
       "      <td>5</td>\n",
       "    </tr>\n",
       "    <tr>\n",
       "      <th>2</th>\n",
       "      <td>This pop-up \"Get the best Spotify experience o...</td>\n",
       "      <td>4</td>\n",
       "    </tr>\n",
       "    <tr>\n",
       "      <th>3</th>\n",
       "      <td>Really buggy and terrible to use as of recently</td>\n",
       "      <td>1</td>\n",
       "    </tr>\n",
       "    <tr>\n",
       "      <th>4</th>\n",
       "      <td>Dear Spotify why do I get songs that I didn't ...</td>\n",
       "      <td>1</td>\n",
       "    </tr>\n",
       "  </tbody>\n",
       "</table>\n",
       "</div>"
      ],
      "text/plain": [
       "                                              Review  Rating\n",
       "0  Great music service, the audio is high quality...       5\n",
       "1  Please ignore previous negative rating. This a...       5\n",
       "2  This pop-up \"Get the best Spotify experience o...       4\n",
       "3    Really buggy and terrible to use as of recently       1\n",
       "4  Dear Spotify why do I get songs that I didn't ...       1"
      ]
     },
     "execution_count": 346,
     "metadata": {},
     "output_type": "execute_result"
    }
   ],
   "source": [
    "## Drop unused cols\n",
    "data.drop([\"Time_submitted\", \"Total_thumbsup\", \"Reply\"], axis=1, inplace=True)\n",
    "data.head(5)"
   ]
  },
  {
   "cell_type": "code",
   "execution_count": 347,
   "metadata": {},
   "outputs": [
    {
     "data": {
      "text/html": [
       "<div>\n",
       "<style scoped>\n",
       "    .dataframe tbody tr th:only-of-type {\n",
       "        vertical-align: middle;\n",
       "    }\n",
       "\n",
       "    .dataframe tbody tr th {\n",
       "        vertical-align: top;\n",
       "    }\n",
       "\n",
       "    .dataframe thead th {\n",
       "        text-align: right;\n",
       "    }\n",
       "</style>\n",
       "<table border=\"1\" class=\"dataframe\">\n",
       "  <thead>\n",
       "    <tr style=\"text-align: right;\">\n",
       "      <th></th>\n",
       "      <th>Review</th>\n",
       "      <th>Rating</th>\n",
       "      <th>Length</th>\n",
       "    </tr>\n",
       "  </thead>\n",
       "  <tbody>\n",
       "    <tr>\n",
       "      <th>0</th>\n",
       "      <td>Great music service, the audio is high quality...</td>\n",
       "      <td>5</td>\n",
       "      <td>21</td>\n",
       "    </tr>\n",
       "    <tr>\n",
       "      <th>1</th>\n",
       "      <td>Please ignore previous negative rating. This a...</td>\n",
       "      <td>5</td>\n",
       "      <td>15</td>\n",
       "    </tr>\n",
       "    <tr>\n",
       "      <th>2</th>\n",
       "      <td>This pop-up \"Get the best Spotify experience o...</td>\n",
       "      <td>4</td>\n",
       "      <td>19</td>\n",
       "    </tr>\n",
       "    <tr>\n",
       "      <th>3</th>\n",
       "      <td>Really buggy and terrible to use as of recently</td>\n",
       "      <td>1</td>\n",
       "      <td>9</td>\n",
       "    </tr>\n",
       "    <tr>\n",
       "      <th>4</th>\n",
       "      <td>Dear Spotify why do I get songs that I didn't ...</td>\n",
       "      <td>1</td>\n",
       "      <td>21</td>\n",
       "    </tr>\n",
       "  </tbody>\n",
       "</table>\n",
       "</div>"
      ],
      "text/plain": [
       "                                              Review  Rating  Length\n",
       "0  Great music service, the audio is high quality...       5      21\n",
       "1  Please ignore previous negative rating. This a...       5      15\n",
       "2  This pop-up \"Get the best Spotify experience o...       4      19\n",
       "3    Really buggy and terrible to use as of recently       1       9\n",
       "4  Dear Spotify why do I get songs that I didn't ...       1      21"
      ]
     },
     "execution_count": 347,
     "metadata": {},
     "output_type": "execute_result"
    }
   ],
   "source": [
    "## Ad col for reviews length of review in words\n",
    "data[\"Length\"] = data[\"Review\"].str.split(\" \").str.len()\n",
    "data.head()"
   ]
  },
  {
   "cell_type": "code",
   "execution_count": 348,
   "metadata": {},
   "outputs": [
    {
     "data": {
      "text/html": [
       "<div>\n",
       "<style scoped>\n",
       "    .dataframe tbody tr th:only-of-type {\n",
       "        vertical-align: middle;\n",
       "    }\n",
       "\n",
       "    .dataframe tbody tr th {\n",
       "        vertical-align: top;\n",
       "    }\n",
       "\n",
       "    .dataframe thead th {\n",
       "        text-align: right;\n",
       "    }\n",
       "</style>\n",
       "<table border=\"1\" class=\"dataframe\">\n",
       "  <thead>\n",
       "    <tr style=\"text-align: right;\">\n",
       "      <th></th>\n",
       "      <th>Review</th>\n",
       "      <th>Rating</th>\n",
       "      <th>Length</th>\n",
       "    </tr>\n",
       "  </thead>\n",
       "  <tbody>\n",
       "    <tr>\n",
       "      <th>24628</th>\n",
       "      <td>Easy-to-use software</td>\n",
       "      <td>5</td>\n",
       "      <td>2</td>\n",
       "    </tr>\n",
       "    <tr>\n",
       "      <th>30670</th>\n",
       "      <td>Powerful,Spirit-touching songs</td>\n",
       "      <td>5</td>\n",
       "      <td>2</td>\n",
       "    </tr>\n",
       "    <tr>\n",
       "      <th>27164</th>\n",
       "      <td>Best music service</td>\n",
       "      <td>5</td>\n",
       "      <td>3</td>\n",
       "    </tr>\n",
       "    <tr>\n",
       "      <th>4562</th>\n",
       "      <td>Always interrupts ads</td>\n",
       "      <td>1</td>\n",
       "      <td>3</td>\n",
       "    </tr>\n",
       "    <tr>\n",
       "      <th>4569</th>\n",
       "      <td>To many advertisement!!!</td>\n",
       "      <td>1</td>\n",
       "      <td>3</td>\n",
       "    </tr>\n",
       "    <tr>\n",
       "      <th>9923</th>\n",
       "      <td>Too much ads.</td>\n",
       "      <td>1</td>\n",
       "      <td>3</td>\n",
       "    </tr>\n",
       "    <tr>\n",
       "      <th>4572</th>\n",
       "      <td>Love no ads!</td>\n",
       "      <td>5</td>\n",
       "      <td>3</td>\n",
       "    </tr>\n",
       "    <tr>\n",
       "      <th>33635</th>\n",
       "      <td>Brilliant music app</td>\n",
       "      <td>5</td>\n",
       "      <td>3</td>\n",
       "    </tr>\n",
       "    <tr>\n",
       "      <th>9938</th>\n",
       "      <td>Full of adds</td>\n",
       "      <td>1</td>\n",
       "      <td>3</td>\n",
       "    </tr>\n",
       "    <tr>\n",
       "      <th>13112</th>\n",
       "      <td>Great and dynamic</td>\n",
       "      <td>5</td>\n",
       "      <td>3</td>\n",
       "    </tr>\n",
       "  </tbody>\n",
       "</table>\n",
       "</div>"
      ],
      "text/plain": [
       "                               Review  Rating  Length\n",
       "24628            Easy-to-use software       5       2\n",
       "30670  Powerful,Spirit-touching songs       5       2\n",
       "27164              Best music service       5       3\n",
       "4562            Always interrupts ads       1       3\n",
       "4569         To many advertisement!!!       1       3\n",
       "9923                    Too much ads.       1       3\n",
       "4572                     Love no ads!       5       3\n",
       "33635             Brilliant music app       5       3\n",
       "9938                     Full of adds       1       3\n",
       "13112               Great and dynamic       5       3"
      ]
     },
     "execution_count": 348,
     "metadata": {},
     "output_type": "execute_result"
    }
   ],
   "source": [
    "## Check shortest reviews\n",
    "data.sort_values(\"Length\").head(10)"
   ]
  },
  {
   "cell_type": "code",
   "execution_count": 349,
   "metadata": {},
   "outputs": [
    {
     "data": {
      "text/html": [
       "<div>\n",
       "<style scoped>\n",
       "    .dataframe tbody tr th:only-of-type {\n",
       "        vertical-align: middle;\n",
       "    }\n",
       "\n",
       "    .dataframe tbody tr th {\n",
       "        vertical-align: top;\n",
       "    }\n",
       "\n",
       "    .dataframe thead th {\n",
       "        text-align: right;\n",
       "    }\n",
       "</style>\n",
       "<table border=\"1\" class=\"dataframe\">\n",
       "  <thead>\n",
       "    <tr style=\"text-align: right;\">\n",
       "      <th></th>\n",
       "      <th>Review</th>\n",
       "      <th>Rating</th>\n",
       "      <th>Length</th>\n",
       "    </tr>\n",
       "  </thead>\n",
       "  <tbody>\n",
       "    <tr>\n",
       "      <th>61568</th>\n",
       "      <td>I have been using Spotify premium. Biggest dis...</td>\n",
       "      <td>3</td>\n",
       "      <td>150</td>\n",
       "    </tr>\n",
       "    <tr>\n",
       "      <th>24495</th>\n",
       "      <td>SPOTIFY IS TERRIBLE! Before podcasts, Spotify ...</td>\n",
       "      <td>1</td>\n",
       "      <td>157</td>\n",
       "    </tr>\n",
       "    <tr>\n",
       "      <th>23836</th>\n",
       "      <td>Works fine for my phone, however for the past ...</td>\n",
       "      <td>2</td>\n",
       "      <td>159</td>\n",
       "    </tr>\n",
       "    <tr>\n",
       "      <th>27916</th>\n",
       "      <td>Edit - came back to remove a star. Jesus cance...</td>\n",
       "      <td>2</td>\n",
       "      <td>165</td>\n",
       "    </tr>\n",
       "    <tr>\n",
       "      <th>19664</th>\n",
       "      <td>Spotify is a great way to listen to music alth...</td>\n",
       "      <td>4</td>\n",
       "      <td>175</td>\n",
       "    </tr>\n",
       "    <tr>\n",
       "      <th>40973</th>\n",
       "      <td>Although I like Spotify and I use it a lot (an...</td>\n",
       "      <td>3</td>\n",
       "      <td>185</td>\n",
       "    </tr>\n",
       "    <tr>\n",
       "      <th>26055</th>\n",
       "      <td>I am giving the 3 month free trial a go and so...</td>\n",
       "      <td>4</td>\n",
       "      <td>219</td>\n",
       "    </tr>\n",
       "    <tr>\n",
       "      <th>46004</th>\n",
       "      <td>I am using Spotify soon for a year, before I u...</td>\n",
       "      <td>4</td>\n",
       "      <td>222</td>\n",
       "    </tr>\n",
       "    <tr>\n",
       "      <th>20489</th>\n",
       "      <td>Attention Android Users: unfortunately, there ...</td>\n",
       "      <td>1</td>\n",
       "      <td>279</td>\n",
       "    </tr>\n",
       "    <tr>\n",
       "      <th>40566</th>\n",
       "      <td>I very rarely leave reviews and if I do, they'...</td>\n",
       "      <td>1</td>\n",
       "      <td>699</td>\n",
       "    </tr>\n",
       "  </tbody>\n",
       "</table>\n",
       "</div>"
      ],
      "text/plain": [
       "                                                  Review  Rating  Length\n",
       "61568  I have been using Spotify premium. Biggest dis...       3     150\n",
       "24495  SPOTIFY IS TERRIBLE! Before podcasts, Spotify ...       1     157\n",
       "23836  Works fine for my phone, however for the past ...       2     159\n",
       "27916  Edit - came back to remove a star. Jesus cance...       2     165\n",
       "19664  Spotify is a great way to listen to music alth...       4     175\n",
       "40973  Although I like Spotify and I use it a lot (an...       3     185\n",
       "26055  I am giving the 3 month free trial a go and so...       4     219\n",
       "46004  I am using Spotify soon for a year, before I u...       4     222\n",
       "20489  Attention Android Users: unfortunately, there ...       1     279\n",
       "40566  I very rarely leave reviews and if I do, they'...       1     699"
      ]
     },
     "execution_count": 349,
     "metadata": {},
     "output_type": "execute_result"
    }
   ],
   "source": [
    "## Check longest reviews\n",
    "data.sort_values(\"Length\").tail(10)"
   ]
  },
  {
   "cell_type": "code",
   "execution_count": 350,
   "metadata": {},
   "outputs": [
    {
     "data": {
      "text/plain": [
       "<Figure size 1200x600 with 0 Axes>"
      ]
     },
     "metadata": {},
     "output_type": "display_data"
    },
    {
     "data": {
      "image/png": "[encoded data removed]",
      "text/plain": [
       "<Figure size 720x360 with 1 Axes>"
      ]
     },
     "metadata": {
      "needs_background": "light"
     },
     "output_type": "display_data"
    }
   ],
   "source": [
    "## Plot Review Length as hist\n",
    "plt.figure(figsize=(4,2), dpi=300)\n",
    "ax = sns.displot(data[\"Length\"], kind=\"hist\", fill=True, aspect=2, bins=75, log=True);"
   ]
  },
  {
   "cell_type": "code",
   "execution_count": 351,
   "metadata": {},
   "outputs": [
    {
     "data": {
      "text/plain": [
       "count    61356.000000\n",
       "mean        30.991786\n",
       "std         22.724590\n",
       "min          2.000000\n",
       "25%         14.000000\n",
       "50%         25.000000\n",
       "75%         42.000000\n",
       "max        699.000000\n",
       "Name: Length, dtype: float64"
      ]
     },
     "execution_count": 351,
     "metadata": {},
     "output_type": "execute_result"
    }
   ],
   "source": [
    "data[\"Length\"].describe()"
   ]
  },
  {
   "cell_type": "markdown",
   "metadata": {},
   "source": [
    "As we can see, most reviews are no longer than around 120 words; as a next step, we could remove all reviews with more than 150 words."
   ]
  },
  {
   "cell_type": "code",
   "execution_count": 352,
   "metadata": {},
   "outputs": [
    {
     "name": "stdout",
     "output_type": "stream",
     "text": [
      "Number of reviews after trimming:  61346\n"
     ]
    }
   ],
   "source": [
    "## Drop long reviews\n",
    "data = data[data.Length < 150]\n",
    "print(\"Number of reviews after trimming: \", len(data))"
   ]
  },
  {
   "cell_type": "code",
   "execution_count": 353,
   "metadata": {},
   "outputs": [
    {
     "data": {
      "image/png": "[encoded data removed]",
      "text/plain": [
       "<Figure size 360x360 with 1 Axes>"
      ]
     },
     "metadata": {
      "needs_background": "light"
     },
     "output_type": "display_data"
    }
   ],
   "source": [
    "## Visualize distribution of ratings\n",
    "ax = sns.displot(data=data, x='Rating', stat='percent', bins=5);"
   ]
  },
  {
   "cell_type": "code",
   "execution_count": 354,
   "metadata": {},
   "outputs": [],
   "source": [
    "## Code sentiment from rating (1 or 2 == bad, 3 == neutral, 4 or 5 == good)\n",
    "def get_sentiment(rating):\n",
    "    if rating == 1 or rating == 2:\n",
    "        return \"negative\"\n",
    "    if rating == 3:\n",
    "        return \"neutral\"\n",
    "    if rating == 4 or rating == 5:\n",
    "        return \"positive\""
   ]
  },
  {
   "cell_type": "code",
   "execution_count": 355,
   "metadata": {},
   "outputs": [
    {
     "data": {
      "text/html": [
       "<div>\n",
       "<style scoped>\n",
       "    .dataframe tbody tr th:only-of-type {\n",
       "        vertical-align: middle;\n",
       "    }\n",
       "\n",
       "    .dataframe tbody tr th {\n",
       "        vertical-align: top;\n",
       "    }\n",
       "\n",
       "    .dataframe thead th {\n",
       "        text-align: right;\n",
       "    }\n",
       "</style>\n",
       "<table border=\"1\" class=\"dataframe\">\n",
       "  <thead>\n",
       "    <tr style=\"text-align: right;\">\n",
       "      <th></th>\n",
       "      <th>Review</th>\n",
       "      <th>Rating</th>\n",
       "      <th>Length</th>\n",
       "      <th>Sentiment</th>\n",
       "    </tr>\n",
       "  </thead>\n",
       "  <tbody>\n",
       "    <tr>\n",
       "      <th>0</th>\n",
       "      <td>Great music service, the audio is high quality...</td>\n",
       "      <td>5</td>\n",
       "      <td>21</td>\n",
       "      <td>positive</td>\n",
       "    </tr>\n",
       "    <tr>\n",
       "      <th>1</th>\n",
       "      <td>Please ignore previous negative rating. This a...</td>\n",
       "      <td>5</td>\n",
       "      <td>15</td>\n",
       "      <td>positive</td>\n",
       "    </tr>\n",
       "    <tr>\n",
       "      <th>2</th>\n",
       "      <td>This pop-up \"Get the best Spotify experience o...</td>\n",
       "      <td>4</td>\n",
       "      <td>19</td>\n",
       "      <td>positive</td>\n",
       "    </tr>\n",
       "    <tr>\n",
       "      <th>3</th>\n",
       "      <td>Really buggy and terrible to use as of recently</td>\n",
       "      <td>1</td>\n",
       "      <td>9</td>\n",
       "      <td>negative</td>\n",
       "    </tr>\n",
       "    <tr>\n",
       "      <th>4</th>\n",
       "      <td>Dear Spotify why do I get songs that I didn't ...</td>\n",
       "      <td>1</td>\n",
       "      <td>21</td>\n",
       "      <td>negative</td>\n",
       "    </tr>\n",
       "    <tr>\n",
       "      <th>5</th>\n",
       "      <td>The player controls sometimes disappear for no...</td>\n",
       "      <td>3</td>\n",
       "      <td>19</td>\n",
       "      <td>neutral</td>\n",
       "    </tr>\n",
       "    <tr>\n",
       "      <th>6</th>\n",
       "      <td>I love the selection and the lyrics are provid...</td>\n",
       "      <td>5</td>\n",
       "      <td>15</td>\n",
       "      <td>positive</td>\n",
       "    </tr>\n",
       "    <tr>\n",
       "      <th>7</th>\n",
       "      <td>Still extremely slow when changing storage to ...</td>\n",
       "      <td>3</td>\n",
       "      <td>62</td>\n",
       "      <td>neutral</td>\n",
       "    </tr>\n",
       "    <tr>\n",
       "      <th>8</th>\n",
       "      <td>It's a great app and the best mp3 music app I ...</td>\n",
       "      <td>5</td>\n",
       "      <td>43</td>\n",
       "      <td>positive</td>\n",
       "    </tr>\n",
       "    <tr>\n",
       "      <th>9</th>\n",
       "      <td>I'm deleting this app, for the following reaso...</td>\n",
       "      <td>1</td>\n",
       "      <td>80</td>\n",
       "      <td>negative</td>\n",
       "    </tr>\n",
       "  </tbody>\n",
       "</table>\n",
       "</div>"
      ],
      "text/plain": [
       "                                              Review  Rating  Length Sentiment\n",
       "0  Great music service, the audio is high quality...       5      21  positive\n",
       "1  Please ignore previous negative rating. This a...       5      15  positive\n",
       "2  This pop-up \"Get the best Spotify experience o...       4      19  positive\n",
       "3    Really buggy and terrible to use as of recently       1       9  negative\n",
       "4  Dear Spotify why do I get songs that I didn't ...       1      21  negative\n",
       "5  The player controls sometimes disappear for no...       3      19   neutral\n",
       "6  I love the selection and the lyrics are provid...       5      15  positive\n",
       "7  Still extremely slow when changing storage to ...       3      62   neutral\n",
       "8  It's a great app and the best mp3 music app I ...       5      43  positive\n",
       "9  I'm deleting this app, for the following reaso...       1      80  negative"
      ]
     },
     "execution_count": 355,
     "metadata": {},
     "output_type": "execute_result"
    }
   ],
   "source": [
    "data[\"Sentiment\"] = data[\"Rating\"].apply(get_sentiment)\n",
    "data.head(10)"
   ]
  },
  {
   "cell_type": "code",
   "execution_count": 356,
   "metadata": {},
   "outputs": [
    {
     "data": {
      "image/png": "[encoded data removed]",
      "text/plain": [
       "<Figure size 360x360 with 1 Axes>"
      ]
     },
     "metadata": {
      "needs_background": "light"
     },
     "output_type": "display_data"
    }
   ],
   "source": [
    "## Plot sentiment distribution (e.g. sns.histplot)\n",
    "ax = sns.displot(data=data, x='Sentiment', stat='percent');"
   ]
  },
  {
   "cell_type": "code",
   "execution_count": 357,
   "metadata": {},
   "outputs": [
    {
     "data": {
      "text/html": [
       "<div>\n",
       "<style scoped>\n",
       "    .dataframe tbody tr th:only-of-type {\n",
       "        vertical-align: middle;\n",
       "    }\n",
       "\n",
       "    .dataframe tbody tr th {\n",
       "        vertical-align: top;\n",
       "    }\n",
       "\n",
       "    .dataframe thead tr th {\n",
       "        text-align: left;\n",
       "    }\n",
       "\n",
       "    .dataframe thead tr:last-of-type th {\n",
       "        text-align: right;\n",
       "    }\n",
       "</style>\n",
       "<table border=\"1\" class=\"dataframe\">\n",
       "  <thead>\n",
       "    <tr>\n",
       "      <th></th>\n",
       "      <th colspan=\"8\" halign=\"left\">Length</th>\n",
       "    </tr>\n",
       "    <tr>\n",
       "      <th></th>\n",
       "      <th>count</th>\n",
       "      <th>mean</th>\n",
       "      <th>std</th>\n",
       "      <th>min</th>\n",
       "      <th>25%</th>\n",
       "      <th>50%</th>\n",
       "      <th>75%</th>\n",
       "      <th>max</th>\n",
       "    </tr>\n",
       "    <tr>\n",
       "      <th>Sentiment</th>\n",
       "      <th></th>\n",
       "      <th></th>\n",
       "      <th></th>\n",
       "      <th></th>\n",
       "      <th></th>\n",
       "      <th></th>\n",
       "      <th></th>\n",
       "      <th></th>\n",
       "    </tr>\n",
       "  </thead>\n",
       "  <tbody>\n",
       "    <tr>\n",
       "      <th>negative</th>\n",
       "      <td>24713.0</td>\n",
       "      <td>37.777202</td>\n",
       "      <td>23.415594</td>\n",
       "      <td>3.0</td>\n",
       "      <td>20.0</td>\n",
       "      <td>32.0</td>\n",
       "      <td>50.0</td>\n",
       "      <td>137.0</td>\n",
       "    </tr>\n",
       "    <tr>\n",
       "      <th>neutral</th>\n",
       "      <td>6874.0</td>\n",
       "      <td>36.963777</td>\n",
       "      <td>23.270817</td>\n",
       "      <td>3.0</td>\n",
       "      <td>19.0</td>\n",
       "      <td>32.0</td>\n",
       "      <td>49.0</td>\n",
       "      <td>111.0</td>\n",
       "    </tr>\n",
       "    <tr>\n",
       "      <th>positive</th>\n",
       "      <td>29759.0</td>\n",
       "      <td>23.906885</td>\n",
       "      <td>19.092666</td>\n",
       "      <td>2.0</td>\n",
       "      <td>10.0</td>\n",
       "      <td>18.0</td>\n",
       "      <td>31.0</td>\n",
       "      <td>113.0</td>\n",
       "    </tr>\n",
       "  </tbody>\n",
       "</table>\n",
       "</div>"
      ],
      "text/plain": [
       "            Length                                                    \n",
       "             count       mean        std  min   25%   50%   75%    max\n",
       "Sentiment                                                             \n",
       "negative   24713.0  37.777202  23.415594  3.0  20.0  32.0  50.0  137.0\n",
       "neutral     6874.0  36.963777  23.270817  3.0  19.0  32.0  49.0  111.0\n",
       "positive   29759.0  23.906885  19.092666  2.0  10.0  18.0  31.0  113.0"
      ]
     },
     "execution_count": 357,
     "metadata": {},
     "output_type": "execute_result"
    }
   ],
   "source": [
    "## Look for relationship between length and sentiment\n",
    "data[[\"Length\",\"Sentiment\"]].groupby(\"Sentiment\").describe()"
   ]
  },
  {
   "cell_type": "markdown",
   "metadata": {},
   "source": [
    "### Preprocessing"
   ]
  },
  {
   "cell_type": "code",
   "execution_count": 358,
   "metadata": {},
   "outputs": [],
   "source": [
    "## Import special libraries\n",
    "import emojis\n",
    "import nltk\n",
    "from nltk.corpus import stopwords\n",
    "from nltk.tokenize import sent_tokenize as tokenizer"
   ]
  },
  {
   "cell_type": "code",
   "execution_count": 359,
   "metadata": {},
   "outputs": [],
   "source": [
    "## Get NLTK english stopwords\n",
    "our_stopwords = set(stopwords.words('english'))"
   ]
  },
  {
   "cell_type": "code",
   "execution_count": 360,
   "metadata": {},
   "outputs": [],
   "source": [
    "## Run this to download all NLTK content\n",
    "## WARNING: This takes a long time.\n",
    "#nltk.download()"
   ]
  },
  {
   "cell_type": "markdown",
   "metadata": {},
   "source": [
    "## Text Preprocessing\n",
    "\n",
    "1. Lowercase\n",
    "2. Remove Punct\n",
    "3. Tokenize with standard tokenizer\n",
    "4. Remove Stopwords"
   ]
  },
  {
   "cell_type": "code",
   "execution_count": 361,
   "metadata": {},
   "outputs": [
    {
     "data": {
      "text/html": [
       "<div>\n",
       "<style scoped>\n",
       "    .dataframe tbody tr th:only-of-type {\n",
       "        vertical-align: middle;\n",
       "    }\n",
       "\n",
       "    .dataframe tbody tr th {\n",
       "        vertical-align: top;\n",
       "    }\n",
       "\n",
       "    .dataframe thead th {\n",
       "        text-align: right;\n",
       "    }\n",
       "</style>\n",
       "<table border=\"1\" class=\"dataframe\">\n",
       "  <thead>\n",
       "    <tr style=\"text-align: right;\">\n",
       "      <th></th>\n",
       "      <th>Review</th>\n",
       "      <th>Rating</th>\n",
       "      <th>Length</th>\n",
       "      <th>Sentiment</th>\n",
       "    </tr>\n",
       "  </thead>\n",
       "  <tbody>\n",
       "    <tr>\n",
       "      <th>0</th>\n",
       "      <td>great music service, the audio is high quality...</td>\n",
       "      <td>5</td>\n",
       "      <td>21</td>\n",
       "      <td>positive</td>\n",
       "    </tr>\n",
       "    <tr>\n",
       "      <th>1</th>\n",
       "      <td>please ignore previous negative rating. this a...</td>\n",
       "      <td>5</td>\n",
       "      <td>15</td>\n",
       "      <td>positive</td>\n",
       "    </tr>\n",
       "    <tr>\n",
       "      <th>2</th>\n",
       "      <td>this pop-up \"get the best spotify experience o...</td>\n",
       "      <td>4</td>\n",
       "      <td>19</td>\n",
       "      <td>positive</td>\n",
       "    </tr>\n",
       "    <tr>\n",
       "      <th>3</th>\n",
       "      <td>really buggy and terrible to use as of recently</td>\n",
       "      <td>1</td>\n",
       "      <td>9</td>\n",
       "      <td>negative</td>\n",
       "    </tr>\n",
       "    <tr>\n",
       "      <th>4</th>\n",
       "      <td>dear spotify why do i get songs that i didn't ...</td>\n",
       "      <td>1</td>\n",
       "      <td>21</td>\n",
       "      <td>negative</td>\n",
       "    </tr>\n",
       "  </tbody>\n",
       "</table>\n",
       "</div>"
      ],
      "text/plain": [
       "                                              Review  Rating  Length Sentiment\n",
       "0  great music service, the audio is high quality...       5      21  positive\n",
       "1  please ignore previous negative rating. this a...       5      15  positive\n",
       "2  this pop-up \"get the best spotify experience o...       4      19  positive\n",
       "3    really buggy and terrible to use as of recently       1       9  negative\n",
       "4  dear spotify why do i get songs that i didn't ...       1      21  negative"
      ]
     },
     "execution_count": 361,
     "metadata": {},
     "output_type": "execute_result"
    }
   ],
   "source": [
    "## 1. Lowercase all words\n",
    "data[\"Review\"] = data[\"Review\"].str.lower()\n",
    "data.head()"
   ]
  },
  {
   "cell_type": "code",
   "execution_count": 362,
   "metadata": {},
   "outputs": [
    {
     "data": {
      "text/plain": [
       "20163                         constant crashes fix the app\n",
       "36181    all screwed up now. stops showing what music i...\n",
       "61064    ok software but the free version is almost unu...\n",
       "12490     change the outlook of spotify on android version\n",
       "21255    best app for music ever..theyve told you the l...\n",
       "37512    what is going on with this app? it's so glitch...\n",
       "38479    i love adam corolla show, and i find it on spo...\n",
       "7525                              app not running on wifi.\n",
       "54624    spotify is participating in censorship. uninst...\n",
       "31084              it is great but i cannot get every song\n",
       "36756    the app lately is horrible. so many small bugs...\n",
       "57231    on premium and it constantly freezes and is sl...\n",
       "7226     a glitch keeps removing the play bar at the bo...\n",
       "58137    thank you spotify for holding strong and not c...\n",
       "27774                   excellent options and good music 🎶\n",
       "8448           very slow, keeps crashing, removed car mode\n",
       "588      this app is really good but sometimes there ar...\n",
       "46616    amazing my boys it's amazing how much music va...\n",
       "4869            it's nice but on phone it mixes everything\n",
       "18847                         some difficulties. but good.\n",
       "Name: Review, dtype: object"
      ]
     },
     "execution_count": 362,
     "metadata": {},
     "output_type": "execute_result"
    }
   ],
   "source": [
    "data[\"Review\"].sample(20)"
   ]
  },
  {
   "cell_type": "code",
   "execution_count": 363,
   "metadata": {},
   "outputs": [],
   "source": [
    "## 2./3. Tokenize Remove Punctuation\n",
    "from nltk.tokenize import RegexpTokenizer\n",
    "tokenizer = RegexpTokenizer(r'\\w+')"
   ]
  },
  {
   "cell_type": "code",
   "execution_count": 364,
   "metadata": {},
   "outputs": [],
   "source": [
    "tokens = data[\"Review\"].apply(tokenizer.tokenize)"
   ]
  },
  {
   "cell_type": "code",
   "execution_count": 365,
   "metadata": {},
   "outputs": [
    {
     "data": {
      "text/plain": [
       "59519    [very, good, quality, and, selection, of, musi...\n",
       "19310              [this, music, app, has, too, much, ads]\n",
       "3019     [let, the, app, keep, the, phone, unlocked, wh...\n",
       "49382    [i, had, youtube, music, forever, then, they, ...\n",
       "43725    [excellent, player, would, you, mind, thinking...\n",
       "12872        [i, tried, many, times, but, can, t, get, it]\n",
       "8717     [there, is, a, new, feature, where, it, doesn,...\n",
       "16923    [i, love, listening, to, my, fav, music, on, s...\n",
       "7038     [i, love, this, app, bc, it, has, any, types, ...\n",
       "46182    [i, was, listening, to, epic, gamer, music, wh...\n",
       "26946    [still, no, changelog, poor, why, can, t, you,...\n",
       "60608    [best, music, app, out, there, it, s, like, yo...\n",
       "29372    [for, my, opinion, spotify, is, the, best, sou...\n",
       "17064    [it, s, a, good, app, overall, but, i, can, t,...\n",
       "5336     [can, not, download, some, of, the, songs, tha...\n",
       "9990     [i, ve, been, using, spotify, for, a, while, n...\n",
       "55582    [still, can, t, believe, i, pay, for, this, by...\n",
       "48297    [compared, to, the, interface, on, pc, or, tab...\n",
       "14060    [it, s, simply, the, best, i, love, it, and, e...\n",
       "7768          [cool, app, for, us, retired, old, geirzers]\n",
       "Name: Review, dtype: object"
      ]
     },
     "execution_count": 365,
     "metadata": {},
     "output_type": "execute_result"
    }
   ],
   "source": [
    "tokens.sample(20)"
   ]
  },
  {
   "cell_type": "code",
   "execution_count": 366,
   "metadata": {},
   "outputs": [],
   "source": [
    "## Join tokens to our dataframe\n",
    "data[\"Tokens\"] = tokens"
   ]
  },
  {
   "cell_type": "code",
   "execution_count": 367,
   "metadata": {},
   "outputs": [
    {
     "data": {
      "text/html": [
       "<div>\n",
       "<style scoped>\n",
       "    .dataframe tbody tr th:only-of-type {\n",
       "        vertical-align: middle;\n",
       "    }\n",
       "\n",
       "    .dataframe tbody tr th {\n",
       "        vertical-align: top;\n",
       "    }\n",
       "\n",
       "    .dataframe thead th {\n",
       "        text-align: right;\n",
       "    }\n",
       "</style>\n",
       "<table border=\"1\" class=\"dataframe\">\n",
       "  <thead>\n",
       "    <tr style=\"text-align: right;\">\n",
       "      <th></th>\n",
       "      <th>Review</th>\n",
       "      <th>Rating</th>\n",
       "      <th>Length</th>\n",
       "      <th>Sentiment</th>\n",
       "      <th>Tokens</th>\n",
       "    </tr>\n",
       "  </thead>\n",
       "  <tbody>\n",
       "    <tr>\n",
       "      <th>0</th>\n",
       "      <td>great music service, the audio is high quality...</td>\n",
       "      <td>5</td>\n",
       "      <td>21</td>\n",
       "      <td>positive</td>\n",
       "      <td>[great, music, service, the, audio, is, high, ...</td>\n",
       "    </tr>\n",
       "    <tr>\n",
       "      <th>1</th>\n",
       "      <td>please ignore previous negative rating. this a...</td>\n",
       "      <td>5</td>\n",
       "      <td>15</td>\n",
       "      <td>positive</td>\n",
       "      <td>[please, ignore, previous, negative, rating, t...</td>\n",
       "    </tr>\n",
       "    <tr>\n",
       "      <th>2</th>\n",
       "      <td>this pop-up \"get the best spotify experience o...</td>\n",
       "      <td>4</td>\n",
       "      <td>19</td>\n",
       "      <td>positive</td>\n",
       "      <td>[this, pop, up, get, the, best, spotify, exper...</td>\n",
       "    </tr>\n",
       "    <tr>\n",
       "      <th>3</th>\n",
       "      <td>really buggy and terrible to use as of recently</td>\n",
       "      <td>1</td>\n",
       "      <td>9</td>\n",
       "      <td>negative</td>\n",
       "      <td>[really, buggy, and, terrible, to, use, as, of...</td>\n",
       "    </tr>\n",
       "    <tr>\n",
       "      <th>4</th>\n",
       "      <td>dear spotify why do i get songs that i didn't ...</td>\n",
       "      <td>1</td>\n",
       "      <td>21</td>\n",
       "      <td>negative</td>\n",
       "      <td>[dear, spotify, why, do, i, get, songs, that, ...</td>\n",
       "    </tr>\n",
       "  </tbody>\n",
       "</table>\n",
       "</div>"
      ],
      "text/plain": [
       "                                              Review  Rating  Length  \\\n",
       "0  great music service, the audio is high quality...       5      21   \n",
       "1  please ignore previous negative rating. this a...       5      15   \n",
       "2  this pop-up \"get the best spotify experience o...       4      19   \n",
       "3    really buggy and terrible to use as of recently       1       9   \n",
       "4  dear spotify why do i get songs that i didn't ...       1      21   \n",
       "\n",
       "  Sentiment                                             Tokens  \n",
       "0  positive  [great, music, service, the, audio, is, high, ...  \n",
       "1  positive  [please, ignore, previous, negative, rating, t...  \n",
       "2  positive  [this, pop, up, get, the, best, spotify, exper...  \n",
       "3  negative  [really, buggy, and, terrible, to, use, as, of...  \n",
       "4  negative  [dear, spotify, why, do, i, get, songs, that, ...  "
      ]
     },
     "execution_count": 367,
     "metadata": {},
     "output_type": "execute_result"
    }
   ],
   "source": [
    "data.head()"
   ]
  },
  {
   "cell_type": "code",
   "execution_count": 368,
   "metadata": {},
   "outputs": [
    {
     "data": {
      "text/html": [
       "<div>\n",
       "<style scoped>\n",
       "    .dataframe tbody tr th:only-of-type {\n",
       "        vertical-align: middle;\n",
       "    }\n",
       "\n",
       "    .dataframe tbody tr th {\n",
       "        vertical-align: top;\n",
       "    }\n",
       "\n",
       "    .dataframe thead th {\n",
       "        text-align: right;\n",
       "    }\n",
       "</style>\n",
       "<table border=\"1\" class=\"dataframe\">\n",
       "  <thead>\n",
       "    <tr style=\"text-align: right;\">\n",
       "      <th></th>\n",
       "      <th>Review</th>\n",
       "      <th>Rating</th>\n",
       "      <th>Length</th>\n",
       "      <th>Sentiment</th>\n",
       "      <th>Tokens</th>\n",
       "      <th>Tokens_no_stopwords</th>\n",
       "    </tr>\n",
       "  </thead>\n",
       "  <tbody>\n",
       "    <tr>\n",
       "      <th>0</th>\n",
       "      <td>great music service, the audio is high quality...</td>\n",
       "      <td>5</td>\n",
       "      <td>21</td>\n",
       "      <td>positive</td>\n",
       "      <td>[great, music, service, the, audio, is, high, ...</td>\n",
       "      <td>[great, music, service, audio, high, quality, ...</td>\n",
       "    </tr>\n",
       "    <tr>\n",
       "      <th>1</th>\n",
       "      <td>please ignore previous negative rating. this a...</td>\n",
       "      <td>5</td>\n",
       "      <td>15</td>\n",
       "      <td>positive</td>\n",
       "      <td>[please, ignore, previous, negative, rating, t...</td>\n",
       "      <td>[please, ignore, previous, negative, rating, a...</td>\n",
       "    </tr>\n",
       "    <tr>\n",
       "      <th>2</th>\n",
       "      <td>this pop-up \"get the best spotify experience o...</td>\n",
       "      <td>4</td>\n",
       "      <td>19</td>\n",
       "      <td>positive</td>\n",
       "      <td>[this, pop, up, get, the, best, spotify, exper...</td>\n",
       "      <td>[pop, get, best, spotify, experience, android,...</td>\n",
       "    </tr>\n",
       "    <tr>\n",
       "      <th>3</th>\n",
       "      <td>really buggy and terrible to use as of recently</td>\n",
       "      <td>1</td>\n",
       "      <td>9</td>\n",
       "      <td>negative</td>\n",
       "      <td>[really, buggy, and, terrible, to, use, as, of...</td>\n",
       "      <td>[really, buggy, terrible, use, recently]</td>\n",
       "    </tr>\n",
       "    <tr>\n",
       "      <th>4</th>\n",
       "      <td>dear spotify why do i get songs that i didn't ...</td>\n",
       "      <td>1</td>\n",
       "      <td>21</td>\n",
       "      <td>negative</td>\n",
       "      <td>[dear, spotify, why, do, i, get, songs, that, ...</td>\n",
       "      <td>[dear, spotify, get, songs, put, playlist, shu...</td>\n",
       "    </tr>\n",
       "  </tbody>\n",
       "</table>\n",
       "</div>"
      ],
      "text/plain": [
       "                                              Review  Rating  Length  \\\n",
       "0  great music service, the audio is high quality...       5      21   \n",
       "1  please ignore previous negative rating. this a...       5      15   \n",
       "2  this pop-up \"get the best spotify experience o...       4      19   \n",
       "3    really buggy and terrible to use as of recently       1       9   \n",
       "4  dear spotify why do i get songs that i didn't ...       1      21   \n",
       "\n",
       "  Sentiment                                             Tokens  \\\n",
       "0  positive  [great, music, service, the, audio, is, high, ...   \n",
       "1  positive  [please, ignore, previous, negative, rating, t...   \n",
       "2  positive  [this, pop, up, get, the, best, spotify, exper...   \n",
       "3  negative  [really, buggy, and, terrible, to, use, as, of...   \n",
       "4  negative  [dear, spotify, why, do, i, get, songs, that, ...   \n",
       "\n",
       "                                 Tokens_no_stopwords  \n",
       "0  [great, music, service, audio, high, quality, ...  \n",
       "1  [please, ignore, previous, negative, rating, a...  \n",
       "2  [pop, get, best, spotify, experience, android,...  \n",
       "3           [really, buggy, terrible, use, recently]  \n",
       "4  [dear, spotify, get, songs, put, playlist, shu...  "
      ]
     },
     "execution_count": 368,
     "metadata": {},
     "output_type": "execute_result"
    }
   ],
   "source": [
    "## 4. Remove Stopwords\n",
    "## Here we loop through each list of words and remove stopwords\n",
    "data['Tokens_no_stopwords'] = data['Tokens'].apply(lambda x: [word for word in x if word not in (our_stopwords)])\n",
    "data.head()"
   ]
  },
  {
   "cell_type": "markdown",
   "metadata": {},
   "source": [
    "## TEXT TRANSFORMATIONS\n",
    "5. Bag of Word Model/Count Vectorize\n",
    "6. Term-Frequency Inverse-Document-Frequency (TF-IDF)/ TFIDF Vectorizer\n",
    "7. Delete highly frequent tokens (tokens that are in 90% of docs)\n",
    "8. Delete very low frequent tokens (tokens that are in less than 5% of docs)\n",
    "\n",
    "Until now, the text was still in text form; all we did was cleaning words and characters that won't give us a lot of signal. The next step, however, is to _transform_ the text into numeric representations, aka something a computer can understand. This involves fitting a transformer to data. In order to prevent __data spillage__, it is important to split our data into a training, development, and test set. Any transformer should only be fit to the training data set."
   ]
  },
  {
   "cell_type": "code",
   "execution_count": 369,
   "metadata": {},
   "outputs": [],
   "source": [
    "## Split data into train, dev, and test set\n",
    "from sklearn.model_selection import train_test_split"
   ]
  },
  {
   "cell_type": "code",
   "execution_count": 370,
   "metadata": {},
   "outputs": [
    {
     "name": "stdout",
     "output_type": "stream",
     "text": [
      "Shape of X and y:  (61346,) (61346,)\n"
     ]
    }
   ],
   "source": [
    "X = data[\"Tokens_no_stopwords\"]\n",
    "y = data[\"Sentiment\"]\n",
    "print(\"Shape of X and y: \", X.shape, y.shape)"
   ]
  },
  {
   "cell_type": "code",
   "execution_count": 371,
   "metadata": {},
   "outputs": [
    {
     "name": "stdout",
     "output_type": "stream",
     "text": [
      "(36807,) (24539,) (36807,) (24539,)\n"
     ]
    }
   ],
   "source": [
    "X_train, X_test, y_train, y_test = train_test_split(X, y, test_size=0.4, stratify = y, random_state=42)\n",
    "print(X_train.shape, X_test.shape, y_train.shape, y_test.shape)"
   ]
  },
  {
   "cell_type": "code",
   "execution_count": 372,
   "metadata": {},
   "outputs": [
    {
     "name": "stdout",
     "output_type": "stream",
     "text": [
      "(12269,) (12270,) (12269,) (12270,)\n"
     ]
    }
   ],
   "source": [
    "X_dev, X_test, y_dev, y_test = train_test_split(X_test, y_test, test_size=0.5, stratify = y_test, random_state=42)\n",
    "print(X_dev.shape, X_test.shape, y_dev.shape, y_test.shape)"
   ]
  },
  {
   "cell_type": "code",
   "execution_count": 379,
   "metadata": {},
   "outputs": [
    {
     "name": "stdout",
     "output_type": "stream",
     "text": [
      "['positive' 'negative' 'neutral'] ['neutral' 'negative' 'positive'] ['neutral' 'negative' 'positive']\n"
     ]
    }
   ],
   "source": [
    "print(y_train.unique(), y_test.unique(), y_dev.unique())"
   ]
  },
  {
   "cell_type": "code",
   "execution_count": 380,
   "metadata": {},
   "outputs": [],
   "source": [
    "## Encode labels in sklearn style\n",
    "from sklearn.preprocessing import LabelEncoder\n",
    "\n",
    "label_encoder = LabelEncoder()\n",
    "y_train = label_encoder.fit_transform(y_train)\n",
    "y_dev = label_encoder.transform(y_dev)\n",
    "y_test = label_encoder.transform(y_test)"
   ]
  },
  {
   "cell_type": "code",
   "execution_count": 381,
   "metadata": {},
   "outputs": [],
   "source": [
    "## TRANSFORMATIONS\n",
    "## 5. Counts\n",
    "from sklearn.feature_extraction.text import CountVectorizer"
   ]
  },
  {
   "cell_type": "code",
   "execution_count": 382,
   "metadata": {},
   "outputs": [],
   "source": [
    "## hacky solution, meh\n",
    "def dummy(doc):\n",
    "    return doc\n",
    "count_vectorizer = CountVectorizer(tokenizer=dummy, preprocessor=dummy)\n",
    "## Only fit on training set\n",
    "count_vectorizer.fit(X_train)\n",
    "X_train_counts = count_vectorizer.transform(X_train)\n",
    "X_dev_counts = count_vectorizer.transform(X_dev)\n"
   ]
  },
  {
   "cell_type": "code",
   "execution_count": 383,
   "metadata": {},
   "outputs": [
    {
     "data": {
      "text/plain": [
       "['loving',\n",
       " 'app',\n",
       " 'lots',\n",
       " 'music',\n",
       " 'choose',\n",
       " 'podcasts',\n",
       " 'turn',\n",
       " 'bluetooth',\n",
       " 'notification',\n",
       " 'every']"
      ]
     },
     "execution_count": 383,
     "metadata": {},
     "output_type": "execute_result"
    }
   ],
   "source": [
    "## We can get the vocabulary (= all our tokens) from the vectorizer as a dict\n",
    "vocabulary = count_vectorizer.vocabulary_\n",
    "list(vocabulary.keys())[:10] # Show ten"
   ]
  },
  {
   "cell_type": "code",
   "execution_count": 384,
   "metadata": {},
   "outputs": [
    {
     "data": {
      "text/html": [
       "<div>\n",
       "<style scoped>\n",
       "    .dataframe tbody tr th:only-of-type {\n",
       "        vertical-align: middle;\n",
       "    }\n",
       "\n",
       "    .dataframe tbody tr th {\n",
       "        vertical-align: top;\n",
       "    }\n",
       "\n",
       "    .dataframe thead th {\n",
       "        text-align: right;\n",
       "    }\n",
       "</style>\n",
       "<table border=\"1\" class=\"dataframe\">\n",
       "  <thead>\n",
       "    <tr style=\"text-align: right;\">\n",
       "      <th></th>\n",
       "      <th>token</th>\n",
       "      <th>ID</th>\n",
       "    </tr>\n",
       "  </thead>\n",
       "  <tbody>\n",
       "    <tr>\n",
       "      <th>331</th>\n",
       "      <td>0</td>\n",
       "      <td>0</td>\n",
       "    </tr>\n",
       "    <tr>\n",
       "      <th>3446</th>\n",
       "      <td>00</td>\n",
       "      <td>1</td>\n",
       "    </tr>\n",
       "    <tr>\n",
       "      <th>3301</th>\n",
       "      <td>000</td>\n",
       "      <td>2</td>\n",
       "    </tr>\n",
       "    <tr>\n",
       "      <th>4961</th>\n",
       "      <td>000000001</td>\n",
       "      <td>3</td>\n",
       "    </tr>\n",
       "    <tr>\n",
       "      <th>14200</th>\n",
       "      <td>001</td>\n",
       "      <td>4</td>\n",
       "    </tr>\n",
       "    <tr>\n",
       "      <th>14752</th>\n",
       "      <td>003</td>\n",
       "      <td>5</td>\n",
       "    </tr>\n",
       "    <tr>\n",
       "      <th>9606</th>\n",
       "      <td>00348</td>\n",
       "      <td>6</td>\n",
       "    </tr>\n",
       "    <tr>\n",
       "      <th>14753</th>\n",
       "      <td>005</td>\n",
       "      <td>7</td>\n",
       "    </tr>\n",
       "    <tr>\n",
       "      <th>106</th>\n",
       "      <td>00s</td>\n",
       "      <td>8</td>\n",
       "    </tr>\n",
       "    <tr>\n",
       "      <th>4007</th>\n",
       "      <td>01</td>\n",
       "      <td>9</td>\n",
       "    </tr>\n",
       "  </tbody>\n",
       "</table>\n",
       "</div>"
      ],
      "text/plain": [
       "           token  ID\n",
       "331            0   0\n",
       "3446          00   1\n",
       "3301         000   2\n",
       "4961   000000001   3\n",
       "14200        001   4\n",
       "14752        003   5\n",
       "9606       00348   6\n",
       "14753        005   7\n",
       "106          00s   8\n",
       "4007          01   9"
      ]
     },
     "execution_count": 384,
     "metadata": {},
     "output_type": "execute_result"
    }
   ],
   "source": [
    "## Let's have a look at tokens and their ID, sorted alphabetically\n",
    "pd.DataFrame(vocabulary.items()).rename(columns={0: \"token\", 1: \"ID\"}).sort_values(\"ID\", ascending=True).head(10)"
   ]
  },
  {
   "cell_type": "code",
   "execution_count": 385,
   "metadata": {},
   "outputs": [
    {
     "data": {
      "text/html": [
       "<div>\n",
       "<style scoped>\n",
       "    .dataframe tbody tr th:only-of-type {\n",
       "        vertical-align: middle;\n",
       "    }\n",
       "\n",
       "    .dataframe tbody tr th {\n",
       "        vertical-align: top;\n",
       "    }\n",
       "\n",
       "    .dataframe thead th {\n",
       "        text-align: right;\n",
       "    }\n",
       "</style>\n",
       "<table border=\"1\" class=\"dataframe\">\n",
       "  <thead>\n",
       "    <tr style=\"text-align: right;\">\n",
       "      <th></th>\n",
       "      <th>token</th>\n",
       "      <th>ID</th>\n",
       "    </tr>\n",
       "  </thead>\n",
       "  <tbody>\n",
       "    <tr>\n",
       "      <th>8714</th>\n",
       "      <td>𝚑𝚊𝚟𝚎</td>\n",
       "      <td>18297</td>\n",
       "    </tr>\n",
       "    <tr>\n",
       "      <th>8713</th>\n",
       "      <td>𝚒</td>\n",
       "      <td>18298</td>\n",
       "    </tr>\n",
       "    <tr>\n",
       "      <th>5355</th>\n",
       "      <td>𝚒𝚜</td>\n",
       "      <td>18299</td>\n",
       "    </tr>\n",
       "    <tr>\n",
       "      <th>8716</th>\n",
       "      <td>𝚕𝚘𝚟𝚎𝚍</td>\n",
       "      <td>18300</td>\n",
       "    </tr>\n",
       "    <tr>\n",
       "      <th>5357</th>\n",
       "      <td>𝚖𝚘𝚜𝚝</td>\n",
       "      <td>18301</td>\n",
       "    </tr>\n",
       "    <tr>\n",
       "      <th>5359</th>\n",
       "      <td>𝚖𝚞𝚜𝚒𝚌</td>\n",
       "      <td>18302</td>\n",
       "    </tr>\n",
       "    <tr>\n",
       "      <th>5356</th>\n",
       "      <td>𝚝𝚑𝚎</td>\n",
       "      <td>18303</td>\n",
       "    </tr>\n",
       "    <tr>\n",
       "      <th>5353</th>\n",
       "      <td>𝚝𝚑𝚒𝚗𝚔</td>\n",
       "      <td>18304</td>\n",
       "    </tr>\n",
       "    <tr>\n",
       "      <th>5354</th>\n",
       "      <td>𝚝𝚑𝚒𝚜</td>\n",
       "      <td>18305</td>\n",
       "    </tr>\n",
       "    <tr>\n",
       "      <th>4482</th>\n",
       "      <td>𝟐𝐱</td>\n",
       "      <td>18306</td>\n",
       "    </tr>\n",
       "  </tbody>\n",
       "</table>\n",
       "</div>"
      ],
      "text/plain": [
       "      token     ID\n",
       "8714   𝚑𝚊𝚟𝚎  18297\n",
       "8713      𝚒  18298\n",
       "5355     𝚒𝚜  18299\n",
       "8716  𝚕𝚘𝚟𝚎𝚍  18300\n",
       "5357   𝚖𝚘𝚜𝚝  18301\n",
       "5359  𝚖𝚞𝚜𝚒𝚌  18302\n",
       "5356    𝚝𝚑𝚎  18303\n",
       "5353  𝚝𝚑𝚒𝚗𝚔  18304\n",
       "5354   𝚝𝚑𝚒𝚜  18305\n",
       "4482     𝟐𝐱  18306"
      ]
     },
     "execution_count": 385,
     "metadata": {},
     "output_type": "execute_result"
    }
   ],
   "source": [
    "## Same for the tail\n",
    "pd.DataFrame(vocabulary.items()).rename(columns={0: \"token\", 1: \"ID\"}).sort_values(\"ID\", ascending=True).tail(10)"
   ]
  },
  {
   "cell_type": "markdown",
   "metadata": {},
   "source": [
    "We see that we have a lot of digits and strange font words that we might want to take care of later. Also, our dictionary contains __18 306 tokens__."
   ]
  },
  {
   "cell_type": "code",
   "execution_count": 386,
   "metadata": {},
   "outputs": [],
   "source": [
    "## TRANSFORMATIONS\n",
    "## 5. TFIDF\n",
    "from sklearn.feature_extraction.text import TfidfVectorizer"
   ]
  },
  {
   "cell_type": "code",
   "execution_count": 387,
   "metadata": {},
   "outputs": [],
   "source": [
    "## hacky solution\n",
    "def dummy(doc):\n",
    "    return doc\n",
    "tfidf_vectorizer = TfidfVectorizer(tokenizer=dummy, preprocessor=dummy)\n",
    "## Only fit on training set\n",
    "tfidf_vectorizer.fit(X_train)\n",
    "X_train_tfidf = tfidf_vectorizer.transform(X_train)\n",
    "X_dev_tfidf = tfidf_vectorizer.transform(X_dev)"
   ]
  },
  {
   "cell_type": "markdown",
   "metadata": {},
   "source": [
    "## Classification of sentiment"
   ]
  },
  {
   "cell_type": "code",
   "execution_count": 404,
   "metadata": {},
   "outputs": [],
   "source": [
    "## Import some classifiers\n",
    "from sklearn.ensemble import RandomForestClassifier\n",
    "from sklearn.naive_bayes import MultinomialNB\n",
    "from sklearn.svm import SVC\n",
    "from sklearn.linear_model import LogisticRegression\n",
    "from lightgbm import LGBMClassifier # never used that one before"
   ]
  },
  {
   "cell_type": "markdown",
   "metadata": {},
   "source": [
    "### Use Bag of Words/Count vectorized features for classification"
   ]
  },
  {
   "cell_type": "code",
   "execution_count": 409,
   "metadata": {},
   "outputs": [
    {
     "name": "stdout",
     "output_type": "stream",
     "text": [
      "Fitting LogisticRegression()...\n",
      "LogisticRegression() accuracy on Count Vector: 0.7697448854837395\n",
      "Fitting RandomForestClassifier()...\n",
      "RandomForestClassifier() accuracy on Count Vector: 0.7714565164235064\n",
      "Fitting SVC()...\n",
      "SVC() accuracy on Count Vector: 0.7818893145325617\n",
      "Fitting MultinomialNB()...\n",
      "MultinomialNB() accuracy on Count Vector: 0.7719455538348684\n",
      "Fitting LGBMClassifier(objective='multiclass')...\n",
      "LGBMClassifier(objective='multiclass') accuracy on Count Vector: 0.779281115005298\n"
     ]
    }
   ],
   "source": [
    "## Initlilize classifiers with default hyperparams\n",
    "log1 = LogisticRegression()\n",
    "rf1 = RandomForestClassifier()\n",
    "svc1 = SVC()\n",
    "nb1 = MultinomialNB()\n",
    "gbm1 = LGBMClassifier(objective='multiclass')\n",
    "\n",
    "X_train_counts = X_train_counts.astype('float32')\n",
    "X_dev_counts = X_dev_counts.astype('float32')   \n",
    "y_train = y_train.astype('float32')\n",
    "y_test = y_test.astype('float32')\n",
    "\n",
    "\n",
    "classifiers = [log1, rf1, svc1, nb1, gbm1]\n",
    "results_counts = []\n",
    "\n",
    "for classifier in classifiers:\n",
    "    print(f\"Fitting {classifier}...\")\n",
    "    classifier.fit(X_train_counts, y_train)\n",
    "    print(f\"{classifier} accuracy on Count Vector: {classifier.score(X_dev_counts, y_dev)}\")\n"
   ]
  },
  {
   "cell_type": "markdown",
   "metadata": {},
   "source": [
    "### TFIDF Vectorized features for classification"
   ]
  },
  {
   "cell_type": "code",
   "execution_count": 410,
   "metadata": {},
   "outputs": [
    {
     "name": "stdout",
     "output_type": "stream",
     "text": [
      "Fitting LogisticRegression()...\n",
      "LogisticRegression() accuracy on TF-IDF Vector: 0.7858016138234575\n",
      "Fitting RandomForestClassifier()...\n",
      "RandomForestClassifier() accuracy on TF-IDF Vector: 0.7675442171326107\n",
      "Fitting SVC()...\n",
      "SVC() accuracy on TF-IDF Vector: 0.7891433694677643\n",
      "Fitting MultinomialNB()...\n",
      "MultinomialNB() accuracy on TF-IDF Vector: 0.7747982720678132\n",
      "Fitting LGBMClassifier(objective='multiclass')...\n",
      "LGBMClassifier(objective='multiclass') accuracy on TF-IDF Vector: 0.7760208655962181\n"
     ]
    }
   ],
   "source": [
    "## Initlilize classifiers with default hyperparams\n",
    "log2 = LogisticRegression()\n",
    "rf2 = RandomForestClassifier()\n",
    "svc2 = SVC()\n",
    "nb2 = MultinomialNB()\n",
    "gbm2 = LGBMClassifier(objective='multiclass')\n",
    "\n",
    "X_train_tfidf = X_train_tfidf.astype('float32')\n",
    "X_dev_tfidf = X_dev_tfidf.astype('float32')   \n",
    "y_train = y_train.astype('float32')\n",
    "y_test = y_test.astype('float32')\n",
    "\n",
    "\n",
    "classifiers = [log2, rf2, svc2, nb2, gbm2]\n",
    "results_counts = []\n",
    "\n",
    "for classifier in classifiers:\n",
    "    print(f\"Fitting {classifier}...\")\n",
    "    classifier.fit(X_train_tfidf, y_train)\n",
    "    print(f\"{classifier} accuracy on TF-IDF Vector: {classifier.score(X_dev_tfidf, y_dev)}\")\n"
   ]
  }
 ],
 "metadata": {
  "kernelspec": {
   "display_name": "Python 3.10.4 64-bit",
   "language": "python",
   "name": "python3"
  },
  "language_info": {
   "codemirror_mode": {
    "name": "ipython",
    "version": 3
   },
   "file_extension": ".py",
   "mimetype": "text/x-python",
   "name": "python",
   "nbconvert_exporter": "python",
   "pygments_lexer": "ipython3",
   "version": "3.10.4"
  },
  "orig_nbformat": 4,
  "vscode": {
   "interpreter": {
    "hash": "ba89649856ee0ebb4f5d432fb84526bc860cc927389973834ceef247cbb7120d"
   }
  }
 },
 "nbformat": 4,
 "nbformat_minor": 2
}

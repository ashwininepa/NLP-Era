{
 "cells": [
  {
   "cell_type": "markdown",
   "metadata": {},
   "source": [
    "## NLP stuff with Spotify User Reviews\n",
    "\n",
    "Here we load, preprocess and explore Spotify user reviews to learn NLP preprocessing methods and gain first insights into the dataset."
   ]
  },
  {
   "cell_type": "code",
   "execution_count": 2,
   "metadata": {},
   "outputs": [],
   "source": [
    "## Setting to ignore warningsc\n",
    "import warnings\n",
    "warnings.filterwarnings(\"ignore\")"
   ]
  },
  {
   "cell_type": "code",
   "execution_count": 3,
   "metadata": {},
   "outputs": [],
   "source": [
    "## Import general libraries\n",
    "import pandas as pd\n",
    "import numpy as np\n",
    "import seaborn as sns\n",
    "import matplotlib.pyplot as plt\n",
    "import matplotlib.ticker as ticker\n",
    "\n",
    "import emojis\n",
    "import nltk\n",
    "from nltk.corpus import stopwords\n",
    "from nltk.tokenize import sent_tokenize as tokenizer\n",
    "\n",
    "from sklearn.model_selection import train_test_split\n",
    "from sklearn.preprocessing import LabelEncoder\n"
   ]
  },
  {
   "cell_type": "code",
   "execution_count": 4,
   "metadata": {},
   "outputs": [],
   "source": [
    "## Read data and copy\n",
    "spotify = pd.read_csv(\"../data/raw/spotify_review_kaggle.csv\")\n",
    "data_in = spotify.copy()"
   ]
  },
  {
   "cell_type": "code",
   "execution_count": 5,
   "metadata": {},
   "outputs": [
    {
     "data": {
      "text/html": [
       "<div>\n",
       "<style scoped>\n",
       "    .dataframe tbody tr th:only-of-type {\n",
       "        vertical-align: middle;\n",
       "    }\n",
       "\n",
       "    .dataframe tbody tr th {\n",
       "        vertical-align: top;\n",
       "    }\n",
       "\n",
       "    .dataframe thead th {\n",
       "        text-align: right;\n",
       "    }\n",
       "</style>\n",
       "<table border=\"1\" class=\"dataframe\">\n",
       "  <thead>\n",
       "    <tr style=\"text-align: right;\">\n",
       "      <th></th>\n",
       "      <th>Time_submitted</th>\n",
       "      <th>Review</th>\n",
       "      <th>Rating</th>\n",
       "      <th>Total_thumbsup</th>\n",
       "      <th>Reply</th>\n",
       "    </tr>\n",
       "  </thead>\n",
       "  <tbody>\n",
       "    <tr>\n",
       "      <th>0</th>\n",
       "      <td>2022-07-09 15:00:00</td>\n",
       "      <td>Great music service, the audio is high quality...</td>\n",
       "      <td>5</td>\n",
       "      <td>2</td>\n",
       "      <td>NaN</td>\n",
       "    </tr>\n",
       "    <tr>\n",
       "      <th>1</th>\n",
       "      <td>2022-07-09 14:21:22</td>\n",
       "      <td>Please ignore previous negative rating. This a...</td>\n",
       "      <td>5</td>\n",
       "      <td>1</td>\n",
       "      <td>NaN</td>\n",
       "    </tr>\n",
       "    <tr>\n",
       "      <th>2</th>\n",
       "      <td>2022-07-09 13:27:32</td>\n",
       "      <td>This pop-up \"Get the best Spotify experience o...</td>\n",
       "      <td>4</td>\n",
       "      <td>0</td>\n",
       "      <td>NaN</td>\n",
       "    </tr>\n",
       "    <tr>\n",
       "      <th>3</th>\n",
       "      <td>2022-07-09 13:26:45</td>\n",
       "      <td>Really buggy and terrible to use as of recently</td>\n",
       "      <td>1</td>\n",
       "      <td>1</td>\n",
       "      <td>NaN</td>\n",
       "    </tr>\n",
       "    <tr>\n",
       "      <th>4</th>\n",
       "      <td>2022-07-09 13:20:49</td>\n",
       "      <td>Dear Spotify why do I get songs that I didn't ...</td>\n",
       "      <td>1</td>\n",
       "      <td>1</td>\n",
       "      <td>NaN</td>\n",
       "    </tr>\n",
       "    <tr>\n",
       "      <th>5</th>\n",
       "      <td>2022-07-09 13:20:20</td>\n",
       "      <td>The player controls sometimes disappear for no...</td>\n",
       "      <td>3</td>\n",
       "      <td>7</td>\n",
       "      <td>NaN</td>\n",
       "    </tr>\n",
       "    <tr>\n",
       "      <th>6</th>\n",
       "      <td>2022-07-09 13:19:21</td>\n",
       "      <td>I love the selection and the lyrics are provid...</td>\n",
       "      <td>5</td>\n",
       "      <td>0</td>\n",
       "      <td>NaN</td>\n",
       "    </tr>\n",
       "    <tr>\n",
       "      <th>7</th>\n",
       "      <td>2022-07-09 13:17:22</td>\n",
       "      <td>Still extremely slow when changing storage to ...</td>\n",
       "      <td>3</td>\n",
       "      <td>16</td>\n",
       "      <td>NaN</td>\n",
       "    </tr>\n",
       "    <tr>\n",
       "      <th>8</th>\n",
       "      <td>2022-07-09 13:16:49</td>\n",
       "      <td>It's a great app and the best mp3 music app I ...</td>\n",
       "      <td>5</td>\n",
       "      <td>0</td>\n",
       "      <td>NaN</td>\n",
       "    </tr>\n",
       "    <tr>\n",
       "      <th>9</th>\n",
       "      <td>2022-07-09 13:11:32</td>\n",
       "      <td>I'm deleting this app, for the following reaso...</td>\n",
       "      <td>1</td>\n",
       "      <td>318</td>\n",
       "      <td>NaN</td>\n",
       "    </tr>\n",
       "  </tbody>\n",
       "</table>\n",
       "</div>"
      ],
      "text/plain": [
       "        Time_submitted                                             Review  \\\n",
       "0  2022-07-09 15:00:00  Great music service, the audio is high quality...   \n",
       "1  2022-07-09 14:21:22  Please ignore previous negative rating. This a...   \n",
       "2  2022-07-09 13:27:32  This pop-up \"Get the best Spotify experience o...   \n",
       "3  2022-07-09 13:26:45    Really buggy and terrible to use as of recently   \n",
       "4  2022-07-09 13:20:49  Dear Spotify why do I get songs that I didn't ...   \n",
       "5  2022-07-09 13:20:20  The player controls sometimes disappear for no...   \n",
       "6  2022-07-09 13:19:21  I love the selection and the lyrics are provid...   \n",
       "7  2022-07-09 13:17:22  Still extremely slow when changing storage to ...   \n",
       "8  2022-07-09 13:16:49  It's a great app and the best mp3 music app I ...   \n",
       "9  2022-07-09 13:11:32  I'm deleting this app, for the following reaso...   \n",
       "\n",
       "   Rating  Total_thumbsup Reply  \n",
       "0       5               2   NaN  \n",
       "1       5               1   NaN  \n",
       "2       4               0   NaN  \n",
       "3       1               1   NaN  \n",
       "4       1               1   NaN  \n",
       "5       3               7   NaN  \n",
       "6       5               0   NaN  \n",
       "7       3              16   NaN  \n",
       "8       5               0   NaN  \n",
       "9       1             318   NaN  "
      ]
     },
     "execution_count": 5,
     "metadata": {},
     "output_type": "execute_result"
    }
   ],
   "source": [
    "## Check Data\n",
    "data_in.head(10)"
   ]
  },
  {
   "cell_type": "code",
   "execution_count": 6,
   "metadata": {},
   "outputs": [
    {
     "data": {
      "text/plain": [
       "16014    There are lots of ads after every song to unsu...\n",
       "22789    I love spotify !! It makes me playlist and tim...\n",
       "13925    I have a xiaomi redmi note 10 pro and lyrics o...\n",
       "52218    Best music streaming app. Its the one that con...\n",
       "31776    Great except for the last update. Now it glitc...\n",
       "30326    Rubbish, I have paid for and used this service...\n",
       "36384    Terrible since latest update. As others have p...\n",
       "7089     I love Spotify because it lets me be me and no...\n",
       "41935    Ok, but the control panel interface randomly d...\n",
       "48768    I love the whole service of the app but i want...\n",
       "Name: Review, dtype: object"
      ]
     },
     "execution_count": 6,
     "metadata": {},
     "output_type": "execute_result"
    }
   ],
   "source": [
    "## Sample some reviews\n",
    "data_in[\"Review\"].sample(10)"
   ]
  },
  {
   "cell_type": "code",
   "execution_count": 7,
   "metadata": {},
   "outputs": [
    {
     "name": "stdout",
     "output_type": "stream",
     "text": [
      "<class 'pandas.core.frame.DataFrame'>\n",
      "RangeIndex: 61594 entries, 0 to 61593\n",
      "Data columns (total 5 columns):\n",
      " #   Column          Non-Null Count  Dtype \n",
      "---  ------          --------------  ----- \n",
      " 0   Time_submitted  61594 non-null  object\n",
      " 1   Review          61594 non-null  object\n",
      " 2   Rating          61594 non-null  int64 \n",
      " 3   Total_thumbsup  61594 non-null  int64 \n",
      " 4   Reply           216 non-null    object\n",
      "dtypes: int64(2), object(3)\n",
      "memory usage: 2.3+ MB\n"
     ]
    }
   ],
   "source": [
    "## Data info\n",
    "data_in.info()"
   ]
  },
  {
   "cell_type": "code",
   "execution_count": 8,
   "metadata": {},
   "outputs": [
    {
     "name": "stdout",
     "output_type": "stream",
     "text": [
      "Before dropping duplicates:  61594\n",
      "After dropping duplicates:  61356\n"
     ]
    }
   ],
   "source": [
    "## Remove duplicates\n",
    "## Since we are changing the raw input data, let's change the name to data\n",
    "print(\"Before dropping duplicates: \", len(data_in))\n",
    "data = data_in.drop_duplicates(subset=\"Review\")\n",
    "print(\"After dropping duplicates: \", len(data))\n"
   ]
  },
  {
   "cell_type": "code",
   "execution_count": 9,
   "metadata": {},
   "outputs": [
    {
     "data": {
      "text/html": [
       "<div>\n",
       "<style scoped>\n",
       "    .dataframe tbody tr th:only-of-type {\n",
       "        vertical-align: middle;\n",
       "    }\n",
       "\n",
       "    .dataframe tbody tr th {\n",
       "        vertical-align: top;\n",
       "    }\n",
       "\n",
       "    .dataframe thead th {\n",
       "        text-align: right;\n",
       "    }\n",
       "</style>\n",
       "<table border=\"1\" class=\"dataframe\">\n",
       "  <thead>\n",
       "    <tr style=\"text-align: right;\">\n",
       "      <th></th>\n",
       "      <th>Review</th>\n",
       "      <th>Rating</th>\n",
       "    </tr>\n",
       "  </thead>\n",
       "  <tbody>\n",
       "    <tr>\n",
       "      <th>0</th>\n",
       "      <td>Great music service, the audio is high quality...</td>\n",
       "      <td>5</td>\n",
       "    </tr>\n",
       "    <tr>\n",
       "      <th>1</th>\n",
       "      <td>Please ignore previous negative rating. This a...</td>\n",
       "      <td>5</td>\n",
       "    </tr>\n",
       "    <tr>\n",
       "      <th>2</th>\n",
       "      <td>This pop-up \"Get the best Spotify experience o...</td>\n",
       "      <td>4</td>\n",
       "    </tr>\n",
       "    <tr>\n",
       "      <th>3</th>\n",
       "      <td>Really buggy and terrible to use as of recently</td>\n",
       "      <td>1</td>\n",
       "    </tr>\n",
       "    <tr>\n",
       "      <th>4</th>\n",
       "      <td>Dear Spotify why do I get songs that I didn't ...</td>\n",
       "      <td>1</td>\n",
       "    </tr>\n",
       "  </tbody>\n",
       "</table>\n",
       "</div>"
      ],
      "text/plain": [
       "                                              Review  Rating\n",
       "0  Great music service, the audio is high quality...       5\n",
       "1  Please ignore previous negative rating. This a...       5\n",
       "2  This pop-up \"Get the best Spotify experience o...       4\n",
       "3    Really buggy and terrible to use as of recently       1\n",
       "4  Dear Spotify why do I get songs that I didn't ...       1"
      ]
     },
     "execution_count": 9,
     "metadata": {},
     "output_type": "execute_result"
    }
   ],
   "source": [
    "## Drop unused cols\n",
    "data.drop([\"Time_submitted\", \"Total_thumbsup\", \"Reply\"], axis=1, inplace=True)\n",
    "data.head(5)"
   ]
  },
  {
   "cell_type": "code",
   "execution_count": 10,
   "metadata": {},
   "outputs": [
    {
     "data": {
      "text/html": [
       "<div>\n",
       "<style scoped>\n",
       "    .dataframe tbody tr th:only-of-type {\n",
       "        vertical-align: middle;\n",
       "    }\n",
       "\n",
       "    .dataframe tbody tr th {\n",
       "        vertical-align: top;\n",
       "    }\n",
       "\n",
       "    .dataframe thead th {\n",
       "        text-align: right;\n",
       "    }\n",
       "</style>\n",
       "<table border=\"1\" class=\"dataframe\">\n",
       "  <thead>\n",
       "    <tr style=\"text-align: right;\">\n",
       "      <th></th>\n",
       "      <th>Review</th>\n",
       "      <th>Rating</th>\n",
       "      <th>Length</th>\n",
       "    </tr>\n",
       "  </thead>\n",
       "  <tbody>\n",
       "    <tr>\n",
       "      <th>0</th>\n",
       "      <td>Great music service, the audio is high quality...</td>\n",
       "      <td>5</td>\n",
       "      <td>21</td>\n",
       "    </tr>\n",
       "    <tr>\n",
       "      <th>1</th>\n",
       "      <td>Please ignore previous negative rating. This a...</td>\n",
       "      <td>5</td>\n",
       "      <td>15</td>\n",
       "    </tr>\n",
       "    <tr>\n",
       "      <th>2</th>\n",
       "      <td>This pop-up \"Get the best Spotify experience o...</td>\n",
       "      <td>4</td>\n",
       "      <td>19</td>\n",
       "    </tr>\n",
       "    <tr>\n",
       "      <th>3</th>\n",
       "      <td>Really buggy and terrible to use as of recently</td>\n",
       "      <td>1</td>\n",
       "      <td>9</td>\n",
       "    </tr>\n",
       "    <tr>\n",
       "      <th>4</th>\n",
       "      <td>Dear Spotify why do I get songs that I didn't ...</td>\n",
       "      <td>1</td>\n",
       "      <td>21</td>\n",
       "    </tr>\n",
       "  </tbody>\n",
       "</table>\n",
       "</div>"
      ],
      "text/plain": [
       "                                              Review  Rating  Length\n",
       "0  Great music service, the audio is high quality...       5      21\n",
       "1  Please ignore previous negative rating. This a...       5      15\n",
       "2  This pop-up \"Get the best Spotify experience o...       4      19\n",
       "3    Really buggy and terrible to use as of recently       1       9\n",
       "4  Dear Spotify why do I get songs that I didn't ...       1      21"
      ]
     },
     "execution_count": 10,
     "metadata": {},
     "output_type": "execute_result"
    }
   ],
   "source": [
    "## Ad col for reviews length of review in words\n",
    "data[\"Length\"] = data[\"Review\"].str.split(\" \").str.len()\n",
    "data.head()"
   ]
  },
  {
   "cell_type": "code",
   "execution_count": 11,
   "metadata": {},
   "outputs": [
    {
     "data": {
      "text/html": [
       "<div>\n",
       "<style scoped>\n",
       "    .dataframe tbody tr th:only-of-type {\n",
       "        vertical-align: middle;\n",
       "    }\n",
       "\n",
       "    .dataframe tbody tr th {\n",
       "        vertical-align: top;\n",
       "    }\n",
       "\n",
       "    .dataframe thead th {\n",
       "        text-align: right;\n",
       "    }\n",
       "</style>\n",
       "<table border=\"1\" class=\"dataframe\">\n",
       "  <thead>\n",
       "    <tr style=\"text-align: right;\">\n",
       "      <th></th>\n",
       "      <th>Review</th>\n",
       "      <th>Rating</th>\n",
       "      <th>Length</th>\n",
       "    </tr>\n",
       "  </thead>\n",
       "  <tbody>\n",
       "    <tr>\n",
       "      <th>24628</th>\n",
       "      <td>Easy-to-use software</td>\n",
       "      <td>5</td>\n",
       "      <td>2</td>\n",
       "    </tr>\n",
       "    <tr>\n",
       "      <th>30670</th>\n",
       "      <td>Powerful,Spirit-touching songs</td>\n",
       "      <td>5</td>\n",
       "      <td>2</td>\n",
       "    </tr>\n",
       "    <tr>\n",
       "      <th>27164</th>\n",
       "      <td>Best music service</td>\n",
       "      <td>5</td>\n",
       "      <td>3</td>\n",
       "    </tr>\n",
       "    <tr>\n",
       "      <th>4562</th>\n",
       "      <td>Always interrupts ads</td>\n",
       "      <td>1</td>\n",
       "      <td>3</td>\n",
       "    </tr>\n",
       "    <tr>\n",
       "      <th>4569</th>\n",
       "      <td>To many advertisement!!!</td>\n",
       "      <td>1</td>\n",
       "      <td>3</td>\n",
       "    </tr>\n",
       "    <tr>\n",
       "      <th>9923</th>\n",
       "      <td>Too much ads.</td>\n",
       "      <td>1</td>\n",
       "      <td>3</td>\n",
       "    </tr>\n",
       "    <tr>\n",
       "      <th>4572</th>\n",
       "      <td>Love no ads!</td>\n",
       "      <td>5</td>\n",
       "      <td>3</td>\n",
       "    </tr>\n",
       "    <tr>\n",
       "      <th>33635</th>\n",
       "      <td>Brilliant music app</td>\n",
       "      <td>5</td>\n",
       "      <td>3</td>\n",
       "    </tr>\n",
       "    <tr>\n",
       "      <th>9938</th>\n",
       "      <td>Full of adds</td>\n",
       "      <td>1</td>\n",
       "      <td>3</td>\n",
       "    </tr>\n",
       "    <tr>\n",
       "      <th>13112</th>\n",
       "      <td>Great and dynamic</td>\n",
       "      <td>5</td>\n",
       "      <td>3</td>\n",
       "    </tr>\n",
       "  </tbody>\n",
       "</table>\n",
       "</div>"
      ],
      "text/plain": [
       "                               Review  Rating  Length\n",
       "24628            Easy-to-use software       5       2\n",
       "30670  Powerful,Spirit-touching songs       5       2\n",
       "27164              Best music service       5       3\n",
       "4562            Always interrupts ads       1       3\n",
       "4569         To many advertisement!!!       1       3\n",
       "9923                    Too much ads.       1       3\n",
       "4572                     Love no ads!       5       3\n",
       "33635             Brilliant music app       5       3\n",
       "9938                     Full of adds       1       3\n",
       "13112               Great and dynamic       5       3"
      ]
     },
     "execution_count": 11,
     "metadata": {},
     "output_type": "execute_result"
    }
   ],
   "source": [
    "## Check shortest reviews\n",
    "data.sort_values(\"Length\").head(10)"
   ]
  },
  {
   "cell_type": "code",
   "execution_count": 12,
   "metadata": {},
   "outputs": [
    {
     "data": {
      "text/html": [
       "<div>\n",
       "<style scoped>\n",
       "    .dataframe tbody tr th:only-of-type {\n",
       "        vertical-align: middle;\n",
       "    }\n",
       "\n",
       "    .dataframe tbody tr th {\n",
       "        vertical-align: top;\n",
       "    }\n",
       "\n",
       "    .dataframe thead th {\n",
       "        text-align: right;\n",
       "    }\n",
       "</style>\n",
       "<table border=\"1\" class=\"dataframe\">\n",
       "  <thead>\n",
       "    <tr style=\"text-align: right;\">\n",
       "      <th></th>\n",
       "      <th>Review</th>\n",
       "      <th>Rating</th>\n",
       "      <th>Length</th>\n",
       "    </tr>\n",
       "  </thead>\n",
       "  <tbody>\n",
       "    <tr>\n",
       "      <th>61568</th>\n",
       "      <td>I have been using Spotify premium. Biggest dis...</td>\n",
       "      <td>3</td>\n",
       "      <td>150</td>\n",
       "    </tr>\n",
       "    <tr>\n",
       "      <th>24495</th>\n",
       "      <td>SPOTIFY IS TERRIBLE! Before podcasts, Spotify ...</td>\n",
       "      <td>1</td>\n",
       "      <td>157</td>\n",
       "    </tr>\n",
       "    <tr>\n",
       "      <th>23836</th>\n",
       "      <td>Works fine for my phone, however for the past ...</td>\n",
       "      <td>2</td>\n",
       "      <td>159</td>\n",
       "    </tr>\n",
       "    <tr>\n",
       "      <th>27916</th>\n",
       "      <td>Edit - came back to remove a star. Jesus cance...</td>\n",
       "      <td>2</td>\n",
       "      <td>165</td>\n",
       "    </tr>\n",
       "    <tr>\n",
       "      <th>19664</th>\n",
       "      <td>Spotify is a great way to listen to music alth...</td>\n",
       "      <td>4</td>\n",
       "      <td>175</td>\n",
       "    </tr>\n",
       "    <tr>\n",
       "      <th>40973</th>\n",
       "      <td>Although I like Spotify and I use it a lot (an...</td>\n",
       "      <td>3</td>\n",
       "      <td>185</td>\n",
       "    </tr>\n",
       "    <tr>\n",
       "      <th>26055</th>\n",
       "      <td>I am giving the 3 month free trial a go and so...</td>\n",
       "      <td>4</td>\n",
       "      <td>219</td>\n",
       "    </tr>\n",
       "    <tr>\n",
       "      <th>46004</th>\n",
       "      <td>I am using Spotify soon for a year, before I u...</td>\n",
       "      <td>4</td>\n",
       "      <td>222</td>\n",
       "    </tr>\n",
       "    <tr>\n",
       "      <th>20489</th>\n",
       "      <td>Attention Android Users: unfortunately, there ...</td>\n",
       "      <td>1</td>\n",
       "      <td>279</td>\n",
       "    </tr>\n",
       "    <tr>\n",
       "      <th>40566</th>\n",
       "      <td>I very rarely leave reviews and if I do, they'...</td>\n",
       "      <td>1</td>\n",
       "      <td>699</td>\n",
       "    </tr>\n",
       "  </tbody>\n",
       "</table>\n",
       "</div>"
      ],
      "text/plain": [
       "                                                  Review  Rating  Length\n",
       "61568  I have been using Spotify premium. Biggest dis...       3     150\n",
       "24495  SPOTIFY IS TERRIBLE! Before podcasts, Spotify ...       1     157\n",
       "23836  Works fine for my phone, however for the past ...       2     159\n",
       "27916  Edit - came back to remove a star. Jesus cance...       2     165\n",
       "19664  Spotify is a great way to listen to music alth...       4     175\n",
       "40973  Although I like Spotify and I use it a lot (an...       3     185\n",
       "26055  I am giving the 3 month free trial a go and so...       4     219\n",
       "46004  I am using Spotify soon for a year, before I u...       4     222\n",
       "20489  Attention Android Users: unfortunately, there ...       1     279\n",
       "40566  I very rarely leave reviews and if I do, they'...       1     699"
      ]
     },
     "execution_count": 12,
     "metadata": {},
     "output_type": "execute_result"
    }
   ],
   "source": [
    "## Check longest reviews\n",
    "data.sort_values(\"Length\").tail(10)"
   ]
  },
  {
   "cell_type": "code",
   "execution_count": 13,
   "metadata": {},
   "outputs": [
    {
     "data": {
      "text/plain": [
       "<Figure size 1200x600 with 0 Axes>"
      ]
     },
     "metadata": {},
     "output_type": "display_data"
    },
    {
     "data": {
      "image/png": "[encoded data removed]",
      "text/plain": [
       "<Figure size 1000x500 with 1 Axes>"
      ]
     },
     "metadata": {},
     "output_type": "display_data"
    }
   ],
   "source": [
    "## Plot Review Length as hist\n",
    "plt.figure(figsize=(4,2), dpi=300)\n",
    "ax = sns.displot(data[\"Length\"], kind=\"hist\", fill=True, aspect=2, bins=75, log=True);"
   ]
  },
  {
   "cell_type": "code",
   "execution_count": 14,
   "metadata": {},
   "outputs": [
    {
     "data": {
      "text/plain": [
       "count    61356.000000\n",
       "mean        30.991786\n",
       "std         22.724590\n",
       "min          2.000000\n",
       "25%         14.000000\n",
       "50%         25.000000\n",
       "75%         42.000000\n",
       "max        699.000000\n",
       "Name: Length, dtype: float64"
      ]
     },
     "execution_count": 14,
     "metadata": {},
     "output_type": "execute_result"
    }
   ],
   "source": [
    "data[\"Length\"].describe()"
   ]
  },
  {
   "cell_type": "markdown",
   "metadata": {},
   "source": [
    "As we can see, most reviews are no longer than around 120 words; as a next step, we could remove all reviews with more than 150 words."
   ]
  },
  {
   "cell_type": "code",
   "execution_count": 15,
   "metadata": {},
   "outputs": [
    {
     "name": "stdout",
     "output_type": "stream",
     "text": [
      "Number of reviews after trimming:  61346\n"
     ]
    }
   ],
   "source": [
    "## Drop long reviews\n",
    "data = data[data.Length < 150]\n",
    "print(\"Number of reviews after trimming: \", len(data))"
   ]
  },
  {
   "cell_type": "code",
   "execution_count": 16,
   "metadata": {},
   "outputs": [
    {
     "data": {
      "image/png": "[encoded data removed]",
      "text/plain": [
       "<Figure size 500x500 with 1 Axes>"
      ]
     },
     "metadata": {},
     "output_type": "display_data"
    }
   ],
   "source": [
    "## Visualize distribution of ratings\n",
    "ax = sns.displot(data=data, x='Rating', stat='percent', bins=5);"
   ]
  },
  {
   "cell_type": "code",
   "execution_count": 17,
   "metadata": {},
   "outputs": [],
   "source": [
    "## Code sentiment from rating (1 or 2 == bad, 3 == neutral, 4 or 5 == good)\n",
    "def get_sentiment(rating):\n",
    "    if rating == 1 or rating == 2:\n",
    "        return \"negative\"\n",
    "    if rating == 3:\n",
    "        return \"neutral\"\n",
    "    if rating == 4 or rating == 5:\n",
    "        return \"positive\""
   ]
  },
  {
   "cell_type": "code",
   "execution_count": 18,
   "metadata": {},
   "outputs": [
    {
     "data": {
      "text/html": [
       "<div>\n",
       "<style scoped>\n",
       "    .dataframe tbody tr th:only-of-type {\n",
       "        vertical-align: middle;\n",
       "    }\n",
       "\n",
       "    .dataframe tbody tr th {\n",
       "        vertical-align: top;\n",
       "    }\n",
       "\n",
       "    .dataframe thead th {\n",
       "        text-align: right;\n",
       "    }\n",
       "</style>\n",
       "<table border=\"1\" class=\"dataframe\">\n",
       "  <thead>\n",
       "    <tr style=\"text-align: right;\">\n",
       "      <th></th>\n",
       "      <th>Review</th>\n",
       "      <th>Rating</th>\n",
       "      <th>Length</th>\n",
       "      <th>Sentiment</th>\n",
       "    </tr>\n",
       "  </thead>\n",
       "  <tbody>\n",
       "    <tr>\n",
       "      <th>0</th>\n",
       "      <td>Great music service, the audio is high quality...</td>\n",
       "      <td>5</td>\n",
       "      <td>21</td>\n",
       "      <td>positive</td>\n",
       "    </tr>\n",
       "    <tr>\n",
       "      <th>1</th>\n",
       "      <td>Please ignore previous negative rating. This a...</td>\n",
       "      <td>5</td>\n",
       "      <td>15</td>\n",
       "      <td>positive</td>\n",
       "    </tr>\n",
       "    <tr>\n",
       "      <th>2</th>\n",
       "      <td>This pop-up \"Get the best Spotify experience o...</td>\n",
       "      <td>4</td>\n",
       "      <td>19</td>\n",
       "      <td>positive</td>\n",
       "    </tr>\n",
       "    <tr>\n",
       "      <th>3</th>\n",
       "      <td>Really buggy and terrible to use as of recently</td>\n",
       "      <td>1</td>\n",
       "      <td>9</td>\n",
       "      <td>negative</td>\n",
       "    </tr>\n",
       "    <tr>\n",
       "      <th>4</th>\n",
       "      <td>Dear Spotify why do I get songs that I didn't ...</td>\n",
       "      <td>1</td>\n",
       "      <td>21</td>\n",
       "      <td>negative</td>\n",
       "    </tr>\n",
       "    <tr>\n",
       "      <th>5</th>\n",
       "      <td>The player controls sometimes disappear for no...</td>\n",
       "      <td>3</td>\n",
       "      <td>19</td>\n",
       "      <td>neutral</td>\n",
       "    </tr>\n",
       "    <tr>\n",
       "      <th>6</th>\n",
       "      <td>I love the selection and the lyrics are provid...</td>\n",
       "      <td>5</td>\n",
       "      <td>15</td>\n",
       "      <td>positive</td>\n",
       "    </tr>\n",
       "    <tr>\n",
       "      <th>7</th>\n",
       "      <td>Still extremely slow when changing storage to ...</td>\n",
       "      <td>3</td>\n",
       "      <td>62</td>\n",
       "      <td>neutral</td>\n",
       "    </tr>\n",
       "    <tr>\n",
       "      <th>8</th>\n",
       "      <td>It's a great app and the best mp3 music app I ...</td>\n",
       "      <td>5</td>\n",
       "      <td>43</td>\n",
       "      <td>positive</td>\n",
       "    </tr>\n",
       "    <tr>\n",
       "      <th>9</th>\n",
       "      <td>I'm deleting this app, for the following reaso...</td>\n",
       "      <td>1</td>\n",
       "      <td>80</td>\n",
       "      <td>negative</td>\n",
       "    </tr>\n",
       "  </tbody>\n",
       "</table>\n",
       "</div>"
      ],
      "text/plain": [
       "                                              Review  Rating  Length Sentiment\n",
       "0  Great music service, the audio is high quality...       5      21  positive\n",
       "1  Please ignore previous negative rating. This a...       5      15  positive\n",
       "2  This pop-up \"Get the best Spotify experience o...       4      19  positive\n",
       "3    Really buggy and terrible to use as of recently       1       9  negative\n",
       "4  Dear Spotify why do I get songs that I didn't ...       1      21  negative\n",
       "5  The player controls sometimes disappear for no...       3      19   neutral\n",
       "6  I love the selection and the lyrics are provid...       5      15  positive\n",
       "7  Still extremely slow when changing storage to ...       3      62   neutral\n",
       "8  It's a great app and the best mp3 music app I ...       5      43  positive\n",
       "9  I'm deleting this app, for the following reaso...       1      80  negative"
      ]
     },
     "execution_count": 18,
     "metadata": {},
     "output_type": "execute_result"
    }
   ],
   "source": [
    "data[\"Sentiment\"] = data[\"Rating\"].apply(get_sentiment)\n",
    "data.head(10)"
   ]
  },
  {
   "cell_type": "code",
   "execution_count": 19,
   "metadata": {},
   "outputs": [
    {
     "data": {
      "image/png": "[encoded data removed]",
      "text/plain": [
       "<Figure size 500x500 with 1 Axes>"
      ]
     },
     "metadata": {},
     "output_type": "display_data"
    }
   ],
   "source": [
    "## Plot sentiment distribution (e.g. sns.histplot)\n",
    "ax = sns.displot(data=data, x='Sentiment', stat='percent');"
   ]
  },
  {
   "cell_type": "code",
   "execution_count": 20,
   "metadata": {},
   "outputs": [
    {
     "data": {
      "text/html": [
       "<div>\n",
       "<style scoped>\n",
       "    .dataframe tbody tr th:only-of-type {\n",
       "        vertical-align: middle;\n",
       "    }\n",
       "\n",
       "    .dataframe tbody tr th {\n",
       "        vertical-align: top;\n",
       "    }\n",
       "\n",
       "    .dataframe thead tr th {\n",
       "        text-align: left;\n",
       "    }\n",
       "\n",
       "    .dataframe thead tr:last-of-type th {\n",
       "        text-align: right;\n",
       "    }\n",
       "</style>\n",
       "<table border=\"1\" class=\"dataframe\">\n",
       "  <thead>\n",
       "    <tr>\n",
       "      <th></th>\n",
       "      <th colspan=\"8\" halign=\"left\">Length</th>\n",
       "    </tr>\n",
       "    <tr>\n",
       "      <th></th>\n",
       "      <th>count</th>\n",
       "      <th>mean</th>\n",
       "      <th>std</th>\n",
       "      <th>min</th>\n",
       "      <th>25%</th>\n",
       "      <th>50%</th>\n",
       "      <th>75%</th>\n",
       "      <th>max</th>\n",
       "    </tr>\n",
       "    <tr>\n",
       "      <th>Sentiment</th>\n",
       "      <th></th>\n",
       "      <th></th>\n",
       "      <th></th>\n",
       "      <th></th>\n",
       "      <th></th>\n",
       "      <th></th>\n",
       "      <th></th>\n",
       "      <th></th>\n",
       "    </tr>\n",
       "  </thead>\n",
       "  <tbody>\n",
       "    <tr>\n",
       "      <th>negative</th>\n",
       "      <td>24713.0</td>\n",
       "      <td>37.777202</td>\n",
       "      <td>23.415594</td>\n",
       "      <td>3.0</td>\n",
       "      <td>20.0</td>\n",
       "      <td>32.0</td>\n",
       "      <td>50.0</td>\n",
       "      <td>137.0</td>\n",
       "    </tr>\n",
       "    <tr>\n",
       "      <th>neutral</th>\n",
       "      <td>6874.0</td>\n",
       "      <td>36.963777</td>\n",
       "      <td>23.270817</td>\n",
       "      <td>3.0</td>\n",
       "      <td>19.0</td>\n",
       "      <td>32.0</td>\n",
       "      <td>49.0</td>\n",
       "      <td>111.0</td>\n",
       "    </tr>\n",
       "    <tr>\n",
       "      <th>positive</th>\n",
       "      <td>29759.0</td>\n",
       "      <td>23.906885</td>\n",
       "      <td>19.092666</td>\n",
       "      <td>2.0</td>\n",
       "      <td>10.0</td>\n",
       "      <td>18.0</td>\n",
       "      <td>31.0</td>\n",
       "      <td>113.0</td>\n",
       "    </tr>\n",
       "  </tbody>\n",
       "</table>\n",
       "</div>"
      ],
      "text/plain": [
       "            Length                                                    \n",
       "             count       mean        std  min   25%   50%   75%    max\n",
       "Sentiment                                                             \n",
       "negative   24713.0  37.777202  23.415594  3.0  20.0  32.0  50.0  137.0\n",
       "neutral     6874.0  36.963777  23.270817  3.0  19.0  32.0  49.0  111.0\n",
       "positive   29759.0  23.906885  19.092666  2.0  10.0  18.0  31.0  113.0"
      ]
     },
     "execution_count": 20,
     "metadata": {},
     "output_type": "execute_result"
    }
   ],
   "source": [
    "## Look for relationship between length and sentiment\n",
    "data[[\"Length\",\"Sentiment\"]].groupby(\"Sentiment\").describe()"
   ]
  },
  {
   "cell_type": "markdown",
   "metadata": {},
   "source": [
    "### Preprocessing"
   ]
  },
  {
   "cell_type": "code",
   "execution_count": 21,
   "metadata": {},
   "outputs": [],
   "source": [
    "## Get NLTK english stopwords\n",
    "our_stopwords = set(stopwords.words('english'))"
   ]
  },
  {
   "cell_type": "code",
   "execution_count": 22,
   "metadata": {},
   "outputs": [],
   "source": [
    "## Run this to download all NLTK content\n",
    "## WARNING: This takes a long time.\n",
    "#nltk.download()"
   ]
  },
  {
   "cell_type": "markdown",
   "metadata": {},
   "source": [
    "## Text Preprocessing\n",
    "\n",
    "1. Lowercase\n",
    "2. Remove Punct\n",
    "3. Tokenize with standard tokenizer\n",
    "4. Remove Stopwords"
   ]
  },
  {
   "cell_type": "code",
   "execution_count": 23,
   "metadata": {},
   "outputs": [
    {
     "data": {
      "text/html": [
       "<div>\n",
       "<style scoped>\n",
       "    .dataframe tbody tr th:only-of-type {\n",
       "        vertical-align: middle;\n",
       "    }\n",
       "\n",
       "    .dataframe tbody tr th {\n",
       "        vertical-align: top;\n",
       "    }\n",
       "\n",
       "    .dataframe thead th {\n",
       "        text-align: right;\n",
       "    }\n",
       "</style>\n",
       "<table border=\"1\" class=\"dataframe\">\n",
       "  <thead>\n",
       "    <tr style=\"text-align: right;\">\n",
       "      <th></th>\n",
       "      <th>Review</th>\n",
       "      <th>Rating</th>\n",
       "      <th>Length</th>\n",
       "      <th>Sentiment</th>\n",
       "    </tr>\n",
       "  </thead>\n",
       "  <tbody>\n",
       "    <tr>\n",
       "      <th>0</th>\n",
       "      <td>great music service, the audio is high quality...</td>\n",
       "      <td>5</td>\n",
       "      <td>21</td>\n",
       "      <td>positive</td>\n",
       "    </tr>\n",
       "    <tr>\n",
       "      <th>1</th>\n",
       "      <td>please ignore previous negative rating. this a...</td>\n",
       "      <td>5</td>\n",
       "      <td>15</td>\n",
       "      <td>positive</td>\n",
       "    </tr>\n",
       "    <tr>\n",
       "      <th>2</th>\n",
       "      <td>this pop-up \"get the best spotify experience o...</td>\n",
       "      <td>4</td>\n",
       "      <td>19</td>\n",
       "      <td>positive</td>\n",
       "    </tr>\n",
       "    <tr>\n",
       "      <th>3</th>\n",
       "      <td>really buggy and terrible to use as of recently</td>\n",
       "      <td>1</td>\n",
       "      <td>9</td>\n",
       "      <td>negative</td>\n",
       "    </tr>\n",
       "    <tr>\n",
       "      <th>4</th>\n",
       "      <td>dear spotify why do i get songs that i didn't ...</td>\n",
       "      <td>1</td>\n",
       "      <td>21</td>\n",
       "      <td>negative</td>\n",
       "    </tr>\n",
       "  </tbody>\n",
       "</table>\n",
       "</div>"
      ],
      "text/plain": [
       "                                              Review  Rating  Length Sentiment\n",
       "0  great music service, the audio is high quality...       5      21  positive\n",
       "1  please ignore previous negative rating. this a...       5      15  positive\n",
       "2  this pop-up \"get the best spotify experience o...       4      19  positive\n",
       "3    really buggy and terrible to use as of recently       1       9  negative\n",
       "4  dear spotify why do i get songs that i didn't ...       1      21  negative"
      ]
     },
     "execution_count": 23,
     "metadata": {},
     "output_type": "execute_result"
    }
   ],
   "source": [
    "## 1. Lowercase all words\n",
    "data[\"Review\"] = data[\"Review\"].str.lower()\n",
    "data.head()"
   ]
  },
  {
   "cell_type": "code",
   "execution_count": 24,
   "metadata": {},
   "outputs": [
    {
     "data": {
      "text/plain": [
       "15070    spotify is a great app,i think we all sgoyld h...\n",
       "52751                 love, love, love spotify. great app.\n",
       "61054    i have got premium subscription but the playli...\n",
       "16454    great music or podcast streaming app. would re...\n",
       "27129    i can reply the same song i want to play and i...\n",
       "10108            great but wish they would mix it up more.\n",
       "30013    will just turn itself on whenever bluetooth is...\n",
       "2646     love love love it, always clear music and the ...\n",
       "28217    spotify won't let me log in on my facebook acc...\n",
       "5428     i love how this works. it's smooth and i know ...\n",
       "41443    too many ads,other than that spotify is defini...\n",
       "20635    used to be amazing now a lot of bugs plays sam...\n",
       "60499    never any problems..always really good songs v...\n",
       "49647    i hate this app. right in the middle of a podc...\n",
       "32049    buggy updates recent update causes music stop ...\n",
       "20710    updated app 05/18/2022 and the player and cont...\n",
       "5558     don't download guys , this is not music app , ...\n",
       "56339    best music app! love the podcasts as well. bes...\n",
       "22090    spotify premium client for years, but i'm gett...\n",
       "24837    everything was good in the app until there was...\n",
       "Name: Review, dtype: object"
      ]
     },
     "execution_count": 24,
     "metadata": {},
     "output_type": "execute_result"
    }
   ],
   "source": [
    "data[\"Review\"].sample(20)"
   ]
  },
  {
   "cell_type": "code",
   "execution_count": 25,
   "metadata": {},
   "outputs": [],
   "source": [
    "## 2./3. Tokenize/Remove Punctuation\n",
    "from nltk.tokenize import RegexpTokenizer\n",
    "tokenizer = RegexpTokenizer(r'\\w+')"
   ]
  },
  {
   "cell_type": "code",
   "execution_count": 26,
   "metadata": {},
   "outputs": [],
   "source": [
    "tokens = data[\"Review\"].apply(tokenizer.tokenize)"
   ]
  },
  {
   "cell_type": "code",
   "execution_count": 27,
   "metadata": {},
   "outputs": [
    {
     "data": {
      "text/plain": [
       "36302    [constantly, pausing, or, just, outright, clos...\n",
       "47806    [alexa, friendly, allows, music, to, be, heard...\n",
       "38450    [i, enjoy, the, ease, of, listening, to, my, f...\n",
       "15502    [this, plays, songs, that, i, haven, t, heard,...\n",
       "49100    [please, add, forward, and, previous, song, bu...\n",
       "29854    [creating, account, is, so, annoying, errors, ...\n",
       "9030     [the, app, was, good, for, the, past, 4, days,...\n",
       "8642     [i, have, to, keep, re, downloading, the, app,...\n",
       "5090             [7, ads, in, one, go, that, s, too, much]\n",
       "41658    [i, love, this, app, because, i, listen, to, a...\n",
       "11096    [i, love, this, app, would, recommend, it, to,...\n",
       "36502    [i, love, this, app, bt, i, have, face, a, pro...\n",
       "32200    [exceptional, i, love, how, it, recommends, mu...\n",
       "7882     [add, some, more, advertisements, so, we, can,...\n",
       "40903    [good, just, can, t, figure, out, how, to, sav...\n",
       "17501    [don, t, install, this, app, advertising, is, ...\n",
       "43122    [rating, 1, star, until, the, app, works, with...\n",
       "33602    [it, is, osum, but, wuons, you, play, a, song,...\n",
       "27003    [worst, customer, service, i, m, having, issue...\n",
       "37615    [i, don, t, ever, have, any, issues, listening...\n",
       "Name: Review, dtype: object"
      ]
     },
     "execution_count": 27,
     "metadata": {},
     "output_type": "execute_result"
    }
   ],
   "source": [
    "tokens.sample(20)"
   ]
  },
  {
   "cell_type": "code",
   "execution_count": 28,
   "metadata": {},
   "outputs": [],
   "source": [
    "## Join tokens to our dataframe\n",
    "data[\"Tokens\"] = tokens"
   ]
  },
  {
   "cell_type": "code",
   "execution_count": 29,
   "metadata": {},
   "outputs": [
    {
     "data": {
      "text/html": [
       "<div>\n",
       "<style scoped>\n",
       "    .dataframe tbody tr th:only-of-type {\n",
       "        vertical-align: middle;\n",
       "    }\n",
       "\n",
       "    .dataframe tbody tr th {\n",
       "        vertical-align: top;\n",
       "    }\n",
       "\n",
       "    .dataframe thead th {\n",
       "        text-align: right;\n",
       "    }\n",
       "</style>\n",
       "<table border=\"1\" class=\"dataframe\">\n",
       "  <thead>\n",
       "    <tr style=\"text-align: right;\">\n",
       "      <th></th>\n",
       "      <th>Review</th>\n",
       "      <th>Rating</th>\n",
       "      <th>Length</th>\n",
       "      <th>Sentiment</th>\n",
       "      <th>Tokens</th>\n",
       "    </tr>\n",
       "  </thead>\n",
       "  <tbody>\n",
       "    <tr>\n",
       "      <th>0</th>\n",
       "      <td>great music service, the audio is high quality...</td>\n",
       "      <td>5</td>\n",
       "      <td>21</td>\n",
       "      <td>positive</td>\n",
       "      <td>[great, music, service, the, audio, is, high, ...</td>\n",
       "    </tr>\n",
       "    <tr>\n",
       "      <th>1</th>\n",
       "      <td>please ignore previous negative rating. this a...</td>\n",
       "      <td>5</td>\n",
       "      <td>15</td>\n",
       "      <td>positive</td>\n",
       "      <td>[please, ignore, previous, negative, rating, t...</td>\n",
       "    </tr>\n",
       "    <tr>\n",
       "      <th>2</th>\n",
       "      <td>this pop-up \"get the best spotify experience o...</td>\n",
       "      <td>4</td>\n",
       "      <td>19</td>\n",
       "      <td>positive</td>\n",
       "      <td>[this, pop, up, get, the, best, spotify, exper...</td>\n",
       "    </tr>\n",
       "    <tr>\n",
       "      <th>3</th>\n",
       "      <td>really buggy and terrible to use as of recently</td>\n",
       "      <td>1</td>\n",
       "      <td>9</td>\n",
       "      <td>negative</td>\n",
       "      <td>[really, buggy, and, terrible, to, use, as, of...</td>\n",
       "    </tr>\n",
       "    <tr>\n",
       "      <th>4</th>\n",
       "      <td>dear spotify why do i get songs that i didn't ...</td>\n",
       "      <td>1</td>\n",
       "      <td>21</td>\n",
       "      <td>negative</td>\n",
       "      <td>[dear, spotify, why, do, i, get, songs, that, ...</td>\n",
       "    </tr>\n",
       "  </tbody>\n",
       "</table>\n",
       "</div>"
      ],
      "text/plain": [
       "                                              Review  Rating  Length  \\\n",
       "0  great music service, the audio is high quality...       5      21   \n",
       "1  please ignore previous negative rating. this a...       5      15   \n",
       "2  this pop-up \"get the best spotify experience o...       4      19   \n",
       "3    really buggy and terrible to use as of recently       1       9   \n",
       "4  dear spotify why do i get songs that i didn't ...       1      21   \n",
       "\n",
       "  Sentiment                                             Tokens  \n",
       "0  positive  [great, music, service, the, audio, is, high, ...  \n",
       "1  positive  [please, ignore, previous, negative, rating, t...  \n",
       "2  positive  [this, pop, up, get, the, best, spotify, exper...  \n",
       "3  negative  [really, buggy, and, terrible, to, use, as, of...  \n",
       "4  negative  [dear, spotify, why, do, i, get, songs, that, ...  "
      ]
     },
     "execution_count": 29,
     "metadata": {},
     "output_type": "execute_result"
    }
   ],
   "source": [
    "data.head()"
   ]
  },
  {
   "cell_type": "code",
   "execution_count": 30,
   "metadata": {},
   "outputs": [
    {
     "data": {
      "text/html": [
       "<div>\n",
       "<style scoped>\n",
       "    .dataframe tbody tr th:only-of-type {\n",
       "        vertical-align: middle;\n",
       "    }\n",
       "\n",
       "    .dataframe tbody tr th {\n",
       "        vertical-align: top;\n",
       "    }\n",
       "\n",
       "    .dataframe thead th {\n",
       "        text-align: right;\n",
       "    }\n",
       "</style>\n",
       "<table border=\"1\" class=\"dataframe\">\n",
       "  <thead>\n",
       "    <tr style=\"text-align: right;\">\n",
       "      <th></th>\n",
       "      <th>Review</th>\n",
       "      <th>Rating</th>\n",
       "      <th>Length</th>\n",
       "      <th>Sentiment</th>\n",
       "      <th>Tokens</th>\n",
       "      <th>Tokens_no_stopwords</th>\n",
       "    </tr>\n",
       "  </thead>\n",
       "  <tbody>\n",
       "    <tr>\n",
       "      <th>0</th>\n",
       "      <td>great music service, the audio is high quality...</td>\n",
       "      <td>5</td>\n",
       "      <td>21</td>\n",
       "      <td>positive</td>\n",
       "      <td>[great, music, service, the, audio, is, high, ...</td>\n",
       "      <td>[great, music, service, audio, high, quality, ...</td>\n",
       "    </tr>\n",
       "    <tr>\n",
       "      <th>1</th>\n",
       "      <td>please ignore previous negative rating. this a...</td>\n",
       "      <td>5</td>\n",
       "      <td>15</td>\n",
       "      <td>positive</td>\n",
       "      <td>[please, ignore, previous, negative, rating, t...</td>\n",
       "      <td>[please, ignore, previous, negative, rating, a...</td>\n",
       "    </tr>\n",
       "    <tr>\n",
       "      <th>2</th>\n",
       "      <td>this pop-up \"get the best spotify experience o...</td>\n",
       "      <td>4</td>\n",
       "      <td>19</td>\n",
       "      <td>positive</td>\n",
       "      <td>[this, pop, up, get, the, best, spotify, exper...</td>\n",
       "      <td>[pop, get, best, spotify, experience, android,...</td>\n",
       "    </tr>\n",
       "    <tr>\n",
       "      <th>3</th>\n",
       "      <td>really buggy and terrible to use as of recently</td>\n",
       "      <td>1</td>\n",
       "      <td>9</td>\n",
       "      <td>negative</td>\n",
       "      <td>[really, buggy, and, terrible, to, use, as, of...</td>\n",
       "      <td>[really, buggy, terrible, use, recently]</td>\n",
       "    </tr>\n",
       "    <tr>\n",
       "      <th>4</th>\n",
       "      <td>dear spotify why do i get songs that i didn't ...</td>\n",
       "      <td>1</td>\n",
       "      <td>21</td>\n",
       "      <td>negative</td>\n",
       "      <td>[dear, spotify, why, do, i, get, songs, that, ...</td>\n",
       "      <td>[dear, spotify, get, songs, put, playlist, shu...</td>\n",
       "    </tr>\n",
       "  </tbody>\n",
       "</table>\n",
       "</div>"
      ],
      "text/plain": [
       "                                              Review  Rating  Length  \\\n",
       "0  great music service, the audio is high quality...       5      21   \n",
       "1  please ignore previous negative rating. this a...       5      15   \n",
       "2  this pop-up \"get the best spotify experience o...       4      19   \n",
       "3    really buggy and terrible to use as of recently       1       9   \n",
       "4  dear spotify why do i get songs that i didn't ...       1      21   \n",
       "\n",
       "  Sentiment                                             Tokens  \\\n",
       "0  positive  [great, music, service, the, audio, is, high, ...   \n",
       "1  positive  [please, ignore, previous, negative, rating, t...   \n",
       "2  positive  [this, pop, up, get, the, best, spotify, exper...   \n",
       "3  negative  [really, buggy, and, terrible, to, use, as, of...   \n",
       "4  negative  [dear, spotify, why, do, i, get, songs, that, ...   \n",
       "\n",
       "                                 Tokens_no_stopwords  \n",
       "0  [great, music, service, audio, high, quality, ...  \n",
       "1  [please, ignore, previous, negative, rating, a...  \n",
       "2  [pop, get, best, spotify, experience, android,...  \n",
       "3           [really, buggy, terrible, use, recently]  \n",
       "4  [dear, spotify, get, songs, put, playlist, shu...  "
      ]
     },
     "execution_count": 30,
     "metadata": {},
     "output_type": "execute_result"
    }
   ],
   "source": [
    "## 4. Remove Stopwords\n",
    "## Here we loop through each list of words and remove stopwords\n",
    "data['Tokens_no_stopwords'] = data['Tokens'].apply(lambda x: [word for word in x if word not in (our_stopwords)])\n",
    "data.head()"
   ]
  },
  {
   "cell_type": "markdown",
   "metadata": {},
   "source": [
    "## TEXT TRANSFORMATIONS\n",
    "5. Bag of Word Model/Count Vectorize\n",
    "6. Term-Frequency Inverse-Document-Frequency (TF-IDF)/ TFIDF Vectorizer\n",
    "7. Delete highly frequent and very low frequent tokens\n",
    "8. Select top _n_ tokens\n",
    "\n",
    "Until now, the text was still in text form; all we did was cleaning words and characters that won't give us a lot of signal. The next step, however, is to _transform_ the text into numeric representations, aka something a computer can understand. This involves fitting a transformer to data. In order to prevent __data spillage__, it is important to split our data into a training, development, and test set. Any transformer should only be fit to the training data set."
   ]
  },
  {
   "cell_type": "code",
   "execution_count": 31,
   "metadata": {},
   "outputs": [
    {
     "name": "stdout",
     "output_type": "stream",
     "text": [
      "Shape of X and y:  (61346,) (61346,)\n"
     ]
    }
   ],
   "source": [
    "X = data[\"Tokens_no_stopwords\"]\n",
    "y = data[\"Sentiment\"]\n",
    "print(\"Shape of X and y: \", X.shape, y.shape)"
   ]
  },
  {
   "cell_type": "code",
   "execution_count": 32,
   "metadata": {},
   "outputs": [
    {
     "name": "stdout",
     "output_type": "stream",
     "text": [
      "(36807,) (24539,) (36807,) (24539,)\n"
     ]
    }
   ],
   "source": [
    "X_train, X_test, y_train, y_test = train_test_split(X, y, test_size=0.4, stratify = y, random_state=42)\n",
    "print(X_train.shape, X_test.shape, y_train.shape, y_test.shape)"
   ]
  },
  {
   "cell_type": "code",
   "execution_count": 33,
   "metadata": {},
   "outputs": [
    {
     "name": "stdout",
     "output_type": "stream",
     "text": [
      "(12269,) (12270,) (12269,) (12270,)\n"
     ]
    }
   ],
   "source": [
    "X_dev, X_test, y_dev, y_test = train_test_split(X_test, y_test, test_size=0.5, stratify = y_test, random_state=42)\n",
    "print(X_dev.shape, X_test.shape, y_dev.shape, y_test.shape)"
   ]
  },
  {
   "cell_type": "code",
   "execution_count": 34,
   "metadata": {},
   "outputs": [
    {
     "name": "stdout",
     "output_type": "stream",
     "text": [
      "['positive' 'negative' 'neutral'] ['neutral' 'negative' 'positive'] ['neutral' 'negative' 'positive']\n"
     ]
    }
   ],
   "source": [
    "print(y_train.unique(), y_test.unique(), y_dev.unique())"
   ]
  },
  {
   "cell_type": "code",
   "execution_count": 35,
   "metadata": {},
   "outputs": [],
   "source": [
    "## Encode labels in sklearn style\n",
    "label_encoder = LabelEncoder()\n",
    "y_train = label_encoder.fit_transform(y_train)\n",
    "y_dev = label_encoder.transform(y_dev)\n",
    "y_test = label_encoder.transform(y_test)"
   ]
  },
  {
   "cell_type": "code",
   "execution_count": 36,
   "metadata": {},
   "outputs": [],
   "source": [
    "## TRANSFORMATIONS\n",
    "## 5. Counts\n",
    "from sklearn.feature_extraction.text import CountVectorizer"
   ]
  },
  {
   "cell_type": "code",
   "execution_count": 37,
   "metadata": {},
   "outputs": [],
   "source": [
    "## hacky solution, meh\n",
    "def dummy(doc):\n",
    "    return doc\n",
    "count_vectorizer = CountVectorizer(tokenizer=dummy, preprocessor=dummy)\n",
    "## Only fit on training set\n",
    "count_vectorizer.fit(X_train)\n",
    "X_train_counts = count_vectorizer.transform(X_train)\n",
    "X_dev_counts = count_vectorizer.transform(X_dev)\n"
   ]
  },
  {
   "cell_type": "code",
   "execution_count": 38,
   "metadata": {},
   "outputs": [
    {
     "data": {
      "text/plain": [
       "['loving',\n",
       " 'app',\n",
       " 'lots',\n",
       " 'music',\n",
       " 'choose',\n",
       " 'podcasts',\n",
       " 'turn',\n",
       " 'bluetooth',\n",
       " 'notification',\n",
       " 'every']"
      ]
     },
     "execution_count": 38,
     "metadata": {},
     "output_type": "execute_result"
    }
   ],
   "source": [
    "## We can get the vocabulary (= all our tokens) from the vectorizer as a dict\n",
    "vocabulary = count_vectorizer.vocabulary_\n",
    "list(vocabulary.keys())[:10] # Show ten"
   ]
  },
  {
   "cell_type": "code",
   "execution_count": 39,
   "metadata": {},
   "outputs": [
    {
     "data": {
      "text/html": [
       "<div>\n",
       "<style scoped>\n",
       "    .dataframe tbody tr th:only-of-type {\n",
       "        vertical-align: middle;\n",
       "    }\n",
       "\n",
       "    .dataframe tbody tr th {\n",
       "        vertical-align: top;\n",
       "    }\n",
       "\n",
       "    .dataframe thead th {\n",
       "        text-align: right;\n",
       "    }\n",
       "</style>\n",
       "<table border=\"1\" class=\"dataframe\">\n",
       "  <thead>\n",
       "    <tr style=\"text-align: right;\">\n",
       "      <th></th>\n",
       "      <th>token</th>\n",
       "      <th>ID</th>\n",
       "    </tr>\n",
       "  </thead>\n",
       "  <tbody>\n",
       "    <tr>\n",
       "      <th>331</th>\n",
       "      <td>0</td>\n",
       "      <td>0</td>\n",
       "    </tr>\n",
       "    <tr>\n",
       "      <th>3446</th>\n",
       "      <td>00</td>\n",
       "      <td>1</td>\n",
       "    </tr>\n",
       "    <tr>\n",
       "      <th>3301</th>\n",
       "      <td>000</td>\n",
       "      <td>2</td>\n",
       "    </tr>\n",
       "    <tr>\n",
       "      <th>4961</th>\n",
       "      <td>000000001</td>\n",
       "      <td>3</td>\n",
       "    </tr>\n",
       "    <tr>\n",
       "      <th>14200</th>\n",
       "      <td>001</td>\n",
       "      <td>4</td>\n",
       "    </tr>\n",
       "    <tr>\n",
       "      <th>14752</th>\n",
       "      <td>003</td>\n",
       "      <td>5</td>\n",
       "    </tr>\n",
       "    <tr>\n",
       "      <th>9606</th>\n",
       "      <td>00348</td>\n",
       "      <td>6</td>\n",
       "    </tr>\n",
       "    <tr>\n",
       "      <th>14753</th>\n",
       "      <td>005</td>\n",
       "      <td>7</td>\n",
       "    </tr>\n",
       "    <tr>\n",
       "      <th>106</th>\n",
       "      <td>00s</td>\n",
       "      <td>8</td>\n",
       "    </tr>\n",
       "    <tr>\n",
       "      <th>4007</th>\n",
       "      <td>01</td>\n",
       "      <td>9</td>\n",
       "    </tr>\n",
       "  </tbody>\n",
       "</table>\n",
       "</div>"
      ],
      "text/plain": [
       "           token  ID\n",
       "331            0   0\n",
       "3446          00   1\n",
       "3301         000   2\n",
       "4961   000000001   3\n",
       "14200        001   4\n",
       "14752        003   5\n",
       "9606       00348   6\n",
       "14753        005   7\n",
       "106          00s   8\n",
       "4007          01   9"
      ]
     },
     "execution_count": 39,
     "metadata": {},
     "output_type": "execute_result"
    }
   ],
   "source": [
    "## Let's have a look at tokens and their ID, sorted alphabetically\n",
    "pd.DataFrame(vocabulary.items()).rename(columns={0: \"token\", 1: \"ID\"}).sort_values(\"ID\", ascending=True).head(10)"
   ]
  },
  {
   "cell_type": "code",
   "execution_count": 40,
   "metadata": {},
   "outputs": [
    {
     "data": {
      "text/html": [
       "<div>\n",
       "<style scoped>\n",
       "    .dataframe tbody tr th:only-of-type {\n",
       "        vertical-align: middle;\n",
       "    }\n",
       "\n",
       "    .dataframe tbody tr th {\n",
       "        vertical-align: top;\n",
       "    }\n",
       "\n",
       "    .dataframe thead th {\n",
       "        text-align: right;\n",
       "    }\n",
       "</style>\n",
       "<table border=\"1\" class=\"dataframe\">\n",
       "  <thead>\n",
       "    <tr style=\"text-align: right;\">\n",
       "      <th></th>\n",
       "      <th>token</th>\n",
       "      <th>ID</th>\n",
       "    </tr>\n",
       "  </thead>\n",
       "  <tbody>\n",
       "    <tr>\n",
       "      <th>8714</th>\n",
       "      <td>𝚑𝚊𝚟𝚎</td>\n",
       "      <td>18297</td>\n",
       "    </tr>\n",
       "    <tr>\n",
       "      <th>8713</th>\n",
       "      <td>𝚒</td>\n",
       "      <td>18298</td>\n",
       "    </tr>\n",
       "    <tr>\n",
       "      <th>5355</th>\n",
       "      <td>𝚒𝚜</td>\n",
       "      <td>18299</td>\n",
       "    </tr>\n",
       "    <tr>\n",
       "      <th>8716</th>\n",
       "      <td>𝚕𝚘𝚟𝚎𝚍</td>\n",
       "      <td>18300</td>\n",
       "    </tr>\n",
       "    <tr>\n",
       "      <th>5357</th>\n",
       "      <td>𝚖𝚘𝚜𝚝</td>\n",
       "      <td>18301</td>\n",
       "    </tr>\n",
       "    <tr>\n",
       "      <th>5359</th>\n",
       "      <td>𝚖𝚞𝚜𝚒𝚌</td>\n",
       "      <td>18302</td>\n",
       "    </tr>\n",
       "    <tr>\n",
       "      <th>5356</th>\n",
       "      <td>𝚝𝚑𝚎</td>\n",
       "      <td>18303</td>\n",
       "    </tr>\n",
       "    <tr>\n",
       "      <th>5353</th>\n",
       "      <td>𝚝𝚑𝚒𝚗𝚔</td>\n",
       "      <td>18304</td>\n",
       "    </tr>\n",
       "    <tr>\n",
       "      <th>5354</th>\n",
       "      <td>𝚝𝚑𝚒𝚜</td>\n",
       "      <td>18305</td>\n",
       "    </tr>\n",
       "    <tr>\n",
       "      <th>4482</th>\n",
       "      <td>𝟐𝐱</td>\n",
       "      <td>18306</td>\n",
       "    </tr>\n",
       "  </tbody>\n",
       "</table>\n",
       "</div>"
      ],
      "text/plain": [
       "      token     ID\n",
       "8714   𝚑𝚊𝚟𝚎  18297\n",
       "8713      𝚒  18298\n",
       "5355     𝚒𝚜  18299\n",
       "8716  𝚕𝚘𝚟𝚎𝚍  18300\n",
       "5357   𝚖𝚘𝚜𝚝  18301\n",
       "5359  𝚖𝚞𝚜𝚒𝚌  18302\n",
       "5356    𝚝𝚑𝚎  18303\n",
       "5353  𝚝𝚑𝚒𝚗𝚔  18304\n",
       "5354   𝚝𝚑𝚒𝚜  18305\n",
       "4482     𝟐𝐱  18306"
      ]
     },
     "execution_count": 40,
     "metadata": {},
     "output_type": "execute_result"
    }
   ],
   "source": [
    "## Same for the tail\n",
    "pd.DataFrame(vocabulary.items()).rename(columns={0: \"token\", 1: \"ID\"}).sort_values(\"ID\", ascending=True).tail(10)"
   ]
  },
  {
   "cell_type": "markdown",
   "metadata": {},
   "source": [
    "We see that we have a lot of digits and strange font words that we might want to take care of later. Also, our dictionary contains __18 306 tokens__."
   ]
  },
  {
   "cell_type": "code",
   "execution_count": 1,
   "metadata": {},
   "outputs": [],
   "source": [
    "## TRANSFORMATIONS\n",
    "## 6. TFIDF\n",
    "from sklearn.feature_extraction.text import TfidfVectorizer"
   ]
  },
  {
   "cell_type": "code",
   "execution_count": 42,
   "metadata": {},
   "outputs": [],
   "source": [
    "## hacky solution\n",
    "def dummy(doc):\n",
    "    return doc\n",
    "tfidf_vectorizer = TfidfVectorizer(tokenizer=dummy, preprocessor=dummy)\n",
    "## Only fit on training set\n",
    "tfidf_vectorizer.fit(X_train)\n",
    "X_train_tfidf = tfidf_vectorizer.transform(X_train)\n",
    "X_dev_tfidf = tfidf_vectorizer.transform(X_dev)"
   ]
  },
  {
   "cell_type": "markdown",
   "metadata": {},
   "source": [
    "# Pipeline"
   ]
  },
  {
   "cell_type": "code",
   "execution_count": 56,
   "metadata": {},
   "outputs": [],
   "source": [
    "check = [\"our review\"]\n",
    "tfidf_vectorizer = TfidfVectorizer()\n",
    "tfidf_vectorizer.fit(check)\n",
    "\n",
    "from sklearn.linear_model import LogisticRegression\n",
    "from sklearn.pipeline import make_pipeline\n",
    "\n",
    "log_model = LogisticRegression()\n",
    "\n",
    "pipeline = make_pipeline(tfidf_vectorizer, log_model)\n",
    "\n"
   ]
  },
  {
   "cell_type": "code",
   "execution_count": 57,
   "metadata": {},
   "outputs": [
    {
     "ename": "AttributeError",
     "evalue": "'list' object has no attribute 'lower'",
     "output_type": "error",
     "traceback": [
      "\u001b[1;31m---------------------------------------------------------------------------\u001b[0m",
      "\u001b[1;31mAttributeError\u001b[0m                            Traceback (most recent call last)",
      "Cell \u001b[1;32mIn [57], line 1\u001b[0m\n\u001b[1;32m----> 1\u001b[0m \u001b[43mpipeline\u001b[49m\u001b[38;5;241;43m.\u001b[39;49m\u001b[43mfit\u001b[49m\u001b[43m(\u001b[49m\u001b[43mX_train\u001b[49m\u001b[43m,\u001b[49m\u001b[43m \u001b[49m\u001b[43my_train\u001b[49m\u001b[43m)\u001b[49m\n",
      "File \u001b[1;32mc:\\Users\\Ashwini.Visave\\AppData\\Local\\Programs\\Python\\Python310\\lib\\site-packages\\sklearn\\pipeline.py:378\u001b[0m, in \u001b[0;36mPipeline.fit\u001b[1;34m(self, X, y, **fit_params)\u001b[0m\n\u001b[0;32m    352\u001b[0m \u001b[39m\"\"\"Fit the model.\u001b[39;00m\n\u001b[0;32m    353\u001b[0m \n\u001b[0;32m    354\u001b[0m \u001b[39mFit all the transformers one after the other and transform the\u001b[39;00m\n\u001b[1;32m   (...)\u001b[0m\n\u001b[0;32m    375\u001b[0m \u001b[39m    Pipeline with fitted steps.\u001b[39;00m\n\u001b[0;32m    376\u001b[0m \u001b[39m\"\"\"\u001b[39;00m\n\u001b[0;32m    377\u001b[0m fit_params_steps \u001b[39m=\u001b[39m \u001b[39mself\u001b[39m\u001b[39m.\u001b[39m_check_fit_params(\u001b[39m*\u001b[39m\u001b[39m*\u001b[39mfit_params)\n\u001b[1;32m--> 378\u001b[0m Xt \u001b[39m=\u001b[39m \u001b[39mself\u001b[39m\u001b[39m.\u001b[39m_fit(X, y, \u001b[39m*\u001b[39m\u001b[39m*\u001b[39mfit_params_steps)\n\u001b[0;32m    379\u001b[0m \u001b[39mwith\u001b[39;00m _print_elapsed_time(\u001b[39m\"\u001b[39m\u001b[39mPipeline\u001b[39m\u001b[39m\"\u001b[39m, \u001b[39mself\u001b[39m\u001b[39m.\u001b[39m_log_message(\u001b[39mlen\u001b[39m(\u001b[39mself\u001b[39m\u001b[39m.\u001b[39msteps) \u001b[39m-\u001b[39m \u001b[39m1\u001b[39m)):\n\u001b[0;32m    380\u001b[0m     \u001b[39mif\u001b[39;00m \u001b[39mself\u001b[39m\u001b[39m.\u001b[39m_final_estimator \u001b[39m!=\u001b[39m \u001b[39m\"\u001b[39m\u001b[39mpassthrough\u001b[39m\u001b[39m\"\u001b[39m:\n",
      "File \u001b[1;32mc:\\Users\\Ashwini.Visave\\AppData\\Local\\Programs\\Python\\Python310\\lib\\site-packages\\sklearn\\pipeline.py:336\u001b[0m, in \u001b[0;36mPipeline._fit\u001b[1;34m(self, X, y, **fit_params_steps)\u001b[0m\n\u001b[0;32m    334\u001b[0m     cloned_transformer \u001b[39m=\u001b[39m clone(transformer)\n\u001b[0;32m    335\u001b[0m \u001b[39m# Fit or load from cache the current transformer\u001b[39;00m\n\u001b[1;32m--> 336\u001b[0m X, fitted_transformer \u001b[39m=\u001b[39m fit_transform_one_cached(\n\u001b[0;32m    337\u001b[0m     cloned_transformer,\n\u001b[0;32m    338\u001b[0m     X,\n\u001b[0;32m    339\u001b[0m     y,\n\u001b[0;32m    340\u001b[0m     \u001b[39mNone\u001b[39;00m,\n\u001b[0;32m    341\u001b[0m     message_clsname\u001b[39m=\u001b[39m\u001b[39m\"\u001b[39m\u001b[39mPipeline\u001b[39m\u001b[39m\"\u001b[39m,\n\u001b[0;32m    342\u001b[0m     message\u001b[39m=\u001b[39m\u001b[39mself\u001b[39m\u001b[39m.\u001b[39m_log_message(step_idx),\n\u001b[0;32m    343\u001b[0m     \u001b[39m*\u001b[39m\u001b[39m*\u001b[39mfit_params_steps[name],\n\u001b[0;32m    344\u001b[0m )\n\u001b[0;32m    345\u001b[0m \u001b[39m# Replace the transformer of the step with the fitted\u001b[39;00m\n\u001b[0;32m    346\u001b[0m \u001b[39m# transformer. This is necessary when loading the transformer\u001b[39;00m\n\u001b[0;32m    347\u001b[0m \u001b[39m# from the cache.\u001b[39;00m\n\u001b[0;32m    348\u001b[0m \u001b[39mself\u001b[39m\u001b[39m.\u001b[39msteps[step_idx] \u001b[39m=\u001b[39m (name, fitted_transformer)\n",
      "File \u001b[1;32mc:\\Users\\Ashwini.Visave\\AppData\\Local\\Programs\\Python\\Python310\\lib\\site-packages\\joblib\\memory.py:349\u001b[0m, in \u001b[0;36mNotMemorizedFunc.__call__\u001b[1;34m(self, *args, **kwargs)\u001b[0m\n\u001b[0;32m    348\u001b[0m \u001b[39mdef\u001b[39;00m \u001b[39m__call__\u001b[39m(\u001b[39mself\u001b[39m, \u001b[39m*\u001b[39margs, \u001b[39m*\u001b[39m\u001b[39m*\u001b[39mkwargs):\n\u001b[1;32m--> 349\u001b[0m     \u001b[39mreturn\u001b[39;00m \u001b[39mself\u001b[39m\u001b[39m.\u001b[39mfunc(\u001b[39m*\u001b[39margs, \u001b[39m*\u001b[39m\u001b[39m*\u001b[39mkwargs)\n",
      "File \u001b[1;32mc:\\Users\\Ashwini.Visave\\AppData\\Local\\Programs\\Python\\Python310\\lib\\site-packages\\sklearn\\pipeline.py:870\u001b[0m, in \u001b[0;36m_fit_transform_one\u001b[1;34m(transformer, X, y, weight, message_clsname, message, **fit_params)\u001b[0m\n\u001b[0;32m    868\u001b[0m \u001b[39mwith\u001b[39;00m _print_elapsed_time(message_clsname, message):\n\u001b[0;32m    869\u001b[0m     \u001b[39mif\u001b[39;00m \u001b[39mhasattr\u001b[39m(transformer, \u001b[39m\"\u001b[39m\u001b[39mfit_transform\u001b[39m\u001b[39m\"\u001b[39m):\n\u001b[1;32m--> 870\u001b[0m         res \u001b[39m=\u001b[39m transformer\u001b[39m.\u001b[39mfit_transform(X, y, \u001b[39m*\u001b[39m\u001b[39m*\u001b[39mfit_params)\n\u001b[0;32m    871\u001b[0m     \u001b[39melse\u001b[39;00m:\n\u001b[0;32m    872\u001b[0m         res \u001b[39m=\u001b[39m transformer\u001b[39m.\u001b[39mfit(X, y, \u001b[39m*\u001b[39m\u001b[39m*\u001b[39mfit_params)\u001b[39m.\u001b[39mtransform(X)\n",
      "File \u001b[1;32mc:\\Users\\Ashwini.Visave\\AppData\\Local\\Programs\\Python\\Python310\\lib\\site-packages\\sklearn\\feature_extraction\\text.py:2079\u001b[0m, in \u001b[0;36mTfidfVectorizer.fit_transform\u001b[1;34m(self, raw_documents, y)\u001b[0m\n\u001b[0;32m   2072\u001b[0m \u001b[39mself\u001b[39m\u001b[39m.\u001b[39m_check_params()\n\u001b[0;32m   2073\u001b[0m \u001b[39mself\u001b[39m\u001b[39m.\u001b[39m_tfidf \u001b[39m=\u001b[39m TfidfTransformer(\n\u001b[0;32m   2074\u001b[0m     norm\u001b[39m=\u001b[39m\u001b[39mself\u001b[39m\u001b[39m.\u001b[39mnorm,\n\u001b[0;32m   2075\u001b[0m     use_idf\u001b[39m=\u001b[39m\u001b[39mself\u001b[39m\u001b[39m.\u001b[39muse_idf,\n\u001b[0;32m   2076\u001b[0m     smooth_idf\u001b[39m=\u001b[39m\u001b[39mself\u001b[39m\u001b[39m.\u001b[39msmooth_idf,\n\u001b[0;32m   2077\u001b[0m     sublinear_tf\u001b[39m=\u001b[39m\u001b[39mself\u001b[39m\u001b[39m.\u001b[39msublinear_tf,\n\u001b[0;32m   2078\u001b[0m )\n\u001b[1;32m-> 2079\u001b[0m X \u001b[39m=\u001b[39m \u001b[39msuper\u001b[39;49m()\u001b[39m.\u001b[39;49mfit_transform(raw_documents)\n\u001b[0;32m   2080\u001b[0m \u001b[39mself\u001b[39m\u001b[39m.\u001b[39m_tfidf\u001b[39m.\u001b[39mfit(X)\n\u001b[0;32m   2081\u001b[0m \u001b[39m# X is already a transformed view of raw_documents so\u001b[39;00m\n\u001b[0;32m   2082\u001b[0m \u001b[39m# we set copy to False\u001b[39;00m\n",
      "File \u001b[1;32mc:\\Users\\Ashwini.Visave\\AppData\\Local\\Programs\\Python\\Python310\\lib\\site-packages\\sklearn\\feature_extraction\\text.py:1338\u001b[0m, in \u001b[0;36mCountVectorizer.fit_transform\u001b[1;34m(self, raw_documents, y)\u001b[0m\n\u001b[0;32m   1330\u001b[0m             warnings\u001b[39m.\u001b[39mwarn(\n\u001b[0;32m   1331\u001b[0m                 \u001b[39m\"\u001b[39m\u001b[39mUpper case characters found in\u001b[39m\u001b[39m\"\u001b[39m\n\u001b[0;32m   1332\u001b[0m                 \u001b[39m\"\u001b[39m\u001b[39m vocabulary while \u001b[39m\u001b[39m'\u001b[39m\u001b[39mlowercase\u001b[39m\u001b[39m'\u001b[39m\u001b[39m\"\u001b[39m\n\u001b[0;32m   1333\u001b[0m                 \u001b[39m\"\u001b[39m\u001b[39m is True. These entries will not\u001b[39m\u001b[39m\"\u001b[39m\n\u001b[0;32m   1334\u001b[0m                 \u001b[39m\"\u001b[39m\u001b[39m be matched with any documents\u001b[39m\u001b[39m\"\u001b[39m\n\u001b[0;32m   1335\u001b[0m             )\n\u001b[0;32m   1336\u001b[0m             \u001b[39mbreak\u001b[39;00m\n\u001b[1;32m-> 1338\u001b[0m vocabulary, X \u001b[39m=\u001b[39m \u001b[39mself\u001b[39;49m\u001b[39m.\u001b[39;49m_count_vocab(raw_documents, \u001b[39mself\u001b[39;49m\u001b[39m.\u001b[39;49mfixed_vocabulary_)\n\u001b[0;32m   1340\u001b[0m \u001b[39mif\u001b[39;00m \u001b[39mself\u001b[39m\u001b[39m.\u001b[39mbinary:\n\u001b[0;32m   1341\u001b[0m     X\u001b[39m.\u001b[39mdata\u001b[39m.\u001b[39mfill(\u001b[39m1\u001b[39m)\n",
      "File \u001b[1;32mc:\\Users\\Ashwini.Visave\\AppData\\Local\\Programs\\Python\\Python310\\lib\\site-packages\\sklearn\\feature_extraction\\text.py:1209\u001b[0m, in \u001b[0;36mCountVectorizer._count_vocab\u001b[1;34m(self, raw_documents, fixed_vocab)\u001b[0m\n\u001b[0;32m   1207\u001b[0m \u001b[39mfor\u001b[39;00m doc \u001b[39min\u001b[39;00m raw_documents:\n\u001b[0;32m   1208\u001b[0m     feature_counter \u001b[39m=\u001b[39m {}\n\u001b[1;32m-> 1209\u001b[0m     \u001b[39mfor\u001b[39;00m feature \u001b[39min\u001b[39;00m analyze(doc):\n\u001b[0;32m   1210\u001b[0m         \u001b[39mtry\u001b[39;00m:\n\u001b[0;32m   1211\u001b[0m             feature_idx \u001b[39m=\u001b[39m vocabulary[feature]\n",
      "File \u001b[1;32mc:\\Users\\Ashwini.Visave\\AppData\\Local\\Programs\\Python\\Python310\\lib\\site-packages\\sklearn\\feature_extraction\\text.py:111\u001b[0m, in \u001b[0;36m_analyze\u001b[1;34m(doc, analyzer, tokenizer, ngrams, preprocessor, decoder, stop_words)\u001b[0m\n\u001b[0;32m    109\u001b[0m \u001b[39melse\u001b[39;00m:\n\u001b[0;32m    110\u001b[0m     \u001b[39mif\u001b[39;00m preprocessor \u001b[39mis\u001b[39;00m \u001b[39mnot\u001b[39;00m \u001b[39mNone\u001b[39;00m:\n\u001b[1;32m--> 111\u001b[0m         doc \u001b[39m=\u001b[39m preprocessor(doc)\n\u001b[0;32m    112\u001b[0m     \u001b[39mif\u001b[39;00m tokenizer \u001b[39mis\u001b[39;00m \u001b[39mnot\u001b[39;00m \u001b[39mNone\u001b[39;00m:\n\u001b[0;32m    113\u001b[0m         doc \u001b[39m=\u001b[39m tokenizer(doc)\n",
      "File \u001b[1;32mc:\\Users\\Ashwini.Visave\\AppData\\Local\\Programs\\Python\\Python310\\lib\\site-packages\\sklearn\\feature_extraction\\text.py:69\u001b[0m, in \u001b[0;36m_preprocess\u001b[1;34m(doc, accent_function, lower)\u001b[0m\n\u001b[0;32m     50\u001b[0m \u001b[39m\"\"\"Chain together an optional series of text preprocessing steps to\u001b[39;00m\n\u001b[0;32m     51\u001b[0m \u001b[39mapply to a document.\u001b[39;00m\n\u001b[0;32m     52\u001b[0m \n\u001b[1;32m   (...)\u001b[0m\n\u001b[0;32m     66\u001b[0m \u001b[39m    preprocessed string\u001b[39;00m\n\u001b[0;32m     67\u001b[0m \u001b[39m\"\"\"\u001b[39;00m\n\u001b[0;32m     68\u001b[0m \u001b[39mif\u001b[39;00m lower:\n\u001b[1;32m---> 69\u001b[0m     doc \u001b[39m=\u001b[39m doc\u001b[39m.\u001b[39;49mlower()\n\u001b[0;32m     70\u001b[0m \u001b[39mif\u001b[39;00m accent_function \u001b[39mis\u001b[39;00m \u001b[39mnot\u001b[39;00m \u001b[39mNone\u001b[39;00m:\n\u001b[0;32m     71\u001b[0m     doc \u001b[39m=\u001b[39m accent_function(doc)\n",
      "\u001b[1;31mAttributeError\u001b[0m: 'list' object has no attribute 'lower'"
     ]
    }
   ],
   "source": [
    "pipeline.fit(X_train, y_train)"
   ]
  },
  {
   "cell_type": "code",
   "execution_count": 46,
   "metadata": {},
   "outputs": [],
   "source": [
    "import pickle\n",
    "\n",
    "pickle.dump(pipeline, open('..\\models\\our_pipeline.pickle', 'wb'))"
   ]
  },
  {
   "cell_type": "code",
   "execution_count": 43,
   "metadata": {},
   "outputs": [
    {
     "name": "stdout",
     "output_type": "stream",
     "text": [
      "Vocabulary size:  18307\n"
     ]
    }
   ],
   "source": [
    "print(\"Vocabulary size: \", len(tfidf_vectorizer.vocabulary_))"
   ]
  },
  {
   "cell_type": "markdown",
   "metadata": {},
   "source": [
    "## Classification of sentiment"
   ]
  },
  {
   "cell_type": "code",
   "execution_count": 44,
   "metadata": {},
   "outputs": [],
   "source": [
    "## Import some classifiers\n",
    "from sklearn.ensemble import RandomForestClassifier\n",
    "from sklearn.naive_bayes import MultinomialNB\n",
    "from sklearn.svm import SVC\n",
    "from sklearn.linear_model import LogisticRegression\n",
    "from lightgbm import LGBMClassifier # never used that one before"
   ]
  },
  {
   "cell_type": "markdown",
   "metadata": {},
   "source": [
    "### Use Bag of Words/Count vectorized features for classification"
   ]
  },
  {
   "cell_type": "code",
   "execution_count": 409,
   "metadata": {},
   "outputs": [
    {
     "name": "stdout",
     "output_type": "stream",
     "text": [
      "Fitting LogisticRegression()...\n",
      "LogisticRegression() accuracy on Count Vector: 0.7697448854837395\n",
      "Fitting RandomForestClassifier()...\n",
      "RandomForestClassifier() accuracy on Count Vector: 0.7714565164235064\n",
      "Fitting SVC()...\n",
      "SVC() accuracy on Count Vector: 0.7818893145325617\n",
      "Fitting MultinomialNB()...\n",
      "MultinomialNB() accuracy on Count Vector: 0.7719455538348684\n",
      "Fitting LGBMClassifier(objective='multiclass')...\n",
      "LGBMClassifier(objective='multiclass') accuracy on Count Vector: 0.779281115005298\n"
     ]
    }
   ],
   "source": [
    "## Initlilize classifiers with default hyperparams\n",
    "log1 = LogisticRegression()\n",
    "rf1 = RandomForestClassifier()\n",
    "svc1 = SVC()\n",
    "nb1 = MultinomialNB()\n",
    "gbm1 = LGBMClassifier(objective='multiclass')\n",
    "\n",
    "X_train_counts = X_train_counts.astype('float32')\n",
    "X_dev_counts = X_dev_counts.astype('float32')   \n",
    "y_train = y_train.astype('float32')\n",
    "y_test = y_test.astype('float32')\n",
    "\n",
    "\n",
    "classifiers = [log1, rf1, svc1, nb1, gbm1]\n",
    "\n",
    "for classifier in classifiers:\n",
    "    print(f\"Fitting {classifier}...\")\n",
    "    classifier.fit(X_train_counts, y_train)\n",
    "    print(f\"{classifier} accuracy on Count Vector: {classifier.score(X_dev_counts, y_dev)}\")\n"
   ]
  },
  {
   "cell_type": "markdown",
   "metadata": {},
   "source": [
    "### TFIDF Vectorized features for classification"
   ]
  },
  {
   "cell_type": "code",
   "execution_count": 410,
   "metadata": {},
   "outputs": [
    {
     "name": "stdout",
     "output_type": "stream",
     "text": [
      "Fitting LogisticRegression()...\n",
      "LogisticRegression() accuracy on TF-IDF Vector: 0.7858016138234575\n",
      "Fitting RandomForestClassifier()...\n",
      "RandomForestClassifier() accuracy on TF-IDF Vector: 0.7675442171326107\n",
      "Fitting SVC()...\n",
      "SVC() accuracy on TF-IDF Vector: 0.7891433694677643\n",
      "Fitting MultinomialNB()...\n",
      "MultinomialNB() accuracy on TF-IDF Vector: 0.7747982720678132\n",
      "Fitting LGBMClassifier(objective='multiclass')...\n",
      "LGBMClassifier(objective='multiclass') accuracy on TF-IDF Vector: 0.7760208655962181\n"
     ]
    }
   ],
   "source": [
    "## Initlilize classifiers with default hyperparams\n",
    "log2 = LogisticRegression()\n",
    "rf2 = RandomForestClassifier()\n",
    "svc2 = SVC()\n",
    "nb2 = MultinomialNB()\n",
    "gbm2 = LGBMClassifier(objective='multiclass')\n",
    "\n",
    "X_train_tfidf = X_train_tfidf.astype('float32')\n",
    "X_dev_tfidf = X_dev_tfidf.astype('float32')   \n",
    "y_train = y_train.astype('float32')\n",
    "y_test = y_test.astype('float32')\n",
    "\n",
    "\n",
    "classifiers = [log2, rf2, svc2, nb2, gbm2]\n",
    "\n",
    "for classifier in classifiers:\n",
    "    print(f\"Fitting {classifier}...\")\n",
    "    classifier.fit(X_train_tfidf, y_train)\n",
    "    print(f\"{classifier} accuracy on TF-IDF Vector: {classifier.score(X_dev_tfidf, y_dev)}\")\n"
   ]
  },
  {
   "cell_type": "markdown",
   "metadata": {},
   "source": [
    "### Reduce dimensionality by trimming high/low frequent tokens"
   ]
  },
  {
   "cell_type": "code",
   "execution_count": 157,
   "metadata": {},
   "outputs": [],
   "source": [
    "## hacky solution\n",
    "def dummy(doc):\n",
    "    return doc\n",
    "tfidf_vectorizer_trimmer = TfidfVectorizer(tokenizer=dummy, preprocessor=dummy, max_df=.90, min_df=0.0001, )\n",
    "## Only fit on training set\n",
    "tfidf_vectorizer_trimmer.fit(X_train)\n",
    "X_train_tfidf_trimmed = tfidf_vectorizer_trimmer.transform(X_train)\n",
    "X_dev_tfidf_trimmed = tfidf_vectorizer_trimmer.transform(X_dev)"
   ]
  },
  {
   "cell_type": "code",
   "execution_count": 158,
   "metadata": {},
   "outputs": [
    {
     "name": "stdout",
     "output_type": "stream",
     "text": [
      "Vocabulary size:  18307\n"
     ]
    }
   ],
   "source": [
    "print(\"Vocabulary size: \", len(tfidf_vectorizer_trimmer.vocabulary_))"
   ]
  },
  {
   "cell_type": "code",
   "execution_count": 133,
   "metadata": {},
   "outputs": [
    {
     "name": "stdout",
     "output_type": "stream",
     "text": [
      "Fitting LogisticRegression()...\n",
      "LogisticRegression() accuracy on trimmed TF-IDF Vector: 0.7863721574700464\n",
      "Fitting RandomForestClassifier()...\n",
      "RandomForestClassifier() accuracy on trimmed TF-IDF Vector: 0.7650175238405738\n",
      "Fitting SVC()...\n",
      "SVC() accuracy on trimmed TF-IDF Vector: 0.7890618632325372\n",
      "Fitting MultinomialNB()...\n",
      "MultinomialNB() accuracy on trimmed TF-IDF Vector: 0.7722715787757763\n",
      "Fitting LGBMClassifier(objective='multiclass')...\n",
      "LGBMClassifier(objective='multiclass') accuracy on trimmed TF-IDF Vector: 0.7768359279484881\n"
     ]
    }
   ],
   "source": [
    "## Initlilize classifiers with default hyperparams\n",
    "log3 = LogisticRegression()\n",
    "rf3 = RandomForestClassifier()\n",
    "svc3 = SVC()\n",
    "nb3 = MultinomialNB()\n",
    "gbm3 = LGBMClassifier(objective='multiclass')\n",
    "\n",
    "X_train_tfidf_trimmed = X_train_tfidf_trimmed.astype('float32')\n",
    "X_dev_tfidf_trimmed = X_dev_tfidf_trimmed.astype('float32')   \n",
    "y_train = y_train.astype('float32')\n",
    "y_test = y_test.astype('float32')\n",
    "\n",
    "\n",
    "classifiers = [log3, rf3, svc3, nb3, gbm3]\n",
    "\n",
    "for classifier in classifiers:\n",
    "    print(f\"Fitting {classifier}...\")\n",
    "    classifier.fit(X_train_tfidf_trimmed, y_train)\n",
    "    print(f\"{classifier} accuracy on trimmed TF-IDF Vector: {classifier.score(X_dev_tfidf_trimmed, y_dev)}\")\n"
   ]
  },
  {
   "cell_type": "markdown",
   "metadata": {},
   "source": [
    "### Reduce dimensionality by selecting top _n_ tokens"
   ]
  },
  {
   "cell_type": "code",
   "execution_count": 155,
   "metadata": {},
   "outputs": [],
   "source": [
    "## hacky solution\n",
    "def dummy(doc):\n",
    "    return doc\n",
    "tfidf_vectorizer_top = TfidfVectorizer(tokenizer=dummy, preprocessor=dummy, max_features=10000, ngram_range=(1,3))\n",
    "## Only fit on training set\n",
    "tfidf_vectorizer_top.fit(X_train)\n",
    "X_train_tfidf_top = tfidf_vectorizer_top.transform(X_train)\n",
    "X_dev_tfidf_top = tfidf_vectorizer_top.transform(X_dev)"
   ]
  },
  {
   "cell_type": "code",
   "execution_count": 156,
   "metadata": {},
   "outputs": [
    {
     "name": "stdout",
     "output_type": "stream",
     "text": [
      "Vocabulary size:  10000\n"
     ]
    }
   ],
   "source": [
    "print(\"Vocabulary size: \", len(tfidf_vectorizer_top.vocabulary_))"
   ]
  },
  {
   "cell_type": "code",
   "execution_count": 138,
   "metadata": {},
   "outputs": [
    {
     "name": "stdout",
     "output_type": "stream",
     "text": [
      "Fitting LogisticRegression()...\n",
      "LogisticRegression() accuracy on top-n TF-IDF Vector: 0.7866166761757274\n",
      "Fitting RandomForestClassifier()...\n",
      "RandomForestClassifier() accuracy on top-n TF-IDF Vector: 0.7678702420735186\n",
      "Fitting SVC()...\n",
      "SVC() accuracy on top-n TF-IDF Vector: 0.7893878881734453\n",
      "Fitting MultinomialNB()...\n",
      "MultinomialNB() accuracy on top-n TF-IDF Vector: 0.7739832097155432\n",
      "Fitting LGBMClassifier(objective='multiclass')...\n",
      "LGBMClassifier(objective='multiclass') accuracy on top-n TF-IDF Vector: 0.777161952889396\n"
     ]
    }
   ],
   "source": [
    "## Initlilize classifiers with default hyperparams\n",
    "log4 = LogisticRegression()\n",
    "rf4 = RandomForestClassifier()\n",
    "svc4 = SVC()\n",
    "nb4 = MultinomialNB()\n",
    "gbm4 = LGBMClassifier(objective='multiclass')\n",
    "\n",
    "X_train_tfidf_top = X_train_tfidf_top.astype('float32')\n",
    "X_dev_tfidf_top = X_dev_tfidf_top.astype('float32')   \n",
    "y_train = y_train.astype('float32')\n",
    "y_test = y_test.astype('float32')\n",
    "\n",
    "\n",
    "classifiers = [log4, rf4, svc4, nb4, gbm4]\n",
    "\n",
    "for classifier in classifiers:\n",
    "    print(f\"Fitting {classifier}...\")\n",
    "    classifier.fit(X_train_tfidf_top, y_train)\n",
    "    print(f\"{classifier} accuracy on top-n TF-IDF Vector: {classifier.score(X_dev_tfidf_top, y_dev)}\")\n"
   ]
  },
  {
   "cell_type": "markdown",
   "metadata": {},
   "source": [
    "### Use bigrams and trigrams in addition to single word tokens\n"
   ]
  },
  {
   "cell_type": "code",
   "execution_count": 56,
   "metadata": {},
   "outputs": [],
   "source": [
    "## hacky solution\n",
    "def dummy(doc):\n",
    "    return doc\n",
    "tfidf_vectorizer_ngram = TfidfVectorizer(tokenizer=dummy, preprocessor=dummy, max_features=10000, ngram_range=(1,3))\n",
    "## Only fit on training set\n",
    "tfidf_vectorizer_ngram.fit(X_train)\n",
    "X_train_tfidf_ngram = tfidf_vectorizer_ngram.transform(X_train)\n",
    "X_dev_tfidf_ngram = tfidf_vectorizer_ngram.transform(X_dev)"
   ]
  },
  {
   "cell_type": "code",
   "execution_count": 57,
   "metadata": {},
   "outputs": [
    {
     "name": "stdout",
     "output_type": "stream",
     "text": [
      "Fitting LogisticRegression()...\n",
      "LogisticRegression() accuracy on top-n TF-IDF Vector: 0.7902029505257152\n",
      "Fitting RandomForestClassifier()...\n",
      "RandomForestClassifier() accuracy on top-n TF-IDF Vector: 0.7701524166598744\n",
      "Fitting SVC()...\n",
      "SVC() accuracy on top-n TF-IDF Vector: 0.7901214442904883\n",
      "Fitting MultinomialNB()...\n",
      "MultinomialNB() accuracy on top-n TF-IDF Vector: 0.778547558888255\n",
      "Fitting LGBMClassifier(objective='multiclass')...\n",
      "LGBMClassifier(objective='multiclass') accuracy on top-n TF-IDF Vector: 0.7796886461814329\n"
     ]
    }
   ],
   "source": [
    "## Initlilize classifiers with default hyperparams\n",
    "log5 = LogisticRegression()\n",
    "rf5 = RandomForestClassifier()\n",
    "svc5 = SVC()\n",
    "nb5 = MultinomialNB()\n",
    "gbm5 = LGBMClassifier(objective='multiclass')\n",
    "\n",
    "X_train_tfidf_ngram = X_train_tfidf_ngram.astype('float32')\n",
    "X_dev_tfidf_ngram = X_dev_tfidf_ngram.astype('float32')   \n",
    "y_train = y_train.astype('float32')\n",
    "y_test = y_test.astype('float32')\n",
    "\n",
    "\n",
    "classifiers = [log5, rf5, svc5, nb5, gbm5]\n",
    "\n",
    "for classifier in classifiers:\n",
    "    print(f\"Fitting {classifier}...\")\n",
    "    classifier.fit(X_train_tfidf_ngram, y_train)\n",
    "    print(f\"{classifier} accuracy on top-n TF-IDF Vector: {classifier.score(X_dev_tfidf_ngram, y_dev)}\")\n"
   ]
  },
  {
   "cell_type": "code",
   "execution_count": null,
   "metadata": {},
   "outputs": [],
   "source": []
  }
 ],
 "metadata": {
  "kernelspec": {
   "display_name": "Python 3.10.7 64-bit",
   "language": "python",
   "name": "python3"
  },
  "language_info": {
   "codemirror_mode": {
    "name": "ipython",
    "version": 3
   },
   "file_extension": ".py",
   "mimetype": "text/x-python",
   "name": "python",
   "nbconvert_exporter": "python",
   "pygments_lexer": "ipython3",
   "version": "3.10.7"
  },
  "orig_nbformat": 4,
  "vscode": {
   "interpreter": {
    "hash": "fc52262d006841146020f95b6b97d077a05cc0e195c43164dddd57ad40dc7ab8"
   }
  }
 },
 "nbformat": 4,
 "nbformat_minor": 2
}

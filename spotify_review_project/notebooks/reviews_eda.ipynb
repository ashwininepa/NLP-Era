{
 "cells": [
  {
   "cell_type": "markdown",
   "metadata": {},
   "source": [
    "## NLP stuff with Spotify User Reviews\n",
    "\n",
    "Here we load, preprocess and explore Spotify user reviews to learn NLP preprocessing methods and gain first insights into the dataset."
   ]
  },
  {
   "cell_type": "code",
   "execution_count": 1,
   "metadata": {},
   "outputs": [],
   "source": [
    "## Setting to ignore warnings\n",
    "import warnings\n",
    "warnings.filterwarnings(\"ignore\")"
   ]
  },
  {
   "cell_type": "code",
   "execution_count": 2,
   "metadata": {},
   "outputs": [],
   "source": [
    "## Import general libraries\n",
    "import pandas as pd\n",
    "import numpy as np\n",
    "import seaborn as sns\n",
    "import matplotlib.pyplot as plt\n"
   ]
  },
  {
   "cell_type": "code",
   "execution_count": 3,
   "metadata": {},
   "outputs": [],
   "source": [
    "## Read data and copy\n",
    "spotify = pd.read_csv(\"../data/raw/spotify_review_kaggle.csv\")\n",
    "data_in = spotify.copy()"
   ]
  },
  {
   "cell_type": "code",
   "execution_count": 4,
   "metadata": {},
   "outputs": [
    {
     "data": {
      "text/html": [
       "<div>\n",
       "<style scoped>\n",
       "    .dataframe tbody tr th:only-of-type {\n",
       "        vertical-align: middle;\n",
       "    }\n",
       "\n",
       "    .dataframe tbody tr th {\n",
       "        vertical-align: top;\n",
       "    }\n",
       "\n",
       "    .dataframe thead th {\n",
       "        text-align: right;\n",
       "    }\n",
       "</style>\n",
       "<table border=\"1\" class=\"dataframe\">\n",
       "  <thead>\n",
       "    <tr style=\"text-align: right;\">\n",
       "      <th></th>\n",
       "      <th>Time_submitted</th>\n",
       "      <th>Review</th>\n",
       "      <th>Rating</th>\n",
       "      <th>Total_thumbsup</th>\n",
       "      <th>Reply</th>\n",
       "    </tr>\n",
       "  </thead>\n",
       "  <tbody>\n",
       "    <tr>\n",
       "      <th>0</th>\n",
       "      <td>2022-07-09 15:00:00</td>\n",
       "      <td>Great music service, the audio is high quality...</td>\n",
       "      <td>5</td>\n",
       "      <td>2</td>\n",
       "      <td>NaN</td>\n",
       "    </tr>\n",
       "    <tr>\n",
       "      <th>1</th>\n",
       "      <td>2022-07-09 14:21:22</td>\n",
       "      <td>Please ignore previous negative rating. This a...</td>\n",
       "      <td>5</td>\n",
       "      <td>1</td>\n",
       "      <td>NaN</td>\n",
       "    </tr>\n",
       "    <tr>\n",
       "      <th>2</th>\n",
       "      <td>2022-07-09 13:27:32</td>\n",
       "      <td>This pop-up \"Get the best Spotify experience o...</td>\n",
       "      <td>4</td>\n",
       "      <td>0</td>\n",
       "      <td>NaN</td>\n",
       "    </tr>\n",
       "    <tr>\n",
       "      <th>3</th>\n",
       "      <td>2022-07-09 13:26:45</td>\n",
       "      <td>Really buggy and terrible to use as of recently</td>\n",
       "      <td>1</td>\n",
       "      <td>1</td>\n",
       "      <td>NaN</td>\n",
       "    </tr>\n",
       "    <tr>\n",
       "      <th>4</th>\n",
       "      <td>2022-07-09 13:20:49</td>\n",
       "      <td>Dear Spotify why do I get songs that I didn't ...</td>\n",
       "      <td>1</td>\n",
       "      <td>1</td>\n",
       "      <td>NaN</td>\n",
       "    </tr>\n",
       "    <tr>\n",
       "      <th>5</th>\n",
       "      <td>2022-07-09 13:20:20</td>\n",
       "      <td>The player controls sometimes disappear for no...</td>\n",
       "      <td>3</td>\n",
       "      <td>7</td>\n",
       "      <td>NaN</td>\n",
       "    </tr>\n",
       "    <tr>\n",
       "      <th>6</th>\n",
       "      <td>2022-07-09 13:19:21</td>\n",
       "      <td>I love the selection and the lyrics are provid...</td>\n",
       "      <td>5</td>\n",
       "      <td>0</td>\n",
       "      <td>NaN</td>\n",
       "    </tr>\n",
       "    <tr>\n",
       "      <th>7</th>\n",
       "      <td>2022-07-09 13:17:22</td>\n",
       "      <td>Still extremely slow when changing storage to ...</td>\n",
       "      <td>3</td>\n",
       "      <td>16</td>\n",
       "      <td>NaN</td>\n",
       "    </tr>\n",
       "    <tr>\n",
       "      <th>8</th>\n",
       "      <td>2022-07-09 13:16:49</td>\n",
       "      <td>It's a great app and the best mp3 music app I ...</td>\n",
       "      <td>5</td>\n",
       "      <td>0</td>\n",
       "      <td>NaN</td>\n",
       "    </tr>\n",
       "    <tr>\n",
       "      <th>9</th>\n",
       "      <td>2022-07-09 13:11:32</td>\n",
       "      <td>I'm deleting this app, for the following reaso...</td>\n",
       "      <td>1</td>\n",
       "      <td>318</td>\n",
       "      <td>NaN</td>\n",
       "    </tr>\n",
       "  </tbody>\n",
       "</table>\n",
       "</div>"
      ],
      "text/plain": [
       "        Time_submitted                                             Review  \\\n",
       "0  2022-07-09 15:00:00  Great music service, the audio is high quality...   \n",
       "1  2022-07-09 14:21:22  Please ignore previous negative rating. This a...   \n",
       "2  2022-07-09 13:27:32  This pop-up \"Get the best Spotify experience o...   \n",
       "3  2022-07-09 13:26:45    Really buggy and terrible to use as of recently   \n",
       "4  2022-07-09 13:20:49  Dear Spotify why do I get songs that I didn't ...   \n",
       "5  2022-07-09 13:20:20  The player controls sometimes disappear for no...   \n",
       "6  2022-07-09 13:19:21  I love the selection and the lyrics are provid...   \n",
       "7  2022-07-09 13:17:22  Still extremely slow when changing storage to ...   \n",
       "8  2022-07-09 13:16:49  It's a great app and the best mp3 music app I ...   \n",
       "9  2022-07-09 13:11:32  I'm deleting this app, for the following reaso...   \n",
       "\n",
       "   Rating  Total_thumbsup Reply  \n",
       "0       5               2   NaN  \n",
       "1       5               1   NaN  \n",
       "2       4               0   NaN  \n",
       "3       1               1   NaN  \n",
       "4       1               1   NaN  \n",
       "5       3               7   NaN  \n",
       "6       5               0   NaN  \n",
       "7       3              16   NaN  \n",
       "8       5               0   NaN  \n",
       "9       1             318   NaN  "
      ]
     },
     "execution_count": 4,
     "metadata": {},
     "output_type": "execute_result"
    }
   ],
   "source": [
    "## Check Data\n",
    "data_in.head(10)"
   ]
  },
  {
   "cell_type": "code",
   "execution_count": 5,
   "metadata": {},
   "outputs": [
    {
     "data": {
      "text/plain": [
       "5756     It asks me if i want to watch a short add for ...\n",
       "57347    Great app! Always updating UI/UX features. Wit...\n",
       "35930    Hello, my player disappears when I exit the ap...\n",
       "31003    The bar at the bottom doesn't always display t...\n",
       "11228    We want only three bottom buttons > home searc...\n",
       "35440    Ever since the new update playing over Bluetoo...\n",
       "11299    The app is too much good for Song😊😊😊😊😚😚😚❤️❤️❤️...\n",
       "49413    Keeps cutting off and on muting songs,I have u...\n",
       "49787    I love it I just really love it! It has my fav...\n",
       "26512    There is a bad ad to song ratio. This ratio is...\n",
       "Name: Review, dtype: object"
      ]
     },
     "execution_count": 5,
     "metadata": {},
     "output_type": "execute_result"
    }
   ],
   "source": [
    "## Sample some reviews\n",
    "data_in[\"Review\"].sample(10)"
   ]
  },
  {
   "cell_type": "code",
   "execution_count": 6,
   "metadata": {},
   "outputs": [
    {
     "name": "stdout",
     "output_type": "stream",
     "text": [
      "<class 'pandas.core.frame.DataFrame'>\n",
      "RangeIndex: 61594 entries, 0 to 61593\n",
      "Data columns (total 5 columns):\n",
      " #   Column          Non-Null Count  Dtype \n",
      "---  ------          --------------  ----- \n",
      " 0   Time_submitted  61594 non-null  object\n",
      " 1   Review          61594 non-null  object\n",
      " 2   Rating          61594 non-null  int64 \n",
      " 3   Total_thumbsup  61594 non-null  int64 \n",
      " 4   Reply           216 non-null    object\n",
      "dtypes: int64(2), object(3)\n",
      "memory usage: 2.3+ MB\n"
     ]
    }
   ],
   "source": [
    "## Data info\n",
    "data_in.info()"
   ]
  },
  {
   "cell_type": "code",
   "execution_count": 7,
   "metadata": {},
   "outputs": [
    {
     "name": "stdout",
     "output_type": "stream",
     "text": [
      "Before dropping duplicates:  61594\n",
      "After dropping duplicates:  61356\n"
     ]
    }
   ],
   "source": [
    "## Remove duplicates\n",
    "## Since we are changing the raw input data, let's change the name to data\n",
    "print(\"Before dropping duplicates: \", len(data_in))\n",
    "data = data_in.drop_duplicates(subset=\"Review\")\n",
    "print(\"After dropping duplicates: \", len(data))\n"
   ]
  },
  {
   "cell_type": "code",
   "execution_count": 8,
   "metadata": {},
   "outputs": [
    {
     "data": {
      "text/html": [
       "<div>\n",
       "<style scoped>\n",
       "    .dataframe tbody tr th:only-of-type {\n",
       "        vertical-align: middle;\n",
       "    }\n",
       "\n",
       "    .dataframe tbody tr th {\n",
       "        vertical-align: top;\n",
       "    }\n",
       "\n",
       "    .dataframe thead th {\n",
       "        text-align: right;\n",
       "    }\n",
       "</style>\n",
       "<table border=\"1\" class=\"dataframe\">\n",
       "  <thead>\n",
       "    <tr style=\"text-align: right;\">\n",
       "      <th></th>\n",
       "      <th>Review</th>\n",
       "      <th>Rating</th>\n",
       "    </tr>\n",
       "  </thead>\n",
       "  <tbody>\n",
       "    <tr>\n",
       "      <th>0</th>\n",
       "      <td>Great music service, the audio is high quality...</td>\n",
       "      <td>5</td>\n",
       "    </tr>\n",
       "    <tr>\n",
       "      <th>1</th>\n",
       "      <td>Please ignore previous negative rating. This a...</td>\n",
       "      <td>5</td>\n",
       "    </tr>\n",
       "    <tr>\n",
       "      <th>2</th>\n",
       "      <td>This pop-up \"Get the best Spotify experience o...</td>\n",
       "      <td>4</td>\n",
       "    </tr>\n",
       "    <tr>\n",
       "      <th>3</th>\n",
       "      <td>Really buggy and terrible to use as of recently</td>\n",
       "      <td>1</td>\n",
       "    </tr>\n",
       "    <tr>\n",
       "      <th>4</th>\n",
       "      <td>Dear Spotify why do I get songs that I didn't ...</td>\n",
       "      <td>1</td>\n",
       "    </tr>\n",
       "  </tbody>\n",
       "</table>\n",
       "</div>"
      ],
      "text/plain": [
       "                                              Review  Rating\n",
       "0  Great music service, the audio is high quality...       5\n",
       "1  Please ignore previous negative rating. This a...       5\n",
       "2  This pop-up \"Get the best Spotify experience o...       4\n",
       "3    Really buggy and terrible to use as of recently       1\n",
       "4  Dear Spotify why do I get songs that I didn't ...       1"
      ]
     },
     "execution_count": 8,
     "metadata": {},
     "output_type": "execute_result"
    }
   ],
   "source": [
    "## Drop unused cols\n",
    "data.drop([\"Time_submitted\", \"Total_thumbsup\", \"Reply\"], axis=1, inplace=True)\n",
    "data.head(5)"
   ]
  },
  {
   "cell_type": "code",
   "execution_count": 9,
   "metadata": {},
   "outputs": [
    {
     "data": {
      "text/html": [
       "<div>\n",
       "<style scoped>\n",
       "    .dataframe tbody tr th:only-of-type {\n",
       "        vertical-align: middle;\n",
       "    }\n",
       "\n",
       "    .dataframe tbody tr th {\n",
       "        vertical-align: top;\n",
       "    }\n",
       "\n",
       "    .dataframe thead th {\n",
       "        text-align: right;\n",
       "    }\n",
       "</style>\n",
       "<table border=\"1\" class=\"dataframe\">\n",
       "  <thead>\n",
       "    <tr style=\"text-align: right;\">\n",
       "      <th></th>\n",
       "      <th>Review</th>\n",
       "      <th>Rating</th>\n",
       "      <th>Length</th>\n",
       "    </tr>\n",
       "  </thead>\n",
       "  <tbody>\n",
       "    <tr>\n",
       "      <th>0</th>\n",
       "      <td>Great music service, the audio is high quality...</td>\n",
       "      <td>5</td>\n",
       "      <td>21</td>\n",
       "    </tr>\n",
       "    <tr>\n",
       "      <th>1</th>\n",
       "      <td>Please ignore previous negative rating. This a...</td>\n",
       "      <td>5</td>\n",
       "      <td>15</td>\n",
       "    </tr>\n",
       "    <tr>\n",
       "      <th>2</th>\n",
       "      <td>This pop-up \"Get the best Spotify experience o...</td>\n",
       "      <td>4</td>\n",
       "      <td>19</td>\n",
       "    </tr>\n",
       "    <tr>\n",
       "      <th>3</th>\n",
       "      <td>Really buggy and terrible to use as of recently</td>\n",
       "      <td>1</td>\n",
       "      <td>9</td>\n",
       "    </tr>\n",
       "    <tr>\n",
       "      <th>4</th>\n",
       "      <td>Dear Spotify why do I get songs that I didn't ...</td>\n",
       "      <td>1</td>\n",
       "      <td>21</td>\n",
       "    </tr>\n",
       "  </tbody>\n",
       "</table>\n",
       "</div>"
      ],
      "text/plain": [
       "                                              Review  Rating  Length\n",
       "0  Great music service, the audio is high quality...       5      21\n",
       "1  Please ignore previous negative rating. This a...       5      15\n",
       "2  This pop-up \"Get the best Spotify experience o...       4      19\n",
       "3    Really buggy and terrible to use as of recently       1       9\n",
       "4  Dear Spotify why do I get songs that I didn't ...       1      21"
      ]
     },
     "execution_count": 9,
     "metadata": {},
     "output_type": "execute_result"
    }
   ],
   "source": [
    "## Ad col for reviews length of review in words\n",
    "data[\"Length\"] = data[\"Review\"].str.split(\" \").str.len()\n",
    "data.head()"
   ]
  },
  {
   "cell_type": "code",
   "execution_count": 10,
   "metadata": {},
   "outputs": [
    {
     "data": {
      "text/html": [
       "<div>\n",
       "<style scoped>\n",
       "    .dataframe tbody tr th:only-of-type {\n",
       "        vertical-align: middle;\n",
       "    }\n",
       "\n",
       "    .dataframe tbody tr th {\n",
       "        vertical-align: top;\n",
       "    }\n",
       "\n",
       "    .dataframe thead th {\n",
       "        text-align: right;\n",
       "    }\n",
       "</style>\n",
       "<table border=\"1\" class=\"dataframe\">\n",
       "  <thead>\n",
       "    <tr style=\"text-align: right;\">\n",
       "      <th></th>\n",
       "      <th>Review</th>\n",
       "      <th>Rating</th>\n",
       "      <th>Length</th>\n",
       "    </tr>\n",
       "  </thead>\n",
       "  <tbody>\n",
       "    <tr>\n",
       "      <th>24628</th>\n",
       "      <td>Easy-to-use software</td>\n",
       "      <td>5</td>\n",
       "      <td>2</td>\n",
       "    </tr>\n",
       "    <tr>\n",
       "      <th>30670</th>\n",
       "      <td>Powerful,Spirit-touching songs</td>\n",
       "      <td>5</td>\n",
       "      <td>2</td>\n",
       "    </tr>\n",
       "    <tr>\n",
       "      <th>27164</th>\n",
       "      <td>Best music service</td>\n",
       "      <td>5</td>\n",
       "      <td>3</td>\n",
       "    </tr>\n",
       "    <tr>\n",
       "      <th>4562</th>\n",
       "      <td>Always interrupts ads</td>\n",
       "      <td>1</td>\n",
       "      <td>3</td>\n",
       "    </tr>\n",
       "    <tr>\n",
       "      <th>4569</th>\n",
       "      <td>To many advertisement!!!</td>\n",
       "      <td>1</td>\n",
       "      <td>3</td>\n",
       "    </tr>\n",
       "    <tr>\n",
       "      <th>9923</th>\n",
       "      <td>Too much ads.</td>\n",
       "      <td>1</td>\n",
       "      <td>3</td>\n",
       "    </tr>\n",
       "    <tr>\n",
       "      <th>4572</th>\n",
       "      <td>Love no ads!</td>\n",
       "      <td>5</td>\n",
       "      <td>3</td>\n",
       "    </tr>\n",
       "    <tr>\n",
       "      <th>33635</th>\n",
       "      <td>Brilliant music app</td>\n",
       "      <td>5</td>\n",
       "      <td>3</td>\n",
       "    </tr>\n",
       "    <tr>\n",
       "      <th>9938</th>\n",
       "      <td>Full of adds</td>\n",
       "      <td>1</td>\n",
       "      <td>3</td>\n",
       "    </tr>\n",
       "    <tr>\n",
       "      <th>13112</th>\n",
       "      <td>Great and dynamic</td>\n",
       "      <td>5</td>\n",
       "      <td>3</td>\n",
       "    </tr>\n",
       "  </tbody>\n",
       "</table>\n",
       "</div>"
      ],
      "text/plain": [
       "                               Review  Rating  Length\n",
       "24628            Easy-to-use software       5       2\n",
       "30670  Powerful,Spirit-touching songs       5       2\n",
       "27164              Best music service       5       3\n",
       "4562            Always interrupts ads       1       3\n",
       "4569         To many advertisement!!!       1       3\n",
       "9923                    Too much ads.       1       3\n",
       "4572                     Love no ads!       5       3\n",
       "33635             Brilliant music app       5       3\n",
       "9938                     Full of adds       1       3\n",
       "13112               Great and dynamic       5       3"
      ]
     },
     "execution_count": 10,
     "metadata": {},
     "output_type": "execute_result"
    }
   ],
   "source": [
    "## Check shortest reviews\n",
    "data.sort_values(\"Length\").head(10)"
   ]
  },
  {
   "cell_type": "code",
   "execution_count": 11,
   "metadata": {},
   "outputs": [
    {
     "data": {
      "text/html": [
       "<div>\n",
       "<style scoped>\n",
       "    .dataframe tbody tr th:only-of-type {\n",
       "        vertical-align: middle;\n",
       "    }\n",
       "\n",
       "    .dataframe tbody tr th {\n",
       "        vertical-align: top;\n",
       "    }\n",
       "\n",
       "    .dataframe thead th {\n",
       "        text-align: right;\n",
       "    }\n",
       "</style>\n",
       "<table border=\"1\" class=\"dataframe\">\n",
       "  <thead>\n",
       "    <tr style=\"text-align: right;\">\n",
       "      <th></th>\n",
       "      <th>Review</th>\n",
       "      <th>Rating</th>\n",
       "      <th>Length</th>\n",
       "    </tr>\n",
       "  </thead>\n",
       "  <tbody>\n",
       "    <tr>\n",
       "      <th>61568</th>\n",
       "      <td>I have been using Spotify premium. Biggest dis...</td>\n",
       "      <td>3</td>\n",
       "      <td>150</td>\n",
       "    </tr>\n",
       "    <tr>\n",
       "      <th>24495</th>\n",
       "      <td>SPOTIFY IS TERRIBLE! Before podcasts, Spotify ...</td>\n",
       "      <td>1</td>\n",
       "      <td>157</td>\n",
       "    </tr>\n",
       "    <tr>\n",
       "      <th>23836</th>\n",
       "      <td>Works fine for my phone, however for the past ...</td>\n",
       "      <td>2</td>\n",
       "      <td>159</td>\n",
       "    </tr>\n",
       "    <tr>\n",
       "      <th>27916</th>\n",
       "      <td>Edit - came back to remove a star. Jesus cance...</td>\n",
       "      <td>2</td>\n",
       "      <td>165</td>\n",
       "    </tr>\n",
       "    <tr>\n",
       "      <th>19664</th>\n",
       "      <td>Spotify is a great way to listen to music alth...</td>\n",
       "      <td>4</td>\n",
       "      <td>175</td>\n",
       "    </tr>\n",
       "    <tr>\n",
       "      <th>40973</th>\n",
       "      <td>Although I like Spotify and I use it a lot (an...</td>\n",
       "      <td>3</td>\n",
       "      <td>185</td>\n",
       "    </tr>\n",
       "    <tr>\n",
       "      <th>26055</th>\n",
       "      <td>I am giving the 3 month free trial a go and so...</td>\n",
       "      <td>4</td>\n",
       "      <td>219</td>\n",
       "    </tr>\n",
       "    <tr>\n",
       "      <th>46004</th>\n",
       "      <td>I am using Spotify soon for a year, before I u...</td>\n",
       "      <td>4</td>\n",
       "      <td>222</td>\n",
       "    </tr>\n",
       "    <tr>\n",
       "      <th>20489</th>\n",
       "      <td>Attention Android Users: unfortunately, there ...</td>\n",
       "      <td>1</td>\n",
       "      <td>279</td>\n",
       "    </tr>\n",
       "    <tr>\n",
       "      <th>40566</th>\n",
       "      <td>I very rarely leave reviews and if I do, they'...</td>\n",
       "      <td>1</td>\n",
       "      <td>699</td>\n",
       "    </tr>\n",
       "  </tbody>\n",
       "</table>\n",
       "</div>"
      ],
      "text/plain": [
       "                                                  Review  Rating  Length\n",
       "61568  I have been using Spotify premium. Biggest dis...       3     150\n",
       "24495  SPOTIFY IS TERRIBLE! Before podcasts, Spotify ...       1     157\n",
       "23836  Works fine for my phone, however for the past ...       2     159\n",
       "27916  Edit - came back to remove a star. Jesus cance...       2     165\n",
       "19664  Spotify is a great way to listen to music alth...       4     175\n",
       "40973  Although I like Spotify and I use it a lot (an...       3     185\n",
       "26055  I am giving the 3 month free trial a go and so...       4     219\n",
       "46004  I am using Spotify soon for a year, before I u...       4     222\n",
       "20489  Attention Android Users: unfortunately, there ...       1     279\n",
       "40566  I very rarely leave reviews and if I do, they'...       1     699"
      ]
     },
     "execution_count": 11,
     "metadata": {},
     "output_type": "execute_result"
    }
   ],
   "source": [
    "## Check longest reviews\n",
    "data.sort_values(\"Length\").tail(10)"
   ]
  },
  {
   "cell_type": "code",
   "execution_count": 12,
   "metadata": {},
   "outputs": [
    {
     "data": {
      "text/plain": [
       "<Figure size 1200x600 with 0 Axes>"
      ]
     },
     "metadata": {},
     "output_type": "display_data"
    },
    {
     "data": {
      "image/png": "[encoded data removed]",
      "text/plain": [
       "<Figure size 720x360 with 1 Axes>"
      ]
     },
     "metadata": {
      "needs_background": "light"
     },
     "output_type": "display_data"
    }
   ],
   "source": [
    "## Plot Review Length as hist\n",
    "plt.figure(figsize=(4,2), dpi=300)\n",
    "ax = sns.displot(data[\"Length\"], kind=\"hist\", fill=True, aspect=2, bins=75, log=True);"
   ]
  },
  {
   "cell_type": "code",
   "execution_count": 13,
   "metadata": {},
   "outputs": [
    {
     "data": {
      "text/plain": [
       "count    61356.000000\n",
       "mean        30.991786\n",
       "std         22.724590\n",
       "min          2.000000\n",
       "25%         14.000000\n",
       "50%         25.000000\n",
       "75%         42.000000\n",
       "max        699.000000\n",
       "Name: Length, dtype: float64"
      ]
     },
     "execution_count": 13,
     "metadata": {},
     "output_type": "execute_result"
    }
   ],
   "source": [
    "data[\"Length\"].describe()"
   ]
  },
  {
   "cell_type": "markdown",
   "metadata": {},
   "source": [
    "As we can see, most reviews are no longer than around 120 words; as a next step, we could remove all reviews with more than 150 words."
   ]
  },
  {
   "cell_type": "code",
   "execution_count": 14,
   "metadata": {},
   "outputs": [
    {
     "name": "stdout",
     "output_type": "stream",
     "text": [
      "Number of reviews after trimming:  61346\n"
     ]
    }
   ],
   "source": [
    "## Drop long reviews\n",
    "data = data[data.Length < 150]\n",
    "print(\"Number of reviews after trimming: \", len(data))"
   ]
  },
  {
   "cell_type": "code",
   "execution_count": 15,
   "metadata": {},
   "outputs": [
    {
     "data": {
      "image/png": "[encoded data removed]",
      "text/plain": [
       "<Figure size 432x288 with 1 Axes>"
      ]
     },
     "metadata": {},
     "output_type": "display_data"
    }
   ],
   "source": [
    "## Visualize distribution of ratings\n",
    "## EDIT LATER\n",
    "plt.pie(data['Rating'].value_counts(), labels=data['Rating'].unique(), autopct='%1.1f%%')\n",
    "plt.show()"
   ]
  },
  {
   "cell_type": "code",
   "execution_count": 16,
   "metadata": {},
   "outputs": [],
   "source": [
    "## Code sentiment from rating (1 or 2 == bad, 3 == neutral, 4 or 5 == good)\n",
    "def get_sentiment(rating):\n",
    "    if rating == 1 or rating == 2:\n",
    "        return \"negative\"\n",
    "    if rating == 3:\n",
    "        return \"neutral\"\n",
    "    if rating == 4 or rating == 5:\n",
    "        return \"positive\""
   ]
  },
  {
   "cell_type": "code",
   "execution_count": 17,
   "metadata": {},
   "outputs": [
    {
     "data": {
      "text/html": [
       "<div>\n",
       "<style scoped>\n",
       "    .dataframe tbody tr th:only-of-type {\n",
       "        vertical-align: middle;\n",
       "    }\n",
       "\n",
       "    .dataframe tbody tr th {\n",
       "        vertical-align: top;\n",
       "    }\n",
       "\n",
       "    .dataframe thead th {\n",
       "        text-align: right;\n",
       "    }\n",
       "</style>\n",
       "<table border=\"1\" class=\"dataframe\">\n",
       "  <thead>\n",
       "    <tr style=\"text-align: right;\">\n",
       "      <th></th>\n",
       "      <th>Review</th>\n",
       "      <th>Rating</th>\n",
       "      <th>Length</th>\n",
       "      <th>Sentiment</th>\n",
       "    </tr>\n",
       "  </thead>\n",
       "  <tbody>\n",
       "    <tr>\n",
       "      <th>0</th>\n",
       "      <td>Great music service, the audio is high quality...</td>\n",
       "      <td>5</td>\n",
       "      <td>21</td>\n",
       "      <td>positive</td>\n",
       "    </tr>\n",
       "    <tr>\n",
       "      <th>1</th>\n",
       "      <td>Please ignore previous negative rating. This a...</td>\n",
       "      <td>5</td>\n",
       "      <td>15</td>\n",
       "      <td>positive</td>\n",
       "    </tr>\n",
       "    <tr>\n",
       "      <th>2</th>\n",
       "      <td>This pop-up \"Get the best Spotify experience o...</td>\n",
       "      <td>4</td>\n",
       "      <td>19</td>\n",
       "      <td>positive</td>\n",
       "    </tr>\n",
       "    <tr>\n",
       "      <th>3</th>\n",
       "      <td>Really buggy and terrible to use as of recently</td>\n",
       "      <td>1</td>\n",
       "      <td>9</td>\n",
       "      <td>negative</td>\n",
       "    </tr>\n",
       "    <tr>\n",
       "      <th>4</th>\n",
       "      <td>Dear Spotify why do I get songs that I didn't ...</td>\n",
       "      <td>1</td>\n",
       "      <td>21</td>\n",
       "      <td>negative</td>\n",
       "    </tr>\n",
       "    <tr>\n",
       "      <th>5</th>\n",
       "      <td>The player controls sometimes disappear for no...</td>\n",
       "      <td>3</td>\n",
       "      <td>19</td>\n",
       "      <td>neutral</td>\n",
       "    </tr>\n",
       "    <tr>\n",
       "      <th>6</th>\n",
       "      <td>I love the selection and the lyrics are provid...</td>\n",
       "      <td>5</td>\n",
       "      <td>15</td>\n",
       "      <td>positive</td>\n",
       "    </tr>\n",
       "    <tr>\n",
       "      <th>7</th>\n",
       "      <td>Still extremely slow when changing storage to ...</td>\n",
       "      <td>3</td>\n",
       "      <td>62</td>\n",
       "      <td>neutral</td>\n",
       "    </tr>\n",
       "    <tr>\n",
       "      <th>8</th>\n",
       "      <td>It's a great app and the best mp3 music app I ...</td>\n",
       "      <td>5</td>\n",
       "      <td>43</td>\n",
       "      <td>positive</td>\n",
       "    </tr>\n",
       "    <tr>\n",
       "      <th>9</th>\n",
       "      <td>I'm deleting this app, for the following reaso...</td>\n",
       "      <td>1</td>\n",
       "      <td>80</td>\n",
       "      <td>negative</td>\n",
       "    </tr>\n",
       "  </tbody>\n",
       "</table>\n",
       "</div>"
      ],
      "text/plain": [
       "                                              Review  Rating  Length Sentiment\n",
       "0  Great music service, the audio is high quality...       5      21  positive\n",
       "1  Please ignore previous negative rating. This a...       5      15  positive\n",
       "2  This pop-up \"Get the best Spotify experience o...       4      19  positive\n",
       "3    Really buggy and terrible to use as of recently       1       9  negative\n",
       "4  Dear Spotify why do I get songs that I didn't ...       1      21  negative\n",
       "5  The player controls sometimes disappear for no...       3      19   neutral\n",
       "6  I love the selection and the lyrics are provid...       5      15  positive\n",
       "7  Still extremely slow when changing storage to ...       3      62   neutral\n",
       "8  It's a great app and the best mp3 music app I ...       5      43  positive\n",
       "9  I'm deleting this app, for the following reaso...       1      80  negative"
      ]
     },
     "execution_count": 17,
     "metadata": {},
     "output_type": "execute_result"
    }
   ],
   "source": [
    "data[\"Sentiment\"] = data[\"Rating\"].apply(get_sentiment)\n",
    "\n",
    "data.head(10)"
   ]
  },
  {
   "cell_type": "code",
   "execution_count": 18,
   "metadata": {},
   "outputs": [
    {
     "data": {
      "image/png": "[encoded data removed]",
      "text/plain": [
       "<Figure size 360x360 with 1 Axes>"
      ]
     },
     "metadata": {
      "needs_background": "light"
     },
     "output_type": "display_data"
    }
   ],
   "source": [
    "## Plot sentiment distribution (e.g. sns.histplot)\n",
    "ax = sns.displot(data=data, x='Sentiment', stat='percent');"
   ]
  },
  {
   "cell_type": "code",
   "execution_count": 19,
   "metadata": {},
   "outputs": [
    {
     "data": {
      "text/html": [
       "<div>\n",
       "<style scoped>\n",
       "    .dataframe tbody tr th:only-of-type {\n",
       "        vertical-align: middle;\n",
       "    }\n",
       "\n",
       "    .dataframe tbody tr th {\n",
       "        vertical-align: top;\n",
       "    }\n",
       "\n",
       "    .dataframe thead tr th {\n",
       "        text-align: left;\n",
       "    }\n",
       "\n",
       "    .dataframe thead tr:last-of-type th {\n",
       "        text-align: right;\n",
       "    }\n",
       "</style>\n",
       "<table border=\"1\" class=\"dataframe\">\n",
       "  <thead>\n",
       "    <tr>\n",
       "      <th></th>\n",
       "      <th colspan=\"8\" halign=\"left\">Length</th>\n",
       "    </tr>\n",
       "    <tr>\n",
       "      <th></th>\n",
       "      <th>count</th>\n",
       "      <th>mean</th>\n",
       "      <th>std</th>\n",
       "      <th>min</th>\n",
       "      <th>25%</th>\n",
       "      <th>50%</th>\n",
       "      <th>75%</th>\n",
       "      <th>max</th>\n",
       "    </tr>\n",
       "    <tr>\n",
       "      <th>Sentiment</th>\n",
       "      <th></th>\n",
       "      <th></th>\n",
       "      <th></th>\n",
       "      <th></th>\n",
       "      <th></th>\n",
       "      <th></th>\n",
       "      <th></th>\n",
       "      <th></th>\n",
       "    </tr>\n",
       "  </thead>\n",
       "  <tbody>\n",
       "    <tr>\n",
       "      <th>negative</th>\n",
       "      <td>24713.0</td>\n",
       "      <td>37.777202</td>\n",
       "      <td>23.415594</td>\n",
       "      <td>3.0</td>\n",
       "      <td>20.0</td>\n",
       "      <td>32.0</td>\n",
       "      <td>50.0</td>\n",
       "      <td>137.0</td>\n",
       "    </tr>\n",
       "    <tr>\n",
       "      <th>neutral</th>\n",
       "      <td>6874.0</td>\n",
       "      <td>36.963777</td>\n",
       "      <td>23.270817</td>\n",
       "      <td>3.0</td>\n",
       "      <td>19.0</td>\n",
       "      <td>32.0</td>\n",
       "      <td>49.0</td>\n",
       "      <td>111.0</td>\n",
       "    </tr>\n",
       "    <tr>\n",
       "      <th>positive</th>\n",
       "      <td>29759.0</td>\n",
       "      <td>23.906885</td>\n",
       "      <td>19.092666</td>\n",
       "      <td>2.0</td>\n",
       "      <td>10.0</td>\n",
       "      <td>18.0</td>\n",
       "      <td>31.0</td>\n",
       "      <td>113.0</td>\n",
       "    </tr>\n",
       "  </tbody>\n",
       "</table>\n",
       "</div>"
      ],
      "text/plain": [
       "            Length                                                    \n",
       "             count       mean        std  min   25%   50%   75%    max\n",
       "Sentiment                                                             \n",
       "negative   24713.0  37.777202  23.415594  3.0  20.0  32.0  50.0  137.0\n",
       "neutral     6874.0  36.963777  23.270817  3.0  19.0  32.0  49.0  111.0\n",
       "positive   29759.0  23.906885  19.092666  2.0  10.0  18.0  31.0  113.0"
      ]
     },
     "execution_count": 19,
     "metadata": {},
     "output_type": "execute_result"
    }
   ],
   "source": [
    "## Look for relationship between length and sentiment\n",
    "data[[\"Length\",\"Sentiment\"]].groupby(\"Sentiment\").describe()"
   ]
  },
  {
   "cell_type": "markdown",
   "metadata": {},
   "source": [
    "### Preprocessing"
   ]
  },
  {
   "cell_type": "code",
   "execution_count": 20,
   "metadata": {},
   "outputs": [],
   "source": [
    "## Import special libraries\n",
    "import emojis\n",
    "import nltk\n",
    "from nltk.corpus import stopwords\n",
    "from nltk.tokenize import sent_tokenize as tokenizer"
   ]
  },
  {
   "cell_type": "code",
   "execution_count": 21,
   "metadata": {},
   "outputs": [],
   "source": [
    "## Get NLTK english stopwords\n",
    "our_stopwords = set(stopwords.words('english'))"
   ]
  },
  {
   "cell_type": "code",
   "execution_count": 22,
   "metadata": {},
   "outputs": [],
   "source": [
    "#nltk.download()"
   ]
  },
  {
   "cell_type": "code",
   "execution_count": 23,
   "metadata": {},
   "outputs": [],
   "source": [
    "## TEXT PREPROCESSING\n",
    "## 1. Lowercase\n",
    "## 2. Remove Punct\n",
    "## 3. Tokenize with standard tokenizer\n",
    "## 4. Remove Stopwords\n",
    "\n",
    "## TEXT TRANSFORMATIONS\n",
    "## 6. Bag of Word Model\n",
    "## 7. Term-Frequency Inverse-Document-Frequency (TF-IDF)\n",
    "## 8. Delete highly frequent tokens (tokens that are in 90% of docs)\n",
    "## 9. Delete very low frequent tokens (tokens that are in less than 5% of docs)"
   ]
  },
  {
   "cell_type": "code",
   "execution_count": 31,
   "metadata": {},
   "outputs": [
    {
     "data": {
      "text/html": [
       "<div>\n",
       "<style scoped>\n",
       "    .dataframe tbody tr th:only-of-type {\n",
       "        vertical-align: middle;\n",
       "    }\n",
       "\n",
       "    .dataframe tbody tr th {\n",
       "        vertical-align: top;\n",
       "    }\n",
       "\n",
       "    .dataframe thead th {\n",
       "        text-align: right;\n",
       "    }\n",
       "</style>\n",
       "<table border=\"1\" class=\"dataframe\">\n",
       "  <thead>\n",
       "    <tr style=\"text-align: right;\">\n",
       "      <th></th>\n",
       "      <th>Review</th>\n",
       "      <th>Rating</th>\n",
       "      <th>Length</th>\n",
       "      <th>Sentiment</th>\n",
       "    </tr>\n",
       "  </thead>\n",
       "  <tbody>\n",
       "    <tr>\n",
       "      <th>0</th>\n",
       "      <td>great music service, the audio is high quality...</td>\n",
       "      <td>5</td>\n",
       "      <td>21</td>\n",
       "      <td>positive</td>\n",
       "    </tr>\n",
       "    <tr>\n",
       "      <th>1</th>\n",
       "      <td>please ignore previous negative rating. this a...</td>\n",
       "      <td>5</td>\n",
       "      <td>15</td>\n",
       "      <td>positive</td>\n",
       "    </tr>\n",
       "    <tr>\n",
       "      <th>2</th>\n",
       "      <td>this pop-up \"get the best spotify experience o...</td>\n",
       "      <td>4</td>\n",
       "      <td>19</td>\n",
       "      <td>positive</td>\n",
       "    </tr>\n",
       "    <tr>\n",
       "      <th>3</th>\n",
       "      <td>really buggy and terrible to use as of recently</td>\n",
       "      <td>1</td>\n",
       "      <td>9</td>\n",
       "      <td>negative</td>\n",
       "    </tr>\n",
       "    <tr>\n",
       "      <th>4</th>\n",
       "      <td>dear spotify why do i get songs that i didn't ...</td>\n",
       "      <td>1</td>\n",
       "      <td>21</td>\n",
       "      <td>negative</td>\n",
       "    </tr>\n",
       "    <tr>\n",
       "      <th>5</th>\n",
       "      <td>the player controls sometimes disappear for no...</td>\n",
       "      <td>3</td>\n",
       "      <td>19</td>\n",
       "      <td>neutral</td>\n",
       "    </tr>\n",
       "    <tr>\n",
       "      <th>6</th>\n",
       "      <td>i love the selection and the lyrics are provid...</td>\n",
       "      <td>5</td>\n",
       "      <td>15</td>\n",
       "      <td>positive</td>\n",
       "    </tr>\n",
       "    <tr>\n",
       "      <th>7</th>\n",
       "      <td>still extremely slow when changing storage to ...</td>\n",
       "      <td>3</td>\n",
       "      <td>62</td>\n",
       "      <td>neutral</td>\n",
       "    </tr>\n",
       "    <tr>\n",
       "      <th>8</th>\n",
       "      <td>it's a great app and the best mp3 music app i ...</td>\n",
       "      <td>5</td>\n",
       "      <td>43</td>\n",
       "      <td>positive</td>\n",
       "    </tr>\n",
       "    <tr>\n",
       "      <th>9</th>\n",
       "      <td>i'm deleting this app, for the following reaso...</td>\n",
       "      <td>1</td>\n",
       "      <td>80</td>\n",
       "      <td>negative</td>\n",
       "    </tr>\n",
       "  </tbody>\n",
       "</table>\n",
       "</div>"
      ],
      "text/plain": [
       "                                              Review  Rating  Length Sentiment\n",
       "0  great music service, the audio is high quality...       5      21  positive\n",
       "1  please ignore previous negative rating. this a...       5      15  positive\n",
       "2  this pop-up \"get the best spotify experience o...       4      19  positive\n",
       "3    really buggy and terrible to use as of recently       1       9  negative\n",
       "4  dear spotify why do i get songs that i didn't ...       1      21  negative\n",
       "5  the player controls sometimes disappear for no...       3      19   neutral\n",
       "6  i love the selection and the lyrics are provid...       5      15  positive\n",
       "7  still extremely slow when changing storage to ...       3      62   neutral\n",
       "8  it's a great app and the best mp3 music app i ...       5      43  positive\n",
       "9  i'm deleting this app, for the following reaso...       1      80  negative"
      ]
     },
     "execution_count": 31,
     "metadata": {},
     "output_type": "execute_result"
    }
   ],
   "source": [
    "## 1. Lowercase all words\n",
    "data[\"Review\"] = data[\"Review\"].str.lower()\n",
    "data.head(10)"
   ]
  },
  {
   "cell_type": "code",
   "execution_count": 35,
   "metadata": {},
   "outputs": [
    {
     "data": {
      "text/plain": [
       "53063    very bad performance......it was a good app un...\n",
       "44525    i have being using spotify for awhile now its ...\n",
       "59225    unusable app. it stopped working on my moto g9...\n",
       "45531    i love it it's the best it's way better than p...\n",
       "16870    why is it so slow? even with fast internet it ...\n",
       "45474    absolutely great app! just wish it would tell ...\n",
       "3945     i love my music and especially morbid crime po...\n",
       "34455    honestly i never rate apps this high....but mu...\n",
       "60156    when it works its very convenient, but it has ...\n",
       "26303    i'm new with spotify but i love getting very m...\n",
       "21454    i wish spotify stations was still available it...\n",
       "20853    the app is superb but the problem is that song...\n",
       "19359    when i search for a specific song it plays som...\n",
       "15527    can't believe i'm writing this but spotify has...\n",
       "29074    ads are annoying but other than that it's great 👍\n",
       "217      i use this app multiple times daily. this migh...\n",
       "36365    after last update something went wrong! i can'...\n",
       "52079    noice, it works, has music. that's about it. e...\n",
       "74       just bring back the \"shuffle all\" albums optio...\n",
       "41216    it does not even take 2seconds to listen to th...\n",
       "Name: Review, dtype: object"
      ]
     },
     "execution_count": 35,
     "metadata": {},
     "output_type": "execute_result"
    }
   ],
   "source": [
    "data[\"Review\"].sample(20)"
   ]
  },
  {
   "cell_type": "code",
   "execution_count": 32,
   "metadata": {},
   "outputs": [],
   "source": [
    "## 2./3. Tokenize Remove Punctuation\n",
    "from nltk.tokenize import RegexpTokenizer\n",
    "tokenizer = RegexpTokenizer(r'\\w+')"
   ]
  },
  {
   "cell_type": "code",
   "execution_count": 38,
   "metadata": {},
   "outputs": [],
   "source": [
    "tokens = data[\"Review\"].apply(tokenizer.tokenize)"
   ]
  },
  {
   "cell_type": "code",
   "execution_count": 81,
   "metadata": {},
   "outputs": [
    {
     "data": {
      "text/plain": [
       "15926    [cant, access, the, offline, content, i, downl...\n",
       "36777    [i, m, having, the, same, issue, laura, b, dis...\n",
       "18352                                [awesome, music, app]\n",
       "31527    [after, last, update, something, happened, wit...\n",
       "24847    [hey, can, you, add, something, like, a, butto...\n",
       "3320     [trash, login, system, whenever, i, try, loggi...\n",
       "38787    [this, is, a, really, fun, app, to, listen, bu...\n",
       "29805    [there, are, some, significant, usability, iss...\n",
       "38963    [the, app, is, good, the, design, is, cool, th...\n",
       "57899    [they, don, t, care, about, their, community, ...\n",
       "32551    [music, completely, stops, and, to, get, anyth...\n",
       "17281    [app, is, crashing, whenever, i, tried, to, pl...\n",
       "51644    [amazing, it, helps, me, to, listen, to, song,...\n",
       "49596    [i, love, it, has, all, different, songs, and,...\n",
       "19740    [i, cannot, share, the, songs, to, connected, ...\n",
       "19911    [it, really, good, the, best, music, app, i, h...\n",
       "9109     [i, ve, been, using, a, 6gb, ram, phone, but, ...\n",
       "3233     [don, t, know, why, i, can, t, use, the, app, ...\n",
       "47164    [tried, 3, credit, cards, and, 2, debit, cards...\n",
       "19071    [spotify, was, awesome, but, lately, it, has, ...\n",
       "Name: Review, dtype: object"
      ]
     },
     "execution_count": 81,
     "metadata": {},
     "output_type": "execute_result"
    }
   ],
   "source": [
    "tokens.sample(20)"
   ]
  },
  {
   "cell_type": "code",
   "execution_count": 94,
   "metadata": {},
   "outputs": [],
   "source": [
    "data[\"Tokens\"] = tokens"
   ]
  },
  {
   "cell_type": "code",
   "execution_count": 95,
   "metadata": {},
   "outputs": [
    {
     "data": {
      "text/html": [
       "<div>\n",
       "<style scoped>\n",
       "    .dataframe tbody tr th:only-of-type {\n",
       "        vertical-align: middle;\n",
       "    }\n",
       "\n",
       "    .dataframe tbody tr th {\n",
       "        vertical-align: top;\n",
       "    }\n",
       "\n",
       "    .dataframe thead th {\n",
       "        text-align: right;\n",
       "    }\n",
       "</style>\n",
       "<table border=\"1\" class=\"dataframe\">\n",
       "  <thead>\n",
       "    <tr style=\"text-align: right;\">\n",
       "      <th></th>\n",
       "      <th>Review</th>\n",
       "      <th>Rating</th>\n",
       "      <th>Length</th>\n",
       "      <th>Sentiment</th>\n",
       "      <th>Tokens</th>\n",
       "    </tr>\n",
       "  </thead>\n",
       "  <tbody>\n",
       "    <tr>\n",
       "      <th>0</th>\n",
       "      <td>great music service, the audio is high quality...</td>\n",
       "      <td>5</td>\n",
       "      <td>21</td>\n",
       "      <td>positive</td>\n",
       "      <td>[great, music, service, the, audio, is, high, ...</td>\n",
       "    </tr>\n",
       "    <tr>\n",
       "      <th>1</th>\n",
       "      <td>please ignore previous negative rating. this a...</td>\n",
       "      <td>5</td>\n",
       "      <td>15</td>\n",
       "      <td>positive</td>\n",
       "      <td>[please, ignore, previous, negative, rating, t...</td>\n",
       "    </tr>\n",
       "    <tr>\n",
       "      <th>2</th>\n",
       "      <td>this pop-up \"get the best spotify experience o...</td>\n",
       "      <td>4</td>\n",
       "      <td>19</td>\n",
       "      <td>positive</td>\n",
       "      <td>[this, pop, up, get, the, best, spotify, exper...</td>\n",
       "    </tr>\n",
       "    <tr>\n",
       "      <th>3</th>\n",
       "      <td>really buggy and terrible to use as of recently</td>\n",
       "      <td>1</td>\n",
       "      <td>9</td>\n",
       "      <td>negative</td>\n",
       "      <td>[really, buggy, and, terrible, to, use, as, of...</td>\n",
       "    </tr>\n",
       "    <tr>\n",
       "      <th>4</th>\n",
       "      <td>dear spotify why do i get songs that i didn't ...</td>\n",
       "      <td>1</td>\n",
       "      <td>21</td>\n",
       "      <td>negative</td>\n",
       "      <td>[dear, spotify, why, do, i, get, songs, that, ...</td>\n",
       "    </tr>\n",
       "  </tbody>\n",
       "</table>\n",
       "</div>"
      ],
      "text/plain": [
       "                                              Review  Rating  Length  \\\n",
       "0  great music service, the audio is high quality...       5      21   \n",
       "1  please ignore previous negative rating. this a...       5      15   \n",
       "2  this pop-up \"get the best spotify experience o...       4      19   \n",
       "3    really buggy and terrible to use as of recently       1       9   \n",
       "4  dear spotify why do i get songs that i didn't ...       1      21   \n",
       "\n",
       "  Sentiment                                             Tokens  \n",
       "0  positive  [great, music, service, the, audio, is, high, ...  \n",
       "1  positive  [please, ignore, previous, negative, rating, t...  \n",
       "2  positive  [this, pop, up, get, the, best, spotify, exper...  \n",
       "3  negative  [really, buggy, and, terrible, to, use, as, of...  \n",
       "4  negative  [dear, spotify, why, do, i, get, songs, that, ...  "
      ]
     },
     "execution_count": 95,
     "metadata": {},
     "output_type": "execute_result"
    }
   ],
   "source": [
    "data.head()"
   ]
  },
  {
   "cell_type": "code",
   "execution_count": 99,
   "metadata": {},
   "outputs": [
    {
     "data": {
      "text/html": [
       "<div>\n",
       "<style scoped>\n",
       "    .dataframe tbody tr th:only-of-type {\n",
       "        vertical-align: middle;\n",
       "    }\n",
       "\n",
       "    .dataframe tbody tr th {\n",
       "        vertical-align: top;\n",
       "    }\n",
       "\n",
       "    .dataframe thead th {\n",
       "        text-align: right;\n",
       "    }\n",
       "</style>\n",
       "<table border=\"1\" class=\"dataframe\">\n",
       "  <thead>\n",
       "    <tr style=\"text-align: right;\">\n",
       "      <th></th>\n",
       "      <th>Review</th>\n",
       "      <th>Rating</th>\n",
       "      <th>Length</th>\n",
       "      <th>Sentiment</th>\n",
       "      <th>Tokens</th>\n",
       "      <th>Tokens_wo_stopwords</th>\n",
       "    </tr>\n",
       "  </thead>\n",
       "  <tbody>\n",
       "    <tr>\n",
       "      <th>0</th>\n",
       "      <td>great music service, the audio is high quality...</td>\n",
       "      <td>5</td>\n",
       "      <td>21</td>\n",
       "      <td>positive</td>\n",
       "      <td>[great, music, service, the, audio, is, high, ...</td>\n",
       "      <td>[great, music, service, audio, high, quality, ...</td>\n",
       "    </tr>\n",
       "    <tr>\n",
       "      <th>1</th>\n",
       "      <td>please ignore previous negative rating. this a...</td>\n",
       "      <td>5</td>\n",
       "      <td>15</td>\n",
       "      <td>positive</td>\n",
       "      <td>[please, ignore, previous, negative, rating, t...</td>\n",
       "      <td>[please, ignore, previous, negative, rating, a...</td>\n",
       "    </tr>\n",
       "    <tr>\n",
       "      <th>2</th>\n",
       "      <td>this pop-up \"get the best spotify experience o...</td>\n",
       "      <td>4</td>\n",
       "      <td>19</td>\n",
       "      <td>positive</td>\n",
       "      <td>[this, pop, up, get, the, best, spotify, exper...</td>\n",
       "      <td>[pop, get, best, spotify, experience, android,...</td>\n",
       "    </tr>\n",
       "    <tr>\n",
       "      <th>3</th>\n",
       "      <td>really buggy and terrible to use as of recently</td>\n",
       "      <td>1</td>\n",
       "      <td>9</td>\n",
       "      <td>negative</td>\n",
       "      <td>[really, buggy, and, terrible, to, use, as, of...</td>\n",
       "      <td>[really, buggy, terrible, use, recently]</td>\n",
       "    </tr>\n",
       "    <tr>\n",
       "      <th>4</th>\n",
       "      <td>dear spotify why do i get songs that i didn't ...</td>\n",
       "      <td>1</td>\n",
       "      <td>21</td>\n",
       "      <td>negative</td>\n",
       "      <td>[dear, spotify, why, do, i, get, songs, that, ...</td>\n",
       "      <td>[dear, spotify, get, songs, put, playlist, shu...</td>\n",
       "    </tr>\n",
       "  </tbody>\n",
       "</table>\n",
       "</div>"
      ],
      "text/plain": [
       "                                              Review  Rating  Length  \\\n",
       "0  great music service, the audio is high quality...       5      21   \n",
       "1  please ignore previous negative rating. this a...       5      15   \n",
       "2  this pop-up \"get the best spotify experience o...       4      19   \n",
       "3    really buggy and terrible to use as of recently       1       9   \n",
       "4  dear spotify why do i get songs that i didn't ...       1      21   \n",
       "\n",
       "  Sentiment                                             Tokens  \\\n",
       "0  positive  [great, music, service, the, audio, is, high, ...   \n",
       "1  positive  [please, ignore, previous, negative, rating, t...   \n",
       "2  positive  [this, pop, up, get, the, best, spotify, exper...   \n",
       "3  negative  [really, buggy, and, terrible, to, use, as, of...   \n",
       "4  negative  [dear, spotify, why, do, i, get, songs, that, ...   \n",
       "\n",
       "                                 Tokens_wo_stopwords  \n",
       "0  [great, music, service, audio, high, quality, ...  \n",
       "1  [please, ignore, previous, negative, rating, a...  \n",
       "2  [pop, get, best, spotify, experience, android,...  \n",
       "3           [really, buggy, terrible, use, recently]  \n",
       "4  [dear, spotify, get, songs, put, playlist, shu...  "
      ]
     },
     "execution_count": 99,
     "metadata": {},
     "output_type": "execute_result"
    }
   ],
   "source": [
    "## 4. Remove Stopwords\n",
    "data['Tokens_wo_stopwords'] = data['Tokens'].apply(lambda x: [word for word in x if word not in (our_stopwords)])\n",
    "data.head()"
   ]
  },
  {
   "cell_type": "code",
   "execution_count": 100,
   "metadata": {},
   "outputs": [],
   "source": [
    "## Split data into train, dev, and test set\n",
    "from sklearn.model_selection import train_test_split\n"
   ]
  },
  {
   "cell_type": "code",
   "execution_count": 101,
   "metadata": {},
   "outputs": [],
   "source": [
    "X = data[\"Tokens_wo_stopwords\"]\n",
    "y = data[\"Sentiment\"]"
   ]
  },
  {
   "cell_type": "code",
   "execution_count": 107,
   "metadata": {},
   "outputs": [
    {
     "name": "stdout",
     "output_type": "stream",
     "text": [
      "(61346,) (61346,)\n"
     ]
    }
   ],
   "source": [
    "print(X.shape, y.shape)"
   ]
  },
  {
   "cell_type": "code",
   "execution_count": 109,
   "metadata": {},
   "outputs": [
    {
     "name": "stdout",
     "output_type": "stream",
     "text": [
      "(36807,) (24539,) (36807,) (24539,)\n"
     ]
    }
   ],
   "source": [
    "X_train, X_test, y_train, y_test = train_test_split(X, y, test_size=0.4, stratify = y, random_state=42)\n",
    "print(X_train.shape, X_test.shape, y_train.shape, y_test.shape)"
   ]
  },
  {
   "cell_type": "code",
   "execution_count": 111,
   "metadata": {},
   "outputs": [
    {
     "name": "stdout",
     "output_type": "stream",
     "text": [
      "(12269,) (12270,) (12269,) (12270,)\n"
     ]
    }
   ],
   "source": [
    "X_dev, X_test, y_dev, y_test = train_test_split(X_test, y_test, test_size=0.5, stratify = y_test, random_state=42)\n",
    "print(X_dev.shape, X_test.shape, y_dev.shape, y_test.shape)"
   ]
  },
  {
   "cell_type": "code",
   "execution_count": 112,
   "metadata": {},
   "outputs": [],
   "source": [
    "## TRANSFORMATIONS\n",
    "## 5. Counts\n",
    "from sklearn.feature_extraction.text import CountVectorizer"
   ]
  },
  {
   "cell_type": "code",
   "execution_count": 117,
   "metadata": {},
   "outputs": [],
   "source": [
    "def dummy(doc):\n",
    "    return doc\n",
    "count_vectorizer = CountVectorizer(tokenizer=dummy, preprocessor=dummy)\n",
    "## Only fit on training set\n",
    "count_vectorizer.fit(X_train)\n",
    "X_train_counts = count_vectorizer.transform(X_train)\n",
    "X_dev_counts = count_vectorizer.transform(X_dev)\n"
   ]
  },
  {
   "cell_type": "code",
   "execution_count": 126,
   "metadata": {},
   "outputs": [
    {
     "data": {
      "text/html": [
       "<div>\n",
       "<style scoped>\n",
       "    .dataframe tbody tr th:only-of-type {\n",
       "        vertical-align: middle;\n",
       "    }\n",
       "\n",
       "    .dataframe tbody tr th {\n",
       "        vertical-align: top;\n",
       "    }\n",
       "\n",
       "    .dataframe thead th {\n",
       "        text-align: right;\n",
       "    }\n",
       "</style>\n",
       "<table border=\"1\" class=\"dataframe\">\n",
       "  <thead>\n",
       "    <tr style=\"text-align: right;\">\n",
       "      <th></th>\n",
       "      <th>0</th>\n",
       "    </tr>\n",
       "  </thead>\n",
       "  <tbody>\n",
       "    <tr>\n",
       "      <th>0</th>\n",
       "      <td>(0, 272)\\t1\\n  (0, 791)\\t1\\n  (0, 4217)\\t1\\n...</td>\n",
       "    </tr>\n",
       "    <tr>\n",
       "      <th>1</th>\n",
       "      <td>(0, 742)\\t1\\n  (0, 1215)\\t1\\n  (0, 1440)\\t4\\...</td>\n",
       "    </tr>\n",
       "    <tr>\n",
       "      <th>2</th>\n",
       "      <td>(0, 1440)\\t1\\n  (0, 2671)\\t1\\n  (0, 6312)\\t1...</td>\n",
       "    </tr>\n",
       "    <tr>\n",
       "      <th>3</th>\n",
       "      <td>(0, 918)\\t1\\n  (0, 1440)\\t1\\n  (0, 2208)\\t1\\...</td>\n",
       "    </tr>\n",
       "    <tr>\n",
       "      <th>4</th>\n",
       "      <td>(0, 5701)\\t1\\n  (0, 7119)\\t1\\n  (0, 8134)\\t1...</td>\n",
       "    </tr>\n",
       "  </tbody>\n",
       "</table>\n",
       "</div>"
      ],
      "text/plain": [
       "                                                   0\n",
       "0    (0, 272)\\t1\\n  (0, 791)\\t1\\n  (0, 4217)\\t1\\n...\n",
       "1    (0, 742)\\t1\\n  (0, 1215)\\t1\\n  (0, 1440)\\t4\\...\n",
       "2    (0, 1440)\\t1\\n  (0, 2671)\\t1\\n  (0, 6312)\\t1...\n",
       "3    (0, 918)\\t1\\n  (0, 1440)\\t1\\n  (0, 2208)\\t1\\...\n",
       "4    (0, 5701)\\t1\\n  (0, 7119)\\t1\\n  (0, 8134)\\t1..."
      ]
     },
     "execution_count": 126,
     "metadata": {},
     "output_type": "execute_result"
    }
   ],
   "source": [
    "pd.DataFrame(X_dev_counts).head()"
   ]
  },
  {
   "cell_type": "code",
   "execution_count": 127,
   "metadata": {},
   "outputs": [],
   "source": [
    "## TRANSFORMATIONS\n",
    "## 5. TFIDF\n",
    "from sklearn.feature_extraction.text import TfidfVectorizer"
   ]
  },
  {
   "cell_type": "code",
   "execution_count": 138,
   "metadata": {},
   "outputs": [],
   "source": [
    "def dummy(doc):\n",
    "    return doc\n",
    "tfidf_vectorizer = TfidfVectorizer(tokenizer=dummy, preprocessor=dummy)\n",
    "## Only fit on training set\n",
    "tfidf_vectorizer.fit(X_train)\n",
    "X_train_tfidf = tfidf_vectorizer.transform(X_train)\n",
    "X_dev_tfidf = tfidf_vectorizer.transform(X_dev)"
   ]
  },
  {
   "cell_type": "code",
   "execution_count": 140,
   "metadata": {},
   "outputs": [
    {
     "data": {
      "text/html": [
       "<div>\n",
       "<style scoped>\n",
       "    .dataframe tbody tr th:only-of-type {\n",
       "        vertical-align: middle;\n",
       "    }\n",
       "\n",
       "    .dataframe tbody tr th {\n",
       "        vertical-align: top;\n",
       "    }\n",
       "\n",
       "    .dataframe thead th {\n",
       "        text-align: right;\n",
       "    }\n",
       "</style>\n",
       "<table border=\"1\" class=\"dataframe\">\n",
       "  <thead>\n",
       "    <tr style=\"text-align: right;\">\n",
       "      <th></th>\n",
       "      <th>0</th>\n",
       "    </tr>\n",
       "  </thead>\n",
       "  <tbody>\n",
       "    <tr>\n",
       "      <th>11808</th>\n",
       "      <td>(0, 17744)\\t0.15459661300478195\\n  (0, 17132...</td>\n",
       "    </tr>\n",
       "    <tr>\n",
       "      <th>1942</th>\n",
       "      <td>(0, 16466)\\t0.4813702329529971\\n  (0, 11803)...</td>\n",
       "    </tr>\n",
       "    <tr>\n",
       "      <th>10468</th>\n",
       "      <td>(0, 10441)\\t0.2560491984163503\\n  (0, 9681)\\...</td>\n",
       "    </tr>\n",
       "    <tr>\n",
       "      <th>5994</th>\n",
       "      <td>(0, 16557)\\t0.5312372373513079\\n  (0, 16495)...</td>\n",
       "    </tr>\n",
       "    <tr>\n",
       "      <th>695</th>\n",
       "      <td>(0, 15382)\\t0.27369468250331314\\n  (0, 15214...</td>\n",
       "    </tr>\n",
       "    <tr>\n",
       "      <th>323</th>\n",
       "      <td>(0, 17687)\\t0.2986456526286992\\n  (0, 15954)...</td>\n",
       "    </tr>\n",
       "    <tr>\n",
       "      <th>6683</th>\n",
       "      <td>(0, 17770)\\t0.24782501082709243\\n  (0, 15957...</td>\n",
       "    </tr>\n",
       "    <tr>\n",
       "      <th>6620</th>\n",
       "      <td>(0, 17806)\\t0.1533990552628528\\n  (0, 17049)...</td>\n",
       "    </tr>\n",
       "    <tr>\n",
       "      <th>10454</th>\n",
       "      <td>(0, 15876)\\t0.3509007706817332\\n  (0, 14758)...</td>\n",
       "    </tr>\n",
       "    <tr>\n",
       "      <th>798</th>\n",
       "      <td>(0, 17966)\\t0.1894357119182449\\n  (0, 17778)...</td>\n",
       "    </tr>\n",
       "    <tr>\n",
       "      <th>11331</th>\n",
       "      <td>(0, 17049)\\t0.37098630128522475\\n  (0, 17021...</td>\n",
       "    </tr>\n",
       "    <tr>\n",
       "      <th>5014</th>\n",
       "      <td>(0, 17398)\\t0.12124672444586825\\n  (0, 15106...</td>\n",
       "    </tr>\n",
       "    <tr>\n",
       "      <th>2087</th>\n",
       "      <td>(0, 17442)\\t0.13155533528370106\\n  (0, 17398...</td>\n",
       "    </tr>\n",
       "    <tr>\n",
       "      <th>127</th>\n",
       "      <td>(0, 11837)\\t0.6311052232536684\\n  (0, 11130)...</td>\n",
       "    </tr>\n",
       "    <tr>\n",
       "      <th>630</th>\n",
       "      <td>(0, 14729)\\t0.24788334138874932\\n  (0, 11486...</td>\n",
       "    </tr>\n",
       "    <tr>\n",
       "      <th>7847</th>\n",
       "      <td>(0, 15850)\\t0.3005095086567857\\n  (0, 14975)...</td>\n",
       "    </tr>\n",
       "    <tr>\n",
       "      <th>9065</th>\n",
       "      <td>(0, 17774)\\t0.2936168442998971\\n  (0, 15198)...</td>\n",
       "    </tr>\n",
       "    <tr>\n",
       "      <th>2217</th>\n",
       "      <td>(0, 17966)\\t0.29954182826168874\\n  (0, 16532...</td>\n",
       "    </tr>\n",
       "    <tr>\n",
       "      <th>4395</th>\n",
       "      <td>(0, 16101)\\t0.2066446044669696\\n  (0, 13425)...</td>\n",
       "    </tr>\n",
       "    <tr>\n",
       "      <th>4498</th>\n",
       "      <td>(0, 15104)\\t0.38394750450014786\\n  (0, 10672...</td>\n",
       "    </tr>\n",
       "  </tbody>\n",
       "</table>\n",
       "</div>"
      ],
      "text/plain": [
       "                                                       0\n",
       "11808    (0, 17744)\\t0.15459661300478195\\n  (0, 17132...\n",
       "1942     (0, 16466)\\t0.4813702329529971\\n  (0, 11803)...\n",
       "10468    (0, 10441)\\t0.2560491984163503\\n  (0, 9681)\\...\n",
       "5994     (0, 16557)\\t0.5312372373513079\\n  (0, 16495)...\n",
       "695      (0, 15382)\\t0.27369468250331314\\n  (0, 15214...\n",
       "323      (0, 17687)\\t0.2986456526286992\\n  (0, 15954)...\n",
       "6683     (0, 17770)\\t0.24782501082709243\\n  (0, 15957...\n",
       "6620     (0, 17806)\\t0.1533990552628528\\n  (0, 17049)...\n",
       "10454    (0, 15876)\\t0.3509007706817332\\n  (0, 14758)...\n",
       "798      (0, 17966)\\t0.1894357119182449\\n  (0, 17778)...\n",
       "11331    (0, 17049)\\t0.37098630128522475\\n  (0, 17021...\n",
       "5014     (0, 17398)\\t0.12124672444586825\\n  (0, 15106...\n",
       "2087     (0, 17442)\\t0.13155533528370106\\n  (0, 17398...\n",
       "127      (0, 11837)\\t0.6311052232536684\\n  (0, 11130)...\n",
       "630      (0, 14729)\\t0.24788334138874932\\n  (0, 11486...\n",
       "7847     (0, 15850)\\t0.3005095086567857\\n  (0, 14975)...\n",
       "9065     (0, 17774)\\t0.2936168442998971\\n  (0, 15198)...\n",
       "2217     (0, 17966)\\t0.29954182826168874\\n  (0, 16532...\n",
       "4395     (0, 16101)\\t0.2066446044669696\\n  (0, 13425)...\n",
       "4498     (0, 15104)\\t0.38394750450014786\\n  (0, 10672..."
      ]
     },
     "execution_count": 140,
     "metadata": {},
     "output_type": "execute_result"
    }
   ],
   "source": [
    "pd.DataFrame(X_dev_tfidf).sample(20)"
   ]
  }
 ],
 "metadata": {
  "kernelspec": {
   "display_name": "Python 3.10.4 64-bit",
   "language": "python",
   "name": "python3"
  },
  "language_info": {
   "codemirror_mode": {
    "name": "ipython",
    "version": 3
   },
   "file_extension": ".py",
   "mimetype": "text/x-python",
   "name": "python",
   "nbconvert_exporter": "python",
   "pygments_lexer": "ipython3",
   "version": "3.10.4"
  },
  "orig_nbformat": 4,
  "vscode": {
   "interpreter": {
    "hash": "ba89649856ee0ebb4f5d432fb84526bc860cc927389973834ceef247cbb7120d"
   }
  }
 },
 "nbformat": 4,
 "nbformat_minor": 2
}

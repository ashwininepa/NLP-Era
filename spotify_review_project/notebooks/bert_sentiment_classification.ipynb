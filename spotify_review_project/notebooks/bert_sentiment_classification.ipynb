{
 "cells": [
  {
   "cell_type": "markdown",
   "metadata": {},
   "source": [
    "## Sentiment Classification using BERT\n"
   ]
  },
  {
   "cell_type": "code",
   "execution_count": 30,
   "metadata": {},
   "outputs": [],
   "source": [
    "# Imports\n",
    "# General utils\n",
    "import pandas as pd\n",
    "import numpy as np\n",
    "import seaborn as sns\n",
    "\n",
    "# TF\n",
    "import tensorflow as tf\n",
    "import tensorflow_hub as hub\n",
    "import tensorflow_text as text\n",
    "\n",
    "# Model selection and Pipeline utils\n",
    "from sklearn.model_selection import GridSearchCV\n",
    "from sklearn.model_selection import train_test_split\n",
    "from sklearn.metrics import confusion_matrix, classification_report, plot_confusion_matrix\n",
    "\n",
    "# Text processing libraries\n",
    "import re\n",
    "from nltk.corpus import stopwords\n",
    "import emoji\n",
    "import contractions  # from https://github.com/kootenpv/contractions\n",
    "import string\n",
    "\n",
    "# Setting to ignore warnings\n",
    "import warnings\n",
    "warnings.filterwarnings(\"ignore\")\n",
    "# Set inline print to 150 chars\n",
    "pd.set_option('display.max_colwidth', 150)\n"
   ]
  },
  {
   "cell_type": "markdown",
   "metadata": {},
   "source": [
    "### Read Data\n"
   ]
  },
  {
   "cell_type": "code",
   "execution_count": 31,
   "metadata": {},
   "outputs": [
    {
     "data": {
      "text/html": [
       "<div>\n",
       "<style scoped>\n",
       "    .dataframe tbody tr th:only-of-type {\n",
       "        vertical-align: middle;\n",
       "    }\n",
       "\n",
       "    .dataframe tbody tr th {\n",
       "        vertical-align: top;\n",
       "    }\n",
       "\n",
       "    .dataframe thead th {\n",
       "        text-align: right;\n",
       "    }\n",
       "</style>\n",
       "<table border=\"1\" class=\"dataframe\">\n",
       "  <thead>\n",
       "    <tr style=\"text-align: right;\">\n",
       "      <th></th>\n",
       "      <th>Review</th>\n",
       "      <th>Rating</th>\n",
       "    </tr>\n",
       "  </thead>\n",
       "  <tbody>\n",
       "    <tr>\n",
       "      <th>0</th>\n",
       "      <td>Great music service, the audio is high quality and the app is easy to use. Also very quick and friendly support.</td>\n",
       "      <td>5</td>\n",
       "    </tr>\n",
       "    <tr>\n",
       "      <th>1</th>\n",
       "      <td>Please ignore previous negative rating. This app is super great. I give it five stars+</td>\n",
       "      <td>5</td>\n",
       "    </tr>\n",
       "    <tr>\n",
       "      <th>2</th>\n",
       "      <td>This pop-up \"Get the best Spotify experience on Android 12\" is too annoying. Please let's get rid of this.</td>\n",
       "      <td>4</td>\n",
       "    </tr>\n",
       "    <tr>\n",
       "      <th>3</th>\n",
       "      <td>Really buggy and terrible to use as of recently</td>\n",
       "      <td>1</td>\n",
       "    </tr>\n",
       "    <tr>\n",
       "      <th>4</th>\n",
       "      <td>Dear Spotify why do I get songs that I didn't put on my playlist??? And why do we have shuffle play?</td>\n",
       "      <td>1</td>\n",
       "    </tr>\n",
       "    <tr>\n",
       "      <th>5</th>\n",
       "      <td>The player controls sometimes disappear for no reason. App restart forgets what I was playing but fixes the issue.</td>\n",
       "      <td>3</td>\n",
       "    </tr>\n",
       "    <tr>\n",
       "      <th>6</th>\n",
       "      <td>I love the selection and the lyrics are provided with the song you're listening to!</td>\n",
       "      <td>5</td>\n",
       "    </tr>\n",
       "    <tr>\n",
       "      <th>7</th>\n",
       "      <td>Still extremely slow when changing storage to external sd card.. I'm convinced this is done on purpose, spotify knows of this issue and has done N...</td>\n",
       "      <td>3</td>\n",
       "    </tr>\n",
       "    <tr>\n",
       "      <th>8</th>\n",
       "      <td>It's a great app and the best mp3 music app I have ever used but there is one problem that, why can't we play some songs or find some songs? despi...</td>\n",
       "      <td>5</td>\n",
       "    </tr>\n",
       "    <tr>\n",
       "      <th>9</th>\n",
       "      <td>I'm deleting this app, for the following reasons: This app now has a failing business model. Whether streaming services like it, or not: the consu...</td>\n",
       "      <td>1</td>\n",
       "    </tr>\n",
       "  </tbody>\n",
       "</table>\n",
       "</div>"
      ],
      "text/plain": [
       "                                                                                                                                                  Review  \\\n",
       "0                                       Great music service, the audio is high quality and the app is easy to use. Also very quick and friendly support.   \n",
       "1                                                                 Please ignore previous negative rating. This app is super great. I give it five stars+   \n",
       "2                                             This pop-up \"Get the best Spotify experience on Android 12\" is too annoying. Please let's get rid of this.   \n",
       "3                                                                                                        Really buggy and terrible to use as of recently   \n",
       "4                                                   Dear Spotify why do I get songs that I didn't put on my playlist??? And why do we have shuffle play?   \n",
       "5                                     The player controls sometimes disappear for no reason. App restart forgets what I was playing but fixes the issue.   \n",
       "6                                                                    I love the selection and the lyrics are provided with the song you're listening to!   \n",
       "7  Still extremely slow when changing storage to external sd card.. I'm convinced this is done on purpose, spotify knows of this issue and has done N...   \n",
       "8  It's a great app and the best mp3 music app I have ever used but there is one problem that, why can't we play some songs or find some songs? despi...   \n",
       "9  I'm deleting this app, for the following reasons: This app now has a failing business model. Whether streaming services like it, or not: the consu...   \n",
       "\n",
       "   Rating  \n",
       "0       5  \n",
       "1       5  \n",
       "2       4  \n",
       "3       1  \n",
       "4       1  \n",
       "5       3  \n",
       "6       5  \n",
       "7       3  \n",
       "8       5  \n",
       "9       1  "
      ]
     },
     "execution_count": 31,
     "metadata": {},
     "output_type": "execute_result"
    }
   ],
   "source": [
    "# Read data and clean a bit\n",
    "spotify = pd.read_csv(\"../data/raw/spotify_review_kaggle.csv\")\n",
    "data_in = spotify.copy()\n",
    "data_in = data_in.drop_duplicates(subset=\"Review\")  # Drop dupes in Reviews\n",
    "data_in.drop([\"Time_submitted\", \"Total_thumbsup\",\n",
    "             \"Reply\"], axis=1, inplace=True)\n",
    "data_in[\"Length\"] = data_in[\"Review\"].str.split(\" \").str.len()\n",
    "data_in = data_in[data_in.Length < 150]\n",
    "data_in.drop([\"Length\"], axis=1, inplace=True)\n",
    "data = data_in\n",
    "data.head(10)\n"
   ]
  },
  {
   "cell_type": "markdown",
   "metadata": {},
   "source": [
    "### Code Sentiment\n"
   ]
  },
  {
   "cell_type": "code",
   "execution_count": 32,
   "metadata": {},
   "outputs": [],
   "source": [
    "# Code sentiment from rating (1 or 2 == bad, 3 == neutral, 4 or 5 == good)\n",
    "def get_sentiment(rating):\n",
    "    if rating == 1 or rating == 2 or rating == 3:\n",
    "        return 0\n",
    "    # if rating == 3:\n",
    "    #     return \"neutral\"\n",
    "    if rating == 4 or rating == 5:\n",
    "        return 1\n",
    "\n",
    "\n",
    "data[\"Sentiment\"] = data[\"Rating\"].apply(get_sentiment)\n"
   ]
  },
  {
   "cell_type": "code",
   "execution_count": 33,
   "metadata": {},
   "outputs": [],
   "source": [
    "# Plot sentiment distribution\n",
    "ax = sns.displot(data=data, x='Sentiment', stat='percent')\n"
   ]
  },
  {
   "cell_type": "markdown",
   "metadata": {},
   "source": [
    "We see that we got an almost even split, nice!\n"
   ]
  },
  {
   "cell_type": "markdown",
   "metadata": {},
   "source": [
    "### Define Stopwords\n",
    "\n",
    "Here we grab the NLTK stopwords but want to keep \"not\"\n"
   ]
  },
  {
   "cell_type": "code",
   "execution_count": 34,
   "metadata": {},
   "outputs": [],
   "source": [
    "our_stop_words = set(stopwords.words('english'))\n",
    "our_stop_words.remove(\"not\")\n"
   ]
  },
  {
   "cell_type": "markdown",
   "metadata": {},
   "source": [
    "### Clean data\n"
   ]
  },
  {
   "cell_type": "code",
   "execution_count": 35,
   "metadata": {},
   "outputs": [],
   "source": [
    "# Define a function to do some text cleaning\n",
    "def clean_text(text):\n",
    "    text = emoji.demojize(text)  # fix emojis\n",
    "    text = contractions.fix(text)  # fix contractions\n",
    "    text = re.sub(r'[^\\x00-\\x7f]', r'', text)  # remove strange fonts\n",
    "    text = re.sub(r\"\\d+\", \"number\", text)  # replace numbers with \"number\"\n",
    "    text = re.sub(r'[^\\w\\s]', '', text)  # remove non-alphanumeric chars\n",
    "    text = text.replace('_', ' ')  # replace underscores with space\n",
    "    text = text.strip()  # strip extra spaces\n",
    "    return text\n"
   ]
  },
  {
   "cell_type": "code",
   "execution_count": 36,
   "metadata": {},
   "outputs": [
    {
     "data": {
      "text/plain": [
       "'I red heart Spotify even though it is critizised for exploiting artists'"
      ]
     },
     "execution_count": 36,
     "metadata": {},
     "output_type": "execute_result"
    }
   ],
   "source": [
    "# Test our text cleaner\n",
    "clean_text(\"I ❤️ Spotify, even though it is critizised for exploiting artists\")\n"
   ]
  },
  {
   "cell_type": "code",
   "execution_count": 37,
   "metadata": {},
   "outputs": [],
   "source": [
    "# Apply to all data\n",
    "data[\"Review\"] = data[\"Review\"].apply(clean_text)\n"
   ]
  },
  {
   "cell_type": "code",
   "execution_count": 38,
   "metadata": {},
   "outputs": [
    {
     "data": {
      "text/html": [
       "<div>\n",
       "<style scoped>\n",
       "    .dataframe tbody tr th:only-of-type {\n",
       "        vertical-align: middle;\n",
       "    }\n",
       "\n",
       "    .dataframe tbody tr th {\n",
       "        vertical-align: top;\n",
       "    }\n",
       "\n",
       "    .dataframe thead th {\n",
       "        text-align: right;\n",
       "    }\n",
       "</style>\n",
       "<table border=\"1\" class=\"dataframe\">\n",
       "  <thead>\n",
       "    <tr style=\"text-align: right;\">\n",
       "      <th></th>\n",
       "      <th>Review</th>\n",
       "      <th>Rating</th>\n",
       "      <th>Sentiment</th>\n",
       "    </tr>\n",
       "  </thead>\n",
       "  <tbody>\n",
       "    <tr>\n",
       "      <th>0</th>\n",
       "      <td>Great music service the audio is high quality and the app is easy to use Also very quick and friendly support</td>\n",
       "      <td>5</td>\n",
       "      <td>1</td>\n",
       "    </tr>\n",
       "    <tr>\n",
       "      <th>1</th>\n",
       "      <td>Please ignore previous negative rating This app is super great I give it five stars</td>\n",
       "      <td>5</td>\n",
       "      <td>1</td>\n",
       "    </tr>\n",
       "    <tr>\n",
       "      <th>2</th>\n",
       "      <td>This popup Get the best Spotify experience on Android number is too annoying Please let us get rid of this</td>\n",
       "      <td>4</td>\n",
       "      <td>1</td>\n",
       "    </tr>\n",
       "    <tr>\n",
       "      <th>3</th>\n",
       "      <td>Really buggy and terrible to use as of recently</td>\n",
       "      <td>1</td>\n",
       "      <td>0</td>\n",
       "    </tr>\n",
       "    <tr>\n",
       "      <th>4</th>\n",
       "      <td>Dear Spotify why do I get songs that I did not put on my playlist And why do we have shuffle play</td>\n",
       "      <td>1</td>\n",
       "      <td>0</td>\n",
       "    </tr>\n",
       "    <tr>\n",
       "      <th>5</th>\n",
       "      <td>The player controls sometimes disappear for no reason App restart forgets what I was playing but fixes the issue</td>\n",
       "      <td>3</td>\n",
       "      <td>0</td>\n",
       "    </tr>\n",
       "    <tr>\n",
       "      <th>6</th>\n",
       "      <td>I love the selection and the lyrics are provided with the song you are listening to</td>\n",
       "      <td>5</td>\n",
       "      <td>1</td>\n",
       "    </tr>\n",
       "    <tr>\n",
       "      <th>7</th>\n",
       "      <td>Still extremely slow when changing storage to external sd card I am convinced this is done on purpose spotify knows of this issue and has done NOT...</td>\n",
       "      <td>3</td>\n",
       "      <td>0</td>\n",
       "    </tr>\n",
       "    <tr>\n",
       "      <th>8</th>\n",
       "      <td>It is a great app and the best mpnumber music app I have ever used but there is one problem that why cannot we play some songs or find some songs ...</td>\n",
       "      <td>5</td>\n",
       "      <td>1</td>\n",
       "    </tr>\n",
       "    <tr>\n",
       "      <th>9</th>\n",
       "      <td>I am deleting this app for the following reasons This app now has a failing business model Whether streaming services like it or not the consumer ...</td>\n",
       "      <td>1</td>\n",
       "      <td>0</td>\n",
       "    </tr>\n",
       "  </tbody>\n",
       "</table>\n",
       "</div>"
      ],
      "text/plain": [
       "                                                                                                                                                  Review  \\\n",
       "0                                          Great music service the audio is high quality and the app is easy to use Also very quick and friendly support   \n",
       "1                                                                    Please ignore previous negative rating This app is super great I give it five stars   \n",
       "2                                             This popup Get the best Spotify experience on Android number is too annoying Please let us get rid of this   \n",
       "3                                                                                                        Really buggy and terrible to use as of recently   \n",
       "4                                                      Dear Spotify why do I get songs that I did not put on my playlist And why do we have shuffle play   \n",
       "5                                       The player controls sometimes disappear for no reason App restart forgets what I was playing but fixes the issue   \n",
       "6                                                                    I love the selection and the lyrics are provided with the song you are listening to   \n",
       "7  Still extremely slow when changing storage to external sd card I am convinced this is done on purpose spotify knows of this issue and has done NOT...   \n",
       "8  It is a great app and the best mpnumber music app I have ever used but there is one problem that why cannot we play some songs or find some songs ...   \n",
       "9  I am deleting this app for the following reasons This app now has a failing business model Whether streaming services like it or not the consumer ...   \n",
       "\n",
       "   Rating  Sentiment  \n",
       "0       5          1  \n",
       "1       5          1  \n",
       "2       4          1  \n",
       "3       1          0  \n",
       "4       1          0  \n",
       "5       3          0  \n",
       "6       5          1  \n",
       "7       3          0  \n",
       "8       5          1  \n",
       "9       1          0  "
      ]
     },
     "execution_count": 38,
     "metadata": {},
     "output_type": "execute_result"
    }
   ],
   "source": [
    "data.head(10)\n"
   ]
  },
  {
   "cell_type": "markdown",
   "metadata": {},
   "source": [
    "### Create features and target and split into training, development and test set\n"
   ]
  },
  {
   "cell_type": "code",
   "execution_count": 39,
   "metadata": {},
   "outputs": [
    {
     "name": "stdout",
     "output_type": "stream",
     "text": [
      "Shape of X and y:  (61346,) (61346,)\n"
     ]
    }
   ],
   "source": [
    "X, y = data[\"Review\"], data[\"Sentiment\"]\n",
    "print(\"Shape of X and y: \", X.shape, y.shape)\n"
   ]
  },
  {
   "cell_type": "code",
   "execution_count": 40,
   "metadata": {},
   "outputs": [
    {
     "name": "stdout",
     "output_type": "stream",
     "text": [
      "(49076,) (12270,) (49076,) (12270,)\n"
     ]
    }
   ],
   "source": [
    "X_train, X_test, y_train, y_test = train_test_split(\n",
    "    X, y, test_size=0.2, stratify=y, random_state=42)\n",
    "print(X_train.shape, X_test.shape, y_train.shape, y_test.shape)\n"
   ]
  },
  {
   "cell_type": "markdown",
   "metadata": {},
   "source": [
    "Roughly foloowing this https://www.section.io/engineering-education/classification-model-using-bert-and-tensorflow/\n"
   ]
  },
  {
   "cell_type": "code",
   "execution_count": 41,
   "metadata": {},
   "outputs": [],
   "source": [
    "# Get Bert Preprocessor and Encoder\n",
    "bert_preprocess = hub.KerasLayer(\n",
    "    \"https://tfhub.dev/tensorflow/bert_en_uncased_preprocess/3\")\n",
    "bert_encoder = hub.KerasLayer(\n",
    "    \"https://tfhub.dev/tensorflow/bert_en_uncased_L-12_H-768_A-12/4\")\n"
   ]
  },
  {
   "cell_type": "code",
   "execution_count": 42,
   "metadata": {},
   "outputs": [],
   "source": [
    "# creating an input layer using tf.keras.layers.Input method.\n",
    "# We will use the preprocessed_text as input for this layer.\n",
    "\n",
    "text_input = tf.keras.layers.Input(shape=(), dtype=tf.string, name='text')\n",
    "preprocessed_text = bert_preprocess(text_input)\n",
    "outputs = bert_encoder(preprocessed_text)\n"
   ]
  },
  {
   "cell_type": "code",
   "execution_count": 43,
   "metadata": {},
   "outputs": [],
   "source": [
    "# Initializing the neural network layers\n",
    "l = tf.keras.layers.Dropout(0.1, name=\"dropout\")(outputs['pooled_output'])\n",
    "l = tf.keras.layers.Dense(1, activation='sigmoid', name=\"output\")(l)\n"
   ]
  },
  {
   "cell_type": "code",
   "execution_count": 44,
   "metadata": {},
   "outputs": [],
   "source": [
    "# add the input and output layers to construct the final model\n",
    "model = tf.keras.Model(inputs=[text_input], outputs=[l])\n"
   ]
  },
  {
   "cell_type": "code",
   "execution_count": 45,
   "metadata": {},
   "outputs": [
    {
     "name": "stdout",
     "output_type": "stream",
     "text": [
      "Model: \"model_1\"\n",
      "__________________________________________________________________________________________________\n",
      " Layer (type)                   Output Shape         Param #     Connected to                     \n",
      "==================================================================================================\n",
      " text (InputLayer)              [(None,)]            0           []                               \n",
      "                                                                                                  \n",
      " keras_layer_2 (KerasLayer)     {'input_word_ids':   0           ['text[0][0]']                   \n",
      "                                (None, 128),                                                      \n",
      "                                 'input_mask': (Non                                               \n",
      "                                e, 128),                                                          \n",
      "                                 'input_type_ids':                                                \n",
      "                                (None, 128)}                                                      \n",
      "                                                                                                  \n",
      " keras_layer_3 (KerasLayer)     {'pooled_output': (  109482241   ['keras_layer_2[0][0]',          \n",
      "                                None, 768),                       'keras_layer_2[0][1]',          \n",
      "                                 'encoder_outputs':               'keras_layer_2[0][2]']          \n",
      "                                 [(None, 128, 768),                                               \n",
      "                                 (None, 128, 768),                                                \n",
      "                                 (None, 128, 768),                                                \n",
      "                                 (None, 128, 768),                                                \n",
      "                                 (None, 128, 768),                                                \n",
      "                                 (None, 128, 768),                                                \n",
      "                                 (None, 128, 768),                                                \n",
      "                                 (None, 128, 768),                                                \n",
      "                                 (None, 128, 768),                                                \n",
      "                                 (None, 128, 768),                                                \n",
      "                                 (None, 128, 768),                                                \n",
      "                                 (None, 128, 768)],                                               \n",
      "                                 'default': (None,                                                \n",
      "                                768),                                                             \n",
      "                                 'sequence_output':                                               \n",
      "                                 (None, 128, 768)}                                                \n",
      "                                                                                                  \n",
      " dropout (Dropout)              (None, 768)          0           ['keras_layer_3[0][13]']         \n",
      "                                                                                                  \n",
      " output (Dense)                 (None, 1)            769         ['dropout[0][0]']                \n",
      "                                                                                                  \n",
      "==================================================================================================\n",
      "Total params: 109,483,010\n",
      "Trainable params: 769\n",
      "Non-trainable params: 109,482,241\n",
      "__________________________________________________________________________________________________\n"
     ]
    }
   ],
   "source": [
    "model.summary()\n"
   ]
  },
  {
   "cell_type": "code",
   "execution_count": 46,
   "metadata": {},
   "outputs": [],
   "source": [
    "METRICS = [\n",
    "    tf.keras.metrics.BinaryAccuracy(name='accuracy'),\n",
    "    tf.keras.metrics.Precision(name='precision'),\n",
    "    tf.keras.metrics.Recall(name='recall')\n",
    "]\n",
    "\n",
    "model.compile(optimizer='adam',\n",
    "              loss='binary_crossentropy',\n",
    "              metrics=METRICS)\n"
   ]
  },
  {
   "cell_type": "code",
   "execution_count": 95,
   "metadata": {},
   "outputs": [
    {
     "name": "stdout",
     "output_type": "stream",
     "text": [
      "GUP:  [PhysicalDevice(name='/physical_device:GPU:0', device_type='GPU')]\n",
      "Num GPUs Available:  1\n"
     ]
    }
   ],
   "source": [
    "print(\"GUP: \", tf.config.list_physical_devices('GPU'))\n",
    "print(\"Num GPUs Available: \", len(tf.config.list_physical_devices('GPU')))\n"
   ]
  },
  {
   "cell_type": "markdown",
   "metadata": {},
   "source": [
    "With CPU, it's about 1hr 20 mins per epoch,\n",
    "with GPU it's about 15 mins\n"
   ]
  },
  {
   "cell_type": "code",
   "execution_count": 49,
   "metadata": {},
   "outputs": [],
   "source": [
    "early_stopping = tf.keras.callbacks.EarlyStopping(monitor='val_accuracy',\n",
    "                                                  mode='auto',\n",
    "                                                  patience=5,\n",
    "                                                  restore_best_weights=True)\n"
   ]
  },
  {
   "cell_type": "code",
   "execution_count": 52,
   "metadata": {},
   "outputs": [
    {
     "name": "stdout",
     "output_type": "stream",
     "text": [
      "Epoch 1/20\n",
      "384/384 [==============================] - 1222s 3s/step - loss: 0.4266 - accuracy: 0.8179 - precision: 0.8270 - recall: 0.7898 - val_loss: 0.4062 - val_accuracy: 0.8328 - val_precision: 0.8568 - val_recall: 0.7868\n",
      "Epoch 2/20\n",
      "384/384 [==============================] - 1169s 3s/step - loss: 0.4202 - accuracy: 0.8197 - precision: 0.8273 - recall: 0.7942 - val_loss: 0.4005 - val_accuracy: 0.8345 - val_precision: 0.8538 - val_recall: 0.7949\n",
      "Epoch 3/20\n",
      "384/384 [==============================] - 1167s 3s/step - loss: 0.4184 - accuracy: 0.8217 - precision: 0.8293 - recall: 0.7965 - val_loss: 0.3972 - val_accuracy: 0.8358 - val_precision: 0.8553 - val_recall: 0.7962\n",
      "Epoch 4/20\n",
      "384/384 [==============================] - 1175s 3s/step - loss: 0.4143 - accuracy: 0.8226 - precision: 0.8305 - recall: 0.7971 - val_loss: 0.4049 - val_accuracy: 0.8320 - val_precision: 0.8923 - val_recall: 0.7434\n",
      "Epoch 5/20\n",
      "384/384 [==============================] - 1152s 3s/step - loss: 0.4154 - accuracy: 0.8226 - precision: 0.8296 - recall: 0.7981 - val_loss: 0.4072 - val_accuracy: 0.8319 - val_precision: 0.9007 - val_recall: 0.7344\n",
      "Epoch 6/20\n",
      "384/384 [==============================] - 1165s 3s/step - loss: 0.4110 - accuracy: 0.8249 - precision: 0.8324 - recall: 0.8002 - val_loss: 0.3904 - val_accuracy: 0.8355 - val_precision: 0.8391 - val_recall: 0.8175\n",
      "Epoch 7/20\n",
      "384/384 [==============================] - 1150s 3s/step - loss: 0.4094 - accuracy: 0.8248 - precision: 0.8332 - recall: 0.7987 - val_loss: 0.3883 - val_accuracy: 0.8391 - val_precision: 0.8636 - val_recall: 0.7937\n",
      "Epoch 8/20\n",
      "384/384 [==============================] - 1141s 3s/step - loss: 0.4089 - accuracy: 0.8260 - precision: 0.8341 - recall: 0.8004 - val_loss: 0.3868 - val_accuracy: 0.8384 - val_precision: 0.8557 - val_recall: 0.8021\n",
      "Epoch 9/20\n",
      "384/384 [==============================] - 1144s 3s/step - loss: 0.4088 - accuracy: 0.8247 - precision: 0.8329 - recall: 0.7989 - val_loss: 0.3863 - val_accuracy: 0.8388 - val_precision: 0.8575 - val_recall: 0.8007\n",
      "Epoch 10/20\n",
      "384/384 [==============================] - 1156s 3s/step - loss: 0.4084 - accuracy: 0.8252 - precision: 0.8319 - recall: 0.8016 - val_loss: 0.3847 - val_accuracy: 0.8403 - val_precision: 0.8633 - val_recall: 0.7969\n",
      "Epoch 11/20\n",
      "384/384 [==============================] - 1162s 3s/step - loss: 0.4087 - accuracy: 0.8259 - precision: 0.8355 - recall: 0.7983 - val_loss: 0.3843 - val_accuracy: 0.8380 - val_precision: 0.8410 - val_recall: 0.8212\n",
      "Epoch 12/20\n",
      "384/384 [==============================] - 1163s 3s/step - loss: 0.4082 - accuracy: 0.8249 - precision: 0.8325 - recall: 0.8001 - val_loss: 0.3827 - val_accuracy: 0.8407 - val_precision: 0.8606 - val_recall: 0.8016\n",
      "Epoch 13/20\n",
      "384/384 [==============================] - 4084s 11s/step - loss: 0.4069 - accuracy: 0.8266 - precision: 0.8338 - recall: 0.8026 - val_loss: 0.3836 - val_accuracy: 0.8407 - val_precision: 0.8739 - val_recall: 0.7848\n",
      "Epoch 14/20\n",
      "384/384 [==============================] - 1150s 3s/step - loss: 0.4061 - accuracy: 0.8257 - precision: 0.8339 - recall: 0.8001 - val_loss: 0.3814 - val_accuracy: 0.8423 - val_precision: 0.8651 - val_recall: 0.7996\n",
      "Epoch 15/20\n",
      "384/384 [==============================] - 1160s 3s/step - loss: 0.4057 - accuracy: 0.8261 - precision: 0.8345 - recall: 0.8002 - val_loss: 0.3854 - val_accuracy: 0.8397 - val_precision: 0.8830 - val_recall: 0.7718\n",
      "Epoch 16/20\n",
      "384/384 [==============================] - 1133s 3s/step - loss: 0.4053 - accuracy: 0.8269 - precision: 0.8345 - recall: 0.8023 - val_loss: 0.3829 - val_accuracy: 0.8358 - val_precision: 0.8312 - val_recall: 0.8300\n",
      "Epoch 17/20\n",
      "384/384 [==============================] - 1114s 3s/step - loss: 0.4039 - accuracy: 0.8273 - precision: 0.8358 - recall: 0.8016 - val_loss: 0.3794 - val_accuracy: 0.8425 - val_precision: 0.8587 - val_recall: 0.8085\n",
      "Epoch 18/20\n",
      "384/384 [==============================] - 1131s 3s/step - loss: 0.4049 - accuracy: 0.8288 - precision: 0.8375 - recall: 0.8029 - val_loss: 0.3793 - val_accuracy: 0.8424 - val_precision: 0.8650 - val_recall: 0.7999\n",
      "Epoch 19/20\n",
      "384/384 [==============================] - 1235s 3s/step - loss: 0.4018 - accuracy: 0.8290 - precision: 0.8367 - recall: 0.8045 - val_loss: 0.3790 - val_accuracy: 0.8433 - val_precision: 0.8630 - val_recall: 0.8046\n",
      "Epoch 20/20\n",
      "384/384 [==============================] - 1366s 4s/step - loss: 0.4038 - accuracy: 0.8290 - precision: 0.8370 - recall: 0.8041 - val_loss: 0.3801 - val_accuracy: 0.8420 - val_precision: 0.8747 - val_recall: 0.7870\n"
     ]
    }
   ],
   "source": [
    "epochs = 20\n",
    "hist = model.fit(X_train, y_train, batch_size=128, epochs=epochs,\n",
    "                 validation_data=(X_test, y_test),\n",
    "                 callbacks=[early_stopping])\n"
   ]
  },
  {
   "cell_type": "code",
   "execution_count": 56,
   "metadata": {},
   "outputs": [
    {
     "name": "stdout",
     "output_type": "stream",
     "text": [
      "384/384 [==============================] - 181s 470ms/step\n"
     ]
    }
   ],
   "source": [
    "y_pred = model.predict(X_test)\n",
    "y_pred = y_pred.flatten()\n"
   ]
  },
  {
   "cell_type": "code",
   "execution_count": 58,
   "metadata": {},
   "outputs": [
    {
     "data": {
      "text/plain": [
       "array(['positive', 'negative', 'positive', ..., 'negative', 'negative',\n",
       "       'negative'], dtype='<U8')"
      ]
     },
     "execution_count": 58,
     "metadata": {},
     "output_type": "execute_result"
    }
   ],
   "source": [
    "y_pred = np.where(y_pred > 0.5, \"positive\", \"negative\")\n",
    "y_pred\n"
   ]
  },
  {
   "cell_type": "code",
   "execution_count": 57,
   "metadata": {},
   "outputs": [
    {
     "name": "stdout",
     "output_type": "stream",
     "text": [
      "Evaluate on test data\n",
      "96/96 [==============================] - 295s 3s/step - loss: 0.3801 - accuracy: 0.8420 - precision: 0.8747 - recall: 0.7870\n",
      "test loss, test acc: [0.38014230132102966, 0.841972291469574, 0.8746965527534485, 0.7869623899459839]\n"
     ]
    }
   ],
   "source": [
    "# Evaluate the model on the test data using `evaluate`\n",
    "print(\"Evaluate on test data\")\n",
    "results = model.evaluate(X_test, y_test, batch_size=128)\n",
    "print(\"test loss, test acc:\", results)\n"
   ]
  },
  {
   "cell_type": "code",
   "execution_count": 101,
   "metadata": {},
   "outputs": [
    {
     "name": "stderr",
     "output_type": "stream",
     "text": [
      "WARNING:absl:Found untraced functions such as restored_function_body, restored_function_body, restored_function_body, restored_function_body, restored_function_body while saving (showing 5 of 366). These functions will not be directly callable after loading.\n"
     ]
    },
    {
     "name": "stdout",
     "output_type": "stream",
     "text": [
      "INFO:tensorflow:Assets written to: ../models/bert_model\\assets\n"
     ]
    },
    {
     "name": "stderr",
     "output_type": "stream",
     "text": [
      "INFO:tensorflow:Assets written to: ../models/bert_model\\assets\n"
     ]
    }
   ],
   "source": [
    "# Save the entire model as a SavedModel.\n",
    "!mkdir -p saved_model\n",
    "model.save('../models/bert_model')"
   ]
  },
  {
   "cell_type": "code",
   "execution_count": 96,
   "metadata": {},
   "outputs": [],
   "source": [
    "def make_prediction(classifier, text):\n",
    "    text = clean_text(text)\n",
    "    prediction = classifier.predict([text])[0][0]\n",
    "    print(\"This review is:\", np.where(prediction > 0.5, \"positive\", \"negative\"))\n"
   ]
  },
  {
   "cell_type": "code",
   "execution_count": 100,
   "metadata": {},
   "outputs": [
    {
     "name": "stdout",
     "output_type": "stream",
     "text": [
      "1/1 [==============================] - 0s 104ms/step\n",
      "This review is: positive\n"
     ]
    }
   ],
   "source": [
    "review = \"I ❤️ Spotify, even though it sucks\"\n",
    "\n",
    "make_prediction(model, review)\n"
   ]
  },
  {
   "cell_type": "code",
   "execution_count": 98,
   "metadata": {},
   "outputs": [
    {
     "name": "stdout",
     "output_type": "stream",
     "text": [
      "1/1 [==============================] - 0s 91ms/step\n",
      "This review is: negative\n"
     ]
    }
   ],
   "source": [
    "review = \"I don't like Spotify, can not recommend, poor recommendations\"\n",
    "\n",
    "make_prediction(model, review)\n"
   ]
  }
 ],
 "metadata": {
  "kernelspec": {
   "display_name": "Python 3.9.13 ('base')",
   "language": "python",
   "name": "python3"
  },
  "language_info": {
   "codemirror_mode": {
    "name": "ipython",
    "version": 3
   },
   "file_extension": ".py",
   "mimetype": "text/x-python",
   "name": "python",
   "nbconvert_exporter": "python",
   "pygments_lexer": "ipython3",
   "version": "3.9.13"
  },
  "orig_nbformat": 4,
  "vscode": {
   "interpreter": {
    "hash": "3930f07490fd39c3a597f9f425c3c8440ff939a5a15967ff0b3ba4b86349dc9d"
   }
  }
 },
 "nbformat": 4,
 "nbformat_minor": 2
}

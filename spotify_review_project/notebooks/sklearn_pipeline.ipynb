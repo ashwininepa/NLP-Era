{
 "cells": [
  {
   "cell_type": "markdown",
   "metadata": {},
   "source": [
    "## Scikit Learn pipeline"
   ]
  },
  {
   "cell_type": "code",
   "execution_count": 56,
   "metadata": {},
   "outputs": [],
   "source": [
    "## Setting to ignore warnings\n",
    "import warnings\n",
    "warnings.filterwarnings(\"ignore\")"
   ]
  },
  {
   "cell_type": "code",
   "execution_count": 57,
   "metadata": {},
   "outputs": [],
   "source": [
    "## Imports\n",
    "## General utils\n",
    "import pandas as pd\n",
    "import numpy as np\n",
    "import seaborn as sns\n",
    "\n",
    "## Transformers\n",
    "from sklearn.feature_extraction.text import CountVectorizer\n",
    "from sklearn.feature_extraction.text import TfidfTransformer\n",
    "## Classifiers\n",
    "from sklearn.linear_model import SGDClassifier\n",
    "from sklearn.ensemble import RandomForestClassifier\n",
    "from sklearn.naive_bayes import MultinomialNB\n",
    "from sklearn.svm import SVC\n",
    "from sklearn.linear_model import LogisticRegression\n",
    "## Model selection and Pipeline utils\n",
    "from sklearn.model_selection import GridSearchCV\n",
    "from sklearn.pipeline import Pipeline\n",
    "from sklearn.model_selection import train_test_split\n",
    "from sklearn.metrics import confusion_matrix, classification_report, plot_confusion_matrix\n",
    "from sklearn.base import BaseEstimator, TransformerMixin\n",
    "\n",
    "\n",
    "## Text processing libraries\n",
    "import re\n",
    "from nltk.corpus import stopwords\n",
    "import emoji\n",
    "import contractions ## from here: https://github.com/kootenpv/contractions\n",
    "from textblob import TextBlob\n",
    "import string\n",
    "\n",
    "import spacy\n",
    "\n",
    "from pprint import pprint\n",
    "from time import time\n",
    "import logging"
   ]
  },
  {
   "cell_type": "markdown",
   "metadata": {},
   "source": [
    "### Read Data\n",
    "1. Drop duplicate reviews\n",
    "2. Drop unused columns\n",
    "3. Create column for review length\n",
    "4. Drop unusually long reviews"
   ]
  },
  {
   "cell_type": "code",
   "execution_count": 58,
   "metadata": {},
   "outputs": [],
   "source": [
    "## Read data and copy\n",
    "spotify = pd.read_csv(\"../data/raw/spotify_review_kaggle.csv\")\n",
    "data_in = spotify.copy()\n",
    "data_in = data_in.drop_duplicates(subset=\"Review\")\n",
    "data_in.drop([\"Time_submitted\", \"Total_thumbsup\", \"Reply\"], axis=1, inplace=True)\n",
    "data_in[\"Length\"] = data_in[\"Review\"].str.split(\" \").str.len()\n",
    "data_in = data_in[data_in.Length < 150]\n",
    "data = data_in"
   ]
  },
  {
   "cell_type": "markdown",
   "metadata": {},
   "source": [
    "### Code Sentiment\n",
    "* Ratings 1, 2 and 3 as _negative_\n",
    "* Ratings 4 and 5 as _positive_"
   ]
  },
  {
   "cell_type": "code",
   "execution_count": 59,
   "metadata": {},
   "outputs": [],
   "source": [
    "## Code sentiment from rating (1 or 2 == bad, 3 == neutral, 4 or 5 == good)\n",
    "def get_sentiment(rating):\n",
    "    if rating == 1 or rating == 2 or rating == 3:\n",
    "        return \"negative\"\n",
    "    # if rating == 3:\n",
    "    #     return \"neutral\"\n",
    "    if rating == 4 or rating == 5:\n",
    "        return \"positive\"\n",
    "\n",
    "data[\"Sentiment\"] = data[\"Rating\"].apply(get_sentiment)\n"
   ]
  },
  {
   "cell_type": "code",
   "execution_count": 60,
   "metadata": {},
   "outputs": [
    {
     "data": {
      "image/png": "[encoded data removed]",
      "text/plain": [
       "<Figure size 500x500 with 1 Axes>"
      ]
     },
     "metadata": {},
     "output_type": "display_data"
    }
   ],
   "source": [
    "## Plot sentiment distribution\n",
    "ax = sns.displot(data=data, x='Sentiment', stat='percent');"
   ]
  },
  {
   "cell_type": "markdown",
   "metadata": {},
   "source": [
    "### Define Stopwords\n",
    "Here we grab the NLTK stopwords but want to keep \"not\" "
   ]
  },
  {
   "cell_type": "code",
   "execution_count": 61,
   "metadata": {},
   "outputs": [],
   "source": [
    "our_stop_words = set(stopwords.words('english'))\n",
    "our_stop_words.remove(\"not\")"
   ]
  },
  {
   "cell_type": "markdown",
   "metadata": {},
   "source": [
    "### Translate emojis to text\n",
    "We use this function here to translate emojis to text. We will need this function later on to include in our prediction pipeline, so that new data will be transformed in the same way."
   ]
  },
  {
   "cell_type": "code",
   "execution_count": 62,
   "metadata": {},
   "outputs": [],
   "source": [
    "## define a function to translate emojis text\n",
    "def translate_emoji(sentence):\n",
    "  return emoji.demojize(sentence)"
   ]
  },
  {
   "cell_type": "code",
   "execution_count": 63,
   "metadata": {},
   "outputs": [],
   "source": [
    "data[\"Review\"] = data[\"Review\"].apply(translate_emoji)"
   ]
  },
  {
   "cell_type": "markdown",
   "metadata": {},
   "source": [
    "### Translate contractions"
   ]
  },
  {
   "cell_type": "markdown",
   "metadata": {},
   "source": [
    "Change contractions like _I'm_, _they're_ etc. to _I am_, _they are_ etc. We'll use this again later in our prediction pipeline."
   ]
  },
  {
   "cell_type": "code",
   "execution_count": 64,
   "metadata": {},
   "outputs": [],
   "source": [
    "def translate_contractions(sentence):\n",
    "    return contractions.fix(sentence)"
   ]
  },
  {
   "cell_type": "code",
   "execution_count": 65,
   "metadata": {},
   "outputs": [],
   "source": [
    "data[\"Review\"] = data[\"Review\"].apply(translate_contractions)"
   ]
  },
  {
   "cell_type": "markdown",
   "metadata": {},
   "source": [
    "### Remove strange fonts\n",
    "There are some strange unreadable fonts like 𝚝𝚑𝚒𝚜 in the reviews. Here we remove them. Again, we'll use this function later in our make_prediction function."
   ]
  },
  {
   "cell_type": "code",
   "execution_count": 66,
   "metadata": {},
   "outputs": [],
   "source": [
    "def remove_strange_fonts(sentence):\n",
    "    return re.sub(r'[^\\x00-\\x7f]', r'', sentence)\n",
    "\n",
    "\n",
    "data['Review'] = data['Review'].apply(lambda sentence: list(map(remove_strange_fonts, sentence)))\n",
    "data[\"Review\"] = data[\"Review\"].apply(lambda sentence: \"\".join(sentence))"
   ]
  },
  {
   "cell_type": "code",
   "execution_count": 67,
   "metadata": {},
   "outputs": [
    {
     "data": {
      "text/html": [
       "<div>\n",
       "<style scoped>\n",
       "    .dataframe tbody tr th:only-of-type {\n",
       "        vertical-align: middle;\n",
       "    }\n",
       "\n",
       "    .dataframe tbody tr th {\n",
       "        vertical-align: top;\n",
       "    }\n",
       "\n",
       "    .dataframe thead th {\n",
       "        text-align: right;\n",
       "    }\n",
       "</style>\n",
       "<table border=\"1\" class=\"dataframe\">\n",
       "  <thead>\n",
       "    <tr style=\"text-align: right;\">\n",
       "      <th></th>\n",
       "      <th>Review</th>\n",
       "      <th>Rating</th>\n",
       "      <th>Length</th>\n",
       "      <th>Sentiment</th>\n",
       "    </tr>\n",
       "  </thead>\n",
       "  <tbody>\n",
       "    <tr>\n",
       "      <th>0</th>\n",
       "      <td>Great music service, the audio is high quality...</td>\n",
       "      <td>5</td>\n",
       "      <td>21</td>\n",
       "      <td>positive</td>\n",
       "    </tr>\n",
       "    <tr>\n",
       "      <th>1</th>\n",
       "      <td>Please ignore previous negative rating. This a...</td>\n",
       "      <td>5</td>\n",
       "      <td>15</td>\n",
       "      <td>positive</td>\n",
       "    </tr>\n",
       "    <tr>\n",
       "      <th>2</th>\n",
       "      <td>This pop-up \"Get the best Spotify experience o...</td>\n",
       "      <td>4</td>\n",
       "      <td>19</td>\n",
       "      <td>positive</td>\n",
       "    </tr>\n",
       "    <tr>\n",
       "      <th>3</th>\n",
       "      <td>Really buggy and terrible to use as of recently</td>\n",
       "      <td>1</td>\n",
       "      <td>9</td>\n",
       "      <td>negative</td>\n",
       "    </tr>\n",
       "    <tr>\n",
       "      <th>4</th>\n",
       "      <td>Dear Spotify why do I get songs that I did not...</td>\n",
       "      <td>1</td>\n",
       "      <td>21</td>\n",
       "      <td>negative</td>\n",
       "    </tr>\n",
       "    <tr>\n",
       "      <th>5</th>\n",
       "      <td>The player controls sometimes disappear for no...</td>\n",
       "      <td>3</td>\n",
       "      <td>19</td>\n",
       "      <td>negative</td>\n",
       "    </tr>\n",
       "    <tr>\n",
       "      <th>6</th>\n",
       "      <td>I love the selection and the lyrics are provid...</td>\n",
       "      <td>5</td>\n",
       "      <td>15</td>\n",
       "      <td>positive</td>\n",
       "    </tr>\n",
       "    <tr>\n",
       "      <th>7</th>\n",
       "      <td>Still extremely slow when changing storage to ...</td>\n",
       "      <td>3</td>\n",
       "      <td>62</td>\n",
       "      <td>negative</td>\n",
       "    </tr>\n",
       "    <tr>\n",
       "      <th>8</th>\n",
       "      <td>It is a great app and the best mp3 music app I...</td>\n",
       "      <td>5</td>\n",
       "      <td>43</td>\n",
       "      <td>positive</td>\n",
       "    </tr>\n",
       "    <tr>\n",
       "      <th>9</th>\n",
       "      <td>I am deleting this app, for the following reas...</td>\n",
       "      <td>1</td>\n",
       "      <td>80</td>\n",
       "      <td>negative</td>\n",
       "    </tr>\n",
       "  </tbody>\n",
       "</table>\n",
       "</div>"
      ],
      "text/plain": [
       "                                              Review  Rating  Length Sentiment\n",
       "0  Great music service, the audio is high quality...       5      21  positive\n",
       "1  Please ignore previous negative rating. This a...       5      15  positive\n",
       "2  This pop-up \"Get the best Spotify experience o...       4      19  positive\n",
       "3    Really buggy and terrible to use as of recently       1       9  negative\n",
       "4  Dear Spotify why do I get songs that I did not...       1      21  negative\n",
       "5  The player controls sometimes disappear for no...       3      19  negative\n",
       "6  I love the selection and the lyrics are provid...       5      15  positive\n",
       "7  Still extremely slow when changing storage to ...       3      62  negative\n",
       "8  It is a great app and the best mp3 music app I...       5      43  positive\n",
       "9  I am deleting this app, for the following reas...       1      80  negative"
      ]
     },
     "execution_count": 67,
     "metadata": {},
     "output_type": "execute_result"
    }
   ],
   "source": [
    "data.head(10)"
   ]
  },
  {
   "cell_type": "markdown",
   "metadata": {},
   "source": [
    "### Create features and target and split into training, development and test set"
   ]
  },
  {
   "cell_type": "code",
   "execution_count": 12,
   "metadata": {},
   "outputs": [
    {
     "name": "stdout",
     "output_type": "stream",
     "text": [
      "Shape of X and y:  (61346,) (61346,)\n"
     ]
    }
   ],
   "source": [
    "X, y = data[\"Review\"], data[\"Sentiment\"]\n",
    "print(\"Shape of X and y: \", X.shape, y.shape)"
   ]
  },
  {
   "cell_type": "code",
   "execution_count": 13,
   "metadata": {},
   "outputs": [
    {
     "name": "stdout",
     "output_type": "stream",
     "text": [
      "(36807,) (24539,) (36807,) (24539,)\n"
     ]
    }
   ],
   "source": [
    "X_train, X_test, y_train, y_test = train_test_split(X, y, test_size=0.4, stratify = y, random_state=42)\n",
    "print(X_train.shape, X_test.shape, y_train.shape, y_test.shape)"
   ]
  },
  {
   "cell_type": "code",
   "execution_count": 14,
   "metadata": {},
   "outputs": [
    {
     "name": "stdout",
     "output_type": "stream",
     "text": [
      "(12269,) (12270,) (12269,) (12270,)\n"
     ]
    }
   ],
   "source": [
    "X_dev, X_test, y_dev, y_test = train_test_split(X_test, y_test, test_size=0.5, stratify = y_test, random_state=42)\n",
    "print(X_dev.shape, X_test.shape, y_dev.shape, y_test.shape)"
   ]
  },
  {
   "cell_type": "markdown",
   "metadata": {},
   "source": [
    "### Create Pipeline for hyperparameter selection\n",
    "\n",
    "Here we define all the parameters we want to combine later on in our Grid Search to find the best combination and hence model."
   ]
  },
  {
   "cell_type": "code",
   "execution_count": 53,
   "metadata": {},
   "outputs": [
    {
     "data": {
      "text/plain": [
       "pandas.core.series.Series"
      ]
     },
     "execution_count": 53,
     "metadata": {},
     "output_type": "execute_result"
    }
   ],
   "source": [
    "type(X_train)"
   ]
  },
  {
   "cell_type": "code",
   "execution_count": 15,
   "metadata": {},
   "outputs": [],
   "source": [
    "## define parameters for the pipelines\n",
    "\n",
    "## Parameters for Feature extraction\n",
    "transformer_parameters = {\n",
    "    'vect__max_features': (None, 5000, 10000),\n",
    "    \"vect__ngram_range\": ((1, 1), (1, 2), (1,3)),  # unigrams or bigrams\n",
    "    'tfidf__norm': ('l1','l2')\n",
    "}\n",
    "\n",
    "## Parameters for classifiers\n",
    "logistic_regression_parameters = {\n",
    "        'clf': (LogisticRegression(\n",
    "            fit_intercept=True,\n",
    "            class_weight=None,\n",
    "            max_iter=1000,\n",
    "            random_state=42),\n",
    "            ),\n",
    "        'clf__penalty': (\"none\",\"l1\",\"l2\",\"elasticnet\"),\n",
    "        'clf__C': (0.01, 0.1, 1, 10, 100),\n",
    "        \"clf__l1_ratio\": (0.01, 0.1,1)\n",
    "    }\n",
    "\n",
    "svc_parameters = {\n",
    "        'clf': (SVC(\n",
    "            probability=True,\n",
    "            tol=1e-3,\n",
    "            class_weight=None,\n",
    "            max_iter=1000,\n",
    "            random_state=42),\n",
    "            ),\n",
    "        'clf__kernel': (\"linear\",\"poly\",\"rbf\",\"sigmoid\"),\n",
    "        'clf__C': (0.001, 0.01, 0.1, 1, 10, 100),\n",
    "        \"clf__gamma\": (0.001, 0.01, 0.1, 1, 10, 100, \"scale\"),\n",
    "        \"clf__shrinking\": (True, False),\n",
    "        \"clf__decision_function_shape\": (\"ovr\", \"ovo\")\n",
    "    }\n",
    "\n",
    "rf_parameters = {\n",
    "        'clf': (RandomForestClassifier(\n",
    "            criterion=\"gini\",\n",
    "            min_samples_leaf=5,\n",
    "            oob_score=True,\n",
    "            class_weight=None,\n",
    "            random_state=42),\n",
    "            ),\n",
    "        'clf__n_estimators': (10, 100, 1000),\n",
    "        'clf__max_depth': (3, 5, 10, 50, 100, None),\n",
    "        #\"clf__min_samples_split\": (2, 5, 10),\n",
    "        #\"clf__max_features\": (\"sqrt\", \"log2\"),\n",
    "        #\"clf__bootstrap\": (True, False)\n",
    "    }"
   ]
  },
  {
   "cell_type": "code",
   "execution_count": 16,
   "metadata": {},
   "outputs": [],
   "source": [
    "## Combine the parameter sets; this will be the one we actually pass to the function\n",
    "logistic_parameters = [\n",
    "    transformer_parameters,\n",
    "    logistic_regression_parameters\n",
    "]\n",
    "\n",
    "svc_parameters = [\n",
    "    transformer_parameters,\n",
    "    svc_parameters\n",
    "]\n",
    "\n",
    "random_forest_parameters = [\n",
    "    transformer_parameters,\n",
    "    rf_parameters\n",
    "]"
   ]
  },
  {
   "cell_type": "markdown",
   "metadata": {},
   "source": [
    "In the cell below, a lot is happening. First, we create a list that contains all the parameter sets for the different classifiers, and a list that contains all the classifiers. In the loop, the zip function zips those two lists together, and passes the first parameter set and the first classifier to the pipeline and to GridSearchCV. The Grid Search then fits a model for every parameter combination (times the number of cross validation folds).\n",
    "\n",
    "Note 1: The loop stores only the last model.   \n",
    "Note 2: Parameter combinations can become legion very quickly. With only the parameters for logistic regression and the parameters for our count and tfidf vectorizer, it amounts to 78 combinations times 3 folds from CV, totalling 234 models that need to be fit."
   ]
  },
  {
   "cell_type": "code",
   "execution_count": 17,
   "metadata": {},
   "outputs": [
    {
     "name": "stdout",
     "output_type": "stream",
     "text": [
      "Fitting  LogisticRegression Classifier\n",
      "Performing grid search...\n",
      "pipeline: ['vect', 'tfidf', 'clf']\n",
      "parameters:\n",
      "[{'tfidf__norm': ('l1', 'l2'),\n",
      "  'vect__max_features': (None, 5000, 10000),\n",
      "  'vect__ngram_range': ((1, 1), (1, 2), (1, 3))},\n",
      " {'clf': (LogisticRegression(max_iter=1000, random_state=42),),\n",
      "  'clf__C': (0.01, 0.1, 1, 10, 100),\n",
      "  'clf__l1_ratio': (0.01, 0.1, 1),\n",
      "  'clf__penalty': ('none', 'l1', 'l2', 'elasticnet')}]\n",
      "Fitting 3 folds for each of 78 candidates, totalling 234 fits\n",
      "Best score: 0.875\n",
      "Best parameters set:\n",
      "\ttfidf__norm: 'l2'\n",
      "\tvect__max_features: 10000\n",
      "\tvect__ngram_range: (1, 2)\n",
      "\tclf: LogisticRegression()\n",
      "\tclf__C: 1.0\n",
      "\tclf__l1_ratio: None\n",
      "\tclf__penalty: 'l2'\n",
      "----------------------\n"
     ]
    }
   ],
   "source": [
    "## This takes a VERY long time to run\n",
    "#all_parameter_sets = [logistic_parameters, svc_parameters, rf_parameters]\n",
    "#classifiers = [LogisticRegression(), SVC(), RandomForestClassifier()]\n",
    "\n",
    "## \"Loop\" only through log regression, this takes about 2 minutes on a reasonable machine.\n",
    "all_parameter_sets = [logistic_parameters]\n",
    "classifiers = [LogisticRegression()]\n",
    "\n",
    "for parameter_sets, classifier in zip(all_parameter_sets, classifiers):\n",
    "    #define pipeline\n",
    "    pipeline = Pipeline(\n",
    "        [   \n",
    "            (\"vect\", CountVectorizer(stop_words=our_stop_words)),\n",
    "            (\"tfidf\", TfidfTransformer()),\n",
    "            (\"clf\", classifier)\n",
    "        ]\n",
    "    )\n",
    "    ## Perform grid search CV\n",
    "    print(\"Fitting \", str(classifier)[:-2]+\" Classifier\")\n",
    "    gs = GridSearchCV(pipeline, parameter_sets, n_jobs=-1, verbose=1, scoring=\"accuracy\", cv = 3) ## NOTE: -1 means all processors\n",
    "\n",
    "    print(\"Performing grid search...\")\n",
    "    print(\"pipeline:\", [name for name, _ in pipeline.steps])\n",
    "    print(\"parameters:\")\n",
    "    pprint(parameter_sets)\n",
    "\n",
    "    gs.fit(X_train, y_train)\n",
    "    \n",
    "    print(\"Best score: %0.3f\" % gs.best_score_)\n",
    "    print(\"Best parameters set:\")\n",
    "\n",
    "    best_parameters = gs.best_estimator_.get_params()\n",
    "\n",
    "    for parameter_set in parameter_sets:\n",
    "        for param_name in sorted(parameter_set.keys()):\n",
    "            print(\"\\t%s: %r\" % (param_name, best_parameters[param_name]))\n",
    "\n",
    "    print(\"----------------------\")"
   ]
  },
  {
   "cell_type": "markdown",
   "metadata": {},
   "source": [
    "We see that the best model with given parameter combination scored at 87.5%, which is pretty awesome; let's dig a bit deeper into the results."
   ]
  },
  {
   "cell_type": "markdown",
   "metadata": {},
   "source": [
    "### Investigate model scores"
   ]
  },
  {
   "cell_type": "code",
   "execution_count": 48,
   "metadata": {},
   "outputs": [],
   "source": [
    "our_classifier =  gs.best_estimator_\n",
    "y_pred = our_classifier.predict(X_dev)"
   ]
  },
  {
   "cell_type": "markdown",
   "metadata": {},
   "source": [
    "We see below that the model overfitted slightly. We also see, that the **cross validation** score (that is, the average accuracy score across three CV folds) is much closer to the score of the unseen dev set, showing the true power of CV: You can get a way better estimate of how your model will perform on unseen data -- and this with just one data set!"
   ]
  },
  {
   "cell_type": "code",
   "execution_count": 19,
   "metadata": {},
   "outputs": [
    {
     "name": "stdout",
     "output_type": "stream",
     "text": [
      "Accuracy on training set: 0.901\n",
      "Accuracy on development set: 0.876\n"
     ]
    }
   ],
   "source": [
    "print(\"Accuracy on training set: %0.3f\" % our_classifier.score(X_train, y_train))\n",
    "print(\"Accuracy on development set: %0.3f\" % our_classifier.score(X_dev, y_dev))"
   ]
  },
  {
   "cell_type": "markdown",
   "metadata": {},
   "source": [
    "Accuracy is a nice measure to start off with but can be far from optimal and even misleading, especially when dealing with class imbalance (if you have only 10% negative reviews then a classifier classifying everything as positive will be 90% accurate). But there's other ways to judge whether your model performed well or not.\n",
    "\n",
    "Here we see a __confusion matrix__, showing the counts of True/False Positive/Negative."
   ]
  },
  {
   "cell_type": "code",
   "execution_count": 37,
   "metadata": {},
   "outputs": [],
   "source": [
    "cf_matrix = confusion_matrix(y_dev, y_pred, labels=[\"positive\", \"negative\"])"
   ]
  },
  {
   "cell_type": "code",
   "execution_count": 44,
   "metadata": {},
   "outputs": [
    {
     "data": {
      "image/png": "[encoded data removed]",
      "text/plain": [
       "<Figure size 640x480 with 2 Axes>"
      ]
     },
     "metadata": {},
     "output_type": "display_data"
    }
   ],
   "source": [
    "plot_confusion_matrix(our_classifier, X_dev, y_dev);"
   ]
  },
  {
   "cell_type": "markdown",
   "metadata": {},
   "source": [
    "__Precision and Recall__, as well as their combination into an __F1 score__, are some of the most widely used metrics to judge a model's performance. See [here](https://www.researchgate.net/figure/Calculation-of-Precision-Recall-and-Accuracy-in-the-confusion-matrix_fig3_336402347) how they are calculated."
   ]
  },
  {
   "cell_type": "code",
   "execution_count": 49,
   "metadata": {},
   "outputs": [
    {
     "name": "stdout",
     "output_type": "stream",
     "text": [
      "              precision    recall  f1-score   support\n",
      "\n",
      "    negative       0.86      0.91      0.88      6317\n",
      "    positive       0.90      0.84      0.87      5952\n",
      "\n",
      "    accuracy                           0.88     12269\n",
      "   macro avg       0.88      0.87      0.88     12269\n",
      "weighted avg       0.88      0.88      0.88     12269\n",
      "\n"
     ]
    }
   ],
   "source": [
    "print(classification_report(y_dev, y_pred))"
   ]
  },
  {
   "cell_type": "markdown",
   "metadata": {},
   "source": [
    "This is a really nice accuracy score for predicting labels users have given. Let's move on to use the model to make predictions on unseen data."
   ]
  },
  {
   "cell_type": "markdown",
   "metadata": {},
   "source": [
    "### Make predictions"
   ]
  },
  {
   "cell_type": "markdown",
   "metadata": {},
   "source": [
    "Here we define a function that runs through our pipeline: It translates emojis into readable strings, translate contractions, and removes strange fonts. Onyl then it's passed into the sklearn vectorizers which are part of the pipeline in our model now."
   ]
  },
  {
   "cell_type": "code",
   "execution_count": 45,
   "metadata": {},
   "outputs": [],
   "source": [
    "def make_prediction(classifier, text):\n",
    "    text = translate_emoji(text)\n",
    "    text = translate_contractions(text)\n",
    "    text = remove_strange_fonts(text)\n",
    "    print(\"This review is:\", classifier.predict([text])[0])\n"
   ]
  },
  {
   "cell_type": "code",
   "execution_count": 46,
   "metadata": {},
   "outputs": [
    {
     "name": "stdout",
     "output_type": "stream",
     "text": [
      "This review is: positive\n"
     ]
    }
   ],
   "source": [
    "review = \"I ❤️ Spotify, even though it sucks\"\n",
    "\n",
    "make_prediction(our_classifier, review)\n",
    "\n",
    "## Well..."
   ]
  },
  {
   "cell_type": "code",
   "execution_count": 47,
   "metadata": {},
   "outputs": [
    {
     "name": "stdout",
     "output_type": "stream",
     "text": [
      "This review is: negative\n"
     ]
    }
   ],
   "source": [
    "review = \"I don't like Spotify, can not recommend, poor recommendations\"\n",
    "\n",
    "make_prediction(our_classifier, review)"
   ]
  }
 ],
 "metadata": {
  "kernelspec": {
   "display_name": "Python 3.10.4 64-bit",
   "language": "python",
   "name": "python3"
  },
  "language_info": {
   "codemirror_mode": {
    "name": "ipython",
    "version": 3
   },
   "file_extension": ".py",
   "mimetype": "text/x-python",
   "name": "python",
   "nbconvert_exporter": "python",
   "pygments_lexer": "ipython3",
   "version": "3.10.4"
  },
  "orig_nbformat": 4,
  "vscode": {
   "interpreter": {
    "hash": "ba89649856ee0ebb4f5d432fb84526bc860cc927389973834ceef247cbb7120d"
   }
  }
 },
 "nbformat": 4,
 "nbformat_minor": 2
}
